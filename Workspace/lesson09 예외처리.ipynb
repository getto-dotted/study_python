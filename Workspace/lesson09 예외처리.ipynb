{
 "cells": [
  {
   "cell_type": "markdown",
   "metadata": {},
   "source": [
    "Exception"
   ]
  },
  {
   "cell_type": "code",
   "execution_count": 1,
   "metadata": {},
   "outputs": [
    {
     "name": "stdout",
     "output_type": "stream",
     "text": [
      "안녕하세요..\n"
     ]
    },
    {
     "ename": "NameError",
     "evalue": "name 'param' is not defined",
     "output_type": "error",
     "traceback": [
      "\u001b[1;31m---------------------------------------------------------------------------\u001b[0m",
      "\u001b[1;31mNameError\u001b[0m                                 Traceback (most recent call last)",
      "\u001b[1;32m<ipython-input-1-15ba4cbf901b>\u001b[0m in \u001b[0;36m<module>\u001b[1;34m\u001b[0m\n\u001b[0;32m      1\u001b[0m \u001b[0mprint\u001b[0m\u001b[1;33m(\u001b[0m\u001b[1;34m'안녕하세요..'\u001b[0m\u001b[1;33m)\u001b[0m\u001b[1;33m\u001b[0m\u001b[1;33m\u001b[0m\u001b[0m\n\u001b[1;32m----> 2\u001b[1;33m \u001b[0mprint\u001b[0m\u001b[1;33m(\u001b[0m\u001b[0mparam\u001b[0m\u001b[1;33m)\u001b[0m\u001b[1;33m\u001b[0m\u001b[1;33m\u001b[0m\u001b[0m\n\u001b[0m\u001b[0;32m      3\u001b[0m \u001b[0mprint\u001b[0m\u001b[1;33m(\u001b[0m\u001b[1;34m'hello python'\u001b[0m\u001b[1;33m)\u001b[0m\u001b[1;33m\u001b[0m\u001b[1;33m\u001b[0m\u001b[0m\n",
      "\u001b[1;31mNameError\u001b[0m: name 'param' is not defined"
     ]
    }
   ],
   "source": [
    "print('안녕하세요..')\n",
    "print(param)\n",
    "print('hello python')\n"
   ]
  },
  {
   "cell_type": "code",
   "execution_count": 2,
   "metadata": {},
   "outputs": [
    {
     "name": "stdout",
     "output_type": "stream",
     "text": [
      "안녕하세요..\n",
      "예외가 발생했습니다.\n"
     ]
    }
   ],
   "source": [
    "try:\n",
    "    print('안녕하세요..')\n",
    "    print(param)\n",
    "    print('hello python')\n",
    "except:\n",
    "    print('예외가 발생했습니다.')\n"
   ]
  },
  {
   "cell_type": "code",
   "execution_count": 4,
   "metadata": {},
   "outputs": [
    {
     "name": "stdout",
     "output_type": "stream",
     "text": [
      "안녕하세요\n",
      "예외가 발생했습니다.\n",
      "hello python\n"
     ]
    }
   ],
   "source": [
    "try:\n",
    "    print('안녕하세요')\n",
    "    print(param)\n",
    "\n",
    "    \n",
    "except:\n",
    "    print('예외가 발생했습니다.')\n",
    "\n",
    "    \n",
    "print('hello python')  "
   ]
  },
  {
   "cell_type": "code",
   "execution_count": 5,
   "metadata": {},
   "outputs": [
    {
     "name": "stdout",
     "output_type": "stream",
     "text": [
      "안녕하세요\n",
      "예외가 발생했습니다\n"
     ]
    }
   ],
   "source": [
    "try:\n",
    "    print('안녕하세요')\n",
    "    print(param)\n",
    "except:\n",
    "    print('예외가 발생했습니다')\n",
    "else:\n",
    "    print('예외가 발생하지 않았습니다')"
   ]
  },
  {
   "cell_type": "code",
   "execution_count": 6,
   "metadata": {},
   "outputs": [
    {
     "name": "stdout",
     "output_type": "stream",
     "text": [
      "안녕하세요\n",
      "예외가 발생하지 않았습니다\n"
     ]
    }
   ],
   "source": [
    "try:\n",
    "    print('안녕하세요')\n",
    "except:\n",
    "    print('예외가 발생했습니다')\n",
    "else:\n",
    "    print('예외가 발생하지 않았습니다')"
   ]
  },
  {
   "cell_type": "code",
   "execution_count": 7,
   "metadata": {},
   "outputs": [
    {
     "name": "stdout",
     "output_type": "stream",
     "text": [
      "안녕하세요\n",
      "예외가 발생했습니다\n",
      "무조건 실행하는 코드\n"
     ]
    }
   ],
   "source": [
    "try:\n",
    "    print('안녕하세요')\n",
    "    print(param)\n",
    "except:\n",
    "    print('예외가 발생했습니다')\n",
    "finally:\n",
    "    print('무조건 실행하는 코드')"
   ]
  },
  {
   "cell_type": "code",
   "execution_count": 9,
   "metadata": {},
   "outputs": [
    {
     "name": "stdout",
     "output_type": "stream",
     "text": [
      "name 'param' is not defined\n"
     ]
    }
   ],
   "source": [
    "try:\n",
    "    print(param)\n",
    "except Exception as e:\n",
    "    print(e)"
   ]
  },
  {
   "cell_type": "code",
   "execution_count": 10,
   "metadata": {},
   "outputs": [
    {
     "name": "stdout",
     "output_type": "stream",
     "text": [
      "name 'a' is not defined\n",
      "hello python\n"
     ]
    }
   ],
   "source": [
    "try:\n",
    "    c = a/b\n",
    "except Exception as e:\n",
    "    print(e)\n",
    "print('hello python')    "
   ]
  },
  {
   "cell_type": "code",
   "execution_count": 12,
   "metadata": {},
   "outputs": [
    {
     "name": "stdout",
     "output_type": "stream",
     "text": [
      "hello\n",
      "division by zero\n",
      "hello python\n"
     ]
    }
   ],
   "source": [
    "a=5\n",
    "b=0\n",
    "L =[1,2,3]\n",
    "print('hello')\n",
    "\n",
    "try:\n",
    "    c=a/b\n",
    "except Exception as e:\n",
    "    print(e)\n",
    "print('hello python')        "
   ]
  },
  {
   "cell_type": "code",
   "execution_count": 13,
   "metadata": {},
   "outputs": [
    {
     "name": "stdout",
     "output_type": "stream",
     "text": [
      "hello\n",
      "list index out of range\n",
      "hello python\n"
     ]
    }
   ],
   "source": [
    "a=5\n",
    "b=0\n",
    "L =[1,2,3]\n",
    "print('hello')\n",
    "\n",
    "try:\n",
    "    print(L[3])\n",
    "except Exception as e:\n",
    "    print(e)\n",
    "print('hello python')        "
   ]
  },
  {
   "cell_type": "code",
   "execution_count": 16,
   "metadata": {},
   "outputs": [
    {
     "name": "stdout",
     "output_type": "stream",
     "text": [
      "1\n",
      "2\n",
      "3\n",
      "4\n",
      "5\n",
      "6\n",
      "7\n",
      "사용자에 의해 프로그램이 중단되었습니다.\n"
     ]
    }
   ],
   "source": [
    "import time\n",
    "count = 1\n",
    "try:\n",
    "    while True:\n",
    "        print(count)\n",
    "        count += 1\n",
    "        time.sleep(count)#코드가 count초동안 멈췄다가 다시 실행된다.\n",
    "except KeyboardInterrupt:\n",
    "    print('사용자에 의해 프로그램이 중단되었습니다.')"
   ]
  },
  {
   "cell_type": "code",
   "execution_count": 17,
   "metadata": {},
   "outputs": [
    {
     "name": "stdout",
     "output_type": "stream",
     "text": [
      "a: 5\n",
      "b: 0\n",
      "cannot divide by zero\n"
     ]
    }
   ],
   "source": [
    "a=5\n",
    "b=0\n",
    "print('a:',a)\n",
    "print('b:',b)\n",
    "\n",
    "try:\n",
    "    c=a/b\n",
    "except ZeroDivisionError:\n",
    "    print('cannot divide by zero')\n",
    "else:\n",
    "    print(c)\n",
    "    "
   ]
  },
  {
   "cell_type": "code",
   "execution_count": 20,
   "metadata": {},
   "outputs": [
    {
     "name": "stdout",
     "output_type": "stream",
     "text": [
      "hello\n",
      "cannot divide by zero\n",
      "good bye\n"
     ]
    }
   ],
   "source": [
    "a=5\n",
    "b=0\n",
    "L=[1,2,3]\n",
    "print('hello')\n",
    "\n",
    "try:\n",
    "    c=a/b\n",
    "    print(x)\n",
    "    print(L[3])    \n",
    "except ZeroDivisionError:\n",
    "    print('cannot divide by zero')\n",
    "except NameError:\n",
    "    print('no variable named \"X\"')\n",
    "except IndexError:\n",
    "    print('out of indecing in list')\n",
    "else:\n",
    "    print('else part')\n",
    "\n",
    "print('good bye')    \n",
    "    "
   ]
  },
  {
   "cell_type": "code",
   "execution_count": 21,
   "metadata": {},
   "outputs": [
    {
     "name": "stdout",
     "output_type": "stream",
     "text": [
      "hello\n",
      "no variable named \"X\"\n",
      "good bye\n"
     ]
    }
   ],
   "source": [
    "a=5\n",
    "b=1\n",
    "L=[1,2,3]\n",
    "print('hello')\n",
    "\n",
    "try:\n",
    "    c=a/b\n",
    "    print(x)\n",
    "    print(L[3])    \n",
    "except ZeroDivisionError:\n",
    "    print('cannot divide by zero')\n",
    "except NameError:\n",
    "    print('no variable named \"X\"')\n",
    "except IndexError:\n",
    "    print('out of indecing in list')\n",
    "else:\n",
    "    print('else part')\n",
    "\n",
    "print('good bye')    \n",
    "    "
   ]
  },
  {
   "cell_type": "code",
   "execution_count": 22,
   "metadata": {},
   "outputs": [
    {
     "name": "stdout",
     "output_type": "stream",
     "text": [
      "hello\n",
      "out of indecing in list\n",
      "good bye\n"
     ]
    }
   ],
   "source": [
    "a=5\n",
    "b=1\n",
    "L=[1,2,3]\n",
    "print('hello')\n",
    "\n",
    "try:\n",
    "    c=a/b\n",
    "    print(L[3])    \n",
    "except ZeroDivisionError:\n",
    "    print('cannot divide by zero')\n",
    "except NameError:\n",
    "    print('no variable named \"X\"')\n",
    "except IndexError:\n",
    "    print('out of indecing in list')\n",
    "else:\n",
    "    print('else part')\n",
    "\n",
    "print('good bye')    \n",
    "    "
   ]
  },
  {
   "cell_type": "code",
   "execution_count": 24,
   "metadata": {},
   "outputs": [
    {
     "name": "stdout",
     "output_type": "stream",
     "text": [
      "hello\n",
      "3\n",
      "else part\n",
      "finally part\n",
      "good bye\n"
     ]
    }
   ],
   "source": [
    "a=5\n",
    "b=1\n",
    "L=[1,2,3]\n",
    "print('hello')\n",
    "\n",
    "try:\n",
    "    c=a/b\n",
    "    print(L[2])    \n",
    "except ZeroDivisionError:\n",
    "    print('cannot divide by zero')\n",
    "except NameError:\n",
    "    print('no variable named \"X\"')\n",
    "except IndexError:\n",
    "    print('out of indecing in list')\n",
    "else:\n",
    "    print('else part')\n",
    "finally:\n",
    "    print('finally part')\n",
    "    \n",
    "print('good bye')    \n",
    "    "
   ]
  },
  {
   "cell_type": "code",
   "execution_count": 28,
   "metadata": {},
   "outputs": [
    {
     "name": "stdout",
     "output_type": "stream",
     "text": [
      "나눌 숫자 입력0\n",
      "unsupported operand type(s) for /: 'int' and 'str'\n"
     ]
    }
   ],
   "source": [
    "number = input('나눌 숫자 입력')\n",
    "\n",
    "try:\n",
    "    result = 10/number\n",
    "except Exception as e:\n",
    "    print(e)\n",
    "else:\n",
    "    print(result)"
   ]
  },
  {
   "cell_type": "code",
   "execution_count": 26,
   "metadata": {},
   "outputs": [
    {
     "name": "stdout",
     "output_type": "stream",
     "text": [
      "나눌 숫자 입력0\n",
      "0으로 나눌 수 없습니다.\n"
     ]
    }
   ],
   "source": [
    "number = int(input('나눌 숫자 입력'))\n",
    "\n",
    "try:\n",
    "    result = 10/number\n",
    "except ZeroDivisionError:\n",
    "    print('0으로 나눌 수 없습니다.')\n",
    "else:\n",
    "    print(result)"
   ]
  },
  {
   "cell_type": "code",
   "execution_count": 32,
   "metadata": {},
   "outputs": [
    {
     "name": "stdout",
     "output_type": "stream",
     "text": [
      "나눌 숫자 입력2\n",
      "5.0\n"
     ]
    }
   ],
   "source": [
    "try:\n",
    "    number= int(input('나눌 숫자 입력'))\n",
    "    result = 10/number\n",
    "except ValueError:\n",
    "    print('숫자만 입력하세요')\n",
    "except ZeroDivisionError:\n",
    "    print('0으로나눌 수 없음')\n",
    "except :\n",
    "    print('알 수 없는 오류')\n",
    "else :\n",
    "    print(result)"
   ]
  },
  {
   "cell_type": "code",
   "execution_count": 33,
   "metadata": {},
   "outputs": [
    {
     "name": "stdout",
     "output_type": "stream",
     "text": [
      "나눌 숫자 입력a\n",
      "invalid literal for int() with base 10: 'a'\n"
     ]
    }
   ],
   "source": [
    "try:\n",
    "    number= int(input('나눌 숫자 입력'))\n",
    "    result = 10/number\n",
    "except ValueError as e:\n",
    "    print(e)\n",
    "except ZeroDivisionError:\n",
    "    print('0으로나눌 수 없음')\n",
    "except :\n",
    "    print('알 수 없는 오류')\n",
    "else :\n",
    "    print(result)"
   ]
  },
  {
   "cell_type": "code",
   "execution_count": 36,
   "metadata": {},
   "outputs": [
    {
     "name": "stdout",
     "output_type": "stream",
     "text": [
      "나눌 숫자 입력a\n",
      "unsupported operand type(s) for /: 'int' and 'str'\n"
     ]
    }
   ],
   "source": [
    "try:\n",
    "    number= input('나눌 숫자 입력')\n",
    "    result = 10/number\n",
    "except TypeError as e:\n",
    "    print(e)\n",
    "except ZeroDivisionError:\n",
    "    print('0으로나눌 수 없음')\n",
    "except :\n",
    "    print('알 수 없는 오류')\n",
    "else :\n",
    "    print(result)"
   ]
  },
  {
   "cell_type": "code",
   "execution_count": 34,
   "metadata": {},
   "outputs": [
    {
     "name": "stdout",
     "output_type": "stream",
     "text": [
      "나눌 숫자 입력4\n",
      "2.5\n"
     ]
    }
   ],
   "source": [
    "try:\n",
    "    number= int(input('나눌 숫자 입력'))\n",
    "    result = 10/number\n",
    "except ValueError:\n",
    "    print('숫자만 입력하세요')\n",
    "except ZeroDivisionError:\n",
    "    print('0으로나눌 수 없음')\n",
    "except Exception as e:\n",
    "    print(e)\n",
    "else :\n",
    "    print(result)"
   ]
  },
  {
   "cell_type": "code",
   "execution_count": 37,
   "metadata": {},
   "outputs": [
    {
     "name": "stdout",
     "output_type": "stream",
     "text": [
      "시스템 에러: [Errno 2] No such file or directory: 'adsf.txt'\n"
     ]
    }
   ],
   "source": [
    "def openFile():\n",
    "    file = open('adsf.txt')\n",
    "    line = file.readline()\n",
    "    number = int(line.strip())\n",
    "try:\n",
    "    openFile()\n",
    "except OSError as err:\n",
    "    print('시스템 에러:', err)\n",
    "except:\n",
    "    print('그 외 오류')\n",
    "else:\n",
    "    (number)"
   ]
  },
  {
   "cell_type": "code",
   "execution_count": 41,
   "metadata": {},
   "outputs": [
    {
     "name": "stdout",
     "output_type": "stream",
     "text": [
      "hello world\n"
     ]
    }
   ],
   "source": [
    "def writeFile():\n",
    "    try:\n",
    "        f = open('file', 'w')\n",
    "        try:\n",
    "            f.write('hello world')\n",
    "        finally:\n",
    "            f.close()\n",
    "    except IOError:\n",
    "        print('oops!')\n",
    "\n",
    "def readFile():\n",
    "    try:\n",
    "        f=open('file', 'r')\n",
    "        line = f.readline()\n",
    "    except IOError:\n",
    "        print('oops!')\n",
    "    else:\n",
    "        print(line)\n",
    "    finally:\n",
    "        f.close()\n",
    "\n",
    "writeFile()\n",
    "readFile()"
   ]
  }
 ],
 "metadata": {
  "kernelspec": {
   "display_name": "Python 3",
   "language": "python",
   "name": "python3"
  },
  "language_info": {
   "codemirror_mode": {
    "name": "ipython",
    "version": 3
   },
   "file_extension": ".py",
   "mimetype": "text/x-python",
   "name": "python",
   "nbconvert_exporter": "python",
   "pygments_lexer": "ipython3",
   "version": "3.7.4"
  }
 },
 "nbformat": 4,
 "nbformat_minor": 2
}
