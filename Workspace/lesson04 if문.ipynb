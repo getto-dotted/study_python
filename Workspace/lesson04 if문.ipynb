{
 "cells": [
  {
   "cell_type": "code",
   "execution_count": 3,
   "metadata": {},
   "outputs": [],
   "source": [
    "#성적을 입력받은 후, 70점 이상이면 '축하합니다', 70점 미만이면 '수고하셨습니다.' 출력\n"
   ]
  },
  {
   "cell_type": "code",
   "execution_count": 10,
   "metadata": {},
   "outputs": [
    {
     "name": "stdout",
     "output_type": "stream",
     "text": [
      "10\n",
      "수고하셨습니다.\n"
     ]
    }
   ],
   "source": [
    "grade = int(input())\n",
    "if grade >= 70:\n",
    "    print('축하합니다')\n",
    "else:\n",
    "    print('수고하셨습니다.')"
   ]
  },
  {
   "cell_type": "code",
   "execution_count": 40,
   "metadata": {},
   "outputs": [
    {
     "ename": "IndentationError",
     "evalue": "unexpected indent (<ipython-input-40-e2764dffb890>, line 6)",
     "output_type": "error",
     "traceback": [
      "\u001b[1;36m  File \u001b[1;32m\"<ipython-input-40-e2764dffb890>\"\u001b[1;36m, line \u001b[1;32m6\u001b[0m\n\u001b[1;33m    print('111')\u001b[0m\n\u001b[1;37m    ^\u001b[0m\n\u001b[1;31mIndentationError\u001b[0m\u001b[1;31m:\u001b[0m unexpected indent\n"
     ]
    }
   ],
   "source": [
    "##pw = 1234, 패스워드를 입력받은 후 일치하면 '환영합니다', 틀리면 비밀번호가 틀립니다.\n",
    "\n",
    "pw = int(input())\n",
    "if pw == 1234:\n",
    "    print('환영합니다')\n",
    "else:\n",
    "    print('비밀번호가 틀립니다.')"
   ]
  },
  {
   "cell_type": "code",
   "execution_count": 2,
   "metadata": {
    "scrolled": true
   },
   "outputs": [
    {
     "name": "stdout",
     "output_type": "stream",
     "text": [
      "정수입력asfsd\n",
      "정수를 입력해주세요\n"
     ]
    }
   ],
   "source": [
    "##정수를 입력받은 후 절대값을 리턴하도록 하시오\n",
    "\n",
    "aNumber = input('정수입력')\n",
    "if type(aNumber) == int:\n",
    "    print(abs(aNumber))\n",
    "else:\n",
    "    print(\"정수를 입력해주세요\")"
   ]
  },
  {
   "cell_type": "code",
   "execution_count": 23,
   "metadata": {},
   "outputs": [
    {
     "name": "stdout",
     "output_type": "stream",
     "text": [
      "정수입력:-55\n",
      "55\n"
     ]
    }
   ],
   "source": [
    "num = int(input('정수입력:'))\n",
    "if num <0:\n",
    "    print(num*(-1))\n",
    "else:\n",
    "    print(num)"
   ]
  },
  {
   "cell_type": "code",
   "execution_count": 27,
   "metadata": {},
   "outputs": [
    {
     "name": "stdout",
     "output_type": "stream",
     "text": [
      "a11\n",
      "a21\n",
      "a와 b는 같습니다\n"
     ]
    }
   ],
   "source": [
    "'''두 정수를 입력받은 후 a가 b보다 크면 'a가 b보다 큽니다'\n",
    "a가 b보다 작으면 'a가 b보다 작습니다'\n",
    "같으면 같습니다 출력'''\n",
    "\n",
    "a1 = int(input('a1'))\n",
    "a2 = int(input('a2'))\n",
    "\n",
    "if a1 > a2:\n",
    "    print('a가 b보다 큽니다')\n",
    "elif a1 < a2:\n",
    "    print('a가 b보다 작습니다')\n",
    "else:\n",
    "    print('a와 b는 같습니다')"
   ]
  },
  {
   "cell_type": "code",
   "execution_count": 29,
   "metadata": {},
   "outputs": [
    {
     "name": "stdout",
     "output_type": "stream",
     "text": [
      "2\n",
      "짝수입니다\n"
     ]
    }
   ],
   "source": [
    "#임의의 정수를 입력받은 후 짝수이면 짝수/홀수이면 홀수를 출력\n",
    "\n",
    "c = int(input())\n",
    "if c%2 == 0:\n",
    "    print('짝수입니다')\n",
    "else:\n",
    "    print('홀수입니다')\n",
    "    "
   ]
  },
  {
   "cell_type": "code",
   "execution_count": 35,
   "metadata": {},
   "outputs": [],
   "source": [
    "#정수를 입력받은 후 학점출력\n",
    "#90 a 80 b 그 이하 c"
   ]
  },
  {
   "cell_type": "code",
   "execution_count": 34,
   "metadata": {},
   "outputs": [
    {
     "name": "stdout",
     "output_type": "stream",
     "text": [
      "성적입력79\n",
      "C학점\n"
     ]
    }
   ],
   "source": [
    "grade = int(input('성적입력'))\n",
    "\n",
    "if grade>=90:\n",
    "    print('A학점')\n",
    "elif grade<90 and grade >=80: # 혹은 90>grade>=80\n",
    "    print('B학점')\n",
    "else:    \n",
    "    print('C학점')"
   ]
  }
 ],
 "metadata": {
  "kernelspec": {
   "display_name": "Python 3",
   "language": "python",
   "name": "python3"
  },
  "language_info": {
   "codemirror_mode": {
    "name": "ipython",
    "version": 3
   },
   "file_extension": ".py",
   "mimetype": "text/x-python",
   "name": "python",
   "nbconvert_exporter": "python",
   "pygments_lexer": "ipython3",
   "version": "3.7.4"
  }
 },
 "nbformat": 4,
 "nbformat_minor": 2
}
