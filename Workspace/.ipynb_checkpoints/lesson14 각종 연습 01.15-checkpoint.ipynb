{
 "cells": [
  {
   "cell_type": "code",
   "execution_count": 3,
   "metadata": {
    "collapsed": true
   },
   "outputs": [
    {
     "name": "stdout",
     "output_type": "stream",
     "text": [
      "0\n",
      "1\n",
      "2\n",
      "3\n",
      "4\n"
     ]
    }
   ],
   "source": [
    "#for문과 break를 이용해서 0~4까지 출력\n",
    "for i in range(11):\n",
    "    if i >=5:\n",
    "        break\n",
    "    print(i)\n",
    "    "
   ]
  },
  {
   "cell_type": "code",
   "execution_count": 4,
   "metadata": {
    "collapsed": true
   },
   "outputs": [
    {
     "name": "stdout",
     "output_type": "stream",
     "text": [
      "0\n",
      "1\n",
      "2\n",
      "3\n",
      "4\n",
      "6\n",
      "7\n",
      "8\n",
      "9\n",
      "10\n"
     ]
    }
   ],
   "source": [
    "#0~10까지 출력.. 단, 5를 출력하지 않는다\n",
    "for i in range(11):\n",
    "    if i == 5:\n",
    "        continue\n",
    "    print(i)"
   ]
  },
  {
   "cell_type": "code",
   "execution_count": 17,
   "metadata": {},
   "outputs": [
    {
     "name": "stdout",
     "output_type": "stream",
     "text": [
      "!!uoy evol I\n"
     ]
    }
   ],
   "source": [
    "#아래의 sentence를 역순으로 만드시오\n",
    "\n",
    "sentence = 'I love you!!'\n",
    "s =''\n",
    "for i in sentence:\n",
    "    s = i + s\n",
    "\n",
    "print(s)"
   ]
  },
  {
   "cell_type": "code",
   "execution_count": 18,
   "metadata": {},
   "outputs": [
    {
     "data": {
      "text/plain": [
       "'!!uoy evol I'"
      ]
     },
     "execution_count": 18,
     "metadata": {},
     "output_type": "execute_result"
    }
   ],
   "source": [
    "''.join(reversed(sentence))"
   ]
  },
  {
   "cell_type": "code",
   "execution_count": 31,
   "metadata": {},
   "outputs": [
    {
     "data": {
      "text/plain": [
       "'!!uoy evol I'"
      ]
     },
     "execution_count": 31,
     "metadata": {},
     "output_type": "execute_result"
    }
   ],
   "source": [
    "L = []\n",
    "for i in range(len(sentence), 0, -1):\n",
    "    L.append(sentence[i-1])\n",
    "''.join(L)"
   ]
  },
  {
   "cell_type": "code",
   "execution_count": 52,
   "metadata": {},
   "outputs": [],
   "source": [
    "# 팩토리얼 factorial\n",
    "def facto(a):\n",
    "    b = 1\n",
    "    for i in range(1,a+1):\n",
    "        b *=i\n",
    "    return b\n",
    "    "
   ]
  },
  {
   "cell_type": "code",
   "execution_count": 53,
   "metadata": {},
   "outputs": [
    {
     "data": {
      "text/plain": [
       "24"
      ]
     },
     "execution_count": 53,
     "metadata": {},
     "output_type": "execute_result"
    }
   ],
   "source": [
    "facto(4)"
   ]
  },
  {
   "cell_type": "code",
   "execution_count": 45,
   "metadata": {},
   "outputs": [],
   "source": [
    "def factor(n):\n",
    "    cnt = n\n",
    "    rs = 1\n",
    "    while cnt > 0:\n",
    "        rs *= cnt\n",
    "        cnt -=1\n",
    "    return rs"
   ]
  },
  {
   "cell_type": "code",
   "execution_count": 50,
   "metadata": {
    "scrolled": true
   },
   "outputs": [
    {
     "data": {
      "text/plain": [
       "120"
      ]
     },
     "execution_count": 50,
     "metadata": {},
     "output_type": "execute_result"
    }
   ],
   "source": [
    "factor(5)"
   ]
  },
  {
   "cell_type": "code",
   "execution_count": 51,
   "metadata": {},
   "outputs": [
    {
     "data": {
      "text/plain": [
       "120"
      ]
     },
     "execution_count": 51,
     "metadata": {},
     "output_type": "execute_result"
    }
   ],
   "source": [
    "def factor(n):\n",
    "    cnt = n -1\n",
    "    \n",
    "    while cnt > 0:\n",
    "        n = n*cnt\n",
    "        cnt -=1\n",
    "    return n\n",
    "factor(5)"
   ]
  },
  {
   "cell_type": "code",
   "execution_count": 57,
   "metadata": {},
   "outputs": [
    {
     "name": "stdout",
     "output_type": "stream",
     "text": [
      "111 / 37.0\n",
      "111 / 37.0\n",
      "126 / 42.0\n",
      "209 / 69.66666666666667\n",
      "285 / 95.0\n"
     ]
    }
   ],
   "source": [
    "##각 학생의 점수 합과 평균구하기\n",
    "\n",
    "kor = [12, 32, 45, 86, 98]\n",
    "eng = [34, 67, 25, 56, 99]\n",
    "math = [65, 12, 56, 67, 88]\n",
    "\n",
    "for i in range(5):\n",
    "    total = kor[i]+eng[i]+math[i]\n",
    "    avg = total/3\n",
    "    \n",
    "    print(total,'/' ,avg)\n"
   ]
  },
  {
   "cell_type": "code",
   "execution_count": 56,
   "metadata": {},
   "outputs": [
    {
     "data": {
      "text/plain": [
       "array([37.        , 37.        , 42.        , 69.66666667, 95.        ])"
      ]
     },
     "execution_count": 56,
     "metadata": {},
     "output_type": "execute_result"
    }
   ],
   "source": [
    "import numpy as np\n",
    "mat = np.array([kor, eng, math])\n",
    "mat.mean(axis=0)"
   ]
  },
  {
   "cell_type": "code",
   "execution_count": 72,
   "metadata": {},
   "outputs": [
    {
     "data": {
      "text/plain": [
       "array([37.        , 37.        , 42.        , 69.66666667, 95.        ])"
      ]
     },
     "execution_count": 72,
     "metadata": {},
     "output_type": "execute_result"
    }
   ],
   "source": [
    "np.array([kor, eng, math]).mean(axis=0)"
   ]
  },
  {
   "cell_type": "code",
   "execution_count": 81,
   "metadata": {},
   "outputs": [
    {
     "name": "stdout",
     "output_type": "stream",
     "text": [
      "37.0\n",
      "37.0\n",
      "42.0\n",
      "69.66666666666667\n",
      "95.0\n"
     ]
    }
   ],
   "source": [
    "for i in zip(kor,eng,math):\n",
    "    print(np.mean(i))"
   ]
  },
  {
   "cell_type": "code",
   "execution_count": 88,
   "metadata": {},
   "outputs": [
    {
     "data": {
      "text/plain": [
       "{'Park': 95, 'Min': 75, 'Lee': 84, 'Jun': 52}"
      ]
     },
     "execution_count": 88,
     "metadata": {},
     "output_type": "execute_result"
    }
   ],
   "source": [
    "name = ['Park', 'Min', 'Lee', 'Jun']\n",
    "score = [95, 75, 84, 52]\n",
    "\n",
    "L ={}\n",
    "\n",
    "for i in range(4):    \n",
    "    L[name[i]] = score[i]\n",
    "L    "
   ]
  },
  {
   "cell_type": "code",
   "execution_count": 45,
   "metadata": {},
   "outputs": [
    {
     "name": "stdout",
     "output_type": "stream",
     "text": [
      "1231231\n",
      "1,231,231\n"
     ]
    }
   ],
   "source": [
    "#10만 이상의 숫자를 입력받은 후 , 천단위 ','를 찍어서 출력\n",
    "\n",
    "num = input()\n",
    "num = num[::-1] \n",
    "\n",
    "ret =''\n",
    "\n",
    "for i, c in enumerate(num):\n",
    "    i +=1\n",
    "    if i%3 == 0 and i != len(num):\n",
    "#         if (i%3 == 0) & (i != len(num)):\n",
    "        ret += (c+',')\n",
    "    else:\n",
    "        ret +=c\n",
    "ret = ret[::-1]\n",
    "\n",
    "print(ret)"
   ]
  },
  {
   "cell_type": "code",
   "execution_count": 103,
   "metadata": {},
   "outputs": [
    {
     "name": "stdout",
     "output_type": "stream",
     "text": [
      "[('e', 97), ('t', 85), ('a', 78), ('o', 73), ('n', 60), ('s', 60), ('r', 54), ('i', 50), ('h', 48), ('l', 34)]\n"
     ]
    }
   ],
   "source": [
    "#문서내에서 출현빈도 상위 10문자(알파벳) 찾기\n",
    "\n",
    "f = open('./mydata.txt', 'r')\n",
    "data = f.read()\n",
    "data = data.lower()\n",
    "L = []\n",
    "for i in 'abcdefghijklmnopqrstuvwxyz':   \n",
    "    L.append((i,data.count(i)))\n",
    "    \n",
    "# print(L)\n",
    "\n",
    "char = sorted(L, key = lambda x: x[1], reverse = True)\n",
    "\n",
    "print(char[:10])\n",
    "\n",
    "f.close()"
   ]
  },
  {
   "cell_type": "code",
   "execution_count": 83,
   "metadata": {
    "collapsed": true
   },
   "outputs": [
    {
     "name": "stdout",
     "output_type": "stream",
     "text": [
      "{'a': 78, ' ': 177, 'l': 34, 'o': 73, 't': 85, 'f': 17, 'h': 48, 'i': 50, 'n': 60, 'g': 11, 's': 60, 'c': 23, 'u': 27, 'r': 54, 'e': 97, 'd': 24, 'y': 15, '\\n': 43, 'w': 20, \"'\": 8, 'v': 9, 'm': 20, 'b': 13, 'k': 7, 'p': 15, '!': 2}\n"
     ]
    },
    {
     "data": {
      "text/plain": [
       "[(' ', 177),\n",
       " ('e', 97),\n",
       " ('t', 85),\n",
       " ('a', 78),\n",
       " ('o', 73),\n",
       " ('n', 60),\n",
       " ('s', 60),\n",
       " ('r', 54),\n",
       " ('i', 50),\n",
       " ('h', 48)]"
      ]
     },
     "execution_count": 83,
     "metadata": {},
     "output_type": "execute_result"
    }
   ],
   "source": [
    "f = open('./mydata.txt', 'r')\n",
    "\n",
    "data = f.read()\n",
    "data.lower()\n",
    "\n",
    "D = {}\n",
    "\n",
    "for c in data:\n",
    "    if c not in D.keys():\n",
    "        D[c] = 1\n",
    "    else:\n",
    "        D[c] +=1\n",
    "print(D)        \n",
    "\n",
    "char = sorted(D.items(), key = lambda x: x[1], reverse = True)\n",
    "char[:10]"
   ]
  },
  {
   "cell_type": "code",
   "execution_count": 108,
   "metadata": {},
   "outputs": [
    {
     "name": "stdout",
     "output_type": "stream",
     "text": [
      "{'a': 6, 'lot': 1, 'of': 4, 'things': 1, 'occur': 1, 'each': 1, 'day': 1, \"we've\": 1, 'got': 1, 'to': 5, 'live': 1, 'with': 2, 'on': 6, 'our': 3, 'way': 1, \"there's\": 1, 'so': 4, 'much': 1, 'misery': 1, 'the': 8, 'screen': 1, 'commercials': 1, 'in': 4, 'between': 1, 'and': 6, 'russians': 1, \"won't\": 1, 'be': 2, 'late': 3, 'uncle': 1, 'sam': 1, \"don't\": 1, 'want': 1, 'wait': 1, 'no': 1, 'matter': 1, 'if': 2, \"you're\": 1, 'black': 1, 'or': 1, 'white': 1, 'you': 3, 'never': 1, 'ever': 1, 'had': 1, 'right': 1, 'look': 1, 'up': 3, 'eternal': 1, 'skies': 1, 'see': 1, 'warfare': 1, 'even': 1, 'there': 1, 'what': 1, 'once': 1, 'has': 1, 'been': 1, 'paradise': 1, 'now': 1, 'destruction': 1, 'despair': 1, 'other': 1, 'worlds': 1, 'children': 1, 'die': 1, 'lacking': 1, 'food': 1, 'ill': 1, 'from': 1, 'fly': 1, 'oppressed': 1, 'by': 1, 'troops': 1, 'tame': 1, 'their': 1, 'land': 1, \"it's\": 3, 'all': 2, 'same': 1, 'again': 1, 'any': 1, 'man': 1, 'is': 1, 'free': 1, 'earth': 2, 'then': 1, 'tormentors': 1, 'steal': 1, 'his': 3, 'birth': 1, 'they': 1, 'slam': 1, 'gun': 1, 'butts': 1, 'face': 1, 'leave': 1, 'woman': 1, 'choked': 1, 'mace': 1, 'stand': 2, 'for': 2, 'human': 2, 'rights': 2, 'push': 2, 'back': 2, 'this': 2, 'pest': 2, 'hate': 2, 'raise': 2, 'voice': 2, 'pass': 2, 'light': 2, 'unite!': 2, 'not': 2, 'too': 2, 'how': 2, 'many': 2, 'tears': 1, 'flow': 1, 'away': 1, 'become': 1, 'sea': 1, 'fears': 1, 'hearts': 1, 'are': 1, 'torn': 1, 'apart': 1, 'till': 1, 'another': 1, 'torment': 1, 'starts': 1, 'but': 1, 'before': 1, 'world': 1, 'turns': 1, 'into': 1, 'sun': 1, 'cruelty': 1, 'violence': 1, 'will': 1, 'dead': 1, 'gone': 1}\n"
     ]
    },
    {
     "data": {
      "text/plain": [
       "[('the', 8),\n",
       " ('a', 6),\n",
       " ('on', 6),\n",
       " ('and', 6),\n",
       " ('to', 5),\n",
       " ('of', 4),\n",
       " ('so', 4),\n",
       " ('in', 4),\n",
       " ('our', 3),\n",
       " ('late', 3)]"
      ]
     },
     "execution_count": 108,
     "metadata": {},
     "output_type": "execute_result"
    }
   ],
   "source": [
    "#문서내에서 출현빈도 상위 10 단어 찾기\n",
    "f = open('./mydata.txt', 'r')\n",
    "\n",
    "data = f.read()\n",
    "data.lower()\n",
    "cdata = data.split()\n",
    "\n",
    "D = {}\n",
    "\n",
    "for c in cdata:\n",
    "    if c not in D.keys():\n",
    "        D[c] = 1\n",
    "    else:\n",
    "        D[c] +=1\n",
    "print(D)        \n",
    "\n",
    "char = sorted(D.items(), key = lambda x: x[1], reverse = True)\n",
    "char[:10]"
   ]
  },
  {
   "cell_type": "code",
   "execution_count": 107,
   "metadata": {},
   "outputs": [],
   "source": [
    "#파일명과 단어를 받아서 찾기\n",
    "\n",
    "def word_find(file, word):    \n",
    "    f = open(file, 'r')\n",
    "\n",
    "    data = f.read()\n",
    "    data.lower()\n",
    "    data = data.split()\n",
    "\n",
    "    D = {}\n",
    "\n",
    "    for c in data:\n",
    "        if c not in D.keys():\n",
    "            D[c] = 1\n",
    "        else:\n",
    "            D[c] +=1     \n",
    "            \n",
    "    return D.get(word)"
   ]
  },
  {
   "cell_type": "code",
   "execution_count": 102,
   "metadata": {
    "scrolled": true
   },
   "outputs": [
    {
     "data": {
      "text/plain": [
       "4"
      ]
     },
     "execution_count": 102,
     "metadata": {},
     "output_type": "execute_result"
    }
   ],
   "source": [
    "word_find('./mydata.txt', 'of')"
   ]
  },
  {
   "cell_type": "code",
   "execution_count": 98,
   "metadata": {},
   "outputs": [
    {
     "name": "stdout",
     "output_type": "stream",
     "text": [
      "adsf\n",
      "the\n",
      "8\n"
     ]
    }
   ],
   "source": [
    "def findWord():\n",
    "    \n",
    "    fname = input()\n",
    "    fword = input()\n",
    "    \n",
    "    f = open('./mydata.txt', 'r')\n",
    "    data = f.read()\n",
    "    data = data.lower()\n",
    "    data = data.split()\n",
    "    d= data.count(fword)\n",
    "    f.close()\n",
    "    \n",
    "    return print(d)\n",
    "findWord()"
   ]
  }
 ],
 "metadata": {
  "kernelspec": {
   "display_name": "Python 3",
   "language": "python",
   "name": "python3"
  },
  "language_info": {
   "codemirror_mode": {
    "name": "ipython",
    "version": 3
   },
   "file_extension": ".py",
   "mimetype": "text/x-python",
   "name": "python",
   "nbconvert_exporter": "python",
   "pygments_lexer": "ipython3",
   "version": "3.7.4"
  }
 },
 "nbformat": 4,
 "nbformat_minor": 2
}
