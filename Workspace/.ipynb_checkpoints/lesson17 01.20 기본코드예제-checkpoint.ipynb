{
 "cells": [
  {
   "cell_type": "markdown",
   "metadata": {},
   "source": [
    "# String"
   ]
  },
  {
   "cell_type": "code",
   "execution_count": 28,
   "metadata": {},
   "outputs": [
    {
     "name": "stdout",
     "output_type": "stream",
     "text": [
      "ale\n",
      "A tale\n",
      "not\n",
      "a tale that was not right\n",
      "A TALE THAT WAS NOT RIGHT\n",
      "1\n",
      "17\n",
      "25\n",
      "['A', 'tale', 'that', 'was', 'not', 'right']\n",
      "A story that was not right\n",
      "True\n"
     ]
    }
   ],
   "source": [
    "txt1 = 'A tale that was not right'\n",
    "# 'ale'\n",
    "#'A tale'\n",
    "# 'not'\n",
    "#소문자\n",
    "#대문자\n",
    "\n",
    "# 'o' 몇개\n",
    "#'o' 인덱스\n",
    "\n",
    "#txt1길이\n",
    "#space 나누어서 List에\n",
    "#'tale'을 'story'로\n",
    "#txt1안에 right존재하는지 확인\n",
    "\n",
    "print(txt1[3:6])\n",
    "print(txt1[:6])\n",
    "print(txt1[-9:-6])\n",
    "print(txt1.lower())\n",
    "print(txt1.upper())\n",
    "\n",
    "print(txt1.count('o'))\n",
    "print(txt1.find('o'))\n",
    "\n",
    "print(len(txt1))\n",
    "L = txt1.split()\n",
    "print(L)\n",
    "print(txt1.replace('tale', 'story'))\n",
    "print('right' in txt1)"
   ]
  },
  {
   "cell_type": "markdown",
   "metadata": {},
   "source": [
    "# List"
   ]
  },
  {
   "cell_type": "code",
   "execution_count": 46,
   "metadata": {},
   "outputs": [
    {
     "name": "stdout",
     "output_type": "stream",
     "text": [
      "['수성', '금성']\n",
      "3\n",
      "['태양', '수성', '금성', '지구', '해왕성', '목성', '지구']\n",
      "['태양', '명왕성', '수성', '금성', '지구', '해왕성', '목성', '지구']\n",
      "['태양', '명왕성', '수성', '금성', '지구', '해왕성', '목성', '지구', '토성']\n",
      "['태양', '명왕성', '수성', '금성', '지구', '해왕성', '목성', '지구']\n",
      "['태양', '해왕성', '지구']\n",
      "['태양', '해왕성', '지구', '토성', '천왕성', '해왕성']\n",
      "['지구', '천왕성', '태양', '토성', '해왕성', '해왕성']\n",
      "['해왕성', '해왕성', '토성', '태양', '천왕성', '지구']\n",
      "False\n",
      "['해왕성', '해왕성', '토성', '태양', '천왕성', '지구', '해왕성', '해왕성', '토성', '태양', '천왕성', '지구', '해왕성', '해왕성', '토성', '태양', '천왕성', '지구']\n",
      "6\n",
      "1\n",
      "[]\n"
     ]
    },
    {
     "ename": "NameError",
     "evalue": "name 'sol' is not defined",
     "output_type": "error",
     "traceback": [
      "\u001b[1;31m---------------------------------------------------------------------------\u001b[0m",
      "\u001b[1;31mNameError\u001b[0m                                 Traceback (most recent call last)",
      "\u001b[1;32m<ipython-input-46-bea18dc7145f>\u001b[0m in \u001b[0;36m<module>\u001b[1;34m\u001b[0m\n\u001b[0;32m     53\u001b[0m \u001b[0mprint\u001b[0m\u001b[1;33m(\u001b[0m\u001b[0msol\u001b[0m\u001b[1;33m)\u001b[0m\u001b[1;33m\u001b[0m\u001b[1;33m\u001b[0m\u001b[0m\n\u001b[0;32m     54\u001b[0m \u001b[1;32mdel\u001b[0m \u001b[0msol\u001b[0m\u001b[1;33m\u001b[0m\u001b[1;33m\u001b[0m\u001b[0m\n\u001b[1;32m---> 55\u001b[1;33m \u001b[0mprint\u001b[0m\u001b[1;33m(\u001b[0m\u001b[0msol\u001b[0m\u001b[1;33m)\u001b[0m\u001b[1;33m\u001b[0m\u001b[1;33m\u001b[0m\u001b[0m\n\u001b[0m",
      "\u001b[1;31mNameError\u001b[0m: name 'sol' is not defined"
     ]
    }
   ],
   "source": [
    "sol = ['태양', '수성', '금성', '지구', '화성', '목성', '지구']\n",
    "sol1 = ['토성', '천왕성', '해왕성'] \n",
    "planet = '지구'\n",
    "\n",
    "#sol에서 ['수성', '금성']을 출력\n",
    "#sol에서 '지구' 위치 인덱스 출력\n",
    "#sol에서 '화성'을 '해왕성'으로 수정\n",
    "#'수성'자리에 '명왕성' 삽입\n",
    "#'토성'을 맨 끝에 삽입\n",
    "#맨 끝 요소를 삭제하고 리턴\n",
    "# '금성'을 제거\n",
    "# 1번 인덱스에서 3번 인덱스까지 삭제\n",
    "# 인덱스 2번 요소 삭제\n",
    "# so1과 sol1합치기\n",
    "# 내림차순\n",
    "#오름차순\n",
    "#'만리장성' 있는지 확인\n",
    "#3번반복\n",
    "#길이\n",
    "#'지구'가 몇개 포함\n",
    "# 모든원소 삭제\n",
    "#sol 삭제\n",
    "\n",
    "\n",
    "\n",
    "\n",
    "\n",
    "print(sol[1:3])\n",
    "print(sol.index('지구'))\n",
    "sol[-3]='해왕성'\n",
    "print(sol)\n",
    "sol.insert(1, '명왕성')\n",
    "print(sol)\n",
    "sol.append('토성')\n",
    "print(sol)\n",
    "sol.pop()\n",
    "print(sol)\n",
    "sol.remove('금성')\n",
    "del sol[1:4]\n",
    "sol.pop(2)\n",
    "print(sol)\n",
    "sol.extend(sol1)\n",
    "print(sol)\n",
    "sol.sort()\n",
    "print(sol)\n",
    "sol.sort(reverse=True)\n",
    "print(sol)\n",
    "print('만리장성' in sol)\n",
    "print(sol*3)\n",
    "print(len(sol))\n",
    "print(sol.count('지구'))\n",
    "sol.clear()\n",
    "print(sol)\n",
    "del sol\n",
    "print(sol)"
   ]
  },
  {
   "cell_type": "markdown",
   "metadata": {},
   "source": [
    "# Tuple"
   ]
  },
  {
   "cell_type": "code",
   "execution_count": 2,
   "metadata": {},
   "outputs": [
    {
     "name": "stdout",
     "output_type": "stream",
     "text": [
      "tuple\n",
      "3\n",
      "[4, 5]\n",
      "[4, 5, 6]\n",
      "6\n",
      "True\n",
      "3\n",
      "1\n",
      "8\n",
      "4\n",
      "30\n",
      "6.0\n"
     ]
    },
    {
     "data": {
      "text/plain": [
       "[8, 7, 6, 5, 4]"
      ]
     },
     "execution_count": 2,
     "metadata": {},
     "output_type": "execute_result"
    }
   ],
   "source": [
    "myTuple = ('tuple', (1,2,3), [4,5,6,7,8], '7', '8', '9')\n",
    "\n",
    "#'tuple'출력\n",
    "#3출력\n",
    "#4,5출력\n",
    "#[4,5,6]출력\n",
    "#길이\n",
    "#'7' 있는지\n",
    "#'7' 인덱스 출력\n",
    "#'7' 몇개\n",
    "#2번 인덱스 최대값\n",
    "#2번 인댁스 최소값\n",
    "#2번 인덱스 총합\n",
    "#2번인덱스 평균\n",
    "#2번 인덱스 내림차순 정렬 출력\n",
    "\n",
    "\n",
    "print(myTuple[0])\n",
    "print(myTuple[1][2])\n",
    "print(myTuple[2][:2])\n",
    "print(myTuple[2][:3])\n",
    "print(len(myTuple))\n",
    "print('7' in myTuple)\n",
    "print(myTuple.index('7'))\n",
    "print(myTuple.count('7'))\n",
    "print(max(myTuple[2]))\n",
    "print(min(myTuple[2]))\n",
    "print(sum(myTuple[2]))\n",
    "import numpy as np\n",
    "print(np.mean(myTuple[2]))\n",
    "sorted(myTuple[2], reverse=True)"
   ]
  },
  {
   "cell_type": "markdown",
   "metadata": {},
   "source": [
    "# Set"
   ]
  },
  {
   "cell_type": "code",
   "execution_count": 88,
   "metadata": {},
   "outputs": [],
   "source": [
    "#원소가 없는 set만들기\n",
    "#원소'sky'와 'earth'를 추가\n",
    "#1,2 두 원소를 한번에 추가하세요\n",
    "#'sky'삭제\n",
    "\n",
    "s= set()\n",
    "s.add('sky')\n",
    "s.add('earth')\n",
    "s.update((1,2))\n",
    "s.discard('sky')\n",
    "\n",
    "A = {1,2,3,4,5,6}\n",
    "B = {1,2,3,7,8,9}\n",
    "C = {1,2,3}\n",
    "\n",
    "#합집합\n",
    "#차집합\n",
    "#A의 B에 대한 차집합\n",
    "#대칭차집합\n",
    "#C가 A의 부분집합인지확인\n",
    "#A가 C를 포함하는지 확인\n",
    "print(A.union(B))\n",
    "print(A.intersection(B))\n",
    "print(A.difference(B))\n",
    "print(A.symmetric_difference(B))\n",
    "print(C.issubset(A))\n",
    "print(A.issuperset(C))\n",
    "\n",
    "#B길이\n",
    "#B최대값\n",
    "#최소값\n",
    "#합\n",
    "#평균\n",
    "#내림차순\n",
    "#5포함?\n",
    "\n",
    "print(len(B))\n",
    "print(max(B))\n",
    "print(min(B))\n",
    "print(sum(B))\n",
    "print(sum(B)/len(B))\n",
    "print(sorted(B, reverse=True))\n",
    "print(5 in B)"
   ]
  },
  {
   "cell_type": "markdown",
   "metadata": {},
   "source": [
    "# Dictionary"
   ]
  },
  {
   "cell_type": "code",
   "execution_count": 120,
   "metadata": {},
   "outputs": [
    {
     "name": "stdout",
     "output_type": "stream",
     "text": [
      "True\n",
      "3\n",
      "4\n",
      "dict_keys(['red', 'blue', 'green'])\n",
      "dict_values([10, 3, 1])\n",
      "dict_items([('red', 10), ('blue', 3), ('green', 1)])\n",
      "[('blue', 3), ('green', 1), ('red', 10)]\n",
      "[('green', 1), ('blue', 3), ('red', 10)]\n",
      "None\n",
      "20\n",
      "True\n",
      "{'red': 10, 'green': 1, 'pink': 20, 'yellow': 30, '파랑': 50, '빨강': 70}\n"
     ]
    }
   ],
   "source": [
    "#'mydict'라는 딕셔너리 생성\n",
    "#'red':1, 'blue':3, 'green':4 요소추가\n",
    "#key에 'blue'있는지 확인\n",
    "#길이\n",
    "#'red'의 값\n",
    "#'red'의 값을 10으로 수정\n",
    "#key만출력\n",
    "#value만출력\n",
    "#둘다출력\n",
    "#key기준으로 정렬\n",
    "#value기준으로 정렬\n",
    "#key 'blue' 삭제\n",
    "#key 'pink'출력하되 오류 없이\n",
    "#key 'pink' 출력하되 없으면 20\n",
    "#value에 20있느지 확인\n",
    "#key 'yellow'에 value30추가\n",
    "#yourdict = {'파랑':50, '빨강':70}을 합하세요\n",
    "\n",
    "mydict = {}\n",
    "mydict['red'] = 4\n",
    "mydict['blue'] = 3\n",
    "mydict['green'] = 1\n",
    "print('blue' in mydict.keys())\n",
    "print(len(mydict))\n",
    "print(mydict['red'])\n",
    "mydict['red'] = 10\n",
    "print(mydict.keys())\n",
    "print(mydict.values())\n",
    "print(mydict.items())\n",
    "print(sorted(mydict.items()))\n",
    "print(sorted(mydict.items(), key=lambda x: x[1]))\n",
    "mydict.pop('blue')\n",
    "print(mydict.get('pink'))\n",
    "print(mydict.setdefault('pink', 20))\n",
    "print(20 in mydict.values())\n",
    "mydict['yellow'] =30\n",
    "\n",
    "yourdict = {'파랑':50, '빨강':70}\n",
    "\n",
    "mydict.update(yourdict)\n",
    "print(mydict)"
   ]
  },
  {
   "cell_type": "markdown",
   "metadata": {},
   "source": [
    "# IF"
   ]
  },
  {
   "cell_type": "code",
   "execution_count": 138,
   "metadata": {},
   "outputs": [
    {
     "name": "stdout",
     "output_type": "stream",
     "text": [
      "80\n",
      "B\n"
     ]
    }
   ],
   "source": [
    "#input으로 점수 입력받고 학점출력\n",
    "score = int(input())\n",
    "\n",
    "if score >= 90:\n",
    "    print('A')\n",
    "elif score >= 80:\n",
    "    print('B')\n",
    "elif score >= 70:\n",
    "    print('C')\n",
    "else:\n",
    "    print('D')"
   ]
  },
  {
   "cell_type": "code",
   "execution_count": 142,
   "metadata": {},
   "outputs": [
    {
     "name": "stdout",
     "output_type": "stream",
     "text": [
      "2\n",
      "짝수입니다\n"
     ]
    }
   ],
   "source": [
    "#정수를 입력받아 짝수 홀수 알려주기\n",
    "\n",
    "num = int(input())\n",
    "if num%2==0:\n",
    "    print('짝수입니다')\n",
    "else:\n",
    "    print('홀수입니다.')"
   ]
  },
  {
   "cell_type": "code",
   "execution_count": 143,
   "metadata": {},
   "outputs": [
    {
     "name": "stdout",
     "output_type": "stream",
     "text": [
      "asdf\n",
      "2000\n"
     ]
    }
   ],
   "source": [
    "#이름을 입력받고 사전에 이름이 있으면 값을 출력하고 없으면 새로운 값 2000과 함께 추가\n",
    "\n",
    "names = {'mary':1520, 'tom':5214, 'park':5478, 'sams':5478}\n",
    "\n",
    "new_key= input()\n",
    "\n",
    "if new_key in names:\n",
    "    print(names[new_key])\n",
    "else:\n",
    "    names[new_key]=2000\n",
    "    print(names[new_key])"
   ]
  },
  {
   "cell_type": "code",
   "execution_count": 235,
   "metadata": {},
   "outputs": [
    {
     "name": "stdout",
     "output_type": "stream",
     "text": [
      "가위,바위,보 입력보\n",
      "com=보\n",
      "비겼습니다\n"
     ]
    }
   ],
   "source": [
    "#가위바위보\n",
    "import numpy as np\n",
    "def psrGame():\n",
    "    com = round(np.random.rand()*2)\n",
    "        \n",
    "    my0 = input('가위,바위,보 입력')\n",
    "    if my0 =='가위':\n",
    "        my=0\n",
    "    elif my0 =='바위':\n",
    "        my=2\n",
    "    elif my0=='보':\n",
    "        my=1\n",
    "    else:\n",
    "        print('가위,바위,보 중 하나를 입력해주세요')\n",
    "        return\n",
    "    \n",
    "    if com == 0:\n",
    "        print('com=가위')\n",
    "    elif com == 1:\n",
    "        print('com=보')\n",
    "    elif com == 2:\n",
    "        print('com=바위')\n",
    "            \n",
    "    if my-com == 0:\n",
    "        print('비겼습니다')\n",
    "    elif my-com == -1 or my-com == 2:\n",
    "        print('이겼습니다')\n",
    "    elif my-com == -2 or my-com == 1:\n",
    "        print('졌습니다.')\n",
    "psrGame()        "
   ]
  },
  {
   "cell_type": "markdown",
   "metadata": {},
   "source": [
    "# For"
   ]
  },
  {
   "cell_type": "code",
   "execution_count": 2,
   "metadata": {},
   "outputs": [
    {
     "name": "stdout",
     "output_type": "stream",
     "text": [
      "PYTHON IS FUN\n",
      "\n",
      "1, 2, 3, 4, 5, 6, 7, 8, 9, 10, 11, 12, 13, 14, 15, 16, 17, 18, 19, 20, \n",
      "\n",
      "2, 4, 6, 8, 10, 12, 14, 16, 18, 20, \n",
      "\n",
      "55\n",
      "\n",
      "55\n",
      "\n",
      "[2, 4, 6, 8, 10, 12, 14, 16, 18, 20]\n",
      "\n",
      "[2, 4, 6, 8, 10, 12, 14, 16, 18, 20]\n",
      "\n",
      "\n",
      "[2, 4, 6, 8, 10, 12, 14, 16, 18, 20]\n",
      "\n",
      "\n",
      "['o', 'u', 'a', 'i', 'o', 'a', 'i', 'i']\n",
      "\n",
      "dict_items([(0, 'h'), (1, 'e'), (2, 'l'), (3, 'l'), (4, 'o'), (5, ' '), (6, 'w'), (7, 'o'), (8, 'r'), (9, 'l'), (10, 'd')])\n",
      "\n",
      "짝수합: 650 홀수합: 625\n",
      "\n",
      "10\n",
      "20\n",
      "30\n",
      "40\n",
      "50\n",
      "30.0\n"
     ]
    }
   ],
   "source": [
    "#text의 캐릭터를 대문자로 전환해서 출력\n",
    "text = 'python is fun'\n",
    "for i in text:\n",
    "    print(i.upper(), end='')\n",
    "print()\n",
    "print()\n",
    "\n",
    "#1~20까지 출력\n",
    "for i in range(1,21):\n",
    "    print(i, end=', ')\n",
    "print()\n",
    "print()\n",
    "#1~20까지 짝수만 출력\n",
    "for i in range(1,21):\n",
    "    if i%2==0:\n",
    "        print(i, end=', ')\n",
    "print()\n",
    "print()\n",
    "#for문과 while문을 이용해서 1부터 10까지 합구하기\n",
    "#1~20 사이 정수에서 짝수만 리스트로 담기(for문 while문 리스트 컴프리헨션사용)\n",
    "\n",
    "cnt =0\n",
    "cnt2 =1\n",
    "suma =0\n",
    "for i in range(1,11):\n",
    "    cnt+=i\n",
    "print(cnt)\n",
    "print()\n",
    "while cnt2 <=10:\n",
    "    suma += cnt2\n",
    "    cnt2 +=1\n",
    "print(suma)\n",
    "print()    \n",
    "L = []\n",
    "for i in range(1,21):\n",
    "    if i%2==0:\n",
    "        L.append(i)\n",
    "print(L)\n",
    "print()\n",
    "cnt3 =1\n",
    "L5 =[]\n",
    "while cnt3<=20:\n",
    "    if cnt3%2==0:\n",
    "        L5.append(cnt3)\n",
    "    cnt3+=1\n",
    "\n",
    "print(L5)\n",
    "\n",
    "print()\n",
    "print()\n",
    "print([i for i in range(1,21) if i%2==0])\n",
    "print()\n",
    "print()\n",
    "\n",
    "\n",
    "#'computational thinking에서 모음만 리스트에 담기'\n",
    "\n",
    "txt = 'computational thinking'\n",
    "L2 =[]\n",
    "for i in txt:\n",
    "    if i in 'aeiouAEIOU':\n",
    "        L2.append(i)\n",
    "print(L2)              \n",
    "print()\n",
    "\n",
    "\n",
    "#text = 'hello world'에서 각 문자를 인덱스와 함께 튜플로 묶어출력\n",
    "L4 = {}\n",
    "text3 = 'hello world'\n",
    "for i,c in enumerate(text3):\n",
    "    L4[i] = c\n",
    "    \n",
    "print(L4.items())\n",
    "print()\n",
    "\n",
    "\n",
    "#1~50 사이의 수에서 짝수합과 홀수합\n",
    "\n",
    "Lcnt =0\n",
    "Rcnt =0\n",
    "for i in range(1,51):\n",
    "    if i%2==0:\n",
    "        Lcnt+=i\n",
    "    else:\n",
    "        Rcnt+=i\n",
    "        \n",
    "print('짝수합:',Lcnt,'홀수합:',Rcnt)\n",
    "print()\n",
    "\n",
    "#점수 5회 입력받은 후 평균출력\n",
    "\n",
    "L3 = []\n",
    "for i in range(5):\n",
    "    score = int(input())\n",
    "    L3.append(score)\n",
    "    \n",
    "tScore = sum(L3)/len(L3)\n",
    "print(tScore)"
   ]
  },
  {
   "cell_type": "markdown",
   "metadata": {},
   "source": [
    "# File"
   ]
  },
  {
   "cell_type": "code",
   "execution_count": 38,
   "metadata": {},
   "outputs": [],
   "source": [
    "#파일을 열어서 아래의 텍스트를 기록하세요\n",
    "text =''''hello python',\n",
    "'python programming',\n",
    "'python world',\n",
    "'bigdata',\n",
    "'artificial intelligence'\n",
    "'''\n",
    "f = open('mytest.txt', 'w')\n",
    "f.write(text)\n",
    "f.close()\n",
    "\n",
    "f = open('mytest.txt','w')\n",
    "f.write('hello python\\n')\n",
    "f.write('hello programming\\n')\n",
    "f.write('hello world\\n')\n",
    "f.write('bigdata\\n')\n",
    "f.write('artificial intelligence\\n')\n",
    "f.close()"
   ]
  },
  {
   "cell_type": "code",
   "execution_count": 48,
   "metadata": {},
   "outputs": [],
   "source": [
    "# 'mytest.txt' 파일을 열어서 4가지 방법으로 읽어서 출력하세요.."
   ]
  },
  {
   "cell_type": "markdown",
   "metadata": {},
   "source": [
    "# F.read()"
   ]
  },
  {
   "cell_type": "code",
   "execution_count": 39,
   "metadata": {
    "scrolled": true
   },
   "outputs": [
    {
     "name": "stdout",
     "output_type": "stream",
     "text": [
      "'hello python',\n",
      "'python programming',\n",
      "'python world',\n",
      "'bigdata',\n",
      "'artificial intelligence'\n",
      "\n"
     ]
    }
   ],
   "source": [
    "f= open('mytest.txt', 'r')\n",
    "data = f.read()\n",
    "print(data)\n",
    "f.close()"
   ]
  },
  {
   "cell_type": "markdown",
   "metadata": {},
   "source": [
    "# 객체에서 바로 for문돌리기"
   ]
  },
  {
   "cell_type": "code",
   "execution_count": 40,
   "metadata": {},
   "outputs": [
    {
     "name": "stdout",
     "output_type": "stream",
     "text": [
      "'hello python',\n",
      "\n",
      "'python programming',\n",
      "\n",
      "'python world',\n",
      "\n",
      "'bigdata',\n",
      "\n",
      "'artificial intelligence'\n",
      "\n"
     ]
    }
   ],
   "source": [
    "f= open('mytest.txt', 'r')\n",
    "for line in f:\n",
    "    print(line)\n",
    "f.close()"
   ]
  },
  {
   "cell_type": "markdown",
   "metadata": {},
   "source": [
    "# F.readlines() 바로출력/for문"
   ]
  },
  {
   "cell_type": "code",
   "execution_count": 49,
   "metadata": {},
   "outputs": [
    {
     "name": "stdout",
     "output_type": "stream",
     "text": [
      "[\"'hello python',\\n\", \"'python programming',\\n\", \"'python world',\\n\", \"'bigdata',\\n\", \"'artificial intelligence'\\n\"]\n",
      "'hello python',\n",
      "\n",
      "'python programming',\n",
      "\n",
      "'python world',\n",
      "\n",
      "'bigdata',\n",
      "\n",
      "'artificial intelligence'\n",
      "\n"
     ]
    }
   ],
   "source": [
    "f= open('mytest.txt', 'r')\n",
    "data = f.readlines()\n",
    "print(data)\n",
    "f.close()\n",
    "\n",
    "f = open('mytest.txt','r')\n",
    "data = f.readlines()\n",
    "for line in data:\n",
    "    print(line)\n",
    "f.close()"
   ]
  },
  {
   "cell_type": "markdown",
   "metadata": {},
   "source": [
    "# F.readlines() 번호붙여 출력"
   ]
  },
  {
   "cell_type": "code",
   "execution_count": 50,
   "metadata": {},
   "outputs": [
    {
     "name": "stdout",
     "output_type": "stream",
     "text": [
      "1, 'hello python',\n",
      "\n",
      "2, 'python programming',\n",
      "\n",
      "3, 'python world',\n",
      "\n",
      "4, 'bigdata',\n",
      "\n",
      "5, 'artificial intelligence'\n",
      "\n"
     ]
    }
   ],
   "source": [
    "f= open('mytest.txt', 'r')\n",
    "data = f.readlines()\n",
    "for i , line in enumerate(data):\n",
    "    print(str(i+1)+',',line)\n",
    "f.close()"
   ]
  },
  {
   "cell_type": "markdown",
   "metadata": {},
   "source": [
    "# F.readline() + While문"
   ]
  },
  {
   "cell_type": "code",
   "execution_count": 47,
   "metadata": {},
   "outputs": [
    {
     "name": "stdout",
     "output_type": "stream",
     "text": [
      "'hello python',\n",
      "\n",
      "'python programming',\n",
      "\n",
      "'python world',\n",
      "\n",
      "'bigdata',\n",
      "\n",
      "'artificial intelligence'\n",
      "\n"
     ]
    }
   ],
   "source": [
    "f = open('mytest.txt','r')\n",
    "line = f.readline()\n",
    "while line:\n",
    "    print(line)\n",
    "    line = f.readline()\n",
    "f.close()"
   ]
  },
  {
   "cell_type": "code",
   "execution_count": 45,
   "metadata": {},
   "outputs": [
    {
     "name": "stdout",
     "output_type": "stream",
     "text": [
      "'hello python',\n",
      "'python programming',\n",
      "'python world',\n",
      "'bigdata',\n",
      "'artificial intelligence'\n",
      "\n"
     ]
    }
   ],
   "source": [
    "#'mytest.txt' 파일을 with구문을 활용해서 읽어서 출력하세요\n",
    "with open('mytest.txt', 'r') as f:\n",
    "    data = f.read()\n",
    "print(data)\n"
   ]
  },
  {
   "cell_type": "code",
   "execution_count": 46,
   "metadata": {},
   "outputs": [
    {
     "name": "stdout",
     "output_type": "stream",
     "text": [
      "['a', 'b', 'c']\n"
     ]
    }
   ],
   "source": [
    "#test_list = ['a', 'b', 'c']를 pickle file 형식으로 저장했다가 출력\n",
    "\n",
    "import pickle\n",
    "test_list = ['a', 'b', 'c']\n",
    "\n",
    "with open('test_list.pickle', 'bw') as f:\n",
    "    pickle.dump(test_list, f)\n",
    "\n",
    "with open('test_list.pickle', 'br') as f:    \n",
    "    data = pickle.load(f)\n",
    "    print(data)"
   ]
  },
  {
   "cell_type": "markdown",
   "metadata": {},
   "source": [
    "# Class\n",
    "__init__()<br>\n",
    "self<br>\n",
    "super()<br>"
   ]
  },
  {
   "cell_type": "markdown",
   "metadata": {},
   "source": [
    "함께 사용되는 변수와 함수를 묶어서 복사해서 사용<br>\n",
    "변수 - (속성, attribute) 인스턴스 변수, 클래스 변수<br>\n",
    "메소드 - 클래스 내에 있는 함수<br>\n",
    "클래스는 복사해서 (인스턴스 생성) 사용 <br>\n",
    "인스턴스에서 속성과 메소드를 접근할때 '.' 접근자를 통해서 사용.<br>"
   ]
  },
  {
   "cell_type": "code",
   "execution_count": 1,
   "metadata": {},
   "outputs": [
    {
     "name": "stdout",
     "output_type": "stream",
     "text": [
      "----------------------------------------\n",
      "Name: 홍길동\n",
      "E-mail:  hong@naver.com\n",
      "Address: 서울시 구로구 신도림 한직전\n",
      "----------------------------------------\n"
     ]
    }
   ],
   "source": [
    "#명함을 출력하는 class BusinessCard를 만들고\n",
    "#인스턴스변수 : name, email, addr\n",
    "#메소드 : __init__: 인스턴스변수초기화\n",
    "#메소드 : print_business_card : 명함을 출력하는 메소드\n",
    "\n",
    "class BusinessCard:\n",
    "    def __init__(self, name, email, addr):\n",
    "        self.name = name\n",
    "        self.email = email\n",
    "        self.addr = addr\n",
    "        \n",
    "    def print_business_card(self):\n",
    "        print('-'*40)\n",
    "        print('Name: '+self.name)\n",
    "        print('E-mail: ',self.email)\n",
    "        print('Address: '+self.addr)\n",
    "        print('-'*40)     \n",
    "bc = BusinessCard('홍길동', 'hong@naver.com', '서울시 구로구 신도림 한직전')\n",
    "bc.print_business_card()        "
   ]
  },
  {
   "cell_type": "markdown",
   "metadata": {},
   "source": [
    "# 클래스 상속/메소드 오버라이딩"
   ]
  },
  {
   "cell_type": "code",
   "execution_count": 2,
   "metadata": {},
   "outputs": [
    {
     "name": "stdout",
     "output_type": "stream",
     "text": [
      "노래하기\n",
      "춤추기\n",
      "노래함\n"
     ]
    }
   ],
   "source": [
    "#부모 class Parent\n",
    "#메소드 : can_sing\n",
    "#자식 class LuckyChild\n",
    "#메소드 : can_dance\n",
    "class Parent:\n",
    "    def can_sing(self):\n",
    "        print('노래하기')\n",
    "class LuckyChild(Parent):\n",
    "    def can_dance(self):\n",
    "        super().can_sing()\n",
    "        print('춤추기')\n",
    "    def can_sing(self):#메소드 오버라이딩\n",
    "        print('노래함')\n",
    "lc = LuckyChild()\n",
    "lc.can_dance()  \n",
    "lc.can_sing()"
   ]
  },
  {
   "cell_type": "code",
   "execution_count": 3,
   "metadata": {},
   "outputs": [
    {
     "name": "stdout",
     "output_type": "stream",
     "text": [
      "13\n",
      "-3\n",
      "40\n",
      "0.625\n"
     ]
    }
   ],
   "source": [
    "#사칙연산클래스를 만들고 메소드 실행\n",
    "#인스턴스변수 : x,y\n",
    "#메소드 : init, add, sub, mul, div\n",
    "class fourCal:\n",
    "    def __init__(self, x, y):\n",
    "        self.x =x\n",
    "        self.y =y\n",
    "    \n",
    "    def add(self):\n",
    "        return (self.x+self.y)\n",
    "    def sub(self):\n",
    "        return (self.x-self.y)\n",
    "    def mul(self):\n",
    "        return (self.x*self.y)\n",
    "    def div(self):\n",
    "        return (self.x/self.y)\n",
    "\n",
    "fc = fourCal(5,8)\n",
    "print(fc.add())\n",
    "print(fc.sub())\n",
    "print(fc.mul())\n",
    "print(fc.div())        "
   ]
  },
  {
   "cell_type": "code",
   "execution_count": 4,
   "metadata": {},
   "outputs": [
    {
     "data": {
      "text/plain": [
       "0.4"
      ]
     },
     "execution_count": 4,
     "metadata": {},
     "output_type": "execute_result"
    }
   ],
   "source": [
    "# overriding\n",
    "# 함수의 이름은 같지만 기능은 달라진다.\n",
    "class Calculator1(fourCal):\n",
    "    def div(self):\n",
    "        if self.y == 0:\n",
    "            return 0\n",
    "        else: \n",
    "            return self.x/ self.y\n",
    "\n",
    "cal1 = Calculator1(2,5)\n",
    "cal1.div()"
   ]
  },
  {
   "cell_type": "code",
   "execution_count": 5,
   "metadata": {},
   "outputs": [
    {
     "name": "stdout",
     "output_type": "stream",
     "text": [
      "50.24\n",
      "25.12\n"
     ]
    }
   ],
   "source": [
    "#원의 면적과 원의 둘레를 구현하는 class Circle\n",
    "#인스턴스변수 : r(반지름)\n",
    "#메소드 : area(원의면적 : 3.14*r**2), perimeter(원의 둘레: 3.14*r*2)\n",
    "class Circle:\n",
    "    def __init__(self, r):\n",
    "        self.r=r\n",
    "    def area(self):\n",
    "        return self.r**2*3.14\n",
    "    def perimeter(self):\n",
    "        return self.r*2*3.14\n",
    "    \n",
    "cc = Circle(4)\n",
    "print(cc.area())\n",
    "print(cc.perimeter())    "
   ]
  },
  {
   "cell_type": "markdown",
   "metadata": {},
   "source": [
    "# Exeption\n",
    "try:<br>\n",
    "&nbsp;&nbsp;&nbsp;&nbsp;실행문<br>\n",
    "except:<br>\n",
    "&nbsp;&nbsp;&nbsp;&nbsp;에러발생시 실행코드"
   ]
  },
  {
   "cell_type": "code",
   "execution_count": 6,
   "metadata": {},
   "outputs": [
    {
     "name": "stdout",
     "output_type": "stream",
     "text": [
      "예외발생\n"
     ]
    }
   ],
   "source": [
    "try:\n",
    "    print(param)\n",
    "except:\n",
    "    print('예외발생')"
   ]
  },
  {
   "cell_type": "code",
   "execution_count": 7,
   "metadata": {},
   "outputs": [
    {
     "name": "stdout",
     "output_type": "stream",
     "text": [
      "name 'param' is not defined\n"
     ]
    }
   ],
   "source": [
    "try:\n",
    "    print(param)\n",
    "except Exception as e:\n",
    "    print(e)"
   ]
  },
  {
   "cell_type": "code",
   "execution_count": 8,
   "metadata": {},
   "outputs": [
    {
     "name": "stdout",
     "output_type": "stream",
     "text": [
      "division by zero\n",
      "hello python\n"
     ]
    }
   ],
   "source": [
    "a=5\n",
    "b=0\n",
    "\n",
    "try:\n",
    "    c=a/b\n",
    "except Exception as e:\n",
    "    print(e)\n",
    "\n",
    "print('hello python')"
   ]
  },
  {
   "cell_type": "code",
   "execution_count": 9,
   "metadata": {},
   "outputs": [
    {
     "name": "stdout",
     "output_type": "stream",
     "text": [
      "list index out of range\n"
     ]
    }
   ],
   "source": [
    "L = [1,2,3]\n",
    "\n",
    "try:\n",
    "    print(L[3])\n",
    "except Exception as e:\n",
    "    print(e)"
   ]
  },
  {
   "cell_type": "code",
   "execution_count": 10,
   "metadata": {},
   "outputs": [
    {
     "name": "stdout",
     "output_type": "stream",
     "text": [
      "0으로 나눌 수 없음\n",
      "goog bye\n"
     ]
    }
   ],
   "source": [
    "a =5\n",
    "b =0\n",
    "L =[1,3,3]\n",
    "\n",
    "try:\n",
    "    c=a/b\n",
    "    print(x)\n",
    "    print(L[3])\n",
    "\n",
    "except ZeroDivisionError:\n",
    "    print('0으로 나눌 수 없음')\n",
    "except NameError:\n",
    "    print('x를 찾을 수 없음')\n",
    "except IndexError:\n",
    "    print('해당 인덱스는 존재하지 않음')\n",
    "else:\n",
    "    print('else part')\n",
    "    \n",
    "print('goog bye')"
   ]
  },
  {
   "cell_type": "code",
   "execution_count": 11,
   "metadata": {},
   "outputs": [
    {
     "name": "stdout",
     "output_type": "stream",
     "text": [
      "x를 찾을 수 없음\n",
      "goog bye\n"
     ]
    }
   ],
   "source": [
    "a =5\n",
    "b =1\n",
    "L =[1,3,3]\n",
    "\n",
    "try:\n",
    "    c=a/b\n",
    "    print(x)\n",
    "    print(L[3])\n",
    "\n",
    "except ZeroDivisionError:\n",
    "    print('0으로 나눌 수 없음')\n",
    "except NameError:\n",
    "    print('x를 찾을 수 없음')\n",
    "except IndexError:\n",
    "    print('해당 인덱스는 존재하지 않음')\n",
    "else:\n",
    "    print('else part')\n",
    "    \n",
    "print('goog bye')"
   ]
  },
  {
   "cell_type": "code",
   "execution_count": 12,
   "metadata": {},
   "outputs": [
    {
     "name": "stdout",
     "output_type": "stream",
     "text": [
      "5\n",
      "해당 인덱스는 존재하지 않음\n",
      "goog bye\n"
     ]
    }
   ],
   "source": [
    "a =5\n",
    "b =1\n",
    "L =[1,3,3]\n",
    "\n",
    "try:\n",
    "    c=a/b\n",
    "    print(a)\n",
    "    print(L[3])\n",
    "\n",
    "except ZeroDivisionError:\n",
    "    print('0으로 나눌 수 없음')\n",
    "except NameError:\n",
    "    print('x를 찾을 수 없음')\n",
    "except IndexError:\n",
    "    print('해당 인덱스는 존재하지 않음')\n",
    "else:\n",
    "    print('else part')\n",
    "    \n",
    "print('goog bye')"
   ]
  },
  {
   "cell_type": "code",
   "execution_count": 13,
   "metadata": {},
   "outputs": [
    {
     "name": "stdout",
     "output_type": "stream",
     "text": [
      "5\n",
      "3\n",
      "else part\n",
      "goog bye\n"
     ]
    }
   ],
   "source": [
    "a =5\n",
    "b =1\n",
    "L =[1,3,3]\n",
    "\n",
    "try:\n",
    "    c=a/b\n",
    "    print(a)\n",
    "    print(L[2])\n",
    "\n",
    "except ZeroDivisionError:\n",
    "    print('0으로 나눌 수 없음')\n",
    "except NameError:\n",
    "    print('x를 찾을 수 없음')\n",
    "except IndexError:\n",
    "    print('해당 인덱스는 존재하지 않음')\n",
    "else:\n",
    "    print('else part')\n",
    "    \n",
    "print('goog bye')"
   ]
  },
  {
   "cell_type": "markdown",
   "metadata": {},
   "source": [
    "# Regular Expression\n",
    "문자열에서 특정한 문자열을 찾거나 수정할 때 사용"
   ]
  },
  {
   "cell_type": "code",
   "execution_count": 14,
   "metadata": {},
   "outputs": [],
   "source": [
    "import re"
   ]
  },
  {
   "cell_type": "markdown",
   "metadata": {},
   "source": [
    "## compile&search()&group()"
   ]
  },
  {
   "cell_type": "code",
   "execution_count": 15,
   "metadata": {},
   "outputs": [
    {
     "data": {
      "text/plain": [
       "'415-555-5252'"
      ]
     },
     "execution_count": 15,
     "metadata": {},
     "output_type": "execute_result"
    }
   ],
   "source": [
    "re1 = re.compile(r'\\d\\d\\d-\\d\\d\\d\\-\\d\\d\\d\\d')\n",
    "mo=re1.search('My number is 415-555-5252')\n",
    "mo.group()"
   ]
  },
  {
   "cell_type": "code",
   "execution_count": 16,
   "metadata": {},
   "outputs": [
    {
     "data": {
      "text/plain": [
       "'Batman'"
      ]
     },
     "execution_count": 16,
     "metadata": {},
     "output_type": "execute_result"
    }
   ],
   "source": [
    "re2 = re.compile(r'Batman|Tina Fey')\n",
    "mo = re2.search('Batman and Tina Fey')\n",
    "mo.group()"
   ]
  },
  {
   "cell_type": "markdown",
   "metadata": {},
   "source": [
    "## findall"
   ]
  },
  {
   "cell_type": "code",
   "execution_count": 17,
   "metadata": {},
   "outputs": [
    {
     "name": "stdout",
     "output_type": "stream",
     "text": [
      "['415-555-9999', '212-555-0000']\n"
     ]
    }
   ],
   "source": [
    "re3 = re.compile(r'\\d\\d\\d-\\d\\d\\d\\-\\d\\d\\d\\d')\n",
    "mo = re3.findall('Call: 415-555-9999, work: 212-555-0000')\n",
    "print(mo)"
   ]
  },
  {
   "cell_type": "code",
   "execution_count": 18,
   "metadata": {},
   "outputs": [
    {
     "name": "stdout",
     "output_type": "stream",
     "text": [
      "['12 drummers', '11 pipers', '10 lords']\n"
     ]
    }
   ],
   "source": [
    "re4 = re.compile(r'\\d+\\s\\w+')\n",
    "mo = re4.findall('12 drummers, 11 pipers, 10 lords')\n",
    "print(mo)"
   ]
  },
  {
   "cell_type": "markdown",
   "metadata": {},
   "source": [
    "## sub"
   ]
  },
  {
   "cell_type": "code",
   "execution_count": 19,
   "metadata": {},
   "outputs": [
    {
     "data": {
      "text/plain": [
       "'Censored gave secret document to Censored'"
      ]
     },
     "execution_count": 19,
     "metadata": {},
     "output_type": "execute_result"
    }
   ],
   "source": [
    "re5 = re.compile(r'Agent \\w+')\n",
    "re5.sub('Censored', 'Agent Alice gave secret document to Agent Bob')"
   ]
  },
  {
   "cell_type": "markdown",
   "metadata": {},
   "source": [
    "## \\d : 0~9 사이의 임의의 숫자\n",
    "## \\w : 문자, 숫자, 밑줄글자\n",
    "## \\s : 빈칸, 탭, 줄바꿈 문자\n",
    "## ^ - 시작부분 일치\n",
    "## . => 줄 바꿈 이외 모든 한개의 문자와 일치\n",
    "## * => 앞의 문자가 0번 이상 일치\n",
    "## $ - 끝 부분 일치\n",
    "## 사용자 정의 문자 클래스 => 대괄호[]\n",
    "* [aeiouAEIOU] => 모음문자\n",
    "* [a-zA-Z0-9] => 영어 대소문자, 숫자\n",
    "* ^ => 부정문자클래스 (이것은 제외함)"
   ]
  },
  {
   "cell_type": "code",
   "execution_count": null,
   "metadata": {},
   "outputs": [],
   "source": []
  },
  {
   "cell_type": "code",
   "execution_count": null,
   "metadata": {},
   "outputs": [],
   "source": []
  },
  {
   "cell_type": "code",
   "execution_count": null,
   "metadata": {},
   "outputs": [],
   "source": []
  },
  {
   "cell_type": "code",
   "execution_count": null,
   "metadata": {},
   "outputs": [],
   "source": []
  },
  {
   "cell_type": "code",
   "execution_count": null,
   "metadata": {},
   "outputs": [],
   "source": []
  },
  {
   "cell_type": "code",
   "execution_count": null,
   "metadata": {},
   "outputs": [],
   "source": []
  },
  {
   "cell_type": "code",
   "execution_count": null,
   "metadata": {},
   "outputs": [],
   "source": []
  },
  {
   "cell_type": "code",
   "execution_count": null,
   "metadata": {},
   "outputs": [],
   "source": []
  },
  {
   "cell_type": "code",
   "execution_count": null,
   "metadata": {},
   "outputs": [],
   "source": []
  },
  {
   "cell_type": "code",
   "execution_count": null,
   "metadata": {},
   "outputs": [],
   "source": []
  },
  {
   "cell_type": "code",
   "execution_count": null,
   "metadata": {},
   "outputs": [],
   "source": []
  },
  {
   "cell_type": "code",
   "execution_count": null,
   "metadata": {},
   "outputs": [],
   "source": []
  },
  {
   "cell_type": "code",
   "execution_count": null,
   "metadata": {},
   "outputs": [],
   "source": []
  },
  {
   "cell_type": "code",
   "execution_count": null,
   "metadata": {},
   "outputs": [],
   "source": []
  },
  {
   "cell_type": "code",
   "execution_count": null,
   "metadata": {},
   "outputs": [],
   "source": []
  },
  {
   "cell_type": "code",
   "execution_count": null,
   "metadata": {},
   "outputs": [],
   "source": []
  },
  {
   "cell_type": "code",
   "execution_count": null,
   "metadata": {},
   "outputs": [],
   "source": []
  },
  {
   "cell_type": "code",
   "execution_count": null,
   "metadata": {},
   "outputs": [],
   "source": []
  },
  {
   "cell_type": "code",
   "execution_count": null,
   "metadata": {},
   "outputs": [],
   "source": []
  },
  {
   "cell_type": "code",
   "execution_count": null,
   "metadata": {},
   "outputs": [],
   "source": []
  },
  {
   "cell_type": "code",
   "execution_count": null,
   "metadata": {},
   "outputs": [],
   "source": []
  },
  {
   "cell_type": "code",
   "execution_count": null,
   "metadata": {},
   "outputs": [],
   "source": []
  }
 ],
 "metadata": {
  "kernelspec": {
   "display_name": "Python 3",
   "language": "python",
   "name": "python3"
  },
  "language_info": {
   "codemirror_mode": {
    "name": "ipython",
    "version": 3
   },
   "file_extension": ".py",
   "mimetype": "text/x-python",
   "name": "python",
   "nbconvert_exporter": "python",
   "pygments_lexer": "ipython3",
   "version": "3.7.4"
  }
 },
 "nbformat": 4,
 "nbformat_minor": 2
}
