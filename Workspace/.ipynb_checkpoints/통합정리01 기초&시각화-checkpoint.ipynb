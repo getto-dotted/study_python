{
 "cells": [
  {
   "cell_type": "code",
   "execution_count": 3,
   "metadata": {},
   "outputs": [],
   "source": [
    "int_data=4\n",
    "float_data=3.14\n",
    "str_data = 'I love Python' \n",
    "list_data = [1,2,3, '가', '나']\n",
    "tuple_data = (1,2,3,'가', '나')\n",
    "set_data = {'a', 'b','d','t','t','d','adf'}\n",
    "dict_data = {0:'가', 1:'나', 2:'다'}"
   ]
  },
  {
   "cell_type": "markdown",
   "metadata": {},
   "source": [
    "문자열/튜플은 인덱스를 통해 일부분의 수정삭제 등이 불가능하다."
   ]
  },
  {
   "cell_type": "markdown",
   "metadata": {},
   "source": [
    "# String"
   ]
  },
  {
   "cell_type": "code",
   "execution_count": 1,
   "metadata": {
    "collapsed": true
   },
   "outputs": [
    {
     "name": "stdout",
     "output_type": "stream",
     "text": [
      "ale\n",
      "A tale\n",
      "not\n",
      "a tale that was not right\n",
      "A TALE THAT WAS NOT RIGHT\n",
      "1\n",
      "17\n",
      "25\n",
      "['A', 'tale', 'that', 'was', 'not', 'right']\n",
      "A story that was not right\n",
      "True\n"
     ]
    }
   ],
   "source": [
    "txt1 = 'A tale that was not right'\n",
    "# 'ale'\n",
    "#'A tale'\n",
    "# 'not'\n",
    "#소문자\n",
    "#대문자\n",
    "\n",
    "# 'o' 몇개\n",
    "#'o' 인덱스\n",
    "\n",
    "#txt1길이\n",
    "#space 나누어서 List에\n",
    "#'tale'을 'story'로\n",
    "#txt1안에 right존재하는지 확인\n",
    "\n",
    "print(txt1[3:6])\n",
    "print(txt1[:6])\n",
    "print(txt1[-9:-6])\n",
    "print(txt1.lower())\n",
    "print(txt1.upper())\n",
    "\n",
    "print(txt1.count('o'))\n",
    "print(txt1.find('o'))\n",
    "\n",
    "print(len(txt1))\n",
    "L = txt1.split()\n",
    "print(L)\n",
    "print(txt1.replace('tale', 'story'))\n",
    "print('right' in txt1)"
   ]
  },
  {
   "cell_type": "markdown",
   "metadata": {},
   "source": [
    "### 문자열 슬라이싱 중 [시작인덱스:종료인덱스:인덱스간 거리]"
   ]
  },
  {
   "cell_type": "code",
   "execution_count": 8,
   "metadata": {},
   "outputs": [
    {
     "data": {
      "text/plain": [
       "['asd', 'fasd', 'fas/df']"
      ]
     },
     "execution_count": 8,
     "metadata": {},
     "output_type": "execute_result"
    }
   ],
   "source": [
    "a='asd/fasd/fas/df'\n",
    "a.split('/',2)"
   ]
  },
  {
   "cell_type": "markdown",
   "metadata": {},
   "source": [
    "문자열 슬라이싱 : 어떤 변수가 String 타입일때 인덱스를 통해\n",
    "해당 문자열의 일부분에 접근하는 것<br>\n",
    "인덱스는 [0]부터 시작하고 뒤쪽은 [-1]부터 시작한다"
   ]
  },
  {
   "cell_type": "markdown",
   "metadata": {},
   "source": [
    "문자열.format()<br>\n",
    "문자열 내에 변수를 입력할 공간을 만들어 두고 ()안에 입력할 변수를 넣어서\n",
    "문자열을 출력한다."
   ]
  },
  {
   "cell_type": "code",
   "execution_count": 9,
   "metadata": {
    "scrolled": true
   },
   "outputs": [
    {
     "data": {
      "text/plain": [
       "'변수1 = 1, 변수2 =2'"
      ]
     },
     "execution_count": 9,
     "metadata": {},
     "output_type": "execute_result"
    }
   ],
   "source": [
    "b = '변수1 = {}, 변수2 ={}'\n",
    "b.format(1,2)"
   ]
  },
  {
   "cell_type": "markdown",
   "metadata": {},
   "source": [
    "문자열.count()<br>\n",
    "문자열 내에 ()안의 내용이 몇개나 포함되어 있는지 숫자를 반환한다."
   ]
  },
  {
   "cell_type": "markdown",
   "metadata": {},
   "source": [
    "문자열.find()<br>\n",
    "문자열 내에서 ()의 내용이 몇번 인덱스에 있는지 반환한다."
   ]
  },
  {
   "cell_type": "markdown",
   "metadata": {},
   "source": [
    "문자열.upper()<br>\n",
    "문자열.lower()<br>\n",
    "문자열.tiltle()<br>\n",
    "문자열을 대문자/소문자/첫글자만 대문자로 변환한다"
   ]
  },
  {
   "cell_type": "markdown",
   "metadata": {},
   "source": [
    "len()명령어<br>\n",
    "()안에 군집변수를 넣으면 해당 변수의 길이를 반환한다. => 원소의 갯수를 반환한다. ->인덱스+1"
   ]
  },
  {
   "cell_type": "markdown",
   "metadata": {},
   "source": [
    "문자열.split()<br>\n",
    "해당 문자열을 구분자를 기준으로 나누어서 리스트로 반환한다.<br>\n",
    "몇번째 구분자까지를 구분할지 정할 수도 있다."
   ]
  },
  {
   "cell_type": "markdown",
   "metadata": {},
   "source": [
    "type() 명령어 <br>\n",
    "()안에 변수를 넣으면 해당 변수의 자료형을 알려준다.<br>\n",
    "int str float bool list tuple set dict 등<br>"
   ]
  },
  {
   "cell_type": "markdown",
   "metadata": {},
   "source": [
    "in/not in <br> 변수 또는 문자열 등이 리스트나 다른 문자열에 포함되어 있는지 true/false로 반환한다"
   ]
  },
  {
   "cell_type": "markdown",
   "metadata": {},
   "source": [
    "range()<br>\n",
    "()안의 숫자만큼의 인덱스를 갖는다.<br>\n",
    "range(10) => 0 ~ 9까지<br>\n",
    "range(1,11) => 1 ~ 10까지<br>\n",
    "range(1,101,2) => 1 ~ 100까지 홀수만<br>"
   ]
  },
  {
   "cell_type": "code",
   "execution_count": 20,
   "metadata": {
    "scrolled": true
   },
   "outputs": [
    {
     "name": "stdout",
     "output_type": "stream",
     "text": [
      "[1, 3, 5, 7, 9, 11, 13, 15, 17, 19, 21, 23, 25, 27, 29, 31, 33, 35, 37, 39, 41, 43, 45, 47, 49, 51, 53, 55, 57, 59, 61, 63, 65, 67, 69, 71, 73, 75, 77, 79, 81, 83, 85, 87, 89, 91, 93, 95, 97, 99]\n"
     ]
    }
   ],
   "source": [
    "d = list(range(1,101,2))\n",
    "print(d)"
   ]
  },
  {
   "cell_type": "markdown",
   "metadata": {},
   "source": [
    "round()명령어\n",
    "()안에 실수를 넣으면 해당 실수를 반올림 한다."
   ]
  },
  {
   "cell_type": "markdown",
   "metadata": {},
   "source": [
    "math.ceil()명령어\n",
    "()안에 실수를 넣으면 버림한다."
   ]
  },
  {
   "cell_type": "markdown",
   "metadata": {},
   "source": [
    "파이썬 주석<br>\n",
    "한줄주석 #<br>\n",
    "여러줄 주석 ''' 혹은 \"\"\""
   ]
  },
  {
   "cell_type": "markdown",
   "metadata": {},
   "source": [
    "sorted(리스트)<br>\n",
    "정렬된 리스트를 반환한다.\n",
    "리스트 자체는 그대로임"
   ]
  },
  {
   "cell_type": "markdown",
   "metadata": {},
   "source": [
    "List.append()<br>\n",
    "()안의 변수를 List제일 마지막에 추가한다."
   ]
  },
  {
   "cell_type": "markdown",
   "metadata": {},
   "source": [
    "List.insert(인덱스,변수)<br>\n",
    "리스트에 ()안의 변수를 해당 인덱스 위치에 추가한다."
   ]
  },
  {
   "cell_type": "markdown",
   "metadata": {},
   "source": [
    "sum()/max()/min()<br>\n",
    "()안의 군집형 데이터의 합/최대값/최소값을 반환한다."
   ]
  },
  {
   "cell_type": "markdown",
   "metadata": {},
   "source": [
    "numpy.mean()<br>\n",
    "()안의 군집형 데이터의 평균을 반환한다."
   ]
  },
  {
   "cell_type": "markdown",
   "metadata": {},
   "source": [
    "리스트.index()<br>\n",
    "()안의 변수의 인덱스를 반환한다."
   ]
  },
  {
   "cell_type": "markdown",
   "metadata": {},
   "source": [
    "리스트.pop() 마지막 변수를 삭제한다.<br>\n",
    "()안에 인덱스 번호를 넣을 경우 해당 인덱스를 삭제한다"
   ]
  },
  {
   "cell_type": "markdown",
   "metadata": {},
   "source": [
    "리스트.remove()<br>\n",
    "()안의 변수를 삭제한다.\n",
    "없는 변수를 삭제하려고 하면 에러"
   ]
  },
  {
   "cell_type": "markdown",
   "metadata": {},
   "source": [
    "리스트.sort()<br>\n",
    "리스트를 정렬한다. 리스트 자체가 변경된다"
   ]
  },
  {
   "cell_type": "markdown",
   "metadata": {},
   "source": [
    "리스트.clear() 리스트의 모든 원소를 삭제한다.\n",
    "\n",
    "del 리스트 리스트를 삭제한다."
   ]
  },
  {
   "cell_type": "markdown",
   "metadata": {},
   "source": [
    "리스트1 + 리스트2 = [리스트1의 원소 + 리스트2의 원소] 리스트자체는 변경되지 않음<br>\n",
    "리스트1.extend(리스트2) = [리스트1의 원소 + 리스트2의 원소] 리스트1 자체가 변경됨"
   ]
  },
  {
   "cell_type": "markdown",
   "metadata": {},
   "source": [
    "# List"
   ]
  },
  {
   "cell_type": "code",
   "execution_count": 2,
   "metadata": {
    "collapsed": true
   },
   "outputs": [
    {
     "name": "stdout",
     "output_type": "stream",
     "text": [
      "['수성', '금성']\n",
      "3\n",
      "['태양', '수성', '금성', '지구', '해왕성', '목성', '지구']\n",
      "['태양', '명왕성', '수성', '금성', '지구', '해왕성', '목성', '지구']\n",
      "['태양', '명왕성', '수성', '금성', '지구', '해왕성', '목성', '지구', '토성']\n",
      "['태양', '명왕성', '수성', '금성', '지구', '해왕성', '목성', '지구']\n",
      "['태양', '해왕성', '지구']\n",
      "['태양', '해왕성', '지구', '토성', '천왕성', '해왕성']\n",
      "['지구', '천왕성', '태양', '토성', '해왕성', '해왕성']\n",
      "['해왕성', '해왕성', '토성', '태양', '천왕성', '지구']\n",
      "False\n",
      "['해왕성', '해왕성', '토성', '태양', '천왕성', '지구', '해왕성', '해왕성', '토성', '태양', '천왕성', '지구', '해왕성', '해왕성', '토성', '태양', '천왕성', '지구']\n",
      "6\n",
      "1\n",
      "[]\n"
     ]
    },
    {
     "ename": "NameError",
     "evalue": "name 'sol' is not defined",
     "output_type": "error",
     "traceback": [
      "\u001b[1;31m---------------------------------------------------------------------------\u001b[0m",
      "\u001b[1;31mNameError\u001b[0m                                 Traceback (most recent call last)",
      "\u001b[1;32m<ipython-input-2-bea18dc7145f>\u001b[0m in \u001b[0;36m<module>\u001b[1;34m\u001b[0m\n\u001b[0;32m     53\u001b[0m \u001b[0mprint\u001b[0m\u001b[1;33m(\u001b[0m\u001b[0msol\u001b[0m\u001b[1;33m)\u001b[0m\u001b[1;33m\u001b[0m\u001b[1;33m\u001b[0m\u001b[0m\n\u001b[0;32m     54\u001b[0m \u001b[1;32mdel\u001b[0m \u001b[0msol\u001b[0m\u001b[1;33m\u001b[0m\u001b[1;33m\u001b[0m\u001b[0m\n\u001b[1;32m---> 55\u001b[1;33m \u001b[0mprint\u001b[0m\u001b[1;33m(\u001b[0m\u001b[0msol\u001b[0m\u001b[1;33m)\u001b[0m\u001b[1;33m\u001b[0m\u001b[1;33m\u001b[0m\u001b[0m\n\u001b[0m",
      "\u001b[1;31mNameError\u001b[0m: name 'sol' is not defined"
     ]
    }
   ],
   "source": [
    "sol = ['태양', '수성', '금성', '지구', '화성', '목성', '지구']\n",
    "sol1 = ['토성', '천왕성', '해왕성'] \n",
    "planet = '지구'\n",
    "\n",
    "#sol에서 ['수성', '금성']을 출력\n",
    "#sol에서 '지구' 위치 인덱스 출력\n",
    "#sol에서 '화성'을 '해왕성'으로 수정\n",
    "#'수성'자리에 '명왕성' 삽입\n",
    "#'토성'을 맨 끝에 삽입\n",
    "#맨 끝 요소를 삭제하고 리턴\n",
    "# '금성'을 제거\n",
    "# 1번 인덱스에서 3번 인덱스까지 삭제\n",
    "# 인덱스 2번 요소 삭제\n",
    "# so1과 sol1합치기\n",
    "# 내림차순\n",
    "#오름차순\n",
    "#'만리장성' 있는지 확인\n",
    "#3번반복\n",
    "#길이\n",
    "#'지구'가 몇개 포함\n",
    "# 모든원소 삭제\n",
    "#sol 삭제\n",
    "\n",
    "\n",
    "\n",
    "\n",
    "\n",
    "print(sol[1:3])\n",
    "print(sol.index('지구'))\n",
    "sol[-3]='해왕성'\n",
    "print(sol)\n",
    "sol.insert(1, '명왕성')\n",
    "print(sol)\n",
    "sol.append('토성')\n",
    "print(sol)\n",
    "sol.pop()\n",
    "print(sol)\n",
    "sol.remove('금성')\n",
    "del sol[1:4]\n",
    "sol.pop(2)\n",
    "print(sol)\n",
    "sol.extend(sol1)\n",
    "print(sol)\n",
    "sol.sort()\n",
    "print(sol)\n",
    "sol.sort(reverse=True)\n",
    "print(sol)\n",
    "print('만리장성' in sol)\n",
    "print(sol*3)\n",
    "print(len(sol))\n",
    "print(sol.count('지구'))\n",
    "sol.clear()\n",
    "print(sol)\n",
    "del sol\n",
    "print(sol)"
   ]
  },
  {
   "cell_type": "markdown",
   "metadata": {},
   "source": [
    "# Tuple"
   ]
  },
  {
   "cell_type": "code",
   "execution_count": 3,
   "metadata": {
    "collapsed": true
   },
   "outputs": [
    {
     "name": "stdout",
     "output_type": "stream",
     "text": [
      "tuple\n",
      "3\n",
      "[4, 5]\n",
      "[4, 5, 6]\n",
      "6\n",
      "True\n",
      "3\n",
      "1\n",
      "8\n",
      "4\n",
      "30\n",
      "6.0\n"
     ]
    },
    {
     "data": {
      "text/plain": [
       "[8, 7, 6, 5, 4]"
      ]
     },
     "execution_count": 3,
     "metadata": {},
     "output_type": "execute_result"
    }
   ],
   "source": [
    "myTuple = ('tuple', (1,2,3), [4,5,6,7,8], '7', '8', '9')\n",
    "\n",
    "#'tuple'출력\n",
    "#3출력\n",
    "#4,5출력\n",
    "#[4,5,6]출력\n",
    "#길이\n",
    "#'7' 있는지\n",
    "#'7' 인덱스 출력\n",
    "#'7' 몇개\n",
    "#2번 인덱스 최대값\n",
    "#2번 인댁스 최소값\n",
    "#2번 인덱스 총합\n",
    "#2번인덱스 평균\n",
    "#2번 인덱스 내림차순 정렬 출력\n",
    "\n",
    "\n",
    "print(myTuple[0])\n",
    "print(myTuple[1][2])\n",
    "print(myTuple[2][:2])\n",
    "print(myTuple[2][:3])\n",
    "print(len(myTuple))\n",
    "print('7' in myTuple)\n",
    "print(myTuple.index('7'))\n",
    "print(myTuple.count('7'))\n",
    "print(max(myTuple[2]))\n",
    "print(min(myTuple[2]))\n",
    "print(sum(myTuple[2]))\n",
    "import numpy as np\n",
    "print(np.mean(myTuple[2]))\n",
    "sorted(myTuple[2], reverse=True)"
   ]
  },
  {
   "cell_type": "markdown",
   "metadata": {},
   "source": [
    "() = 튜플<br>\n",
    "{} = set / dict<br>\n",
    "[] = 리스트"
   ]
  },
  {
   "cell_type": "markdown",
   "metadata": {},
   "source": [
    "set은 중복값을 갖지 않고 인덱스가 존재 하지 않는다."
   ]
  },
  {
   "cell_type": "markdown",
   "metadata": {},
   "source": [
    "집합1.union(집합2) = 합집합<br>\n",
    "집합1.intersection(집합2) = 교집합<br>\n",
    "집합1.difference(집합2) = 차집합<br>\n",
    "집합1.symmetric_difference(집합2) = 교차차집합<br>\n",
    "집합1.update(집합2) = 집합1의 원소가 집합1,2의 합집합으로 바뀐다.<br>\n",
    "집합1.intersection_update(집합2) =집합1의 원소가 집합1과 2의 교집합으로 바뀐다.\n",
    "\n"
   ]
  },
  {
   "cell_type": "markdown",
   "metadata": {},
   "source": [
    "set.discard()<br>\n",
    "()안의 변수를 삭제한다. 존재하지 않는 변수를 삭제하려 해도 에러가 나지 않는다."
   ]
  },
  {
   "cell_type": "markdown",
   "metadata": {},
   "source": [
    "set.add()<br>\n",
    "()안의 변수를 추가한다."
   ]
  },
  {
   "cell_type": "markdown",
   "metadata": {},
   "source": [
    "set.pop()<br>\n",
    "랜덤한 원소를 삭제한다."
   ]
  },
  {
   "cell_type": "markdown",
   "metadata": {},
   "source": [
    "# Set"
   ]
  },
  {
   "cell_type": "code",
   "execution_count": 6,
   "metadata": {
    "collapsed": true
   },
   "outputs": [
    {
     "name": "stdout",
     "output_type": "stream",
     "text": [
      "{1, 2, 3, 4, 5, 6, 7, 8, 9}\n",
      "{1, 2, 3, 4, 5, 6, 7, 8, 9}\n",
      "{1, 2, 3}\n",
      "{1, 2, 3}\n",
      "{4, 5, 6}\n",
      "{4, 5, 6}\n",
      "{4, 5, 6, 7, 8, 9}\n",
      "{4, 5, 6, 7, 8, 9}\n",
      "True\n",
      "True\n",
      "True\n",
      "True\n",
      "6\n",
      "9\n",
      "1\n",
      "30\n",
      "5.0\n",
      "[9, 8, 7, 3, 2, 1]\n",
      "False\n"
     ]
    }
   ],
   "source": [
    "#원소가 없는 set만들기\n",
    "#원소'sky'와 'earth'를 추가\n",
    "#1,2 두 원소를 한번에 추가하세요\n",
    "#'sky'삭제\n",
    "\n",
    "s= set()\n",
    "s.add('sky')\n",
    "s.add('earth')\n",
    "s.update((1,2))\n",
    "s.discard('sky')\n",
    "\n",
    "A = {1,2,3,4,5,6}\n",
    "B = {1,2,3,7,8,9}\n",
    "C = {1,2,3}\n",
    "\n",
    "#합집합\n",
    "#차집합\n",
    "#A의 B에 대한 차집합\n",
    "#대칭차집합\n",
    "#C가 A의 부분집합인지확인\n",
    "#A가 C를 포함하는지 확인\n",
    "print(A.union(B))\n",
    "print(A|B)\n",
    "print(A.intersection(B))\n",
    "print(A&B)\n",
    "print(A.difference(B))\n",
    "print(A-B)\n",
    "print(A.symmetric_difference(B))\n",
    "print(A^B)\n",
    "print(C.issubset(A))\n",
    "print(C<=A)\n",
    "print(A.issuperset(C))\n",
    "print(A>=C)\n",
    "\n",
    "#B길이\n",
    "#B최대값\n",
    "#최소값\n",
    "#합\n",
    "#평균\n",
    "#내림차순\n",
    "#5포함?\n",
    "\n",
    "print(len(B))\n",
    "print(max(B))\n",
    "print(min(B))\n",
    "print(sum(B))\n",
    "print(sum(B)/len(B))\n",
    "print(sorted(B, reverse=True))\n",
    "print(5 in B)"
   ]
  },
  {
   "cell_type": "markdown",
   "metadata": {},
   "source": [
    "사전[키값] = 밸류값\n",
    "으로 새로운 원소를 추가한다."
   ]
  },
  {
   "cell_type": "markdown",
   "metadata": {},
   "source": [
    "존재하지 않는 키값을 호출하면 에러가나지만<br>\n",
    "사전.get(키값)으로 호출하면 에러가 나지 않고<br>\n",
    "사전.get(키값, x)로 호출하면 키값이 존재하지 않을 경우 x값을 불러오게 할 수 있다."
   ]
  },
  {
   "cell_type": "markdown",
   "metadata": {},
   "source": [
    "사전.items() - 키값과 밸류값을 가져온다<br>\n",
    "사전.keys() - 키값을 가져온다.<br>\n",
    "사전.values() - 밸류값을 가져온다"
   ]
  },
  {
   "cell_type": "markdown",
   "metadata": {},
   "source": [
    "사전.setdefault(키값,밸류값)<br>\n",
    "()안의 키값을 가져오되 만약 키값이 없으면 해당 키값과 밸류를 추가한다."
   ]
  },
  {
   "cell_type": "markdown",
   "metadata": {},
   "source": [
    "사전.pop(키값)<br>\n",
    "해당키값을 삭제한다."
   ]
  },
  {
   "cell_type": "markdown",
   "metadata": {},
   "source": [
    "input()\n",
    "입력창을 생성한다. 입력받은 내용은 기본적으로 문자열로 인식한다"
   ]
  },
  {
   "cell_type": "markdown",
   "metadata": {},
   "source": [
    "문자열이나 리스트를 곱할경우 반복하여 출력한다"
   ]
  },
  {
   "cell_type": "markdown",
   "metadata": {},
   "source": [
    "# Dictionary"
   ]
  },
  {
   "cell_type": "code",
   "execution_count": 5,
   "metadata": {
    "collapsed": true
   },
   "outputs": [
    {
     "name": "stdout",
     "output_type": "stream",
     "text": [
      "True\n",
      "3\n",
      "4\n",
      "dict_keys(['red', 'blue', 'green'])\n",
      "dict_values([10, 3, 1])\n",
      "dict_items([('red', 10), ('blue', 3), ('green', 1)])\n",
      "[('blue', 3), ('green', 1), ('red', 10)]\n",
      "[('green', 1), ('blue', 3), ('red', 10)]\n",
      "None\n",
      "20\n",
      "True\n",
      "{'red': 10, 'green': 1, 'pink': 20, 'yellow': 30, '파랑': 50, '빨강': 70}\n"
     ]
    }
   ],
   "source": [
    "#'mydict'라는 딕셔너리 생성\n",
    "#'red':1, 'blue':3, 'green':4 요소추가\n",
    "#key에 'blue'있는지 확인\n",
    "#길이\n",
    "#'red'의 값\n",
    "#'red'의 값을 10으로 수정\n",
    "#key만출력\n",
    "#value만출력\n",
    "#둘다출력\n",
    "#key기준으로 정렬\n",
    "#value기준으로 정렬\n",
    "#key 'blue' 삭제\n",
    "#key 'pink'출력하되 오류 없이\n",
    "#key 'pink' 출력하되 없으면 20\n",
    "#value에 20있느지 확인\n",
    "#key 'yellow'에 value30추가\n",
    "#yourdict = {'파랑':50, '빨강':70}을 합하세요\n",
    "\n",
    "mydict = {}\n",
    "mydict['red'] = 4\n",
    "mydict['blue'] = 3\n",
    "mydict['green'] = 1\n",
    "print('blue' in mydict.keys())\n",
    "print(len(mydict))\n",
    "print(mydict['red'])\n",
    "mydict['red'] = 10\n",
    "print(mydict.keys())\n",
    "print(mydict.values())\n",
    "print(mydict.items())\n",
    "print(sorted(mydict.items()))\n",
    "print(sorted(mydict.items(), key=lambda x: x[1]))\n",
    "mydict.pop('blue')\n",
    "print(mydict.get('pink'))\n",
    "print(mydict.setdefault('pink', 20))\n",
    "print(20 in mydict.values())\n",
    "mydict['yellow'] =30\n",
    "\n",
    "yourdict = {'파랑':50, '빨강':70}\n",
    "\n",
    "mydict.update(yourdict)\n",
    "print(mydict)"
   ]
  },
  {
   "cell_type": "markdown",
   "metadata": {},
   "source": [
    "if 조건문 :<br>\n",
    "&nbsp;&nbsp;&nbsp;&nbsp;실행문<br>    \n",
    "elif 조건문 :<br>\n",
    "&nbsp;&nbsp;&nbsp;&nbsp;실행문<br>    \n",
    "else :<br>\n",
    "&nbsp;&nbsp;&nbsp;&nbsp;실행문"
   ]
  },
  {
   "cell_type": "markdown",
   "metadata": {},
   "source": [
    "for 변수 in 군집데이터:<br>\n",
    "&nbsp;&nbsp;&nbsp;&nbsp;실행문"
   ]
  },
  {
   "cell_type": "markdown",
   "metadata": {},
   "source": [
    "List Comprehension<br>\n",
    "List 안에서 for문을 실행하고, 결과가 list에 담겨서 나온다."
   ]
  },
  {
   "cell_type": "code",
   "execution_count": 23,
   "metadata": {},
   "outputs": [
    {
     "data": {
      "text/plain": [
       "[0, 1, 2, 3, 4, 5, 6, 7, 8, 9]"
      ]
     },
     "execution_count": 23,
     "metadata": {},
     "output_type": "execute_result"
    }
   ],
   "source": [
    "L =[]\n",
    "for i in range(10):\n",
    "    L.append(i)\n",
    "L    "
   ]
  },
  {
   "cell_type": "code",
   "execution_count": 24,
   "metadata": {},
   "outputs": [
    {
     "data": {
      "text/plain": [
       "[0, 1, 2, 3, 4, 5, 6, 7, 8, 9]"
      ]
     },
     "execution_count": 24,
     "metadata": {},
     "output_type": "execute_result"
    }
   ],
   "source": [
    "[i for i in range(10)]"
   ]
  },
  {
   "cell_type": "code",
   "execution_count": 25,
   "metadata": {},
   "outputs": [
    {
     "name": "stdout",
     "output_type": "stream",
     "text": [
      "2x2= 4 2x3= 6 2x4= 8 2x5=10 2x6=12 2x7=14 2x8=16 2x9=18 \n",
      "3x2= 6 3x3= 9 3x4=12 3x5=15 3x6=18 3x7=21 3x8=24 3x9=27 \n",
      "4x2= 8 4x3=12 4x4=16 4x5=20 4x6=24 4x7=28 4x8=32 4x9=36 \n",
      "5x2=10 5x3=15 5x4=20 5x5=25 5x6=30 5x7=35 5x8=40 5x9=45 \n",
      "6x2=12 6x3=18 6x4=24 6x5=30 6x6=36 6x7=42 6x8=48 6x9=54 \n",
      "7x2=14 7x3=21 7x4=28 7x5=35 7x6=42 7x7=49 7x8=56 7x9=63 \n",
      "8x2=16 8x3=24 8x4=32 8x5=40 8x6=48 8x7=56 8x8=64 8x9=72 \n",
      "9x2=18 9x3=27 9x4=36 9x5=45 9x6=54 9x7=63 9x8=72 9x9=81 \n"
     ]
    }
   ],
   "source": [
    "# for 문을 이용해서 구구단을 출력하기\n",
    "\n",
    "for i in range(2,10):\n",
    "    for j in range(2,10):\n",
    "        print('{}x{}={:>2}'.format(i,j,i*j),end=' ')\n",
    "    print()    "
   ]
  },
  {
   "cell_type": "markdown",
   "metadata": {},
   "source": [
    "while 조건문:<br>    \n",
    "&nbsp;&nbsp;&nbsp;&nbsp;실행문<br>    \n",
    "&nbsp;&nbsp;&nbsp;&nbsp;조건탈출문"
   ]
  },
  {
   "cell_type": "code",
   "execution_count": 26,
   "metadata": {},
   "outputs": [
    {
     "data": {
      "text/plain": [
       "2205"
      ]
     },
     "execution_count": 26,
     "metadata": {},
     "output_type": "execute_result"
    }
   ],
   "source": [
    "#while문에서 continue를 사용해서 1~100까지의 수에서\n",
    "#20보다 크고 70보다 작은 수들의 합\n",
    "\n",
    "i=0\n",
    "suma =0\n",
    "while i<100:    \n",
    "    i +=1\n",
    "    if i<21:\n",
    "        continue\n",
    "    \n",
    "    elif i>=70:\n",
    "        break\n",
    "    suma+=i    \n",
    "suma        "
   ]
  },
  {
   "cell_type": "markdown",
   "metadata": {},
   "source": [
    "Function<br>\n",
    "def 함수명():<br>\n",
    "&nbsp;&nbsp;&nbsp;&nbsp;실행문<br>    \n",
    "&nbsp;&nbsp;&nbsp;&nbsp;return 변수"
   ]
  },
  {
   "cell_type": "markdown",
   "metadata": {},
   "source": [
    "### 가변매개변수"
   ]
  },
  {
   "cell_type": "code",
   "execution_count": 27,
   "metadata": {},
   "outputs": [
    {
     "data": {
      "text/plain": [
       "3.0"
      ]
     },
     "execution_count": 27,
     "metadata": {},
     "output_type": "execute_result"
    }
   ],
   "source": [
    "def avg(first, *rest):\n",
    "    return (first+sum(rest))/(1+len(rest))\n",
    "avg(2,3,4)"
   ]
  },
  {
   "cell_type": "markdown",
   "metadata": {},
   "source": [
    "### 키워드매개변수"
   ]
  },
  {
   "cell_type": "code",
   "execution_count": 28,
   "metadata": {},
   "outputs": [
    {
     "name": "stdout",
     "output_type": "stream",
     "text": [
      "2\n",
      "{'a': 1, 'b': 3, 'c': 4}\n"
     ]
    }
   ],
   "source": [
    "def test_kwargs(arg, **kwargs):\n",
    "    print(arg)\n",
    "    print(kwargs)\n",
    "test_kwargs(2, a=1, b=3, c=4)    "
   ]
  },
  {
   "cell_type": "code",
   "execution_count": 29,
   "metadata": {},
   "outputs": [
    {
     "name": "stdout",
     "output_type": "stream",
     "text": [
      "Hello, everybody!!\n",
      "Hello, aasdf!!\n"
     ]
    }
   ],
   "source": [
    "#이름을 입력하면 'Hello, {이름}!!'\n",
    "#이름을 입력하지 않으면 'Hello, everybody'\n",
    "\n",
    "def hiName(name='everybody'):\n",
    "    print('Hello, '+name+'!!')\n",
    "\n",
    "\n",
    "hiName()\n",
    "hiName('aasdf')    "
   ]
  },
  {
   "cell_type": "markdown",
   "metadata": {},
   "source": [
    "# Class"
   ]
  },
  {
   "cell_type": "code",
   "execution_count": 20,
   "metadata": {},
   "outputs": [],
   "source": [
    "class BusinessCard:\n",
    "    \n",
    "    def __init__(self, name, email, address):\n",
    "        self.name = name\n",
    "        self.email = email\n",
    "        self.address = address\n",
    "\n",
    "    def bCard(self):\n",
    "        print('-'*20)\n",
    "        print('Name : ', self.name)\n",
    "        print('Email : ', self.email)\n",
    "        print('Address : ', self.address)\n",
    "        print('-'*20) "
   ]
  },
  {
   "cell_type": "code",
   "execution_count": 21,
   "metadata": {},
   "outputs": [
    {
     "name": "stdout",
     "output_type": "stream",
     "text": [
      "--------------------\n",
      "Name :  qwer\n",
      "Email :  qwer\n",
      "Address :  qwer\n",
      "--------------------\n"
     ]
    }
   ],
   "source": [
    "card1 = BusinessCard('qwer','qwer','qwer')\n",
    "card1.bCard()"
   ]
  },
  {
   "cell_type": "code",
   "execution_count": 69,
   "metadata": {},
   "outputs": [],
   "source": [
    "class fourCal:\n",
    "    def __init__(self, a, b):\n",
    "        self.a = a\n",
    "        self.b = b\n",
    "        \n",
    "    def suma(self):\n",
    "        return self.a+self.b\n",
    "    def mina(self):\n",
    "        return self.a-self.b\n",
    "    def mula(self):\n",
    "        return self.a*self.b\n",
    "    def diva(self):\n",
    "        return self.a/self.b"
   ]
  },
  {
   "cell_type": "code",
   "execution_count": 70,
   "metadata": {},
   "outputs": [
    {
     "name": "stdout",
     "output_type": "stream",
     "text": [
      "6\n",
      "-2\n",
      "8\n",
      "0.5\n"
     ]
    }
   ],
   "source": [
    "twoN = fourCal(2,4)\n",
    "print(twoN.suma())\n",
    "print(twoN.mina())\n",
    "print(twoN.mula())\n",
    "print(twoN.diva())"
   ]
  },
  {
   "cell_type": "code",
   "execution_count": 22,
   "metadata": {},
   "outputs": [],
   "source": [
    "#섭씨온도를 받아서 화씨온도로 반환하는 프로그램"
   ]
  },
  {
   "cell_type": "code",
   "execution_count": 23,
   "metadata": {},
   "outputs": [],
   "source": [
    "class celToFa:\n",
    "    def __init__(self, a):\n",
    "        self.a = a\n",
    "\n",
    "    def chan(self):\n",
    "        return (self.a*1.8) +32"
   ]
  },
  {
   "cell_type": "code",
   "execution_count": 24,
   "metadata": {},
   "outputs": [],
   "source": [
    "a1 = celToFa(30)"
   ]
  },
  {
   "cell_type": "code",
   "execution_count": 26,
   "metadata": {},
   "outputs": [
    {
     "data": {
      "text/plain": [
       "86.0"
      ]
     },
     "execution_count": 26,
     "metadata": {},
     "output_type": "execute_result"
    }
   ],
   "source": [
    "a1.chan()"
   ]
  },
  {
   "cell_type": "code",
   "execution_count": 34,
   "metadata": {},
   "outputs": [],
   "source": [
    "def chan():\n",
    "    a = float(input('섭씨온도 입력'))\n",
    "    return (a*1.8) +32"
   ]
  },
  {
   "cell_type": "code",
   "execution_count": 35,
   "metadata": {},
   "outputs": [
    {
     "name": "stdout",
     "output_type": "stream",
     "text": [
      "섭씨온도 입력36.5\n"
     ]
    },
    {
     "data": {
      "text/plain": [
       "97.7"
      ]
     },
     "execution_count": 35,
     "metadata": {},
     "output_type": "execute_result"
    }
   ],
   "source": [
    "chan()"
   ]
  },
  {
   "cell_type": "code",
   "execution_count": 36,
   "metadata": {},
   "outputs": [],
   "source": [
    "#출생년월일을 입력받고 나이를 출력하는 함수"
   ]
  },
  {
   "cell_type": "code",
   "execution_count": 40,
   "metadata": {},
   "outputs": [],
   "source": [
    "def howOld():\n",
    "    age = 2020 - int(input().split('-')[0]) +1\n",
    "    return age"
   ]
  },
  {
   "cell_type": "code",
   "execution_count": 39,
   "metadata": {},
   "outputs": [
    {
     "name": "stdout",
     "output_type": "stream",
     "text": [
      "1992-08-03\n"
     ]
    },
    {
     "data": {
      "text/plain": [
       "28"
      ]
     },
     "execution_count": 39,
     "metadata": {},
     "output_type": "execute_result"
    }
   ],
   "source": [
    "howOld()"
   ]
  },
  {
   "cell_type": "code",
   "execution_count": 43,
   "metadata": {},
   "outputs": [],
   "source": [
    "#1~100까지 짝수 합 구하는 리스트 컴프리헨션"
   ]
  },
  {
   "cell_type": "code",
   "execution_count": 48,
   "metadata": {},
   "outputs": [
    {
     "data": {
      "text/plain": [
       "2550"
      ]
     },
     "execution_count": 48,
     "metadata": {},
     "output_type": "execute_result"
    }
   ],
   "source": [
    "sum([i for i in range(2,101,2)])"
   ]
  },
  {
   "cell_type": "code",
   "execution_count": 49,
   "metadata": {},
   "outputs": [
    {
     "data": {
      "text/plain": [
       "2550"
      ]
     },
     "execution_count": 49,
     "metadata": {},
     "output_type": "execute_result"
    }
   ],
   "source": [
    "sum([i for i in range(1,101) if i%2==0])"
   ]
  },
  {
   "cell_type": "code",
   "execution_count": 50,
   "metadata": {},
   "outputs": [],
   "source": [
    "#구구단을 몇단을 할지 입력 받은 후 출력하는 구구단"
   ]
  },
  {
   "cell_type": "code",
   "execution_count": 53,
   "metadata": {},
   "outputs": [],
   "source": [
    "def gugudan():\n",
    "    \n",
    "    dan = int(input('단 입력'))\n",
    "    for j in range(2,10):\n",
    "        print('{}x{}={:>2}'.format(dan,j,dan*j),end=' ')\n",
    "    print()    "
   ]
  },
  {
   "cell_type": "code",
   "execution_count": 54,
   "metadata": {},
   "outputs": [
    {
     "name": "stdout",
     "output_type": "stream",
     "text": [
      "단 입력8\n",
      "8x2=16 8x3=24 8x4=32 8x5=40 8x6=48 8x7=56 8x8=64 8x9=72 \n"
     ]
    }
   ],
   "source": [
    "gugudan()"
   ]
  },
  {
   "cell_type": "code",
   "execution_count": 55,
   "metadata": {},
   "outputs": [],
   "source": [
    "#영어, 수학, 국어 점수를 kwargument로 입력받은 후 평균을 출력하는 함수"
   ]
  },
  {
   "cell_type": "code",
   "execution_count": 77,
   "metadata": {},
   "outputs": [],
   "source": [
    "def avgScore(**a):    \n",
    "    b = a.values()\n",
    "    \n",
    "    return sum(b)/len(b)"
   ]
  },
  {
   "cell_type": "code",
   "execution_count": 78,
   "metadata": {},
   "outputs": [
    {
     "data": {
      "text/plain": [
       "80.0"
      ]
     },
     "execution_count": 78,
     "metadata": {},
     "output_type": "execute_result"
    }
   ],
   "source": [
    "avgScore(eng=80, math=70, kor=90)"
   ]
  },
  {
   "cell_type": "code",
   "execution_count": 80,
   "metadata": {},
   "outputs": [],
   "source": [
    "## 가위바위보 게임을 구현// 매개변수 = my/ yours"
   ]
  },
  {
   "cell_type": "code",
   "execution_count": 8,
   "metadata": {},
   "outputs": [
    {
     "name": "stdout",
     "output_type": "stream",
     "text": [
      "가위,바위,보 입력ㅁㅇ\n",
      "가위,바위,보 중 하나를 입력해주세요\n"
     ]
    }
   ],
   "source": [
    "#가위바위보\n",
    "import numpy as np\n",
    "def psrGame():\n",
    "    com = round(np.random.rand()*2)\n",
    "        \n",
    "    my0 = input('가위,바위,보 입력')\n",
    "    if my0 =='가위':\n",
    "        my=0\n",
    "    elif my0 =='바위':\n",
    "        my=2\n",
    "    elif my0=='보':\n",
    "        my=1\n",
    "    else:\n",
    "        print('가위,바위,보 중 하나를 입력해주세요')\n",
    "        return\n",
    "    \n",
    "    if com == 0:\n",
    "        print('com=가위')\n",
    "    elif com == 1:\n",
    "        print('com=보')\n",
    "    elif com == 2:\n",
    "        print('com=바위')\n",
    "            \n",
    "    if my-com == 0:\n",
    "        print('비겼습니다')\n",
    "    elif my-com == -1 or my-com == 2:\n",
    "        print('이겼습니다')\n",
    "    elif my-com == -2 or my-com == 1:\n",
    "        print('졌습니다.')\n",
    "psrGame()        "
   ]
  },
  {
   "cell_type": "code",
   "execution_count": 25,
   "metadata": {},
   "outputs": [],
   "source": [
    "class MyClass:\n",
    "    var = '안녕하세요' #클래스 변수 - 모든 객체에서 접근\n",
    "    ok = '땡큐!'\n",
    "    def sayHello(self,x):\n",
    "        self.ok = x\n",
    "        print(self.var) #인스턴스 변수 - 특정객체에서만 공유\n",
    "        print(self.ok)"
   ]
  },
  {
   "cell_type": "code",
   "execution_count": 28,
   "metadata": {},
   "outputs": [
    {
     "name": "stdout",
     "output_type": "stream",
     "text": [
      "안녕하세요\n",
      "안녕하세요\n",
      "self.ok\n"
     ]
    },
    {
     "data": {
      "text/plain": [
       "'self.ok'"
      ]
     },
     "execution_count": 28,
     "metadata": {},
     "output_type": "execute_result"
    }
   ],
   "source": [
    "obj = MyClass()\n",
    "print(obj.var)\n",
    "obj.sayHello('self.ok')\n",
    "obj.ok"
   ]
  },
  {
   "cell_type": "code",
   "execution_count": 29,
   "metadata": {},
   "outputs": [
    {
     "name": "stdout",
     "output_type": "stream",
     "text": [
      "안녕하세요\n",
      "안녕하세요\n",
      "self.ok2\n"
     ]
    },
    {
     "data": {
      "text/plain": [
       "'self.ok2'"
      ]
     },
     "execution_count": 29,
     "metadata": {},
     "output_type": "execute_result"
    }
   ],
   "source": [
    "obj2 = MyClass()\n",
    "print(obj.var)\n",
    "\n",
    "obj.sayHello('self.ok2')\n",
    "obj.ok"
   ]
  },
  {
   "cell_type": "code",
   "execution_count": 30,
   "metadata": {},
   "outputs": [],
   "source": [
    "class asdf:\n",
    "    def sayHi(self):\n",
    "        print('안녕하세요')\n",
    "    def sayBye(self, name):\n",
    "        print('{}다음에 보자'.format(name))"
   ]
  },
  {
   "cell_type": "code",
   "execution_count": 31,
   "metadata": {},
   "outputs": [
    {
     "name": "stdout",
     "output_type": "stream",
     "text": [
      "안녕하세요\n",
      "kkk다음에 보자\n"
     ]
    }
   ],
   "source": [
    "obj = asdf()\n",
    "obj.sayHi()\n",
    "obj.sayBye('kkk')"
   ]
  },
  {
   "cell_type": "code",
   "execution_count": 42,
   "metadata": {},
   "outputs": [],
   "source": [
    "#생성자 메소드의 특징 : 객체가 생성될때 자동실행된다\n",
    "class asdf:\n",
    "    def __init__(self):\n",
    "        self.var = '안녕하세요!'\n",
    "        print('asdf 인스턴스 객체가 생성되었습니다.')\n",
    "        \n",
    "    def say(self):\n",
    "        print('say')\n",
    "        \n",
    "        \n",
    "    def __del__(self):\n",
    "        print('asdf 인스턴스 객체가 메모리에서 제거됩니다.')"
   ]
  },
  {
   "cell_type": "code",
   "execution_count": 43,
   "metadata": {},
   "outputs": [
    {
     "name": "stdout",
     "output_type": "stream",
     "text": [
      "asdf 인스턴스 객체가 생성되었습니다.\n"
     ]
    }
   ],
   "source": [
    "mc = asdf()"
   ]
  },
  {
   "cell_type": "code",
   "execution_count": 44,
   "metadata": {},
   "outputs": [
    {
     "name": "stdout",
     "output_type": "stream",
     "text": [
      "say\n"
     ]
    }
   ],
   "source": [
    "mc.say()"
   ]
  },
  {
   "cell_type": "code",
   "execution_count": 45,
   "metadata": {},
   "outputs": [
    {
     "name": "stdout",
     "output_type": "stream",
     "text": [
      "asdf 인스턴스 객체가 메모리에서 제거됩니다.\n"
     ]
    }
   ],
   "source": [
    "del mc"
   ]
  },
  {
   "cell_type": "markdown",
   "metadata": {},
   "source": [
    "## 클래스 상속"
   ]
  },
  {
   "cell_type": "code",
   "execution_count": 89,
   "metadata": {},
   "outputs": [],
   "source": [
    "class Add:\n",
    "    def add(self, n1, n2):\n",
    "        return n1+n2\n",
    "class Mul:\n",
    "    def multi(self, n1, n2):\n",
    "        return n1*n2\n",
    "class Calcul(Add, Mul): # Add와 Mul을 상속받음\n",
    "    def sub(self, n1, n2):\n",
    "        return n1 -2"
   ]
  },
  {
   "cell_type": "code",
   "execution_count": 49,
   "metadata": {},
   "outputs": [
    {
     "name": "stdout",
     "output_type": "stream",
     "text": [
      "3\n",
      "4\n",
      "2\n"
     ]
    }
   ],
   "source": [
    "cal = Calcul()\n",
    "print(cal.add(1,2))\n",
    "print(cal.multi(2,2))\n",
    "print(cal.sub(4,2))"
   ]
  },
  {
   "cell_type": "code",
   "execution_count": 98,
   "metadata": {},
   "outputs": [],
   "source": [
    "class Note:\n",
    "    def __init__(self, contents=None):#기본매개변수 - 만약 매개변수를 넣지 않으면 contents에는 None이 대입된다.\n",
    "        self.contents = contents\n",
    "        \n",
    "    def write(self, contents):\n",
    "        self.contents = contents\n",
    "        \n",
    "    def remove(self):\n",
    "        self.contents = ''\n",
    "        \n",
    "    def __str__(self):\n",
    "        return self.contents"
   ]
  },
  {
   "cell_type": "code",
   "execution_count": 100,
   "metadata": {},
   "outputs": [],
   "source": [
    "nt = Note('python')"
   ]
  },
  {
   "cell_type": "code",
   "execution_count": 102,
   "metadata": {},
   "outputs": [
    {
     "name": "stdout",
     "output_type": "stream",
     "text": [
      "python\n"
     ]
    }
   ],
   "source": [
    "print(nt)"
   ]
  },
  {
   "cell_type": "code",
   "execution_count": 103,
   "metadata": {},
   "outputs": [],
   "source": [
    "nt.write('hello')"
   ]
  },
  {
   "cell_type": "code",
   "execution_count": 104,
   "metadata": {},
   "outputs": [
    {
     "name": "stdout",
     "output_type": "stream",
     "text": [
      "hello\n"
     ]
    }
   ],
   "source": [
    "print(nt)"
   ]
  },
  {
   "cell_type": "code",
   "execution_count": 105,
   "metadata": {},
   "outputs": [],
   "source": [
    "nt.remove()"
   ]
  },
  {
   "cell_type": "code",
   "execution_count": 106,
   "metadata": {},
   "outputs": [
    {
     "name": "stdout",
     "output_type": "stream",
     "text": [
      "\n"
     ]
    }
   ],
   "source": [
    "print(nt)"
   ]
  },
  {
   "cell_type": "code",
   "execution_count": 117,
   "metadata": {},
   "outputs": [],
   "source": [
    "class Person:\n",
    "    def __init__(self, name, age, gender):\n",
    "        self.name = name\n",
    "        self.age = age\n",
    "        self.gender = gender\n",
    "        \n",
    "    def me(self):\n",
    "        print('저의 이름은 ', self.name,' 이고요, 제 나이는 ', str(self.age),'살입니다.')"
   ]
  },
  {
   "cell_type": "code",
   "execution_count": 118,
   "metadata": {},
   "outputs": [
    {
     "name": "stdout",
     "output_type": "stream",
     "text": [
      "저의 이름은  park  이고요, 제 나이는  23 살입니다.\n"
     ]
    }
   ],
   "source": [
    "pr = Person('park', 23, 'M')\n",
    "pr.me()"
   ]
  },
  {
   "cell_type": "code",
   "execution_count": 119,
   "metadata": {},
   "outputs": [],
   "source": [
    "class Employee(Person):\n",
    "    pass"
   ]
  },
  {
   "cell_type": "code",
   "execution_count": 120,
   "metadata": {},
   "outputs": [
    {
     "name": "stdout",
     "output_type": "stream",
     "text": [
      "저의 이름은  kim  이고요, 제 나이는  25 살입니다.\n"
     ]
    }
   ],
   "source": [
    "em = Employee('kim', 25, 'M')\n",
    "em.me()"
   ]
  },
  {
   "cell_type": "markdown",
   "metadata": {},
   "source": [
    "## 메소드 오버라이딩"
   ]
  },
  {
   "cell_type": "code",
   "execution_count": 122,
   "metadata": {},
   "outputs": [],
   "source": [
    "class Employee(Person):\n",
    "    def __init__(self, name, age, gender, salary, hire_date):\n",
    "        super().__init__(name, age, gender)\n",
    "        self.salary = salary\n",
    "        self.hire_date = hire_date\n",
    "        \n",
    "    def work(self):\n",
    "        print('일한다')\n",
    "        \n",
    "    def me(self):\n",
    "        super().me()\n",
    "        print('제 급여는 ', self.salary,'원이고, 제 입사일은 ', self.hire_date,'입니다.')"
   ]
  },
  {
   "cell_type": "code",
   "execution_count": 127,
   "metadata": {},
   "outputs": [
    {
     "name": "stdout",
     "output_type": "stream",
     "text": [
      "일한다\n",
      "360\n",
      "2020/01/01\n",
      "저의 이름은  park  이고요, 제 나이는  24 살입니다.\n",
      "제 급여는  360 원이고, 제 입사일은  2020/01/01 입니다.\n"
     ]
    }
   ],
   "source": [
    "em = Employee('park', 24, 'M', 360, '2020/01/01')\n",
    "em.work()\n",
    "print(em.salary)\n",
    "print(em.hire_date)\n",
    "em.me()"
   ]
  },
  {
   "cell_type": "markdown",
   "metadata": {},
   "source": [
    "# try~except 예외처리"
   ]
  },
  {
   "cell_type": "code",
   "execution_count": 9,
   "metadata": {},
   "outputs": [
    {
     "name": "stdout",
     "output_type": "stream",
     "text": [
      "hello\n",
      "3\n",
      "else part\n",
      "finally part\n",
      "good bye\n"
     ]
    }
   ],
   "source": [
    "a=5\n",
    "b=1\n",
    "L=[1,2,3]\n",
    "print('hello')\n",
    "\n",
    "try:\n",
    "    c=a/b\n",
    "    print(L[2])    \n",
    "except ZeroDivisionError:\n",
    "    print('cannot divide by zero')\n",
    "except NameError:\n",
    "    print('no variable named \"X\"')\n",
    "except IndexError:\n",
    "    print('out of indecing in list')\n",
    "else:\n",
    "    print('else part')\n",
    "finally:\n",
    "    print('finally part')\n",
    "    \n",
    "print('good bye')   "
   ]
  },
  {
   "cell_type": "code",
   "execution_count": 8,
   "metadata": {},
   "outputs": [
    {
     "name": "stdout",
     "output_type": "stream",
     "text": [
      "1\n",
      "2\n",
      "3\n",
      "4\n"
     ]
    }
   ],
   "source": [
    "import time\n",
    "count = 1\n",
    "try:\n",
    "    while count < 5:\n",
    "        print(count)\n",
    "        count += 1\n",
    "        time.sleep(count)#코드가 count초동안 멈췄다가 다시 실행된다.\n",
    "except KeyboardInterrupt:\n",
    "    print('사용자에 의해 프로그램이 중단되었습니다.')"
   ]
  },
  {
   "cell_type": "code",
   "execution_count": 10,
   "metadata": {},
   "outputs": [
    {
     "name": "stdout",
     "output_type": "stream",
     "text": [
      "hello world\n"
     ]
    }
   ],
   "source": [
    "def writeFile():\n",
    "    try:\n",
    "        f = open('file', 'w')\n",
    "        try:\n",
    "            f.write('hello world')\n",
    "        finally:\n",
    "            f.close()\n",
    "    except IOError:\n",
    "        print('oops!')\n",
    "\n",
    "def readFile():\n",
    "    try:\n",
    "        f=open('file', 'r')\n",
    "        line = f.readline()\n",
    "    except IOError:\n",
    "        print('oops!')\n",
    "    else:\n",
    "        print(line)\n",
    "    finally:\n",
    "        f.close()\n",
    "\n",
    "writeFile()\n",
    "readFile()"
   ]
  },
  {
   "cell_type": "markdown",
   "metadata": {},
   "source": [
    "# 정규표현식"
   ]
  },
  {
   "cell_type": "code",
   "execution_count": 22,
   "metadata": {},
   "outputs": [],
   "source": [
    "import re\n",
    "#re모듈을 통해 정규표현식 이용"
   ]
  },
  {
   "cell_type": "markdown",
   "metadata": {},
   "source": [
    "## 1. 정규표현식 객체생성 양식\n",
    "re.compile(r'정규표현식')"
   ]
  },
  {
   "cell_type": "code",
   "execution_count": 26,
   "metadata": {},
   "outputs": [],
   "source": [
    "phoneRegex = re.compile(r'\\d\\d\\d\\-\\d\\d\\d\\-\\d\\d\\d\\d') # phoneRegex정규표현식 객체는 3자리-3자리-4자리 숫자의 양식을 갖는다.\n",
    "phoneRegex = re.compile(r'(\\d{3})-(\\d{3}-\\d{4})')"
   ]
  },
  {
   "cell_type": "markdown",
   "metadata": {},
   "source": [
    "## \\d : 0~9 사이의 임의의 숫자\n",
    "## \\w : 문자, 숫자, 밑줄글자\n",
    "## \\s : 빈칸, 탭, 줄바꿈 문자\n",
    "## ^ - 시작부분 일치\n",
    "## . => 줄 바꿈 이외 모든 한개의 문자와 일치\n",
    "## * => 앞의 문자가 0번 이상 일치\n",
    "## $ - 끝 부분 일치\n",
    "## 사용자 정의 문자 클래스 => 대괄호[]\n",
    "* [aeiouAEIOU] => 모음문자\n",
    "* [a-zA-Z0-9] => 영어 대소문자, 숫자\n",
    "* ^ => 부정문자클래스 (이것은 제외함)"
   ]
  },
  {
   "cell_type": "markdown",
   "metadata": {},
   "source": [
    "## 2. Search() 메소드\n",
    "정규표현식객체.search(데이터)<br>\n",
    "데이터 안에서 정규표현식 객체와 매칭되는 값을 찾는다."
   ]
  },
  {
   "cell_type": "code",
   "execution_count": 27,
   "metadata": {},
   "outputs": [
    {
     "name": "stdout",
     "output_type": "stream",
     "text": [
      "<re.Match object; span=(13, 25), match='415-555-4242'>\n",
      "415-555-4242\n"
     ]
    }
   ],
   "source": [
    "mo = phoneRegex.search('My number is 415-555-4242') # 찾을 결과 값 = ()안의 데이터에서 phoneRegex양식에 매칭되는 값을 찾아라.\n",
    "print(mo)\n",
    "print(mo.group()) # 매칭된 결과값 (그룹이 있다면 그룹별로 출력)"
   ]
  },
  {
   "cell_type": "code",
   "execution_count": 43,
   "metadata": {},
   "outputs": [
    {
     "name": "stdout",
     "output_type": "stream",
     "text": [
      "지역번호: 032 전화번호: 232-3245\n",
      "032-232-3245\n"
     ]
    }
   ],
   "source": [
    "text = \"문의사항이 있으면 032-232-3245 으로 연락주시기 바랍니다.\"\n",
    " \n",
    "regex = re.compile(r'(\\d{3})-(\\d{3}-\\d{4})')#정규표현식 생성/ 지역번호 그룹과 전화번호 그룹으로 분할\n",
    "matchobj = regex.search(text)               #원하는 데이터에서 정규표현식과 매칭되는 값 추출\n",
    "areaCode = matchobj.group(1)                #매칭값의 그룹1을 지역번호 변수에 저장\n",
    "num = matchobj.group(2)                     #매칭값의 그룹2를 전화번호 변수에 저장\n",
    "fullNum = matchobj.group()                  #매칭값을 전화번호에 저장\n",
    "print(\"지역번호:\",areaCode,\"전화번호:\", num)\n",
    "print(fullNum)"
   ]
  },
  {
   "cell_type": "code",
   "execution_count": 34,
   "metadata": {},
   "outputs": [
    {
     "name": "stdout",
     "output_type": "stream",
     "text": [
      "Batman\n"
     ]
    }
   ],
   "source": [
    "heroRegex = re.compile(r'Batman|Tina Fey')#Batman 혹은 Tina Fey를 찾아라\n",
    "mo = heroRegex.search('Batman and Tina Fey')\n",
    "print(mo.group())"
   ]
  },
  {
   "cell_type": "code",
   "execution_count": 51,
   "metadata": {},
   "outputs": [
    {
     "name": "stdout",
     "output_type": "stream",
     "text": [
      "Batmobile\n",
      "Batmobile\n",
      "mobile\n"
     ]
    }
   ],
   "source": [
    "batRegex = re.compile(r'Bat(man|mobile|copter|bat)')#Bat + man or mobile or copter or bat인 문자를 찾아라\n",
    "mo = batRegex.search('Batmobile lost a wheel')#Bat+mobile 매칭\n",
    "print(mo.group())#Batmobile\n",
    "print(mo.group(0))#Batmobile\n",
    "print(mo.group(1))#mobile"
   ]
  },
  {
   "cell_type": "code",
   "execution_count": 52,
   "metadata": {},
   "outputs": [
    {
     "data": {
      "text/plain": [
       "'Batman'"
      ]
     },
     "execution_count": 52,
     "metadata": {},
     "output_type": "execute_result"
    }
   ],
   "source": [
    "batRegex = re.compile(r'Bat(wo)?man')#(문자)? ()안의 내용이 0회 혹은 1회 일치되는 정규표현식\n",
    "mo = batRegex.search('The Adventures of Batman')\n",
    "mo.group()\n",
    "#Batman, Batwoman, Batwowoman, Batsman 중 Batman, Batwoman만이 일치한다."
   ]
  },
  {
   "cell_type": "code",
   "execution_count": 55,
   "metadata": {},
   "outputs": [
    {
     "name": "stdout",
     "output_type": "stream",
     "text": [
      "Batwowowowowowowoman\n"
     ]
    }
   ],
   "source": [
    "batRegex = re.compile(r'Bat(wo)*man')#(문자)* ()안의 내용이 0회 혹은 몇회가 나오든 일치되는 정규표현식\n",
    "mo = batRegex.search('The Adventures of Batwowowowowowowoman')\n",
    "print(mo.group())"
   ]
  },
  {
   "cell_type": "code",
   "execution_count": 56,
   "metadata": {},
   "outputs": [
    {
     "data": {
      "text/plain": [
       "'Batwoman'"
      ]
     },
     "execution_count": 56,
     "metadata": {},
     "output_type": "execute_result"
    }
   ],
   "source": [
    "batRegex = re.compile(r'Bat(wo)+man') #(문자)+ ()안의 내용이 1회 이상 나와야 함. 없을경우 에러\n",
    "mo = batRegex.search('The Adventures of Batwoman')\n",
    "mo.group()"
   ]
  },
  {
   "cell_type": "code",
   "execution_count": 57,
   "metadata": {},
   "outputs": [
    {
     "data": {
      "text/plain": [
       "'HaHaHa'"
      ]
     },
     "execution_count": 57,
     "metadata": {},
     "output_type": "execute_result"
    }
   ],
   "source": [
    "haRegex = re.compile(r'(Ha){3}')# (문자){숫자} ()안의 문자를 {숫자}만큼 반복했을 경우 매칭\n",
    "mo = haRegex.search('HaHaHa asdfasdfasdfadsf')\n",
    "mo.group()"
   ]
  },
  {
   "cell_type": "code",
   "execution_count": 58,
   "metadata": {},
   "outputs": [
    {
     "data": {
      "text/plain": [
       "'HaHaHaHa'"
      ]
     },
     "execution_count": 58,
     "metadata": {},
     "output_type": "execute_result"
    }
   ],
   "source": [
    "haRegex = re.compile(r'(Ha){3,5}')# 3~5회까지 일치할경우 매칭\n",
    "mo = haRegex.search('HaHaHaHa asdfasdfasdfadsf')\n",
    "mo.group()"
   ]
  },
  {
   "cell_type": "markdown",
   "metadata": {},
   "source": [
    "## 3. findall() 메소드"
   ]
  },
  {
   "cell_type": "code",
   "execution_count": 59,
   "metadata": {},
   "outputs": [
    {
     "name": "stdout",
     "output_type": "stream",
     "text": [
      "['415-555-9989', '212-142-4532']\n"
     ]
    }
   ],
   "source": [
    "phoneRegex = re.compile(r'\\d\\d\\d-\\d\\d\\d-\\d\\d\\d\\d')#search()는 맨앞1개만 찾지만 findall()은 모든 패턴을 찾는다.\n",
    "mo = phoneRegex.findall('Call: 415-555-9989, work: 212-142-4532')\n",
    "print(mo)"
   ]
  },
  {
   "cell_type": "code",
   "execution_count": 60,
   "metadata": {},
   "outputs": [
    {
     "name": "stdout",
     "output_type": "stream",
     "text": [
      "[('415', '555', '9989'), ('212', '142', '4532')]\n"
     ]
    }
   ],
   "source": [
    "phoneRegex = re.compile(r'(\\d\\d\\d)-(\\d\\d\\d)-(\\d\\d\\d\\d)')#그룹으로 묶어서 findall()로 찾으면 결과같을 튜플로 반환한다.\n",
    "mo = phoneRegex.findall('Call: 415-555-9989, work: 212-142-4532')\n",
    "print(mo)"
   ]
  },
  {
   "cell_type": "code",
   "execution_count": 61,
   "metadata": {},
   "outputs": [
    {
     "name": "stdout",
     "output_type": "stream",
     "text": [
      "['R', 'b', 'C', 'p', 't', 's', 'b', 'b', 'y', 'f', 'd', 'B', 'b', 'y', 'F', 'd']\n"
     ]
    }
   ],
   "source": [
    "vowelRegex = re.compile(r'[^aeiouAEIOU\\s]')#모음과 공백 제외\n",
    "mo = vowelRegex.findall('RoboCop eats baby food Baby Food')\n",
    "print(mo)"
   ]
  },
  {
   "cell_type": "code",
   "execution_count": 62,
   "metadata": {},
   "outputs": [
    {
     "data": {
      "text/plain": [
       "'Hello'"
      ]
     },
     "execution_count": 62,
     "metadata": {},
     "output_type": "execute_result"
    }
   ],
   "source": [
    "beginswithhell = re.compile(r'^Hello')#Hello로 시작하는 단어 매칭\n",
    "mo = beginswithhell.search('Hello world')\n",
    "mo.group()"
   ]
  },
  {
   "cell_type": "code",
   "execution_count": 63,
   "metadata": {},
   "outputs": [
    {
     "data": {
      "text/plain": [
       "'2'"
      ]
     },
     "execution_count": 63,
     "metadata": {},
     "output_type": "execute_result"
    }
   ],
   "source": [
    "endswithnum = re.compile(r'\\d$')\n",
    "mo= endswithnum.search('Your number5 is 42')\n",
    "mo.group()"
   ]
  },
  {
   "cell_type": "code",
   "execution_count": 64,
   "metadata": {},
   "outputs": [
    {
     "data": {
      "text/plain": [
       "['cat', 'hat', 'sat', 'lat', 'mat']"
      ]
     },
     "execution_count": 64,
     "metadata": {},
     "output_type": "execute_result"
    }
   ],
   "source": [
    "atRegex = re.compile(r'.at') # [1글자]at\n",
    "mo = atRegex.findall('The cat in the hat sat on the flat mat.')\n",
    "mo"
   ]
  },
  {
   "cell_type": "markdown",
   "metadata": {},
   "source": [
    "## 4.sub() - 문자열 대체하기"
   ]
  },
  {
   "cell_type": "code",
   "execution_count": 65,
   "metadata": {},
   "outputs": [
    {
     "data": {
      "text/plain": [
       "'Censored gave secret documents to Censored'"
      ]
     },
     "execution_count": 65,
     "metadata": {},
     "output_type": "execute_result"
    }
   ],
   "source": [
    "nameRegex = re.compile(r'Agent \\w+')\n",
    "nameRegex.sub('Censored', 'Agent Alice gave secret documents to Agent Bob')"
   ]
  },
  {
   "cell_type": "code",
   "execution_count": 66,
   "metadata": {},
   "outputs": [
    {
     "data": {
      "text/plain": [
       "'Agent A***** gave secret documents to Agent B*****'"
      ]
     },
     "execution_count": 66,
     "metadata": {},
     "output_type": "execute_result"
    }
   ],
   "source": [
    "agentRegex = re.compile(r'Agent (\\w)\\w*')\n",
    "agentRegex.sub(r'Agent \\1*****', 'Agent Alice gave secret documents to Agent Bob')\n",
    "                        "
   ]
  },
  {
   "cell_type": "markdown",
   "metadata": {},
   "source": [
    "# 시각화 작업"
   ]
  },
  {
   "cell_type": "code",
   "execution_count": 70,
   "metadata": {},
   "outputs": [],
   "source": [
    "import matplotlib.pyplot as plt\n",
    "import numpy as np"
   ]
  },
  {
   "cell_type": "code",
   "execution_count": 69,
   "metadata": {},
   "outputs": [
    {
     "data": {
      "text/plain": [
       "[<matplotlib.lines.Line2D at 0x965ec08>]"
      ]
     },
     "execution_count": 69,
     "metadata": {},
     "output_type": "execute_result"
    },
    {
     "data": {
      "image/png": "[encoded data removed]",
      "text/plain": [
       "<Figure size 432x288 with 1 Axes>"
      ]
     },
     "metadata": {
      "needs_background": "light"
     },
     "output_type": "display_data"
    }
   ],
   "source": [
    "#plt.figure() 주피터 노트북에서 피겨는 미리 해줌\n",
    "\n",
    "\n",
    "x = [1,2,3,4,5]\n",
    "y = [i**2 for i in x]\n",
    "\n",
    "x1 = [1,2,3,4,5]\n",
    "y1 = [6,7,8,9,10]\n",
    "\n",
    "plt.plot(x,y)\n",
    "plt.plot(x1,y1)"
   ]
  },
  {
   "cell_type": "code",
   "execution_count": 72,
   "metadata": {},
   "outputs": [
    {
     "data": {
      "text/plain": [
       "[<matplotlib.lines.Line2D at 0x9723f48>]"
      ]
     },
     "execution_count": 72,
     "metadata": {},
     "output_type": "execute_result"
    },
    {
     "data": {
      "image/png": "[encoded data removed]",
      "text/plain": [
       "<Figure size 432x288 with 1 Axes>"
      ]
     },
     "metadata": {
      "needs_background": "light"
     },
     "output_type": "display_data"
    }
   ],
   "source": [
    "x1 = range(50)\n",
    "y1 = [np.cos(val) for val in x1]\n",
    "\n",
    "x2 = range(50)\n",
    "y2 = [np.sin(val) for val in x2]\n",
    "\n",
    "plt.plot(x1, y1)\n",
    "plt.plot(x2, y2)"
   ]
  },
  {
   "cell_type": "code",
   "execution_count": 73,
   "metadata": {},
   "outputs": [
    {
     "data": {
      "text/plain": [
       "[<matplotlib.lines.Line2D at 0x97cbf08>]"
      ]
     },
     "execution_count": 73,
     "metadata": {},
     "output_type": "execute_result"
    },
    {
     "data": {
      "image/png": "[encoded data removed]",
      "text/plain": [
       "<Figure size 432x288 with 2 Axes>"
      ]
     },
     "metadata": {
      "needs_background": "light"
     },
     "output_type": "display_data"
    }
   ],
   "source": [
    "plt.subplot(1,2,1)#도화지를 1행 2열로 나누고 첫번째 도화지\n",
    "plt.plot(x1, y1, color='red', linestyle='dotted')\n",
    "\n",
    "plt.subplot(1,2,2)#도화지를 1행 2열로 나누고 두번째 도화지\n",
    "plt.plot(x2, y2, color='blue', linestyle='dashed')"
   ]
  },
  {
   "cell_type": "code",
   "execution_count": 87,
   "metadata": {},
   "outputs": [
    {
     "data": {
      "image/png": "[encoded data removed]",
      "text/plain": [
       "<Figure size 720x576 with 1 Axes>"
      ]
     },
     "metadata": {
      "needs_background": "light"
     },
     "output_type": "display_data"
    }
   ],
   "source": [
    "plt.figure(figsize=(10,8))\n",
    "\n",
    "x1 = range(100)\n",
    "y1 = [val for val in x1]\n",
    "\n",
    "y2 = [val + 50 for val in x1]\n",
    "\n",
    "plt.plot(x1,y1,c ='#a52a2a', ls='-.', label='Line 1')#그래프 색깔은 color를 c로 간략히 쓸 수 있다.\n",
    "plt.plot(x1,y2, c='green', ls=':', label='Line 2')#그래프 모양은 linestyle을 ls로 간략히 쓸 수 있다.\n",
    "\n",
    "plt.text(50,60, 'Line 1')#표 중간에 텍스트 삽입\n",
    "plt.annotate('Line 2', xytext=(30,110), xy=(50,100), arrowprops=dict(facecolor = 'yellow', shrink=0.1))# 화살표 넣기\n",
    "plt.legend(fancybox=True, shadow=True, loc='upper right')# 범례표시/위치/모양 변경\n",
    "\n",
    "plt.xlabel('X axis')#x축 이름\n",
    "plt.ylabel('Y axis')#y축 이름\n",
    "plt.title('Line Chart')#표 이름\n",
    "\n",
    "plt.savefig('Matplotlib Line Chart.png')"
   ]
  },
  {
   "cell_type": "markdown",
   "metadata": {},
   "source": [
    "## scatter chart\n",
    "분산형 차트"
   ]
  },
  {
   "cell_type": "code",
   "execution_count": 88,
   "metadata": {},
   "outputs": [
    {
     "data": {
      "text/plain": [
       "<matplotlib.collections.PathCollection at 0x98c0748>"
      ]
     },
     "execution_count": 88,
     "metadata": {},
     "output_type": "execute_result"
    },
    {
     "data": {
      "image/png": "[encoded data removed]",
      "text/plain": [
       "<Figure size 432x288 with 1 Axes>"
      ]
     },
     "metadata": {
      "needs_background": "light"
     },
     "output_type": "display_data"
    }
   ],
   "source": [
    "plt.scatter(x,y)"
   ]
  },
  {
   "cell_type": "code",
   "execution_count": 89,
   "metadata": {},
   "outputs": [
    {
     "data": {
      "text/plain": [
       "<matplotlib.collections.PathCollection at 0x98c0208>"
      ]
     },
     "execution_count": 89,
     "metadata": {},
     "output_type": "execute_result"
    },
    {
     "data": {
      "image/png": "[encoded data removed]",
      "text/plain": [
       "<Figure size 432x288 with 1 Axes>"
      ]
     },
     "metadata": {
      "needs_background": "light"
     },
     "output_type": "display_data"
    }
   ],
   "source": [
    "x = np.random.rand(100)\n",
    "y = x + np.random.randn(100)/10\n",
    "\n",
    "plt.scatter(x,y)"
   ]
  },
  {
   "cell_type": "code",
   "execution_count": 90,
   "metadata": {},
   "outputs": [
    {
     "data": {
      "text/plain": [
       "<matplotlib.collections.PathCollection at 0x999d148>"
      ]
     },
     "execution_count": 90,
     "metadata": {},
     "output_type": "execute_result"
    },
    {
     "data": {
      "image/png": "[encoded data removed]",
      "text/plain": [
       "<Figure size 432x288 with 1 Axes>"
      ]
     },
     "metadata": {
      "needs_background": "light"
     },
     "output_type": "display_data"
    }
   ],
   "source": [
    "data1 = np.random.rand(512,2)#[난수, 난수]조합의 512개 요소를 생성\n",
    "x = data1[:,0] #[xxx, yyy],[xxx1, yyy1]...[xxxX, yyyY]중에서 전체중 xxx부분만 가져오기\n",
    "y = data1[:,1] #[xxx, yyy],[xxx1, yyy1]...[xxxX, yyyY]중에서 전체중 yyy부분만 가져오기\n",
    "plt.scatter(x,y)"
   ]
  },
  {
   "cell_type": "code",
   "execution_count": 94,
   "metadata": {},
   "outputs": [
    {
     "data": {
      "text/plain": [
       "<matplotlib.collections.PathCollection at 0x983d348>"
      ]
     },
     "execution_count": 94,
     "metadata": {},
     "output_type": "execute_result"
    },
    {
     "data": {
      "image/png": "[encoded data removed]",
      "text/plain": [
       "<Figure size 432x288 with 1 Axes>"
      ]
     },
     "metadata": {
      "needs_background": "light"
     },
     "output_type": "display_data"
    }
   ],
   "source": [
    "data2 = np.random.rand(512,2)\n",
    "plt.scatter(data1[:,0], data1[:,1], c='g', marker='x')#각 점의 색깔을 color대신 c로 간략히 표현가능\n",
    "plt.scatter(data2[:,0], data2[:,1], c='r', marker='^')#표시의 모양을 바꿀 수 있다."
   ]
  },
  {
   "cell_type": "code",
   "execution_count": 103,
   "metadata": {},
   "outputs": [
    {
     "data": {
      "text/plain": [
       "<matplotlib.collections.PathCollection at 0xad727c8>"
      ]
     },
     "execution_count": 103,
     "metadata": {},
     "output_type": "execute_result"
    },
    {
     "data": {
      "image/png": "[encoded data removed]",
      "text/plain": [
       "<Figure size 432x288 with 1 Axes>"
      ]
     },
     "metadata": {
      "needs_background": "light"
     },
     "output_type": "display_data"
    }
   ],
   "source": [
    "n = 50\n",
    "x = np.random.rand(n)\n",
    "y = np.random.rand(n)\n",
    "\n",
    "colors = np.random.rand(n)\n",
    "area = (np.random.rand(n)*30)**2.5\n",
    "\n",
    "plt.scatter(x,y, c=colors, s=area, alpha = 0.5)#alpha : 각 요소의 투명도 s=각 마커의 size"
   ]
  },
  {
   "cell_type": "markdown",
   "metadata": {},
   "source": [
    "## Bar chart"
   ]
  },
  {
   "cell_type": "code",
   "execution_count": 104,
   "metadata": {},
   "outputs": [
    {
     "data": {
      "text/plain": [
       "<BarContainer object of 4 artists>"
      ]
     },
     "execution_count": 104,
     "metadata": {},
     "output_type": "execute_result"
    },
    {
     "data": {
      "image/png": "[encoded data removed]",
      "text/plain": [
       "<Figure size 432x288 with 1 Axes>"
      ]
     },
     "metadata": {
      "needs_background": "light"
     },
     "output_type": "display_data"
    }
   ],
   "source": [
    "data = np.array([[5,25,52,20],[4,23,51,17],[6,22,52,9]])\n",
    "x=np.arange(0,8,2)\n",
    "y = data[0]\n",
    "plt.bar(x,y, color='g', width=0.5)"
   ]
  },
  {
   "cell_type": "markdown",
   "metadata": {},
   "source": [
    "## Histogram"
   ]
  },
  {
   "cell_type": "code",
   "execution_count": 105,
   "metadata": {},
   "outputs": [
    {
     "data": {
      "image/png": "[encoded data removed]",
      "text/plain": [
       "<Figure size 432x288 with 1 Axes>"
      ]
     },
     "metadata": {
      "needs_background": "light"
     },
     "output_type": "display_data"
    }
   ],
   "source": [
    "x = np.random.randn(10000)\n",
    "plt.hist(x, bins =100)\n",
    "plt.show()"
   ]
  },
  {
   "cell_type": "markdown",
   "metadata": {},
   "source": [
    "## Box Plot"
   ]
  },
  {
   "cell_type": "code",
   "execution_count": 107,
   "metadata": {},
   "outputs": [
    {
     "data": {
      "image/png": "[encoded data removed]",
      "text/plain": [
       "<Figure size 432x288 with 1 Axes>"
      ]
     },
     "metadata": {
      "needs_background": "light"
     },
     "output_type": "display_data"
    }
   ],
   "source": [
    "data = np.random.randn(100,5) # 5개 원소로 구성된 100개의 리스트 생성\n",
    "plt.boxplot(data)\n",
    "plt.show()"
   ]
  }
 ],
 "metadata": {
  "kernelspec": {
   "display_name": "Python 3",
   "language": "python",
   "name": "python3"
  },
  "language_info": {
   "codemirror_mode": {
    "name": "ipython",
    "version": 3
   },
   "file_extension": ".py",
   "mimetype": "text/x-python",
   "name": "python",
   "nbconvert_exporter": "python",
   "pygments_lexer": "ipython3",
   "version": "3.7.4"
  }
 },
 "nbformat": 4,
 "nbformat_minor": 2
}
