{
 "cells": [
  {
   "cell_type": "markdown",
   "metadata": {},
   "source": [
    "Function"
   ]
  },
  {
   "cell_type": "code",
   "execution_count": 33,
   "metadata": {},
   "outputs": [],
   "source": [
    "#매개변수 1개를 받아서 1부터 자기자신까지합을 리턴하는 함수\n",
    "\n",
    "\n",
    "def addAll():\n",
    "    a = int(input())\n",
    "    b = 0\n",
    "    for i in range(1,a+1):\n",
    "        b += i\n",
    "    return b  "
   ]
  },
  {
   "cell_type": "code",
   "execution_count": 43,
   "metadata": {},
   "outputs": [],
   "source": [
    "#매개변수 1개를 받아서 1부터 자기자신까지합을 리턴하는 함수\n",
    "\n",
    "\n",
    "def addAll(a):   \n",
    "    b = 0\n",
    "    for i in range(1,a+1):\n",
    "        b += i\n",
    "    return b  "
   ]
  },
  {
   "cell_type": "code",
   "execution_count": 44,
   "metadata": {},
   "outputs": [
    {
     "data": {
      "text/plain": [
       "15"
      ]
     },
     "execution_count": 44,
     "metadata": {},
     "output_type": "execute_result"
    }
   ],
   "source": [
    "addAll(5)"
   ]
  },
  {
   "cell_type": "code",
   "execution_count": null,
   "metadata": {},
   "outputs": [],
   "source": [
    "def sumf(x):"
   ]
  },
  {
   "cell_type": "code",
   "execution_count": 35,
   "metadata": {},
   "outputs": [
    {
     "name": "stdout",
     "output_type": "stream",
     "text": [
      "Hello, Python!!\n"
     ]
    }
   ],
   "source": [
    "#매개변수 없이 실행하면, 'Hello, Python!!'이라고 출력하는 함수\n",
    "def hePy():\n",
    "    print('Hello, Python!!')\n",
    "\n",
    "hePy()    "
   ]
  },
  {
   "cell_type": "code",
   "execution_count": 37,
   "metadata": {},
   "outputs": [
    {
     "name": "stdout",
     "output_type": "stream",
     "text": [
      "aaaa\n",
      "Hello,aaaa!!\n"
     ]
    }
   ],
   "source": [
    "#이름을 매개변수로 받은 후 'Hello,{name}!!'을 출력하는 함수\n",
    "\n",
    "def heName():\n",
    "    name = input()\n",
    "    print('Hello,{}!!'.format(name))\n",
    "heName()    "
   ]
  },
  {
   "cell_type": "code",
   "execution_count": 38,
   "metadata": {},
   "outputs": [
    {
     "name": "stdout",
     "output_type": "stream",
     "text": [
      "Hello,dddd!!\n"
     ]
    }
   ],
   "source": [
    "#이름을 매개변수로 받은 후 'Hello,{name}!!'을 출력하는 함수\n",
    "\n",
    "def heName(nam):    \n",
    "    print('Hello,{}!!'.format(nam))\n",
    "heName('dddd')    "
   ]
  },
  {
   "cell_type": "code",
   "execution_count": 42,
   "metadata": {},
   "outputs": [
    {
     "data": {
      "text/plain": [
       "('합:', 6, '차:', -4, '곱:', 5, '나누기:', 0.2)"
      ]
     },
     "execution_count": 42,
     "metadata": {},
     "output_type": "execute_result"
    }
   ],
   "source": [
    "#두개의 정수형 매개변수를 받아서, 사칙연산 결과를 리턴하는 함수\n",
    "\n",
    "def ammd(a,b):   \n",
    "    \n",
    "    add1 = a+b\n",
    "    min1 = a-b\n",
    "    mul1= a*b\n",
    "    div1 = a/b\n",
    "    \n",
    "    return ('합:', add1, '차:',min1, '곱:',mul1, '나누기:', div1)\n",
    "    \n",
    "ammd(1,5)    "
   ]
  },
  {
   "cell_type": "code",
   "execution_count": 47,
   "metadata": {},
   "outputs": [
    {
     "data": {
      "text/plain": [
       "(30, 10, 60, 20.0)"
      ]
     },
     "execution_count": 47,
     "metadata": {},
     "output_type": "execute_result"
    }
   ],
   "source": [
    "#3개의 정수값을 받아서 최대값, 최소값, 합, 평균을 리턴\n",
    "import numpy\n",
    "def mmsm(a,b,c):\n",
    "    d=[a,b,c]\n",
    "    max1 = max(d)\n",
    "    min1 = min(d)\n",
    "    sum1 = sum(d)\n",
    "    mean1 = numpy.mean(d)\n",
    "    \n",
    "    return max1, min1, sum1, mean1\n",
    "\n",
    "mmsm(10,20,30)"
   ]
  },
  {
   "cell_type": "code",
   "execution_count": 48,
   "metadata": {},
   "outputs": [
    {
     "name": "stdout",
     "output_type": "stream",
     "text": [
      "-5455\n"
     ]
    },
    {
     "data": {
      "text/plain": [
       "5455"
      ]
     },
     "execution_count": 48,
     "metadata": {},
     "output_type": "execute_result"
    }
   ],
   "source": [
    "#임의의 정수를 받은 후 절대값을 출력하는 함수\n",
    "\n",
    "def absNum():\n",
    "    a = int(input())\n",
    "    return abs(a)\n",
    "absNum()"
   ]
  },
  {
   "cell_type": "code",
   "execution_count": 49,
   "metadata": {},
   "outputs": [
    {
     "data": {
      "text/plain": [
       "13"
      ]
     },
     "execution_count": 49,
     "metadata": {},
     "output_type": "execute_result"
    }
   ],
   "source": [
    "def absf(n):\n",
    "    if n < 0:        \n",
    "        return n*-1\n",
    "    else:\n",
    "        return n\n",
    "\n",
    "absf(-13)    "
   ]
  },
  {
   "cell_type": "code",
   "execution_count": 60,
   "metadata": {},
   "outputs": [
    {
     "data": {
      "text/plain": [
       "'당신의 아이디는 adfdsf입니다.'"
      ]
     },
     "execution_count": 60,
     "metadata": {},
     "output_type": "execute_result"
    }
   ],
   "source": [
    "#이메일을 받아서 '당신의 아이디는 {}입니다'\n",
    "\n",
    "def emailId(a):\n",
    "    b = a.split('@')[0]\n",
    "    return ('당신의 아이디는 {}입니다.'.format(b))\n",
    "    \n",
    "    \n",
    "emailId('adfdsf@naver.com')    "
   ]
  },
  {
   "cell_type": "code",
   "execution_count": 63,
   "metadata": {},
   "outputs": [
    {
     "name": "stdout",
     "output_type": "stream",
     "text": [
      "2\n",
      "(3, 4, 5)\n"
     ]
    }
   ],
   "source": [
    "def avg(first, *rest):\n",
    "    print(first)\n",
    "    print(rest)\n",
    "avg(2,3,4,5)    "
   ]
  },
  {
   "cell_type": "markdown",
   "metadata": {},
   "source": [
    "가변매개변수"
   ]
  },
  {
   "cell_type": "code",
   "execution_count": 64,
   "metadata": {},
   "outputs": [],
   "source": [
    "def avg(first, *rest):\n",
    "    return (first+sum(rest))/(1+len(rest))"
   ]
  },
  {
   "cell_type": "code",
   "execution_count": 69,
   "metadata": {},
   "outputs": [
    {
     "data": {
      "text/plain": [
       "3.0"
      ]
     },
     "execution_count": 69,
     "metadata": {},
     "output_type": "execute_result"
    }
   ],
   "source": [
    "avg(2,3,4)"
   ]
  },
  {
   "cell_type": "markdown",
   "metadata": {},
   "source": [
    "키워드 매개변수"
   ]
  },
  {
   "cell_type": "code",
   "execution_count": 70,
   "metadata": {},
   "outputs": [],
   "source": [
    "def test_kwargs(arg, **kwargs):\n",
    "    print(arg)\n",
    "    print(kwargs)"
   ]
  },
  {
   "cell_type": "code",
   "execution_count": 71,
   "metadata": {},
   "outputs": [
    {
     "name": "stdout",
     "output_type": "stream",
     "text": [
      "2\n",
      "{'a': 1, 'b': 3, 'c': 4}\n"
     ]
    }
   ],
   "source": [
    "test_kwargs(2, a=1, b=3, c=4)"
   ]
  },
  {
   "cell_type": "code",
   "execution_count": 72,
   "metadata": {},
   "outputs": [],
   "source": [
    "#이름, 이메일주소, 주소를 입력받은 후\n",
    "# ----------------------\n",
    "# Name : 성호\n",
    "# E-mail  : sungho@hanmail.net\n",
    "# Address : Seoul\n",
    "# ----------------------"
   ]
  },
  {
   "cell_type": "code",
   "execution_count": 81,
   "metadata": {},
   "outputs": [],
   "source": [
    "def nameCard(a,b,c):\n",
    "    print( '''----------------------\n",
    " Name : {}\n",
    " E-mail  : {}\n",
    " Address : {}\n",
    " ----------------------'''.format(a,b,c))\n",
    "          \n",
    "    "
   ]
  },
  {
   "cell_type": "code",
   "execution_count": 86,
   "metadata": {},
   "outputs": [
    {
     "name": "stdout",
     "output_type": "stream",
     "text": [
      "----------------------\n",
      " Name : 성호\n",
      " E-mail  : sungho@hanmail.net\n",
      " Address : Seoul\n",
      " ----------------------\n"
     ]
    }
   ],
   "source": [
    "nameCard('성호','sungho@hanmail.net','Seoul')"
   ]
  },
  {
   "cell_type": "code",
   "execution_count": 83,
   "metadata": {},
   "outputs": [],
   "source": [
    "def bCard(name, email, addr):\n",
    "    print('-'*20)\n",
    "    print('Name :', name)\n",
    "    print('email :', email)\n",
    "    print('addr :', addr)\n",
    "    print('-'*20)"
   ]
  },
  {
   "cell_type": "code",
   "execution_count": 85,
   "metadata": {},
   "outputs": [
    {
     "name": "stdout",
     "output_type": "stream",
     "text": [
      "--------------------\n",
      "Name : 성호\n",
      "email : sungho@hanmail.net\n",
      "addr : Seoul\n",
      "--------------------\n"
     ]
    }
   ],
   "source": [
    "bCard('성호','sungho@hanmail.net','Seoul')"
   ]
  },
  {
   "cell_type": "code",
   "execution_count": 91,
   "metadata": {},
   "outputs": [
    {
     "data": {
      "text/plain": [
       "78.5"
      ]
     },
     "execution_count": 91,
     "metadata": {},
     "output_type": "execute_result"
    }
   ],
   "source": [
    "#반지름을 매개변수로 받아 원의 면적을 구하는 함수\n",
    "#pi*(r**2) 3.14\n",
    "\n",
    "def circle(r):\n",
    "    return 3.14*(r**2)\n",
    "\n",
    "circle(5)"
   ]
  },
  {
   "cell_type": "code",
   "execution_count": 92,
   "metadata": {},
   "outputs": [],
   "source": [
    "#일반매개변수 하나와 가변매개변수 하나를 받아서 일반매개변수가 sum이면 가변매개변수의 값들을 더하고\n",
    "#일반 매개변수가 mul이면 가변 매개변수의 값들을 곱하여 리턴하는 함수"
   ]
  },
  {
   "cell_type": "code",
   "execution_count": 102,
   "metadata": {},
   "outputs": [],
   "source": [
    "def multiCal(a, *b):    \n",
    "    if a == 'sum':\n",
    "        sum(b)\n",
    "    elif a == 'mul':\n",
    "        c=0\n",
    "        for i in b:\n",
    "            c += b[i]*b[i+1]\n",
    "        "
   ]
  },
  {
   "cell_type": "code",
   "execution_count": 127,
   "metadata": {},
   "outputs": [],
   "source": [
    "def multiCal(a, *b):    \n",
    "    if a == 'sum':\n",
    "        return sum(b)        \n",
    "    elif a == 'mul':\n",
    "        c=1\n",
    "        for i in b:\n",
    "            c *= i\n",
    "        return c"
   ]
  },
  {
   "cell_type": "code",
   "execution_count": 124,
   "metadata": {},
   "outputs": [
    {
     "data": {
      "text/plain": [
       "7"
      ]
     },
     "execution_count": 124,
     "metadata": {},
     "output_type": "execute_result"
    }
   ],
   "source": [
    "multiCal('sum',2,2,3)"
   ]
  },
  {
   "cell_type": "code",
   "execution_count": 128,
   "metadata": {},
   "outputs": [
    {
     "data": {
      "text/plain": [
       "40"
      ]
     },
     "execution_count": 128,
     "metadata": {},
     "output_type": "execute_result"
    }
   ],
   "source": [
    "multiCal('mul',1,2,4, 5)"
   ]
  },
  {
   "cell_type": "code",
   "execution_count": 138,
   "metadata": {},
   "outputs": [
    {
     "name": "stdout",
     "output_type": "stream",
     "text": [
      "Hello, aasdf!!\n"
     ]
    }
   ],
   "source": [
    "#이름을 입력하면 'Hello, {이름}!!'\n",
    "#이름을 입력하지 않으면 'Hello, everybody'\n",
    "\n",
    "def hiName(name='everybody'):\n",
    "    print('Hello, '+name+'!!')\n"
   ]
  },
  {
   "cell_type": "code",
   "execution_count": 140,
   "metadata": {},
   "outputs": [
    {
     "name": "stdout",
     "output_type": "stream",
     "text": [
      "Hello, everybody!!\n",
      "Hello, aasdf!!\n"
     ]
    }
   ],
   "source": [
    "hiName()\n",
    "hiName('aasdf')"
   ]
  },
  {
   "cell_type": "code",
   "execution_count": 157,
   "metadata": {},
   "outputs": [
    {
     "name": "stdout",
     "output_type": "stream",
     "text": [
      "['aaaaaaaaaaaaaa\\n', 'aaaaaaaaaaaaaaa\\n', 'bbbbbbbbbbbbb\\n', 'vccccccccccc']\n"
     ]
    }
   ],
   "source": [
    "f=open('a.txt', 'r')\n",
    "a = print(f.readlines())\n",
    "f.close()"
   ]
  },
  {
   "cell_type": "code",
   "execution_count": 158,
   "metadata": {},
   "outputs": [
    {
     "name": "stdout",
     "output_type": "stream",
     "text": [
      "['b\\n', '\\n', 'q\\n', 'as\\n', 'f\\n', 'gf\\n', 'vg\\n']\n"
     ]
    }
   ],
   "source": [
    "f=open('./ppt/b.txt', 'r')\n",
    "a = print(f.readlines())\n",
    "f.close()"
   ]
  },
  {
   "cell_type": "code",
   "execution_count": 161,
   "metadata": {},
   "outputs": [],
   "source": [
    "f = open(\"bbb.txt\", \"w\")\n",
    "f.writelines(['hello\\n', 'this is 1999\\n','goon\\n'])\n",
    "f.close()"
   ]
  },
  {
   "cell_type": "code",
   "execution_count": null,
   "metadata": {},
   "outputs": [],
   "source": []
  }
 ],
 "metadata": {
  "kernelspec": {
   "display_name": "Python 3",
   "language": "python",
   "name": "python3"
  },
  "language_info": {
   "codemirror_mode": {
    "name": "ipython",
    "version": 3
   },
   "file_extension": ".py",
   "mimetype": "text/x-python",
   "name": "python",
   "nbconvert_exporter": "python",
   "pygments_lexer": "ipython3",
   "version": "3.7.4"
  }
 },
 "nbformat": 4,
 "nbformat_minor": 2
}
