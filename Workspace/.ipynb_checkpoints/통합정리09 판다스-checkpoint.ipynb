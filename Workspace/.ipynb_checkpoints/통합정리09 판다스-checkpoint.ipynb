{
 "cells": [
  {
   "cell_type": "code",
   "execution_count": 1,
   "metadata": {},
   "outputs": [],
   "source": [
    "import pandas as pd\n",
    "import numpy as np\n",
    "import matplotlib.pyplot as plt\n",
    "\n",
    "import matplotlib as mpl\n",
    "\n",
    "import matplotlib.font_manager as fm\n",
    "\n",
    "\n",
    "\n",
    "mpl.rcParams['axes.unicode_minus'] = False\n",
    "\n",
    "\n",
    "\n",
    "path = 'C:/Windows/Fonts/malgun.ttf'\n",
    "\n",
    "font_name = fm.FontProperties(fname=path, size=50).get_name()\n",
    "\n",
    "plt.rc('font', family=font_name)"
   ]
  },
  {
   "cell_type": "markdown",
   "metadata": {},
   "source": [
    "# pd.Series(변환할 데이터, 인덱스=[], 컬럼=[])\n",
    "괄호 안의 데이터타입을 시리즈로 변경한다<br>\n",
    "Series(data=None, index=None, dtype=None, name=None, copy=False, fastpath=False)<br>\n",
    "기본적으로 시리즈는 하나의 데이터타입으로 구성되지만\n",
    "데이터 추가는 자유롭고 추가된 데이터가 다를 경우 시리즈의 데이터타입이 자동으로 변환된다."
   ]
  },
  {
   "cell_type": "code",
   "execution_count": 2,
   "metadata": {},
   "outputs": [
    {
     "data": {
      "text/plain": [
       "0    1\n",
       "1    2\n",
       "2    3\n",
       "3    4\n",
       "4    5\n",
       "dtype: int64"
      ]
     },
     "execution_count": 2,
     "metadata": {},
     "output_type": "execute_result"
    }
   ],
   "source": [
    "ls = [1,2,3,4,5]\n",
    "ts = pd.Series(ls)\n",
    "ts"
   ]
  },
  {
   "cell_type": "code",
   "execution_count": 3,
   "metadata": {},
   "outputs": [],
   "source": [
    "ts = pd.Series(ls, index=['a','b','c','d','e'])"
   ]
  },
  {
   "cell_type": "code",
   "execution_count": 4,
   "metadata": {},
   "outputs": [],
   "source": [
    "bs=pd.Series(ls, index=['-','-','-','-','-']) #인덱스는 마음대로 지정가능"
   ]
  },
  {
   "cell_type": "markdown",
   "metadata": {},
   "source": [
    "# .index\n",
    "시리즈의 인덱스출력"
   ]
  },
  {
   "cell_type": "code",
   "execution_count": null,
   "metadata": {},
   "outputs": [],
   "source": [
    "ts.index #시리즈의 인덱스 출력"
   ]
  },
  {
   "cell_type": "code",
   "execution_count": 6,
   "metadata": {},
   "outputs": [
    {
     "data": {
      "text/plain": [
       "가    1\n",
       "나    2\n",
       "다    3\n",
       "라    4\n",
       "마    5\n",
       "dtype: int64"
      ]
     },
     "execution_count": 6,
     "metadata": {},
     "output_type": "execute_result"
    }
   ],
   "source": [
    "ts.index = ['가', '나','다','라','마'] #시리즈의 전체 인덱스 변경//시리즈의 전체 값 변경도 가능\n",
    "ts"
   ]
  },
  {
   "cell_type": "markdown",
   "metadata": {},
   "source": [
    "# .values\n",
    "시리즈의 값 출력"
   ]
  },
  {
   "cell_type": "code",
   "execution_count": null,
   "metadata": {},
   "outputs": [],
   "source": [
    "ts.values #시리즈의 값 출력"
   ]
  },
  {
   "cell_type": "markdown",
   "metadata": {},
   "source": [
    "# boolean indexing\n",
    "시리즈의 인덱스에 불리언값을 넣으면 true인 인덱스값만 출력할 수 있다"
   ]
  },
  {
   "cell_type": "code",
   "execution_count": 5,
   "metadata": {},
   "outputs": [
    {
     "data": {
      "text/plain": [
       "d    4\n",
       "e    5\n",
       "dtype: int64"
      ]
     },
     "execution_count": 5,
     "metadata": {},
     "output_type": "execute_result"
    }
   ],
   "source": [
    "ts[ts>3] #ts시리즈의 값중 3 이상인 값만 출력한다."
   ]
  },
  {
   "cell_type": "markdown",
   "metadata": {},
   "source": [
    "# pd.DataFrame(변환할 데이터, 인덱스, 컬럼)\n",
    "DataFrame(data=None, index=None, columns=None, dtype=None, copy=False)"
   ]
  },
  {
   "cell_type": "code",
   "execution_count": 7,
   "metadata": {},
   "outputs": [
    {
     "data": {
      "text/html": [
       "<div>\n",
       "<style scoped>\n",
       "    .dataframe tbody tr th:only-of-type {\n",
       "        vertical-align: middle;\n",
       "    }\n",
       "\n",
       "    .dataframe tbody tr th {\n",
       "        vertical-align: top;\n",
       "    }\n",
       "\n",
       "    .dataframe thead th {\n",
       "        text-align: right;\n",
       "    }\n",
       "</style>\n",
       "<table border=\"1\" class=\"dataframe\">\n",
       "  <thead>\n",
       "    <tr style=\"text-align: right;\">\n",
       "      <th></th>\n",
       "      <th>first_name</th>\n",
       "      <th>last_name</th>\n",
       "      <th>age</th>\n",
       "      <th>sex</th>\n",
       "      <th>pretestscore</th>\n",
       "      <th>posttestscore</th>\n",
       "    </tr>\n",
       "  </thead>\n",
       "  <tbody>\n",
       "    <tr>\n",
       "      <td>0</td>\n",
       "      <td>jason</td>\n",
       "      <td>miller</td>\n",
       "      <td>42.0</td>\n",
       "      <td>m</td>\n",
       "      <td>4.0</td>\n",
       "      <td>24.0</td>\n",
       "    </tr>\n",
       "    <tr>\n",
       "      <td>1</td>\n",
       "      <td>NaN</td>\n",
       "      <td>NaN</td>\n",
       "      <td>NaN</td>\n",
       "      <td>NaN</td>\n",
       "      <td>NaN</td>\n",
       "      <td>NaN</td>\n",
       "    </tr>\n",
       "    <tr>\n",
       "      <td>2</td>\n",
       "      <td>tina</td>\n",
       "      <td>all</td>\n",
       "      <td>36.0</td>\n",
       "      <td>f</td>\n",
       "      <td>NaN</td>\n",
       "      <td>NaN</td>\n",
       "    </tr>\n",
       "    <tr>\n",
       "      <td>3</td>\n",
       "      <td>jake</td>\n",
       "      <td>miler</td>\n",
       "      <td>24.0</td>\n",
       "      <td>m</td>\n",
       "      <td>2.0</td>\n",
       "      <td>62.0</td>\n",
       "    </tr>\n",
       "    <tr>\n",
       "      <td>4</td>\n",
       "      <td>amy</td>\n",
       "      <td>coozer</td>\n",
       "      <td>73.0</td>\n",
       "      <td>f</td>\n",
       "      <td>3.0</td>\n",
       "      <td>70.0</td>\n",
       "    </tr>\n",
       "  </tbody>\n",
       "</table>\n",
       "</div>"
      ],
      "text/plain": [
       "  first_name last_name   age  sex  pretestscore  posttestscore\n",
       "0      jason    miller  42.0    m           4.0           24.0\n",
       "1        NaN       NaN   NaN  NaN           NaN            NaN\n",
       "2       tina       all  36.0    f           NaN            NaN\n",
       "3       jake     miler  24.0    m           2.0           62.0\n",
       "4        amy    coozer  73.0    f           3.0           70.0"
      ]
     },
     "execution_count": 7,
     "metadata": {},
     "output_type": "execute_result"
    }
   ],
   "source": [
    "rData = {'first_name':['jason', np.nan, 'tina', 'jake', 'amy'],\n",
    "         'last_name':['miller', np.nan, 'all', 'miler', 'coozer'],\n",
    "         'age':[42,np.nan, 36,24,73],\n",
    "         'sex':['m', np.nan, 'f', 'm', 'f'],\n",
    "         'pretestscore':[4, np.nan, np.nan, 2,3],\n",
    "         'posttestscore':[24,np.nan, np.nan, 62, 70]}\n",
    "df = pd.DataFrame(rData)\n",
    "df"
   ]
  },
  {
   "cell_type": "markdown",
   "metadata": {},
   "source": [
    "# .columns"
   ]
  },
  {
   "cell_type": "code",
   "execution_count": 8,
   "metadata": {},
   "outputs": [
    {
     "data": {
      "text/plain": [
       "Index(['first_name', 'last_name', 'age', 'sex', 'pretestscore',\n",
       "       'posttestscore'],\n",
       "      dtype='object')"
      ]
     },
     "execution_count": 8,
     "metadata": {},
     "output_type": "execute_result"
    }
   ],
   "source": [
    "df.columns # 데이터프레임에서 컬럼만 출력"
   ]
  },
  {
   "cell_type": "markdown",
   "metadata": {},
   "source": [
    "# .index"
   ]
  },
  {
   "cell_type": "markdown",
   "metadata": {},
   "source": [
    "# index.get_loc()\n",
    "인덱스 번호를 가져온다"
   ]
  },
  {
   "cell_type": "code",
   "execution_count": 10,
   "metadata": {},
   "outputs": [
    {
     "data": {
      "text/plain": [
       "RangeIndex(start=0, stop=5, step=1)"
      ]
     },
     "execution_count": 10,
     "metadata": {},
     "output_type": "execute_result"
    }
   ],
   "source": [
    "df.index # 데이터프레임의 인덱스 정보 출력"
   ]
  },
  {
   "cell_type": "code",
   "execution_count": 11,
   "metadata": {},
   "outputs": [
    {
     "data": {
      "text/plain": [
       "0    42.0\n",
       "1     NaN\n",
       "2    36.0\n",
       "3    24.0\n",
       "4    73.0\n",
       "Name: age, dtype: float64"
      ]
     },
     "execution_count": 11,
     "metadata": {},
     "output_type": "execute_result"
    }
   ],
   "source": [
    "df['age'] # 1개 컬럼만 출력시 시리즈가 된다"
   ]
  },
  {
   "cell_type": "code",
   "execution_count": 13,
   "metadata": {},
   "outputs": [
    {
     "data": {
      "text/plain": [
       "0    jason\n",
       "1      NaN\n",
       "2     tina\n",
       "3     jake\n",
       "4      amy\n",
       "Name: first_name, dtype: object"
      ]
     },
     "execution_count": 13,
     "metadata": {},
     "output_type": "execute_result"
    }
   ],
   "source": [
    "#속성접근으로 할경우 값을 변경할 수 없고 컬럼명에 공백이 있을경우 사용할 수 없다\n",
    "#단순출력시 사용\n",
    "df.first_name "
   ]
  },
  {
   "cell_type": "markdown",
   "metadata": {},
   "source": [
    "# dataframe에서 row에 접근할 때\n",
    "## df.loc[인덱스명,컬럼명]\n",
    "## df.iloc[인덱스번호, 컬럼인덱스번호]\n",
    "# 컬럼명으로는 슬라이싱이 불가능하고 iloc를 통해 컬럼인덱스로 접근한다"
   ]
  },
  {
   "cell_type": "code",
   "execution_count": 14,
   "metadata": {},
   "outputs": [
    {
     "name": "stdout",
     "output_type": "stream",
     "text": [
      "first_name       tina\n",
      "last_name         all\n",
      "age                36\n",
      "sex                 f\n",
      "pretestscore      NaN\n",
      "posttestscore     NaN\n",
      "Name: c, dtype: object\n",
      "  first_name last_name   age sex  pretestscore  posttestscore\n",
      "c       tina       all  36.0   f           NaN            NaN\n",
      "d       jake     miler  24.0   m           2.0           62.0\n",
      "first_name       tina\n",
      "last_name         all\n",
      "age                36\n",
      "sex                 f\n",
      "pretestscore      NaN\n",
      "posttestscore     NaN\n",
      "Name: c, dtype: object\n",
      "  first_name last_name   age sex  pretestscore  posttestscore\n",
      "a      jason    miller  42.0   m           4.0           24.0\n",
      "c       tina       all  36.0   f           NaN            NaN\n",
      "miller\n",
      "miller\n",
      "  last_name   age  sex\n",
      "a    miller  42.0    m\n",
      "b       NaN   NaN  NaN\n",
      "c       all  36.0    f\n",
      "  last_name  pretestscore\n",
      "c       all           NaN\n",
      "d     miler           2.0\n",
      "  last_name  pretestscore\n",
      "c       all           NaN\n",
      "d     miler           2.0\n"
     ]
    }
   ],
   "source": [
    "df.index= ['a','b','c','d','e']\n",
    "print(df.loc['c'])\n",
    "# 3번과 4번 row를 가져오기\n",
    "print(df.loc[['c','d']])\n",
    "print(df.iloc[2])\n",
    "# 1번과 3번 row를 가져오기\n",
    "print(df.iloc[[0,2]])\n",
    "# '인덱스명','컬럼명'으로 인덱스와 컬럼을 동시검색가능\n",
    "print(df.loc['a','last_name'])\n",
    "# '인덱스', '컬럼의 인덱스'로 인덱스와 컬럼 동시검색가능\n",
    "print(df.iloc[0,1])\n",
    "# loc로 데이터에 접근할때는 인덱스와 달리 해당 컬럼에 정확하게 시작/종료된다.\n",
    "print(df.loc['a':'c','last_name':'sex'])\n",
    "# all, miler, Nan, 2.0\n",
    "print(df.loc['c':'d','last_name':'pretestscore':3])\n",
    "print(df.loc['c':'d',['last_name','pretestscore']])"
   ]
  },
  {
   "cell_type": "code",
   "execution_count": 15,
   "metadata": {},
   "outputs": [
    {
     "data": {
      "text/plain": [
       "['miller', 'coozer']"
      ]
     },
     "execution_count": 15,
     "metadata": {},
     "output_type": "execute_result"
    }
   ],
   "source": [
    "#'age'가 40이상인 데이터를 추출/이름만/값만/리스트로바꿔서 보여주기\n",
    "#df['age']\n",
    "#df['age']>40\n",
    "#df[df['age']>40]\n",
    "#df[df['age']>40]['last_name']\n",
    "#df[df['age']>40]['last_name'].values\n",
    "df[df['age']>40]['last_name'].values.tolist()"
   ]
  },
  {
   "cell_type": "code",
   "execution_count": 16,
   "metadata": {},
   "outputs": [
    {
     "data": {
      "text/plain": [
       "a    4.0\n",
       "Name: pretestscore, dtype: float64"
      ]
     },
     "execution_count": 16,
     "metadata": {},
     "output_type": "execute_result"
    }
   ],
   "source": [
    "#'jason'의 pretestscore는?\n",
    "df[df['first_name'] == 'jason']['pretestscore']"
   ]
  },
  {
   "cell_type": "code",
   "execution_count": 17,
   "metadata": {},
   "outputs": [
    {
     "data": {
      "text/plain": [
       "54.5"
      ]
     },
     "execution_count": 17,
     "metadata": {},
     "output_type": "execute_result"
    }
   ],
   "source": [
    "#여성의 평균나이\n",
    "df[df['sex']=='f']['age'].mean() # <- 판다스는 넘파이에서 나왔으므로 바로 넘파이의 함수 적용 가능"
   ]
  },
  {
   "cell_type": "code",
   "execution_count": 18,
   "metadata": {},
   "outputs": [
    {
     "data": {
      "text/plain": [
       "[['amy', 'coozer']]"
      ]
     },
     "execution_count": 18,
     "metadata": {},
     "output_type": "execute_result"
    }
   ],
   "source": [
    "#최고령자의 이름\n",
    "df[df['age']==max(df['age'])][['first_name','last_name']].values.tolist()"
   ]
  },
  {
   "cell_type": "markdown",
   "metadata": {},
   "source": [
    "# Comumn추가"
   ]
  },
  {
   "cell_type": "code",
   "execution_count": 19,
   "metadata": {},
   "outputs": [
    {
     "data": {
      "text/html": [
       "<div>\n",
       "<style scoped>\n",
       "    .dataframe tbody tr th:only-of-type {\n",
       "        vertical-align: middle;\n",
       "    }\n",
       "\n",
       "    .dataframe tbody tr th {\n",
       "        vertical-align: top;\n",
       "    }\n",
       "\n",
       "    .dataframe thead th {\n",
       "        text-align: right;\n",
       "    }\n",
       "</style>\n",
       "<table border=\"1\" class=\"dataframe\">\n",
       "  <thead>\n",
       "    <tr style=\"text-align: right;\">\n",
       "      <th></th>\n",
       "      <th>first_name</th>\n",
       "      <th>last_name</th>\n",
       "      <th>age</th>\n",
       "      <th>sex</th>\n",
       "      <th>pretestscore</th>\n",
       "      <th>posttestscore</th>\n",
       "      <th>addr</th>\n",
       "    </tr>\n",
       "  </thead>\n",
       "  <tbody>\n",
       "    <tr>\n",
       "      <td>a</td>\n",
       "      <td>jason</td>\n",
       "      <td>miller</td>\n",
       "      <td>42.0</td>\n",
       "      <td>m</td>\n",
       "      <td>4.0</td>\n",
       "      <td>24.0</td>\n",
       "      <td>seoul</td>\n",
       "    </tr>\n",
       "    <tr>\n",
       "      <td>b</td>\n",
       "      <td>NaN</td>\n",
       "      <td>NaN</td>\n",
       "      <td>NaN</td>\n",
       "      <td>NaN</td>\n",
       "      <td>NaN</td>\n",
       "      <td>NaN</td>\n",
       "      <td>incheon</td>\n",
       "    </tr>\n",
       "    <tr>\n",
       "      <td>c</td>\n",
       "      <td>tina</td>\n",
       "      <td>all</td>\n",
       "      <td>36.0</td>\n",
       "      <td>f</td>\n",
       "      <td>NaN</td>\n",
       "      <td>NaN</td>\n",
       "      <td>gwangju</td>\n",
       "    </tr>\n",
       "    <tr>\n",
       "      <td>d</td>\n",
       "      <td>jake</td>\n",
       "      <td>miler</td>\n",
       "      <td>24.0</td>\n",
       "      <td>m</td>\n",
       "      <td>2.0</td>\n",
       "      <td>62.0</td>\n",
       "      <td>pusan</td>\n",
       "    </tr>\n",
       "    <tr>\n",
       "      <td>e</td>\n",
       "      <td>amy</td>\n",
       "      <td>coozer</td>\n",
       "      <td>73.0</td>\n",
       "      <td>f</td>\n",
       "      <td>3.0</td>\n",
       "      <td>70.0</td>\n",
       "      <td>dajeon</td>\n",
       "    </tr>\n",
       "  </tbody>\n",
       "</table>\n",
       "</div>"
      ],
      "text/plain": [
       "  first_name last_name   age  sex  pretestscore  posttestscore     addr\n",
       "a      jason    miller  42.0    m           4.0           24.0    seoul\n",
       "b        NaN       NaN   NaN  NaN           NaN            NaN  incheon\n",
       "c       tina       all  36.0    f           NaN            NaN  gwangju\n",
       "d       jake     miler  24.0    m           2.0           62.0    pusan\n",
       "e        amy    coozer  73.0    f           3.0           70.0   dajeon"
      ]
     },
     "execution_count": 19,
     "metadata": {},
     "output_type": "execute_result"
    }
   ],
   "source": [
    "df['addr']=['seoul', 'incheon', 'gwangju','pusan','dajeon'] #새로운 칼럼으로 자료를 추가하면 데이터프레임이 연장됨\n",
    "df"
   ]
  },
  {
   "cell_type": "code",
   "execution_count": 20,
   "metadata": {},
   "outputs": [
    {
     "data": {
      "text/html": [
       "<div>\n",
       "<style scoped>\n",
       "    .dataframe tbody tr th:only-of-type {\n",
       "        vertical-align: middle;\n",
       "    }\n",
       "\n",
       "    .dataframe tbody tr th {\n",
       "        vertical-align: top;\n",
       "    }\n",
       "\n",
       "    .dataframe thead th {\n",
       "        text-align: right;\n",
       "    }\n",
       "</style>\n",
       "<table border=\"1\" class=\"dataframe\">\n",
       "  <thead>\n",
       "    <tr style=\"text-align: right;\">\n",
       "      <th></th>\n",
       "      <th>first_name</th>\n",
       "      <th>last_name</th>\n",
       "      <th>age</th>\n",
       "      <th>sex</th>\n",
       "      <th>pretestscore</th>\n",
       "      <th>posttestscore</th>\n",
       "      <th>addr</th>\n",
       "    </tr>\n",
       "  </thead>\n",
       "  <tbody>\n",
       "    <tr>\n",
       "      <td>a</td>\n",
       "      <td>jason</td>\n",
       "      <td>miller</td>\n",
       "      <td>42</td>\n",
       "      <td>m</td>\n",
       "      <td>4.0</td>\n",
       "      <td>24.0</td>\n",
       "      <td>seoul</td>\n",
       "    </tr>\n",
       "    <tr>\n",
       "      <td>b</td>\n",
       "      <td>NaN</td>\n",
       "      <td>NaN</td>\n",
       "      <td>24</td>\n",
       "      <td>NaN</td>\n",
       "      <td>NaN</td>\n",
       "      <td>NaN</td>\n",
       "      <td>incheon</td>\n",
       "    </tr>\n",
       "    <tr>\n",
       "      <td>c</td>\n",
       "      <td>tina</td>\n",
       "      <td>all</td>\n",
       "      <td>46</td>\n",
       "      <td>f</td>\n",
       "      <td>NaN</td>\n",
       "      <td>NaN</td>\n",
       "      <td>gwangju</td>\n",
       "    </tr>\n",
       "    <tr>\n",
       "      <td>d</td>\n",
       "      <td>jake</td>\n",
       "      <td>miler</td>\n",
       "      <td>46</td>\n",
       "      <td>m</td>\n",
       "      <td>2.0</td>\n",
       "      <td>62.0</td>\n",
       "      <td>pusan</td>\n",
       "    </tr>\n",
       "    <tr>\n",
       "      <td>e</td>\n",
       "      <td>amy</td>\n",
       "      <td>coozer</td>\n",
       "      <td>32</td>\n",
       "      <td>f</td>\n",
       "      <td>3.0</td>\n",
       "      <td>70.0</td>\n",
       "      <td>dajeon</td>\n",
       "    </tr>\n",
       "  </tbody>\n",
       "</table>\n",
       "</div>"
      ],
      "text/plain": [
       "  first_name last_name  age  sex  pretestscore  posttestscore     addr\n",
       "a      jason    miller   42    m           4.0           24.0    seoul\n",
       "b        NaN       NaN   24  NaN           NaN            NaN  incheon\n",
       "c       tina       all   46    f           NaN            NaN  gwangju\n",
       "d       jake     miler   46    m           2.0           62.0    pusan\n",
       "e        amy    coozer   32    f           3.0           70.0   dajeon"
      ]
     },
     "execution_count": 20,
     "metadata": {},
     "output_type": "execute_result"
    }
   ],
   "source": [
    "df['age']=[42,24,46,46,32] #기존 컬럼에 자료를 추가할 경우 기존 자료에 덮어써진다.\n",
    "df"
   ]
  },
  {
   "cell_type": "code",
   "execution_count": 21,
   "metadata": {
    "scrolled": true
   },
   "outputs": [
    {
     "data": {
      "text/html": [
       "<div>\n",
       "<style scoped>\n",
       "    .dataframe tbody tr th:only-of-type {\n",
       "        vertical-align: middle;\n",
       "    }\n",
       "\n",
       "    .dataframe tbody tr th {\n",
       "        vertical-align: top;\n",
       "    }\n",
       "\n",
       "    .dataframe thead th {\n",
       "        text-align: right;\n",
       "    }\n",
       "</style>\n",
       "<table border=\"1\" class=\"dataframe\">\n",
       "  <thead>\n",
       "    <tr style=\"text-align: right;\">\n",
       "      <th></th>\n",
       "      <th>first_name</th>\n",
       "      <th>last_name</th>\n",
       "      <th>age</th>\n",
       "      <th>sex</th>\n",
       "      <th>pretestscore</th>\n",
       "      <th>posttestscore</th>\n",
       "      <th>addr</th>\n",
       "    </tr>\n",
       "  </thead>\n",
       "  <tbody>\n",
       "    <tr>\n",
       "      <td>a</td>\n",
       "      <td>jason</td>\n",
       "      <td>miller</td>\n",
       "      <td>42</td>\n",
       "      <td>m</td>\n",
       "      <td>4.0</td>\n",
       "      <td>24.0</td>\n",
       "      <td>seoul</td>\n",
       "    </tr>\n",
       "    <tr>\n",
       "      <td>b</td>\n",
       "      <td>NaN</td>\n",
       "      <td>NaN</td>\n",
       "      <td>24</td>\n",
       "      <td>f</td>\n",
       "      <td>NaN</td>\n",
       "      <td>NaN</td>\n",
       "      <td>incheon</td>\n",
       "    </tr>\n",
       "    <tr>\n",
       "      <td>c</td>\n",
       "      <td>tina</td>\n",
       "      <td>all</td>\n",
       "      <td>46</td>\n",
       "      <td>f</td>\n",
       "      <td>NaN</td>\n",
       "      <td>NaN</td>\n",
       "      <td>gwangju</td>\n",
       "    </tr>\n",
       "    <tr>\n",
       "      <td>d</td>\n",
       "      <td>jake</td>\n",
       "      <td>miler</td>\n",
       "      <td>46</td>\n",
       "      <td>m</td>\n",
       "      <td>2.0</td>\n",
       "      <td>62.0</td>\n",
       "      <td>pusan</td>\n",
       "    </tr>\n",
       "    <tr>\n",
       "      <td>e</td>\n",
       "      <td>amy</td>\n",
       "      <td>coozer</td>\n",
       "      <td>32</td>\n",
       "      <td>f</td>\n",
       "      <td>3.0</td>\n",
       "      <td>70.0</td>\n",
       "      <td>dajeon</td>\n",
       "    </tr>\n",
       "  </tbody>\n",
       "</table>\n",
       "</div>"
      ],
      "text/plain": [
       "  first_name last_name  age sex  pretestscore  posttestscore     addr\n",
       "a      jason    miller   42   m           4.0           24.0    seoul\n",
       "b        NaN       NaN   24   f           NaN            NaN  incheon\n",
       "c       tina       all   46   f           NaN            NaN  gwangju\n",
       "d       jake     miler   46   m           2.0           62.0    pusan\n",
       "e        amy    coozer   32   f           3.0           70.0   dajeon"
      ]
     },
     "execution_count": 21,
     "metadata": {},
     "output_type": "execute_result"
    }
   ],
   "source": [
    "df.iloc[1,3] = 'f' # 데이터프레임에서도 row에 직접 접근하여 데이터를 수정할 수 있다.\n",
    "df"
   ]
  },
  {
   "cell_type": "markdown",
   "metadata": {},
   "source": [
    "# .copy() 해당 자료를 복사한다."
   ]
  },
  {
   "cell_type": "markdown",
   "metadata": {},
   "source": [
    "# inplace=True\n",
    "##대부분의 함수는 원본에 영향을 미치지 않지만 inplace=True 옵션을 주면 원본을 변경한다."
   ]
  },
  {
   "cell_type": "markdown",
   "metadata": {},
   "source": [
    "# rename(columns={'x':'x1', 'y':'y1',....})"
   ]
  },
  {
   "cell_type": "markdown",
   "metadata": {},
   "source": [
    "# drop()계열 함수는 기존 함수와  axis 방향이 반대이다."
   ]
  },
  {
   "cell_type": "markdown",
   "metadata": {},
   "source": [
    "## 정리한 자료는 프로그램 종료시 사라지므로 파일로 저장하여 보관한다."
   ]
  },
  {
   "cell_type": "code",
   "execution_count": 22,
   "metadata": {},
   "outputs": [
    {
     "data": {
      "text/html": [
       "<div>\n",
       "<style scoped>\n",
       "    .dataframe tbody tr th:only-of-type {\n",
       "        vertical-align: middle;\n",
       "    }\n",
       "\n",
       "    .dataframe tbody tr th {\n",
       "        vertical-align: top;\n",
       "    }\n",
       "\n",
       "    .dataframe thead th {\n",
       "        text-align: right;\n",
       "    }\n",
       "</style>\n",
       "<table border=\"1\" class=\"dataframe\">\n",
       "  <thead>\n",
       "    <tr style=\"text-align: right;\">\n",
       "      <th></th>\n",
       "      <th>Unnamed: 0</th>\n",
       "      <th>first_name</th>\n",
       "      <th>last_name</th>\n",
       "      <th>age</th>\n",
       "      <th>sex</th>\n",
       "      <th>pretestscore</th>\n",
       "      <th>posttestscore</th>\n",
       "      <th>addr</th>\n",
       "    </tr>\n",
       "  </thead>\n",
       "  <tbody>\n",
       "    <tr>\n",
       "      <td>0</td>\n",
       "      <td>a</td>\n",
       "      <td>jason</td>\n",
       "      <td>miller</td>\n",
       "      <td>42</td>\n",
       "      <td>m</td>\n",
       "      <td>4.0</td>\n",
       "      <td>24.0</td>\n",
       "      <td>seoul</td>\n",
       "    </tr>\n",
       "    <tr>\n",
       "      <td>1</td>\n",
       "      <td>b</td>\n",
       "      <td>NaN</td>\n",
       "      <td>NaN</td>\n",
       "      <td>24</td>\n",
       "      <td>f</td>\n",
       "      <td>NaN</td>\n",
       "      <td>NaN</td>\n",
       "      <td>incheon</td>\n",
       "    </tr>\n",
       "    <tr>\n",
       "      <td>2</td>\n",
       "      <td>c</td>\n",
       "      <td>tina</td>\n",
       "      <td>all</td>\n",
       "      <td>46</td>\n",
       "      <td>f</td>\n",
       "      <td>NaN</td>\n",
       "      <td>NaN</td>\n",
       "      <td>gwangju</td>\n",
       "    </tr>\n",
       "    <tr>\n",
       "      <td>3</td>\n",
       "      <td>d</td>\n",
       "      <td>jake</td>\n",
       "      <td>miler</td>\n",
       "      <td>46</td>\n",
       "      <td>m</td>\n",
       "      <td>2.0</td>\n",
       "      <td>62.0</td>\n",
       "      <td>pusan</td>\n",
       "    </tr>\n",
       "    <tr>\n",
       "      <td>4</td>\n",
       "      <td>e</td>\n",
       "      <td>amy</td>\n",
       "      <td>coozer</td>\n",
       "      <td>32</td>\n",
       "      <td>f</td>\n",
       "      <td>3.0</td>\n",
       "      <td>70.0</td>\n",
       "      <td>dajeon</td>\n",
       "    </tr>\n",
       "  </tbody>\n",
       "</table>\n",
       "</div>"
      ],
      "text/plain": [
       "  Unnamed: 0 first_name last_name  age sex  pretestscore  posttestscore  \\\n",
       "0          a      jason    miller   42   m           4.0           24.0   \n",
       "1          b        NaN       NaN   24   f           NaN            NaN   \n",
       "2          c       tina       all   46   f           NaN            NaN   \n",
       "3          d       jake     miler   46   m           2.0           62.0   \n",
       "4          e        amy    coozer   32   f           3.0           70.0   \n",
       "\n",
       "      addr  \n",
       "0    seoul  \n",
       "1  incheon  \n",
       "2  gwangju  \n",
       "3    pusan  \n",
       "4   dajeon  "
      ]
     },
     "execution_count": 22,
     "metadata": {},
     "output_type": "execute_result"
    }
   ],
   "source": [
    "df.to_csv('test.csv')\n",
    "pd.read_csv('test.csv')"
   ]
  },
  {
   "cell_type": "code",
   "execution_count": 23,
   "metadata": {},
   "outputs": [
    {
     "data": {
      "text/html": [
       "<div>\n",
       "<style scoped>\n",
       "    .dataframe tbody tr th:only-of-type {\n",
       "        vertical-align: middle;\n",
       "    }\n",
       "\n",
       "    .dataframe tbody tr th {\n",
       "        vertical-align: top;\n",
       "    }\n",
       "\n",
       "    .dataframe thead th {\n",
       "        text-align: right;\n",
       "    }\n",
       "</style>\n",
       "<table border=\"1\" class=\"dataframe\">\n",
       "  <thead>\n",
       "    <tr style=\"text-align: right;\">\n",
       "      <th></th>\n",
       "      <th>first_name</th>\n",
       "      <th>last_name</th>\n",
       "      <th>age</th>\n",
       "      <th>sex</th>\n",
       "      <th>pretestscore</th>\n",
       "      <th>posttestscore</th>\n",
       "      <th>addr</th>\n",
       "    </tr>\n",
       "  </thead>\n",
       "  <tbody>\n",
       "    <tr>\n",
       "      <td>a</td>\n",
       "      <td>jason</td>\n",
       "      <td>miller</td>\n",
       "      <td>42</td>\n",
       "      <td>m</td>\n",
       "      <td>4.0</td>\n",
       "      <td>24.0</td>\n",
       "      <td>seoul</td>\n",
       "    </tr>\n",
       "    <tr>\n",
       "      <td>b</td>\n",
       "      <td>NaN</td>\n",
       "      <td>NaN</td>\n",
       "      <td>24</td>\n",
       "      <td>f</td>\n",
       "      <td>NaN</td>\n",
       "      <td>NaN</td>\n",
       "      <td>incheon</td>\n",
       "    </tr>\n",
       "    <tr>\n",
       "      <td>c</td>\n",
       "      <td>tina</td>\n",
       "      <td>all</td>\n",
       "      <td>46</td>\n",
       "      <td>f</td>\n",
       "      <td>NaN</td>\n",
       "      <td>NaN</td>\n",
       "      <td>gwangju</td>\n",
       "    </tr>\n",
       "    <tr>\n",
       "      <td>d</td>\n",
       "      <td>jake</td>\n",
       "      <td>miler</td>\n",
       "      <td>46</td>\n",
       "      <td>m</td>\n",
       "      <td>2.0</td>\n",
       "      <td>62.0</td>\n",
       "      <td>pusan</td>\n",
       "    </tr>\n",
       "    <tr>\n",
       "      <td>e</td>\n",
       "      <td>amy</td>\n",
       "      <td>coozer</td>\n",
       "      <td>32</td>\n",
       "      <td>f</td>\n",
       "      <td>3.0</td>\n",
       "      <td>70.0</td>\n",
       "      <td>dajeon</td>\n",
       "    </tr>\n",
       "  </tbody>\n",
       "</table>\n",
       "</div>"
      ],
      "text/plain": [
       "  first_name last_name  age sex  pretestscore  posttestscore     addr\n",
       "a      jason    miller   42   m           4.0           24.0    seoul\n",
       "b        NaN       NaN   24   f           NaN            NaN  incheon\n",
       "c       tina       all   46   f           NaN            NaN  gwangju\n",
       "d       jake     miler   46   m           2.0           62.0    pusan\n",
       "e        amy    coozer   32   f           3.0           70.0   dajeon"
      ]
     },
     "execution_count": 23,
     "metadata": {},
     "output_type": "execute_result"
    }
   ],
   "source": [
    "pd.read_csv('test.csv', index_col=0)"
   ]
  },
  {
   "cell_type": "code",
   "execution_count": 75,
   "metadata": {},
   "outputs": [
    {
     "data": {
      "text/plain": [
       "array([-0.9650799 ,  0.11936089, -0.38640894, -0.17512884,  0.88785363])"
      ]
     },
     "execution_count": 75,
     "metadata": {},
     "output_type": "execute_result"
    }
   ],
   "source": [
    "# 5개의 랜덤한 난수 생성\n",
    "np.random.randn(5)"
   ]
  },
  {
   "cell_type": "code",
   "execution_count": 76,
   "metadata": {},
   "outputs": [
    {
     "data": {
      "text/plain": [
       "2"
      ]
     },
     "execution_count": 76,
     "metadata": {},
     "output_type": "execute_result"
    }
   ],
   "source": [
    "# 5개의 랜덤한 정수인 난수 생성\n",
    "np.random.randint(5)"
   ]
  },
  {
   "cell_type": "code",
   "execution_count": 77,
   "metadata": {},
   "outputs": [
    {
     "data": {
      "text/plain": [
       "array([0.50888627, 0.98473997, 0.59589671, 0.95058314, 0.54485483])"
      ]
     },
     "execution_count": 77,
     "metadata": {},
     "output_type": "execute_result"
    }
   ],
   "source": [
    "# 5개의 랜덤한 양수인 난수 생성\n",
    "np.random.sample((5))"
   ]
  },
  {
   "cell_type": "markdown",
   "metadata": {},
   "source": [
    "# 결측치처리(Null값 처리)"
   ]
  },
  {
   "cell_type": "code",
   "execution_count": 78,
   "metadata": {},
   "outputs": [
    {
     "data": {
      "text/html": [
       "<div>\n",
       "<style scoped>\n",
       "    .dataframe tbody tr th:only-of-type {\n",
       "        vertical-align: middle;\n",
       "    }\n",
       "\n",
       "    .dataframe tbody tr th {\n",
       "        vertical-align: top;\n",
       "    }\n",
       "\n",
       "    .dataframe thead th {\n",
       "        text-align: right;\n",
       "    }\n",
       "</style>\n",
       "<table border=\"1\" class=\"dataframe\">\n",
       "  <thead>\n",
       "    <tr style=\"text-align: right;\">\n",
       "      <th></th>\n",
       "      <th>one</th>\n",
       "      <th>two</th>\n",
       "      <th>three</th>\n",
       "      <th>four</th>\n",
       "      <th>five</th>\n",
       "    </tr>\n",
       "  </thead>\n",
       "  <tbody>\n",
       "    <tr>\n",
       "      <td>a</td>\n",
       "      <td>0.990017</td>\n",
       "      <td>0.486581</td>\n",
       "      <td>0.485646</td>\n",
       "      <td>0.028636</td>\n",
       "      <td>0.029068</td>\n",
       "    </tr>\n",
       "    <tr>\n",
       "      <td>b</td>\n",
       "      <td>0.448107</td>\n",
       "      <td>NaN</td>\n",
       "      <td>0.087180</td>\n",
       "      <td>0.533309</td>\n",
       "      <td>0.668134</td>\n",
       "    </tr>\n",
       "    <tr>\n",
       "      <td>c</td>\n",
       "      <td>0.532687</td>\n",
       "      <td>NaN</td>\n",
       "      <td>NaN</td>\n",
       "      <td>NaN</td>\n",
       "      <td>0.645494</td>\n",
       "    </tr>\n",
       "    <tr>\n",
       "      <td>d</td>\n",
       "      <td>0.445428</td>\n",
       "      <td>0.455935</td>\n",
       "      <td>0.180045</td>\n",
       "      <td>0.972103</td>\n",
       "      <td>0.679919</td>\n",
       "    </tr>\n",
       "    <tr>\n",
       "      <td>e</td>\n",
       "      <td>0.341019</td>\n",
       "      <td>0.153079</td>\n",
       "      <td>0.902622</td>\n",
       "      <td>0.845065</td>\n",
       "      <td>0.101843</td>\n",
       "    </tr>\n",
       "  </tbody>\n",
       "</table>\n",
       "</div>"
      ],
      "text/plain": [
       "        one       two     three      four      five\n",
       "a  0.990017  0.486581  0.485646  0.028636  0.029068\n",
       "b  0.448107       NaN  0.087180  0.533309  0.668134\n",
       "c  0.532687       NaN       NaN       NaN  0.645494\n",
       "d  0.445428  0.455935  0.180045  0.972103  0.679919\n",
       "e  0.341019  0.153079  0.902622  0.845065  0.101843"
      ]
     },
     "execution_count": 78,
     "metadata": {},
     "output_type": "execute_result"
    }
   ],
   "source": [
    "df = pd.DataFrame( np.random.rand(5,5), columns = ['one', 'two', 'three', 'four', 'five'], index= ['a','b','c','d','e'])\n",
    "df.iloc[1:3,1] = np.nan\n",
    "df.iloc[2,2:4] = np.nan\n",
    "df"
   ]
  },
  {
   "cell_type": "markdown",
   "metadata": {},
   "source": [
    "# isnull()\n",
    "null값인지 아닌지 true/false로 반환한다.\n",
    "# isnull().sum()\n",
    "true =1 false=0이므로 true값의 갯수 =null값의 갯수가 반환된다."
   ]
  },
  {
   "cell_type": "code",
   "execution_count": 79,
   "metadata": {},
   "outputs": [
    {
     "name": "stdout",
     "output_type": "stream",
     "text": [
      "one      0\n",
      "two      2\n",
      "three    1\n",
      "four     1\n",
      "five     0\n",
      "dtype: int64\n",
      "a    0\n",
      "b    1\n",
      "c    3\n",
      "d    0\n",
      "e    0\n",
      "dtype: int64\n"
     ]
    }
   ],
   "source": [
    "print(df.isnull().sum(axis=0))\n",
    "print(df.isnull().sum(axis=1))"
   ]
  },
  {
   "cell_type": "markdown",
   "metadata": {},
   "source": [
    "# null값 처리\n",
    "# 1.null값을 포함한 행이나 컬럼을 삭제=>dropna()\n",
    "## dropna(axis=0(기본값)) : null값이 포함된 데이터 삭제(가로)\n",
    "## dropna(axis=1) : null값이 포함된 컬럼 삭제(세로)\n",
    "## dropna(thresh=x) : null값이 아닌 데이터(제대로 된 값)이 x개 이상이면 삭제하지 않음\n",
    "# 2.null값을 다른 값으로 대체=> fillna()\n",
    "### fillna(method='ffill') : 바로 앞의 값을 대입\n",
    "### fillna(method='bfill') : 바로 뒤의 값을 대입"
   ]
  },
  {
   "cell_type": "markdown",
   "metadata": {},
   "source": [
    "# groupby()\n",
    "## Groupby => 동일한 데이터별로 데이터를 묶는다."
   ]
  },
  {
   "cell_type": "markdown",
   "metadata": {},
   "source": [
    "# .agg()특정 그룹이나 컬럼에 함수적용 <=> .apply() 모든 그룹,컬럼에 함수적용"
   ]
  },
  {
   "cell_type": "code",
   "execution_count": 80,
   "metadata": {},
   "outputs": [
    {
     "name": "stdout",
     "output_type": "stream",
     "text": [
      "768.0\n",
      "========================================\n",
      "Team\n",
      "Devils    768.000000\n",
      "Giant     812.000000\n",
      "Kings     761.666667\n",
      "Riders    762.250000\n",
      "Royals    752.500000\n",
      "Name: Points, dtype: float64\n",
      "            Rank         Year      Points\n",
      "Team                                     \n",
      "Devils  2.500000  2014.500000  768.000000\n",
      "Giant   4.000000  2015.000000  812.000000\n",
      "Kings   1.666667  2015.666667  761.666667\n",
      "Riders  1.750000  2015.500000  762.250000\n",
      "Royals  2.500000  2014.500000  752.500000\n",
      "========================================\n",
      "            Points\n",
      "Team              \n",
      "Devils  768.000000\n",
      "Giant   812.000000\n",
      "Kings   761.666667\n",
      "Riders  762.250000\n",
      "Royals  752.500000\n"
     ]
    }
   ],
   "source": [
    "data = {'Team':['Riders','Riders','Devils', 'Devils', 'Kings','Giant','Kings','Kings','Riders', 'Royals', 'Royals', 'Riders'],\\\n",
    "       'Rank':[1,2,2,3,3,4,1,1,2,4,1,2], 'Year':[2014,2015, 2014,2015, 2014,2015,2016,2017,2016, 2014,2015,2017],\\\n",
    "       'Points':[876,789,863,673,741,812,756,788,694,701,804,690]}\n",
    "df = pd.DataFrame(data)\n",
    "#Devils의 포인트 평균\n",
    "print(df[df['Team']=='Devils']['Points'].mean())\n",
    "print('='*40)\n",
    "# 팀별 포인트 평균\n",
    "print(df.groupby('Team')['Points'].mean())\n",
    "# 팀별로 묶인 그룹 생성\n",
    "gr1 = df.groupby('Team')\n",
    "gr1.get_group('Kings')\n",
    "# 그룹에 함수 적용\n",
    "print(gr1.agg(np.mean))\n",
    "print('='*40)\n",
    "# 특정 컬럼에만 함수 적용\n",
    "print(gr1.agg({'Points':np.mean}))"
   ]
  },
  {
   "cell_type": "markdown",
   "metadata": {},
   "source": [
    "# info() 데이터프레임의 갯수, null값 유무 등 간략한 구성 정보들을 가져온다\n",
    "# describe() 데이터 프레임의 갯수, 평균등 간략한 통계정보들을 가져온다.\n",
    "# head(x) 앞쪽 x 개의 데이터를 가져온다. 기본5\n",
    "# tail(x) 뒤쪽 x 개의 데이터를 가져온다. 기본5\n",
    "# unique() 컬럼내에서 중복값을 제외한 값을 출력한다."
   ]
  },
  {
   "cell_type": "code",
   "execution_count": 2,
   "metadata": {
    "collapsed": true
   },
   "outputs": [
    {
     "name": "stdout",
     "output_type": "stream",
     "text": [
      "<class 'pandas.core.frame.DataFrame'>\n",
      "RangeIndex: 830 entries, 0 to 829\n",
      "Data columns (total 7 columns):\n",
      "index           830 non-null int64\n",
      "date            830 non-null object\n",
      "duration        830 non-null float64\n",
      "item            830 non-null object\n",
      "month           830 non-null object\n",
      "network         830 non-null object\n",
      "network_type    830 non-null object\n",
      "dtypes: float64(1), int64(1), object(5)\n",
      "memory usage: 45.5+ KB\n",
      "None\n",
      "========================================\n",
      "            index      duration\n",
      "count  830.000000    830.000000\n",
      "mean   414.500000    117.804036\n",
      "std    239.744656    444.129560\n",
      "min      0.000000      1.000000\n",
      "25%    207.250000      1.000000\n",
      "50%    414.500000     24.500000\n",
      "75%    621.750000     55.000000\n",
      "max    829.000000  10528.000000\n",
      "========================================\n",
      "   index            date  duration  item    month   network network_type\n",
      "0      0  15/10/14 06:58    34.429  data  2014-11      data         data\n",
      "1      1  15/10/14 06:58    13.000  call  2014-11  Vodafone       mobile\n",
      "2      2  15/10/14 14:46    23.000  call  2014-11    Meteor       mobile\n",
      "3      3  15/10/14 14:48     4.000  call  2014-11     Tesco       mobile\n",
      "4      4  15/10/14 17:27     4.000  call  2014-11     Tesco       mobile\n",
      "========================================\n",
      "     index            date  duration  item    month network network_type\n",
      "827    827  13/03/15 06:58    34.429  data  2015-03    data         data\n",
      "828    828  14/03/15 00:13     1.000   sms  2015-03   world        world\n",
      "829    829  14/03/15 00:16     1.000   sms  2015-03   world        world\n",
      "========================================\n",
      "['data' 'call' 'sms']\n"
     ]
    }
   ],
   "source": [
    "df = pd.read_csv('./csvfiles/phone_data.csv')\n",
    "print(df.info())\n",
    "print('='*40)\n",
    "print(df.describe())\n",
    "print('='*40)\n",
    "print(df.head())\n",
    "print('='*40)\n",
    "print(df.tail(3))\n",
    "print('='*40)\n",
    "print(df['item'].unique())"
   ]
  },
  {
   "cell_type": "code",
   "execution_count": 82,
   "metadata": {},
   "outputs": [
    {
     "name": "stdout",
     "output_type": "stream",
     "text": [
      "item\n",
      "call    237.940722\n",
      "data     34.429000\n",
      "sms       1.000000\n",
      "Name: duration, dtype: float64\n",
      "item\n",
      "call    92321.00\n",
      "data     5164.35\n",
      "sms       292.00\n",
      "Name: duration, dtype: float64\n"
     ]
    }
   ],
   "source": [
    "# 아이템별 사용 시간의 평균\n",
    "\n",
    "print(df.groupby('item')['duration'].mean())\n",
    "print(df.groupby('item')['duration'].sum())"
   ]
  },
  {
   "cell_type": "markdown",
   "metadata": {},
   "source": [
    "# 시간대별 이용건수\n",
    "# 시간대별 평균이용시간\n",
    "\n",
    "## 1. 시간대를 뽑아낸다. -> df['컬럼명'].values[i].split()[1][:2]\n",
    "## 2. 뽑아낸 시간대를 리스트로 저장한다. -> for문\n",
    "## 3. 저장한 리스트를 데이터프레임에 컬럼으로 추가한다.\n",
    "## 4. 추가한 컬럼으로 묶는다. -> groupby()\n",
    "## 5. 묶은 데이터로 계산"
   ]
  },
  {
   "cell_type": "code",
   "execution_count": 7,
   "metadata": {},
   "outputs": [
    {
     "data": {
      "image/png": "[encoded data removed]",
      "text/plain": [
       "<Figure size 432x288 with 1 Axes>"
      ]
     },
     "metadata": {},
     "output_type": "display_data"
    }
   ],
   "source": [
    "temp = []\n",
    "for t in df['date']:\n",
    "    temp.append(t.split()[1][:2])\n",
    "\n",
    "\n",
    "df['hour'] = temp\n",
    "\n",
    "df.groupby('hour')['date'].count()\n",
    "df.groupby('hour')['duration'].mean()\n",
    "df.groupby('hour')['duration'].count().plot(kind='pie')\n",
    "plt.savefig('Duration_time.jpg')"
   ]
  },
  {
   "cell_type": "code",
   "execution_count": 83,
   "metadata": {},
   "outputs": [
    {
     "data": {
      "text/plain": [
       "month\n",
       "2014-11    25547.0\n",
       "2014-12    13561.0\n",
       "2015-01    17070.0\n",
       "2015-02    14416.0\n",
       "2015-03    21727.0\n",
       "Name: duration, dtype: float64"
      ]
     },
     "execution_count": 83,
     "metadata": {},
     "output_type": "execute_result"
    }
   ],
   "source": [
    "# call data의 월별 사용시간의 합계\n",
    "# 1. call data 추출\n",
    "# 2. call data를 월별로 묶어줌\n",
    "# 3. 사용시간 합\n",
    "\n",
    "df[df['item']=='call'].groupby('month')['duration'].sum()"
   ]
  },
  {
   "cell_type": "code",
   "execution_count": 84,
   "metadata": {},
   "outputs": [
    {
     "data": {
      "text/plain": [
       "<matplotlib.axes._subplots.AxesSubplot at 0x212e23eaf08>"
      ]
     },
     "execution_count": 84,
     "metadata": {},
     "output_type": "execute_result"
    },
    {
     "data": {
      "image/png": "[encoded data removed]",
      "text/plain": [
       "<Figure size 360x360 with 1 Axes>"
      ]
     },
     "metadata": {
      "needs_background": "light"
     },
     "output_type": "display_data"
    }
   ],
   "source": [
    "plt.figure(figsize=(5,5))\n",
    "df[df['item']=='call'].groupby('month')['duration'].sum().plot(kind='bar', rot=45)"
   ]
  },
  {
   "cell_type": "code",
   "execution_count": 8,
   "metadata": {},
   "outputs": [
    {
     "data": {
      "text/plain": [
       "<matplotlib.axes._subplots.AxesSubplot at 0x824df08>"
      ]
     },
     "execution_count": 8,
     "metadata": {},
     "output_type": "execute_result"
    },
    {
     "data": {
      "image/png": "[encoded data removed]",
      "text/plain": [
       "<Figure size 432x288 with 1 Axes>"
      ]
     },
     "metadata": {
      "needs_background": "light"
     },
     "output_type": "display_data"
    }
   ],
   "source": [
    "df.groupby('hour')['duration'].mean().plot(kind='bar')"
   ]
  },
  {
   "cell_type": "markdown",
   "metadata": {},
   "source": [
    "# multi_groupby => multi index, Hireachical index"
   ]
  },
  {
   "cell_type": "code",
   "execution_count": 9,
   "metadata": {},
   "outputs": [
    {
     "data": {
      "text/plain": [
       "month    item\n",
       "2014-11  call    25547.000\n",
       "         data      998.441\n",
       "         sms        94.000\n",
       "2014-12  call    13561.000\n",
       "         data     1032.870\n",
       "         sms        48.000\n",
       "2015-01  call    17070.000\n",
       "         data     1067.299\n",
       "         sms        86.000\n",
       "2015-02  call    14416.000\n",
       "         data     1067.299\n",
       "         sms        39.000\n",
       "2015-03  call    21727.000\n",
       "         data      998.441\n",
       "         sms        25.000\n",
       "Name: duration, dtype: float64"
      ]
     },
     "execution_count": 9,
     "metadata": {},
     "output_type": "execute_result"
    }
   ],
   "source": [
    "df.groupby(['month','item'])['duration'].sum()"
   ]
  },
  {
   "cell_type": "markdown",
   "metadata": {},
   "source": [
    "## 멀티인덱스의 값에 접근하기"
   ]
  },
  {
   "cell_type": "code",
   "execution_count": 30,
   "metadata": {},
   "outputs": [
    {
     "name": "stdout",
     "output_type": "stream",
     "text": [
      "month    item\n",
      "2014-11  call    25547.000\n",
      "         data      998.441\n",
      "         sms        94.000\n",
      "2014-12  call    13561.000\n",
      "         data     1032.870\n",
      "Name: duration, dtype: float64\n",
      "================================================================================\n",
      "25547.0\n"
     ]
    }
   ],
   "source": [
    "df1 = df.groupby(['month','item'])['duration'].sum()\n",
    "print(df1.head())\n",
    "print('='*80)\n",
    "print(df1.loc[('2014-11','call')])"
   ]
  },
  {
   "cell_type": "markdown",
   "metadata": {},
   "source": [
    "# 멀티인덱스 자료 만들기 -> 데이터프레임에서 .groupby(['컬럼1','컬럼2'])"
   ]
  },
  {
   "cell_type": "markdown",
   "metadata": {},
   "source": [
    "# 멀티인덱스자료.xs('인덱스', level=x)\n",
    "x에는 멀티인덱스의 순위가 들어간다. <br>\n",
    "ex) 멀티인덱스가 2개라면 첫번째 멀티인덱스는 level=0, 두번째 멀티인덱스는 level=1이다"
   ]
  },
  {
   "cell_type": "code",
   "execution_count": 33,
   "metadata": {},
   "outputs": [
    {
     "data": {
      "text/plain": [
       "item\n",
       "call    13561.00\n",
       "data     1032.87\n",
       "sms        48.00\n",
       "Name: duration, dtype: float64"
      ]
     },
     "execution_count": 33,
     "metadata": {},
     "output_type": "execute_result"
    }
   ],
   "source": [
    "df1.xs('2014-12')"
   ]
  },
  {
   "cell_type": "code",
   "execution_count": 35,
   "metadata": {},
   "outputs": [
    {
     "data": {
      "text/plain": [
       "month\n",
       "2014-11    25547.0\n",
       "2014-12    13561.0\n",
       "2015-01    17070.0\n",
       "2015-02    14416.0\n",
       "2015-03    21727.0\n",
       "Name: duration, dtype: float64"
      ]
     },
     "execution_count": 35,
     "metadata": {},
     "output_type": "execute_result"
    }
   ],
   "source": [
    "df1.xs('call', level=1)"
   ]
  },
  {
   "cell_type": "code",
   "execution_count": 38,
   "metadata": {},
   "outputs": [
    {
     "data": {
      "text/plain": [
       "month\n",
       "2014-11    25547.0\n",
       "2014-12    13561.0\n",
       "2015-01    17070.0\n",
       "2015-02    14416.0\n",
       "2015-03    21727.0\n",
       "Name: duration, dtype: float64"
      ]
     },
     "execution_count": 38,
     "metadata": {},
     "output_type": "execute_result"
    }
   ],
   "source": [
    "df2 = df.groupby(['item','month'])['duration'].sum()\n",
    "df2.xs('call') # <== item을 최상위 인덱스로 주었으므로 level=0(생략)으로 접근가능하다."
   ]
  },
  {
   "cell_type": "markdown",
   "metadata": {},
   "source": [
    "# 컬럼순서 바꾸기\n",
    "컬럼순서를 바꿔서 출력한 뒤 그것을 저장한다."
   ]
  },
  {
   "cell_type": "code",
   "execution_count": 46,
   "metadata": {
    "collapsed": true
   },
   "outputs": [
    {
     "name": "stdout",
     "output_type": "stream",
     "text": [
      "Index(['index', 'date', 'duration', 'item', 'month', 'network', 'network_type',\n",
      "       'hour'],\n",
      "      dtype='object')\n",
      "    hour  item            date  duration  index   network    month  \\\n",
      "0     06  data  15/10/14 06:58    34.429      0      data  2014-11   \n",
      "1     06  call  15/10/14 06:58    13.000      1  Vodafone  2014-11   \n",
      "2     14  call  15/10/14 14:46    23.000      2    Meteor  2014-11   \n",
      "3     14  call  15/10/14 14:48     4.000      3     Tesco  2014-11   \n",
      "4     17  call  15/10/14 17:27     4.000      4     Tesco  2014-11   \n",
      "..   ...   ...             ...       ...    ...       ...      ...   \n",
      "825   00   sms  13/03/15 00:38     1.000    825     world  2015-03   \n",
      "826   00   sms  13/03/15 00:39     1.000    826  Vodafone  2015-03   \n",
      "827   06  data  13/03/15 06:58    34.429    827      data  2015-03   \n",
      "828   00   sms  14/03/15 00:13     1.000    828     world  2015-03   \n",
      "829   00   sms  14/03/15 00:16     1.000    829     world  2015-03   \n",
      "\n",
      "    network_type  \n",
      "0           data  \n",
      "1         mobile  \n",
      "2         mobile  \n",
      "3         mobile  \n",
      "4         mobile  \n",
      "..           ...  \n",
      "825        world  \n",
      "826       mobile  \n",
      "827         data  \n",
      "828        world  \n",
      "829        world  \n",
      "\n",
      "[830 rows x 8 columns]\n"
     ]
    }
   ],
   "source": [
    "print(df.columns)\n",
    "print(df[['hour','item','date','duration',\\\n",
    "          'index','network','month','network_type']]) #<== 이결과를 다시 저장하면 컬럼 순서가 바뀌는것과 같다."
   ]
  },
  {
   "cell_type": "markdown",
   "metadata": {},
   "source": [
    "# .pop('컬럼명')\n",
    "컬럼이 삭제되고 삭제된 값을 리턴해준다 => 삭제된 값을 저장해놓을 수 있다."
   ]
  },
  {
   "cell_type": "code",
   "execution_count": 2,
   "metadata": {},
   "outputs": [],
   "source": [
    "sp500 = pd.read_csv(\"./lp/data/sp500.csv\",index_col='Symbol',usecols=[0, 2, 3, 7])"
   ]
  },
  {
   "cell_type": "code",
   "execution_count": 3,
   "metadata": {},
   "outputs": [
    {
     "data": {
      "text/html": [
       "<div>\n",
       "<style scoped>\n",
       "    .dataframe tbody tr th:only-of-type {\n",
       "        vertical-align: middle;\n",
       "    }\n",
       "\n",
       "    .dataframe tbody tr th {\n",
       "        vertical-align: top;\n",
       "    }\n",
       "\n",
       "    .dataframe thead th {\n",
       "        text-align: right;\n",
       "    }\n",
       "</style>\n",
       "<table border=\"1\" class=\"dataframe\">\n",
       "  <thead>\n",
       "    <tr style=\"text-align: right;\">\n",
       "      <th></th>\n",
       "      <th>Price</th>\n",
       "      <th>Book Value</th>\n",
       "    </tr>\n",
       "    <tr>\n",
       "      <th>Symbol</th>\n",
       "      <th></th>\n",
       "      <th></th>\n",
       "    </tr>\n",
       "  </thead>\n",
       "  <tbody>\n",
       "    <tr>\n",
       "      <td>MMM</td>\n",
       "      <td>141.14</td>\n",
       "      <td>26.668</td>\n",
       "    </tr>\n",
       "    <tr>\n",
       "      <td>ABT</td>\n",
       "      <td>39.60</td>\n",
       "      <td>15.573</td>\n",
       "    </tr>\n",
       "  </tbody>\n",
       "</table>\n",
       "</div>"
      ],
      "text/plain": [
       "         Price  Book Value\n",
       "Symbol                    \n",
       "MMM     141.14      26.668\n",
       "ABT      39.60      15.573"
      ]
     },
     "execution_count": 3,
     "metadata": {},
     "output_type": "execute_result"
    }
   ],
   "source": [
    "copy = sp500.copy()\n",
    "popped = copy.pop('Sector')\n",
    "copy[:2]"
   ]
  },
  {
   "cell_type": "markdown",
   "metadata": {},
   "source": [
    "# unstack()\n",
    "멀티인덱스를 잡은 상태에서 언스택함수를 적용하면 DataFrame 형태로 출력가능하다\n",
    "# .stack() 컬럼이 인덱스로 전환된다. 인덱스-> 멀티인덱스 -> 더 깊어짐\n",
    "데이터프레임에 스택함수를 적용하면 멀티인덱스 상태로 출력된다."
   ]
  },
  {
   "cell_type": "code",
   "execution_count": 4,
   "metadata": {},
   "outputs": [
    {
     "data": {
      "text/html": [
       "<div>\n",
       "<style scoped>\n",
       "    .dataframe tbody tr th:only-of-type {\n",
       "        vertical-align: middle;\n",
       "    }\n",
       "\n",
       "    .dataframe tbody tr th {\n",
       "        vertical-align: top;\n",
       "    }\n",
       "\n",
       "    .dataframe thead th {\n",
       "        text-align: right;\n",
       "    }\n",
       "</style>\n",
       "<table border=\"1\" class=\"dataframe\">\n",
       "  <thead>\n",
       "    <tr style=\"text-align: right;\">\n",
       "      <th></th>\n",
       "      <th>a</th>\n",
       "    </tr>\n",
       "  </thead>\n",
       "  <tbody>\n",
       "    <tr>\n",
       "      <td>one</td>\n",
       "      <td>1</td>\n",
       "    </tr>\n",
       "    <tr>\n",
       "      <td>two</td>\n",
       "      <td>2</td>\n",
       "    </tr>\n",
       "  </tbody>\n",
       "</table>\n",
       "</div>"
      ],
      "text/plain": [
       "     a\n",
       "one  1\n",
       "two  2"
      ]
     },
     "execution_count": 4,
     "metadata": {},
     "output_type": "execute_result"
    }
   ],
   "source": [
    "df = pd.DataFrame({'a': [1, 2]}, index={'one', 'two'})\n",
    "df"
   ]
  },
  {
   "cell_type": "code",
   "execution_count": 5,
   "metadata": {},
   "outputs": [
    {
     "data": {
      "text/plain": [
       "one  a    1\n",
       "two  a    2\n",
       "dtype: int64"
      ]
     },
     "execution_count": 5,
     "metadata": {},
     "output_type": "execute_result"
    }
   ],
   "source": [
    "stacked1 = df.stack()\n",
    "stacked1"
   ]
  },
  {
   "cell_type": "markdown",
   "metadata": {},
   "source": [
    "# apply() 모든 개별 데이터에 함수 적용가능\n",
    "# lambda x : \n",
    "# &nbsp;&nbsp;&nbsp;&nbsp;실행문"
   ]
  },
  {
   "cell_type": "markdown",
   "metadata": {},
   "source": [
    "# DataFrame 합치기\n",
    "## 1. merge => join\n",
    "## 2. concat => 붙이기"
   ]
  },
  {
   "cell_type": "code",
   "execution_count": 6,
   "metadata": {},
   "outputs": [],
   "source": [
    "rdata = {\n",
    "    'subject_id':['1','2','3','4','5','7','8','9','10','11','12'],\n",
    "    'test_score':[51,15,15,61,16,14,14,61,16,51, 16]\n",
    "}\n",
    "df1 = pd.DataFrame(rdata)\n",
    "\n",
    "rdata2 = {\n",
    "    'subject_id':['4','5','6','7','8'],\n",
    "    'first_name':['Billy','Brian','Bran','Bryce','Betty'],\n",
    "    'last_name':['Bonder','Black','Balwner','Brice','Btisan']\n",
    "}\n",
    "df2 = pd.DataFrame(rdata2)"
   ]
  },
  {
   "cell_type": "markdown",
   "metadata": {},
   "source": [
    "# 교집합만 결합\n",
    "pd.merge(df1, df2, on='subject_id', how='inner')"
   ]
  },
  {
   "cell_type": "code",
   "execution_count": 7,
   "metadata": {},
   "outputs": [
    {
     "data": {
      "text/html": [
       "<div>\n",
       "<style scoped>\n",
       "    .dataframe tbody tr th:only-of-type {\n",
       "        vertical-align: middle;\n",
       "    }\n",
       "\n",
       "    .dataframe tbody tr th {\n",
       "        vertical-align: top;\n",
       "    }\n",
       "\n",
       "    .dataframe thead th {\n",
       "        text-align: right;\n",
       "    }\n",
       "</style>\n",
       "<table border=\"1\" class=\"dataframe\">\n",
       "  <thead>\n",
       "    <tr style=\"text-align: right;\">\n",
       "      <th></th>\n",
       "      <th>subject_id</th>\n",
       "      <th>test_score</th>\n",
       "      <th>first_name</th>\n",
       "      <th>last_name</th>\n",
       "    </tr>\n",
       "  </thead>\n",
       "  <tbody>\n",
       "    <tr>\n",
       "      <td>0</td>\n",
       "      <td>4</td>\n",
       "      <td>61</td>\n",
       "      <td>Billy</td>\n",
       "      <td>Bonder</td>\n",
       "    </tr>\n",
       "    <tr>\n",
       "      <td>1</td>\n",
       "      <td>5</td>\n",
       "      <td>16</td>\n",
       "      <td>Brian</td>\n",
       "      <td>Black</td>\n",
       "    </tr>\n",
       "    <tr>\n",
       "      <td>2</td>\n",
       "      <td>7</td>\n",
       "      <td>14</td>\n",
       "      <td>Bryce</td>\n",
       "      <td>Brice</td>\n",
       "    </tr>\n",
       "    <tr>\n",
       "      <td>3</td>\n",
       "      <td>8</td>\n",
       "      <td>14</td>\n",
       "      <td>Betty</td>\n",
       "      <td>Btisan</td>\n",
       "    </tr>\n",
       "  </tbody>\n",
       "</table>\n",
       "</div>"
      ],
      "text/plain": [
       "  subject_id  test_score first_name last_name\n",
       "0          4          61      Billy    Bonder\n",
       "1          5          16      Brian     Black\n",
       "2          7          14      Bryce     Brice\n",
       "3          8          14      Betty    Btisan"
      ]
     },
     "execution_count": 7,
     "metadata": {},
     "output_type": "execute_result"
    }
   ],
   "source": [
    "pd.merge(df1, df2, on='subject_id', how='inner')"
   ]
  },
  {
   "cell_type": "markdown",
   "metadata": {},
   "source": [
    "# 오른쪽 기준\n",
    "pd.merge(df1, df2, on='subject_id', how='right')"
   ]
  },
  {
   "cell_type": "code",
   "execution_count": 8,
   "metadata": {},
   "outputs": [
    {
     "data": {
      "text/html": [
       "<div>\n",
       "<style scoped>\n",
       "    .dataframe tbody tr th:only-of-type {\n",
       "        vertical-align: middle;\n",
       "    }\n",
       "\n",
       "    .dataframe tbody tr th {\n",
       "        vertical-align: top;\n",
       "    }\n",
       "\n",
       "    .dataframe thead th {\n",
       "        text-align: right;\n",
       "    }\n",
       "</style>\n",
       "<table border=\"1\" class=\"dataframe\">\n",
       "  <thead>\n",
       "    <tr style=\"text-align: right;\">\n",
       "      <th></th>\n",
       "      <th>subject_id</th>\n",
       "      <th>test_score</th>\n",
       "      <th>first_name</th>\n",
       "      <th>last_name</th>\n",
       "    </tr>\n",
       "  </thead>\n",
       "  <tbody>\n",
       "    <tr>\n",
       "      <td>0</td>\n",
       "      <td>4</td>\n",
       "      <td>61.0</td>\n",
       "      <td>Billy</td>\n",
       "      <td>Bonder</td>\n",
       "    </tr>\n",
       "    <tr>\n",
       "      <td>1</td>\n",
       "      <td>5</td>\n",
       "      <td>16.0</td>\n",
       "      <td>Brian</td>\n",
       "      <td>Black</td>\n",
       "    </tr>\n",
       "    <tr>\n",
       "      <td>2</td>\n",
       "      <td>7</td>\n",
       "      <td>14.0</td>\n",
       "      <td>Bryce</td>\n",
       "      <td>Brice</td>\n",
       "    </tr>\n",
       "    <tr>\n",
       "      <td>3</td>\n",
       "      <td>8</td>\n",
       "      <td>14.0</td>\n",
       "      <td>Betty</td>\n",
       "      <td>Btisan</td>\n",
       "    </tr>\n",
       "    <tr>\n",
       "      <td>4</td>\n",
       "      <td>6</td>\n",
       "      <td>NaN</td>\n",
       "      <td>Bran</td>\n",
       "      <td>Balwner</td>\n",
       "    </tr>\n",
       "  </tbody>\n",
       "</table>\n",
       "</div>"
      ],
      "text/plain": [
       "  subject_id  test_score first_name last_name\n",
       "0          4        61.0      Billy    Bonder\n",
       "1          5        16.0      Brian     Black\n",
       "2          7        14.0      Bryce     Brice\n",
       "3          8        14.0      Betty    Btisan\n",
       "4          6         NaN       Bran   Balwner"
      ]
     },
     "execution_count": 8,
     "metadata": {},
     "output_type": "execute_result"
    }
   ],
   "source": [
    "pd.merge(df1, df2, on='subject_id', how='right')"
   ]
  },
  {
   "cell_type": "markdown",
   "metadata": {},
   "source": [
    "# 왼쪽 기준\n",
    "pd.merge(df1, df2, on='subject_id', how='left')"
   ]
  },
  {
   "cell_type": "code",
   "execution_count": 9,
   "metadata": {},
   "outputs": [
    {
     "data": {
      "text/html": [
       "<div>\n",
       "<style scoped>\n",
       "    .dataframe tbody tr th:only-of-type {\n",
       "        vertical-align: middle;\n",
       "    }\n",
       "\n",
       "    .dataframe tbody tr th {\n",
       "        vertical-align: top;\n",
       "    }\n",
       "\n",
       "    .dataframe thead th {\n",
       "        text-align: right;\n",
       "    }\n",
       "</style>\n",
       "<table border=\"1\" class=\"dataframe\">\n",
       "  <thead>\n",
       "    <tr style=\"text-align: right;\">\n",
       "      <th></th>\n",
       "      <th>subject_id</th>\n",
       "      <th>test_score</th>\n",
       "      <th>first_name</th>\n",
       "      <th>last_name</th>\n",
       "    </tr>\n",
       "  </thead>\n",
       "  <tbody>\n",
       "    <tr>\n",
       "      <td>0</td>\n",
       "      <td>1</td>\n",
       "      <td>51</td>\n",
       "      <td>NaN</td>\n",
       "      <td>NaN</td>\n",
       "    </tr>\n",
       "    <tr>\n",
       "      <td>1</td>\n",
       "      <td>2</td>\n",
       "      <td>15</td>\n",
       "      <td>NaN</td>\n",
       "      <td>NaN</td>\n",
       "    </tr>\n",
       "    <tr>\n",
       "      <td>2</td>\n",
       "      <td>3</td>\n",
       "      <td>15</td>\n",
       "      <td>NaN</td>\n",
       "      <td>NaN</td>\n",
       "    </tr>\n",
       "    <tr>\n",
       "      <td>3</td>\n",
       "      <td>4</td>\n",
       "      <td>61</td>\n",
       "      <td>Billy</td>\n",
       "      <td>Bonder</td>\n",
       "    </tr>\n",
       "    <tr>\n",
       "      <td>4</td>\n",
       "      <td>5</td>\n",
       "      <td>16</td>\n",
       "      <td>Brian</td>\n",
       "      <td>Black</td>\n",
       "    </tr>\n",
       "    <tr>\n",
       "      <td>5</td>\n",
       "      <td>7</td>\n",
       "      <td>14</td>\n",
       "      <td>Bryce</td>\n",
       "      <td>Brice</td>\n",
       "    </tr>\n",
       "    <tr>\n",
       "      <td>6</td>\n",
       "      <td>8</td>\n",
       "      <td>14</td>\n",
       "      <td>Betty</td>\n",
       "      <td>Btisan</td>\n",
       "    </tr>\n",
       "    <tr>\n",
       "      <td>7</td>\n",
       "      <td>9</td>\n",
       "      <td>61</td>\n",
       "      <td>NaN</td>\n",
       "      <td>NaN</td>\n",
       "    </tr>\n",
       "    <tr>\n",
       "      <td>8</td>\n",
       "      <td>10</td>\n",
       "      <td>16</td>\n",
       "      <td>NaN</td>\n",
       "      <td>NaN</td>\n",
       "    </tr>\n",
       "    <tr>\n",
       "      <td>9</td>\n",
       "      <td>11</td>\n",
       "      <td>51</td>\n",
       "      <td>NaN</td>\n",
       "      <td>NaN</td>\n",
       "    </tr>\n",
       "    <tr>\n",
       "      <td>10</td>\n",
       "      <td>12</td>\n",
       "      <td>16</td>\n",
       "      <td>NaN</td>\n",
       "      <td>NaN</td>\n",
       "    </tr>\n",
       "  </tbody>\n",
       "</table>\n",
       "</div>"
      ],
      "text/plain": [
       "   subject_id  test_score first_name last_name\n",
       "0           1          51        NaN       NaN\n",
       "1           2          15        NaN       NaN\n",
       "2           3          15        NaN       NaN\n",
       "3           4          61      Billy    Bonder\n",
       "4           5          16      Brian     Black\n",
       "5           7          14      Bryce     Brice\n",
       "6           8          14      Betty    Btisan\n",
       "7           9          61        NaN       NaN\n",
       "8          10          16        NaN       NaN\n",
       "9          11          51        NaN       NaN\n",
       "10         12          16        NaN       NaN"
      ]
     },
     "execution_count": 9,
     "metadata": {},
     "output_type": "execute_result"
    }
   ],
   "source": [
    "pd.merge(df1, df2, on='subject_id', how='left')"
   ]
  },
  {
   "cell_type": "markdown",
   "metadata": {},
   "source": [
    "# 전체합\n",
    "pd.merge(df1, df2, on='subject_id', how='outer')"
   ]
  },
  {
   "cell_type": "code",
   "execution_count": 10,
   "metadata": {},
   "outputs": [
    {
     "data": {
      "text/html": [
       "<div>\n",
       "<style scoped>\n",
       "    .dataframe tbody tr th:only-of-type {\n",
       "        vertical-align: middle;\n",
       "    }\n",
       "\n",
       "    .dataframe tbody tr th {\n",
       "        vertical-align: top;\n",
       "    }\n",
       "\n",
       "    .dataframe thead th {\n",
       "        text-align: right;\n",
       "    }\n",
       "</style>\n",
       "<table border=\"1\" class=\"dataframe\">\n",
       "  <thead>\n",
       "    <tr style=\"text-align: right;\">\n",
       "      <th></th>\n",
       "      <th>subject_id</th>\n",
       "      <th>test_score</th>\n",
       "      <th>first_name</th>\n",
       "      <th>last_name</th>\n",
       "    </tr>\n",
       "  </thead>\n",
       "  <tbody>\n",
       "    <tr>\n",
       "      <td>0</td>\n",
       "      <td>1</td>\n",
       "      <td>51.0</td>\n",
       "      <td>NaN</td>\n",
       "      <td>NaN</td>\n",
       "    </tr>\n",
       "    <tr>\n",
       "      <td>1</td>\n",
       "      <td>2</td>\n",
       "      <td>15.0</td>\n",
       "      <td>NaN</td>\n",
       "      <td>NaN</td>\n",
       "    </tr>\n",
       "    <tr>\n",
       "      <td>2</td>\n",
       "      <td>3</td>\n",
       "      <td>15.0</td>\n",
       "      <td>NaN</td>\n",
       "      <td>NaN</td>\n",
       "    </tr>\n",
       "    <tr>\n",
       "      <td>3</td>\n",
       "      <td>4</td>\n",
       "      <td>61.0</td>\n",
       "      <td>Billy</td>\n",
       "      <td>Bonder</td>\n",
       "    </tr>\n",
       "    <tr>\n",
       "      <td>4</td>\n",
       "      <td>5</td>\n",
       "      <td>16.0</td>\n",
       "      <td>Brian</td>\n",
       "      <td>Black</td>\n",
       "    </tr>\n",
       "    <tr>\n",
       "      <td>5</td>\n",
       "      <td>7</td>\n",
       "      <td>14.0</td>\n",
       "      <td>Bryce</td>\n",
       "      <td>Brice</td>\n",
       "    </tr>\n",
       "    <tr>\n",
       "      <td>6</td>\n",
       "      <td>8</td>\n",
       "      <td>14.0</td>\n",
       "      <td>Betty</td>\n",
       "      <td>Btisan</td>\n",
       "    </tr>\n",
       "    <tr>\n",
       "      <td>7</td>\n",
       "      <td>9</td>\n",
       "      <td>61.0</td>\n",
       "      <td>NaN</td>\n",
       "      <td>NaN</td>\n",
       "    </tr>\n",
       "    <tr>\n",
       "      <td>8</td>\n",
       "      <td>10</td>\n",
       "      <td>16.0</td>\n",
       "      <td>NaN</td>\n",
       "      <td>NaN</td>\n",
       "    </tr>\n",
       "    <tr>\n",
       "      <td>9</td>\n",
       "      <td>11</td>\n",
       "      <td>51.0</td>\n",
       "      <td>NaN</td>\n",
       "      <td>NaN</td>\n",
       "    </tr>\n",
       "    <tr>\n",
       "      <td>10</td>\n",
       "      <td>12</td>\n",
       "      <td>16.0</td>\n",
       "      <td>NaN</td>\n",
       "      <td>NaN</td>\n",
       "    </tr>\n",
       "    <tr>\n",
       "      <td>11</td>\n",
       "      <td>6</td>\n",
       "      <td>NaN</td>\n",
       "      <td>Bran</td>\n",
       "      <td>Balwner</td>\n",
       "    </tr>\n",
       "  </tbody>\n",
       "</table>\n",
       "</div>"
      ],
      "text/plain": [
       "   subject_id  test_score first_name last_name\n",
       "0           1        51.0        NaN       NaN\n",
       "1           2        15.0        NaN       NaN\n",
       "2           3        15.0        NaN       NaN\n",
       "3           4        61.0      Billy    Bonder\n",
       "4           5        16.0      Brian     Black\n",
       "5           7        14.0      Bryce     Brice\n",
       "6           8        14.0      Betty    Btisan\n",
       "7           9        61.0        NaN       NaN\n",
       "8          10        16.0        NaN       NaN\n",
       "9          11        51.0        NaN       NaN\n",
       "10         12        16.0        NaN       NaN\n",
       "11          6         NaN       Bran   Balwner"
      ]
     },
     "execution_count": 10,
     "metadata": {},
     "output_type": "execute_result"
    }
   ],
   "source": [
    "pd.merge(df1, df2, on='subject_id', how='outer')"
   ]
  },
  {
   "cell_type": "markdown",
   "metadata": {},
   "source": [
    "# concat\n",
    "pd.concat([df1,df2])"
   ]
  },
  {
   "cell_type": "code",
   "execution_count": 11,
   "metadata": {},
   "outputs": [
    {
     "name": "stderr",
     "output_type": "stream",
     "text": [
      "C:\\ProgramData\\Anaconda3\\lib\\site-packages\\ipykernel_launcher.py:1: FutureWarning: Sorting because non-concatenation axis is not aligned. A future version\n",
      "of pandas will change to not sort by default.\n",
      "\n",
      "To accept the future behavior, pass 'sort=False'.\n",
      "\n",
      "To retain the current behavior and silence the warning, pass 'sort=True'.\n",
      "\n",
      "  \"\"\"Entry point for launching an IPython kernel.\n"
     ]
    },
    {
     "data": {
      "text/html": [
       "<div>\n",
       "<style scoped>\n",
       "    .dataframe tbody tr th:only-of-type {\n",
       "        vertical-align: middle;\n",
       "    }\n",
       "\n",
       "    .dataframe tbody tr th {\n",
       "        vertical-align: top;\n",
       "    }\n",
       "\n",
       "    .dataframe thead th {\n",
       "        text-align: right;\n",
       "    }\n",
       "</style>\n",
       "<table border=\"1\" class=\"dataframe\">\n",
       "  <thead>\n",
       "    <tr style=\"text-align: right;\">\n",
       "      <th></th>\n",
       "      <th>first_name</th>\n",
       "      <th>last_name</th>\n",
       "      <th>subject_id</th>\n",
       "      <th>test_score</th>\n",
       "    </tr>\n",
       "  </thead>\n",
       "  <tbody>\n",
       "    <tr>\n",
       "      <td>0</td>\n",
       "      <td>NaN</td>\n",
       "      <td>NaN</td>\n",
       "      <td>1</td>\n",
       "      <td>51.0</td>\n",
       "    </tr>\n",
       "    <tr>\n",
       "      <td>1</td>\n",
       "      <td>NaN</td>\n",
       "      <td>NaN</td>\n",
       "      <td>2</td>\n",
       "      <td>15.0</td>\n",
       "    </tr>\n",
       "    <tr>\n",
       "      <td>2</td>\n",
       "      <td>NaN</td>\n",
       "      <td>NaN</td>\n",
       "      <td>3</td>\n",
       "      <td>15.0</td>\n",
       "    </tr>\n",
       "    <tr>\n",
       "      <td>3</td>\n",
       "      <td>NaN</td>\n",
       "      <td>NaN</td>\n",
       "      <td>4</td>\n",
       "      <td>61.0</td>\n",
       "    </tr>\n",
       "    <tr>\n",
       "      <td>4</td>\n",
       "      <td>NaN</td>\n",
       "      <td>NaN</td>\n",
       "      <td>5</td>\n",
       "      <td>16.0</td>\n",
       "    </tr>\n",
       "    <tr>\n",
       "      <td>5</td>\n",
       "      <td>NaN</td>\n",
       "      <td>NaN</td>\n",
       "      <td>7</td>\n",
       "      <td>14.0</td>\n",
       "    </tr>\n",
       "    <tr>\n",
       "      <td>6</td>\n",
       "      <td>NaN</td>\n",
       "      <td>NaN</td>\n",
       "      <td>8</td>\n",
       "      <td>14.0</td>\n",
       "    </tr>\n",
       "    <tr>\n",
       "      <td>7</td>\n",
       "      <td>NaN</td>\n",
       "      <td>NaN</td>\n",
       "      <td>9</td>\n",
       "      <td>61.0</td>\n",
       "    </tr>\n",
       "    <tr>\n",
       "      <td>8</td>\n",
       "      <td>NaN</td>\n",
       "      <td>NaN</td>\n",
       "      <td>10</td>\n",
       "      <td>16.0</td>\n",
       "    </tr>\n",
       "    <tr>\n",
       "      <td>9</td>\n",
       "      <td>NaN</td>\n",
       "      <td>NaN</td>\n",
       "      <td>11</td>\n",
       "      <td>51.0</td>\n",
       "    </tr>\n",
       "    <tr>\n",
       "      <td>10</td>\n",
       "      <td>NaN</td>\n",
       "      <td>NaN</td>\n",
       "      <td>12</td>\n",
       "      <td>16.0</td>\n",
       "    </tr>\n",
       "    <tr>\n",
       "      <td>0</td>\n",
       "      <td>Billy</td>\n",
       "      <td>Bonder</td>\n",
       "      <td>4</td>\n",
       "      <td>NaN</td>\n",
       "    </tr>\n",
       "    <tr>\n",
       "      <td>1</td>\n",
       "      <td>Brian</td>\n",
       "      <td>Black</td>\n",
       "      <td>5</td>\n",
       "      <td>NaN</td>\n",
       "    </tr>\n",
       "    <tr>\n",
       "      <td>2</td>\n",
       "      <td>Bran</td>\n",
       "      <td>Balwner</td>\n",
       "      <td>6</td>\n",
       "      <td>NaN</td>\n",
       "    </tr>\n",
       "    <tr>\n",
       "      <td>3</td>\n",
       "      <td>Bryce</td>\n",
       "      <td>Brice</td>\n",
       "      <td>7</td>\n",
       "      <td>NaN</td>\n",
       "    </tr>\n",
       "    <tr>\n",
       "      <td>4</td>\n",
       "      <td>Betty</td>\n",
       "      <td>Btisan</td>\n",
       "      <td>8</td>\n",
       "      <td>NaN</td>\n",
       "    </tr>\n",
       "  </tbody>\n",
       "</table>\n",
       "</div>"
      ],
      "text/plain": [
       "   first_name last_name subject_id  test_score\n",
       "0         NaN       NaN          1        51.0\n",
       "1         NaN       NaN          2        15.0\n",
       "2         NaN       NaN          3        15.0\n",
       "3         NaN       NaN          4        61.0\n",
       "4         NaN       NaN          5        16.0\n",
       "5         NaN       NaN          7        14.0\n",
       "6         NaN       NaN          8        14.0\n",
       "7         NaN       NaN          9        61.0\n",
       "8         NaN       NaN         10        16.0\n",
       "9         NaN       NaN         11        51.0\n",
       "10        NaN       NaN         12        16.0\n",
       "0       Billy    Bonder          4         NaN\n",
       "1       Brian     Black          5         NaN\n",
       "2        Bran   Balwner          6         NaN\n",
       "3       Bryce     Brice          7         NaN\n",
       "4       Betty    Btisan          8         NaN"
      ]
     },
     "execution_count": 11,
     "metadata": {},
     "output_type": "execute_result"
    }
   ],
   "source": [
    "pd.concat([df1,df2])"
   ]
  },
  {
   "cell_type": "code",
   "execution_count": 12,
   "metadata": {},
   "outputs": [
    {
     "data": {
      "text/html": [
       "<div>\n",
       "<style scoped>\n",
       "    .dataframe tbody tr th:only-of-type {\n",
       "        vertical-align: middle;\n",
       "    }\n",
       "\n",
       "    .dataframe tbody tr th {\n",
       "        vertical-align: top;\n",
       "    }\n",
       "\n",
       "    .dataframe thead th {\n",
       "        text-align: right;\n",
       "    }\n",
       "</style>\n",
       "<table border=\"1\" class=\"dataframe\">\n",
       "  <thead>\n",
       "    <tr style=\"text-align: right;\">\n",
       "      <th></th>\n",
       "      <th>subject_id</th>\n",
       "      <th>test_score</th>\n",
       "      <th>subject_id</th>\n",
       "      <th>first_name</th>\n",
       "      <th>last_name</th>\n",
       "    </tr>\n",
       "  </thead>\n",
       "  <tbody>\n",
       "    <tr>\n",
       "      <td>0</td>\n",
       "      <td>1</td>\n",
       "      <td>51</td>\n",
       "      <td>4</td>\n",
       "      <td>Billy</td>\n",
       "      <td>Bonder</td>\n",
       "    </tr>\n",
       "    <tr>\n",
       "      <td>1</td>\n",
       "      <td>2</td>\n",
       "      <td>15</td>\n",
       "      <td>5</td>\n",
       "      <td>Brian</td>\n",
       "      <td>Black</td>\n",
       "    </tr>\n",
       "    <tr>\n",
       "      <td>2</td>\n",
       "      <td>3</td>\n",
       "      <td>15</td>\n",
       "      <td>6</td>\n",
       "      <td>Bran</td>\n",
       "      <td>Balwner</td>\n",
       "    </tr>\n",
       "    <tr>\n",
       "      <td>3</td>\n",
       "      <td>4</td>\n",
       "      <td>61</td>\n",
       "      <td>7</td>\n",
       "      <td>Bryce</td>\n",
       "      <td>Brice</td>\n",
       "    </tr>\n",
       "    <tr>\n",
       "      <td>4</td>\n",
       "      <td>5</td>\n",
       "      <td>16</td>\n",
       "      <td>8</td>\n",
       "      <td>Betty</td>\n",
       "      <td>Btisan</td>\n",
       "    </tr>\n",
       "    <tr>\n",
       "      <td>5</td>\n",
       "      <td>7</td>\n",
       "      <td>14</td>\n",
       "      <td>NaN</td>\n",
       "      <td>NaN</td>\n",
       "      <td>NaN</td>\n",
       "    </tr>\n",
       "    <tr>\n",
       "      <td>6</td>\n",
       "      <td>8</td>\n",
       "      <td>14</td>\n",
       "      <td>NaN</td>\n",
       "      <td>NaN</td>\n",
       "      <td>NaN</td>\n",
       "    </tr>\n",
       "    <tr>\n",
       "      <td>7</td>\n",
       "      <td>9</td>\n",
       "      <td>61</td>\n",
       "      <td>NaN</td>\n",
       "      <td>NaN</td>\n",
       "      <td>NaN</td>\n",
       "    </tr>\n",
       "    <tr>\n",
       "      <td>8</td>\n",
       "      <td>10</td>\n",
       "      <td>16</td>\n",
       "      <td>NaN</td>\n",
       "      <td>NaN</td>\n",
       "      <td>NaN</td>\n",
       "    </tr>\n",
       "    <tr>\n",
       "      <td>9</td>\n",
       "      <td>11</td>\n",
       "      <td>51</td>\n",
       "      <td>NaN</td>\n",
       "      <td>NaN</td>\n",
       "      <td>NaN</td>\n",
       "    </tr>\n",
       "    <tr>\n",
       "      <td>10</td>\n",
       "      <td>12</td>\n",
       "      <td>16</td>\n",
       "      <td>NaN</td>\n",
       "      <td>NaN</td>\n",
       "      <td>NaN</td>\n",
       "    </tr>\n",
       "  </tbody>\n",
       "</table>\n",
       "</div>"
      ],
      "text/plain": [
       "   subject_id  test_score subject_id first_name last_name\n",
       "0           1          51          4      Billy    Bonder\n",
       "1           2          15          5      Brian     Black\n",
       "2           3          15          6       Bran   Balwner\n",
       "3           4          61          7      Bryce     Brice\n",
       "4           5          16          8      Betty    Btisan\n",
       "5           7          14        NaN        NaN       NaN\n",
       "6           8          14        NaN        NaN       NaN\n",
       "7           9          61        NaN        NaN       NaN\n",
       "8          10          16        NaN        NaN       NaN\n",
       "9          11          51        NaN        NaN       NaN\n",
       "10         12          16        NaN        NaN       NaN"
      ]
     },
     "execution_count": 12,
     "metadata": {},
     "output_type": "execute_result"
    }
   ],
   "source": [
    "pd.concat([df1,df2], axis=1)"
   ]
  },
  {
   "cell_type": "markdown",
   "metadata": {},
   "source": [
    "# value_counts() 해당 데이터에 속한 값의 갯수를 반환한다.\n",
    "# sort_values() 해당 데이터에 속한 값들을 올림차순 정렬한다.\n",
    "# str.contains(x) 해당 데이터에 x라는 문자열이 포함되어 있는지 true/false로 반환"
   ]
  },
  {
   "cell_type": "code",
   "execution_count": 15,
   "metadata": {},
   "outputs": [
    {
     "data": {
      "text/plain": [
       "1408"
      ]
     },
     "execution_count": 15,
     "metadata": {},
     "output_type": "execute_result"
    }
   ],
   "source": [
    "df1 = pd.read_csv('./csvfiles/Salaries1.csv')\n",
    "df=df1.drop(['Notes','Status','Unnamed: 0', 'Id'],axis=1)\n",
    "df['job']=[i.lower() for i in df['JobTitle'] ]\n",
    "len(df.groupby('job'))"
   ]
  },
  {
   "cell_type": "code",
   "execution_count": 16,
   "metadata": {},
   "outputs": [
    {
     "name": "stdout",
     "output_type": "stream",
     "text": [
      "job\n",
      "transit operator    3040\n",
      "registered nurse    2222\n",
      "firefighter         1487\n",
      "special nurse       1464\n",
      "deputy sheriff      1273\n",
      "Name: job, dtype: int64\n",
      "========================================\n",
      "transit operator    3040\n",
      "registered nurse    2222\n",
      "firefighter         1487\n",
      "special nurse       1464\n",
      "deputy sheriff      1273\n",
      "Name: job, dtype: int64\n",
      "========================================\n",
      "200 개\n",
      "========================================\n",
      "5 명\n",
      "5 명\n",
      "5\n",
      "5\n"
     ]
    }
   ],
   "source": [
    "# JobTitle에서 가장 많은 Job 상위5개?\n",
    "print(df.groupby('job')['job'].count().sort_values(ascending=False)[:5])\n",
    "print('='*40)\n",
    "print(df['job'].value_counts()[:5])\n",
    "print('='*40)\n",
    "\n",
    "# 2011년도에 오직 한사람만 종사하는 job의 갯수는?\n",
    "print(sum(df[df['Year'] == 2011]['job'].value_counts()==1),'개')\n",
    "print('='*40)\n",
    "\n",
    "# 2011년도에 Chef 인 사람의 수는? (대소문자 구분없이)\n",
    "print(sum(df[df['Year'] == 2011]['job'].values=='chef'),'명')\n",
    "print(sum(df[df['Year'] == 2011]['job'].apply(lambda x : 'chef' in x)),'명')\n",
    "print(len([i for i in df[df['Year'] == 2011]['job'] if 'chef' in i]))\n",
    "\n",
    "print(sum(df['job'].str.contains('chef')))"
   ]
  },
  {
   "cell_type": "markdown",
   "metadata": {},
   "source": [
    "# corr() 해당 데이터프레임의 컬럼간 상관관계를 구한다.\n",
    "# quantile(x) 해당 데이터의 x분위 값을 구한다.\n",
    "# inplace=True 데이터를 변환하는 함수를 원본데이터에 덮어쓴다.\n",
    "# ascending=False 내림차순 정렬"
   ]
  },
  {
   "cell_type": "code",
   "execution_count": 17,
   "metadata": {},
   "outputs": [
    {
     "name": "stdout",
     "output_type": "stream",
     "text": [
      "   Unnamed: 0  firm        tv   radio newpaper magazine\n",
      "0           0   회사명        TV     라디오       신문       잡지\n",
      "1           1  삼성전자  11479225  423815  6203885   242300\n",
      "2           2    KT   8380633  368017   905887    25100\n",
      "3           3  LG전자   6748621  342048  1969787   114800\n",
      "4           4  한국지엠   6791838  596281   662799    35200\n",
      "--------------------\n",
      "   Unnamed: 0    firm       tv   radio newpaper magazine\n",
      "0           0     회사명       TV     라디오       신문       잡지\n",
      "1           1    삼성전자  8571937  255932  6769684   223800\n",
      "2           2   현대자동차  4929457  448627  2711580   115300\n",
      "3           3  아모레퍼시픽  4563944  222294  1742959   987600\n",
      "4           4    LG전자  5587791   72904  1298358   184400\n",
      "--------------------\n",
      "   Unnamed: 0   firm        tv   radio newpaper magazine\n",
      "0           0    회사명        TV     라디오       신문       잡지\n",
      "1           1   삼성전자  11668720  242469  7356007   391700\n",
      "2           2   LG전자  13776012  322223  2679913   155700\n",
      "3           3     KT   4768380  265896  1544589    22500\n",
      "4           4  현대자동차   2837608  359010  1861762   119500\n",
      "--------------------\n",
      "   Unnamed: 0  firm        tv   radio newpaper magazine\n",
      "0           0   회사명        TV     라디오       신문       잡지\n",
      "1           1  LG전자  17908248   89237  1516482   160100\n",
      "2           2  삼성전자  12279508  291138  6285213   268100\n",
      "3           3    KT   3554634  168158  1717394    26000\n",
      "4           4  삼성화재   2001163   63883  3183392    13600\n",
      "--------------------\n",
      "   Unnamed: 0  firm        tv   radio newpaper magazine\n",
      "0           0   회사명        TV     라디오       신문       잡지\n",
      "1           1  삼성전자   7597926  401512  7192464   289000\n",
      "2           2  LG전자  12913571       0  1135883    62100\n",
      "3           3  한화공동   6380516  120920   855486    60500\n",
      "4           4    KT   4852147   67687  1993508    22300\n",
      "--------------------\n"
     ]
    }
   ],
   "source": [
    "import os\n",
    "for i,f in enumerate(os.listdir('./csvfiles')[:5]):\n",
    "    path = './csvfiles/'\n",
    "    name = 'df'+str(i)\n",
    "    name = pd.read_csv(path+f)\n",
    "    print(name.head())\n",
    "    print('-'*20)   "
   ]
  },
  {
   "cell_type": "code",
   "execution_count": 19,
   "metadata": {},
   "outputs": [],
   "source": [
    "df2015 = pd.read_csv('./csvfiles/2015ad.csv')\n",
    "df2016 = pd.read_csv('./csvfiles/2016ad.csv')\n",
    "df2017 = pd.read_csv('./csvfiles/2017ad.csv')\n",
    "df2018 = pd.read_csv('./csvfiles/2018ad.csv')\n",
    "df2019 = pd.read_csv('./csvfiles/2019ad.csv')"
   ]
  },
  {
   "cell_type": "code",
   "execution_count": 20,
   "metadata": {},
   "outputs": [
    {
     "name": "stdout",
     "output_type": "stream",
     "text": [
      "             tv   radio  newpaper  magazine       date\n",
      "firm                                                  \n",
      "삼성전자   11479225  423815   6203885    242300 2015-09-01\n",
      "KT      8380633  368017    905887     25100 2015-09-01\n",
      "LG전자    6748621  342048   1969787    114800 2015-09-01\n",
      "한국지엠    6791838  596281    662799     35200 2015-09-01\n",
      "현대자동차   4453752  414230   2817550    108300 2015-09-01\n",
      "--------------------\n",
      "             tv   radio  newpaper  magazine       date\n",
      "firm                                                  \n",
      "삼성전자    8571937  255932   6769684    223800 2016-09-01\n",
      "현대자동차   4929457  448627   2711580    115300 2016-09-01\n",
      "아모레퍼시픽  4563944  222294   1742959    987600 2016-09-01\n",
      "LG전자    5587791   72904   1298358    184400 2016-09-01\n",
      "KT      4792340  317334   1120930     33100 2016-09-01\n",
      "--------------------\n",
      "              tv   radio  newpaper  magazine       date\n",
      "firm                                                   \n",
      "삼성전자    11668720  242469   7356007    391700 2017-09-01\n",
      "LG전자    13776012  322223   2679913    155700 2017-09-01\n",
      "KT       4768380  265896   1544589     22500 2017-09-01\n",
      "현대자동차    2837608  359010   1861762    119500 2017-09-01\n",
      "한국인삼공사   3873921  298050    518108    170500 2017-09-01\n",
      "--------------------\n",
      "             tv   radio  newpaper  magazine       date\n",
      "firm                                                  \n",
      "LG전자   17908248   89237   1516482    160100 2018-09-01\n",
      "삼성전자   12279508  291138   6285213    268100 2018-09-01\n",
      "KT      3554634  168158   1717394     26000 2018-09-01\n",
      "삼성화재    2001163   63883   3183392     13600 2018-09-01\n",
      "현대자동차   2655603  480837   1782310     76700 2018-09-01\n",
      "--------------------\n",
      "            tv   radio  newpaper  magazine       date\n",
      "firm                                                 \n",
      "삼성전자   7597926  401512   7192464    289000 2019-09-01\n",
      "LG전자  12913571       0   1135883     62100 2019-09-01\n",
      "한화공동   6380516  120920    855486     60500 2019-09-01\n",
      "KT     4852147   67687   1993508     22300 2019-09-01\n",
      "대웅제약   6033183       0    351571      6000 2019-09-01\n",
      "--------------------\n"
     ]
    }
   ],
   "source": [
    "for i, df in enumerate([df2015, df2016, df2017, df2018, df2019]):\n",
    "    df.drop('Unnamed: 0', axis=1, inplace=True)\n",
    "    df.drop(0, inplace=True)\n",
    "    df['tv'] = pd.to_numeric(df['tv'])\n",
    "    df['radio'] = pd.to_numeric(df['radio'])\n",
    "    df['newpaper'] = pd.to_numeric(df['newpaper'])\n",
    "    df['magazine'] = pd.to_numeric(df['magazine'])\n",
    "    df.set_index('firm', inplace=True)\n",
    "    date = str(int(2015) + int(i)) +'.' + '09'\n",
    "    df['date'] = date\n",
    "    df['date'] = pd.to_datetime(df['date'])   \n",
    "    print(df.head())\n",
    "    print('-'*20)"
   ]
  },
  {
   "cell_type": "code",
   "execution_count": 21,
   "metadata": {},
   "outputs": [
    {
     "data": {
      "text/html": [
       "<div>\n",
       "<style scoped>\n",
       "    .dataframe tbody tr th:only-of-type {\n",
       "        vertical-align: middle;\n",
       "    }\n",
       "\n",
       "    .dataframe tbody tr th {\n",
       "        vertical-align: top;\n",
       "    }\n",
       "\n",
       "    .dataframe thead th {\n",
       "        text-align: right;\n",
       "    }\n",
       "</style>\n",
       "<table border=\"1\" class=\"dataframe\">\n",
       "  <thead>\n",
       "    <tr style=\"text-align: right;\">\n",
       "      <th></th>\n",
       "      <th>tv</th>\n",
       "      <th>radio</th>\n",
       "      <th>newpaper</th>\n",
       "      <th>magazine</th>\n",
       "      <th>date</th>\n",
       "    </tr>\n",
       "    <tr>\n",
       "      <th>firm</th>\n",
       "      <th></th>\n",
       "      <th></th>\n",
       "      <th></th>\n",
       "      <th></th>\n",
       "      <th></th>\n",
       "    </tr>\n",
       "  </thead>\n",
       "  <tbody>\n",
       "    <tr>\n",
       "      <td>삼성전자</td>\n",
       "      <td>11479225</td>\n",
       "      <td>423815</td>\n",
       "      <td>6203885</td>\n",
       "      <td>242300</td>\n",
       "      <td>2015-09-01</td>\n",
       "    </tr>\n",
       "    <tr>\n",
       "      <td>KT</td>\n",
       "      <td>8380633</td>\n",
       "      <td>368017</td>\n",
       "      <td>905887</td>\n",
       "      <td>25100</td>\n",
       "      <td>2015-09-01</td>\n",
       "    </tr>\n",
       "    <tr>\n",
       "      <td>LG전자</td>\n",
       "      <td>6748621</td>\n",
       "      <td>342048</td>\n",
       "      <td>1969787</td>\n",
       "      <td>114800</td>\n",
       "      <td>2015-09-01</td>\n",
       "    </tr>\n",
       "    <tr>\n",
       "      <td>한국지엠</td>\n",
       "      <td>6791838</td>\n",
       "      <td>596281</td>\n",
       "      <td>662799</td>\n",
       "      <td>35200</td>\n",
       "      <td>2015-09-01</td>\n",
       "    </tr>\n",
       "    <tr>\n",
       "      <td>현대자동차</td>\n",
       "      <td>4453752</td>\n",
       "      <td>414230</td>\n",
       "      <td>2817550</td>\n",
       "      <td>108300</td>\n",
       "      <td>2015-09-01</td>\n",
       "    </tr>\n",
       "  </tbody>\n",
       "</table>\n",
       "</div>"
      ],
      "text/plain": [
       "             tv   radio  newpaper  magazine       date\n",
       "firm                                                  \n",
       "삼성전자   11479225  423815   6203885    242300 2015-09-01\n",
       "KT      8380633  368017    905887     25100 2015-09-01\n",
       "LG전자    6748621  342048   1969787    114800 2015-09-01\n",
       "한국지엠    6791838  596281    662799     35200 2015-09-01\n",
       "현대자동차   4453752  414230   2817550    108300 2015-09-01"
      ]
     },
     "execution_count": 21,
     "metadata": {},
     "output_type": "execute_result"
    }
   ],
   "source": [
    "#하나의 df로 합치기\n",
    "df = pd.concat([df2015, df2016, df2017, df2018, df2019])\n",
    "df.head()"
   ]
  },
  {
   "cell_type": "code",
   "execution_count": 22,
   "metadata": {},
   "outputs": [
    {
     "data": {
      "text/html": [
       "<div>\n",
       "<style scoped>\n",
       "    .dataframe tbody tr th:only-of-type {\n",
       "        vertical-align: middle;\n",
       "    }\n",
       "\n",
       "    .dataframe tbody tr th {\n",
       "        vertical-align: top;\n",
       "    }\n",
       "\n",
       "    .dataframe thead th {\n",
       "        text-align: right;\n",
       "    }\n",
       "</style>\n",
       "<table border=\"1\" class=\"dataframe\">\n",
       "  <thead>\n",
       "    <tr style=\"text-align: right;\">\n",
       "      <th></th>\n",
       "      <th>tv</th>\n",
       "      <th>radio</th>\n",
       "      <th>newpaper</th>\n",
       "      <th>magazine</th>\n",
       "      <th>date</th>\n",
       "    </tr>\n",
       "    <tr>\n",
       "      <th>firm</th>\n",
       "      <th></th>\n",
       "      <th></th>\n",
       "      <th></th>\n",
       "      <th></th>\n",
       "      <th></th>\n",
       "    </tr>\n",
       "  </thead>\n",
       "  <tbody>\n",
       "    <tr>\n",
       "      <td>삼성전자</td>\n",
       "      <td>11479225</td>\n",
       "      <td>423815</td>\n",
       "      <td>6203885</td>\n",
       "      <td>242300</td>\n",
       "      <td>2015.09</td>\n",
       "    </tr>\n",
       "    <tr>\n",
       "      <td>KT</td>\n",
       "      <td>8380633</td>\n",
       "      <td>368017</td>\n",
       "      <td>905887</td>\n",
       "      <td>25100</td>\n",
       "      <td>2015.09</td>\n",
       "    </tr>\n",
       "    <tr>\n",
       "      <td>LG전자</td>\n",
       "      <td>6748621</td>\n",
       "      <td>342048</td>\n",
       "      <td>1969787</td>\n",
       "      <td>114800</td>\n",
       "      <td>2015.09</td>\n",
       "    </tr>\n",
       "    <tr>\n",
       "      <td>한국지엠</td>\n",
       "      <td>6791838</td>\n",
       "      <td>596281</td>\n",
       "      <td>662799</td>\n",
       "      <td>35200</td>\n",
       "      <td>2015.09</td>\n",
       "    </tr>\n",
       "    <tr>\n",
       "      <td>현대자동차</td>\n",
       "      <td>4453752</td>\n",
       "      <td>414230</td>\n",
       "      <td>2817550</td>\n",
       "      <td>108300</td>\n",
       "      <td>2015.09</td>\n",
       "    </tr>\n",
       "    <tr>\n",
       "      <td>...</td>\n",
       "      <td>...</td>\n",
       "      <td>...</td>\n",
       "      <td>...</td>\n",
       "      <td>...</td>\n",
       "      <td>...</td>\n",
       "    </tr>\n",
       "    <tr>\n",
       "      <td>동원F&amp;B</td>\n",
       "      <td>968138</td>\n",
       "      <td>0</td>\n",
       "      <td>0</td>\n",
       "      <td>5500</td>\n",
       "      <td>2019.09</td>\n",
       "    </tr>\n",
       "    <tr>\n",
       "      <td>SK(주)</td>\n",
       "      <td>0</td>\n",
       "      <td>0</td>\n",
       "      <td>959321</td>\n",
       "      <td>4500</td>\n",
       "      <td>2019.09</td>\n",
       "    </tr>\n",
       "    <tr>\n",
       "      <td>어린이재단</td>\n",
       "      <td>292914</td>\n",
       "      <td>0</td>\n",
       "      <td>657228</td>\n",
       "      <td>5600</td>\n",
       "      <td>2019.09</td>\n",
       "    </tr>\n",
       "    <tr>\n",
       "      <td>케이티스카이라이프</td>\n",
       "      <td>929695</td>\n",
       "      <td>0</td>\n",
       "      <td>0</td>\n",
       "      <td>0</td>\n",
       "      <td>2019.09</td>\n",
       "    </tr>\n",
       "    <tr>\n",
       "      <td>경북도청</td>\n",
       "      <td>272250</td>\n",
       "      <td>0</td>\n",
       "      <td>643796</td>\n",
       "      <td>7000</td>\n",
       "      <td>2019.09</td>\n",
       "    </tr>\n",
       "  </tbody>\n",
       "</table>\n",
       "<p>499 rows × 5 columns</p>\n",
       "</div>"
      ],
      "text/plain": [
       "                 tv   radio  newpaper  magazine     date\n",
       "firm                                                    \n",
       "삼성전자       11479225  423815   6203885    242300  2015.09\n",
       "KT          8380633  368017    905887     25100  2015.09\n",
       "LG전자        6748621  342048   1969787    114800  2015.09\n",
       "한국지엠        6791838  596281    662799     35200  2015.09\n",
       "현대자동차       4453752  414230   2817550    108300  2015.09\n",
       "...             ...     ...       ...       ...      ...\n",
       "동원F&B        968138       0         0      5500  2019.09\n",
       "SK(주)             0       0    959321      4500  2019.09\n",
       "어린이재단        292914       0    657228      5600  2019.09\n",
       "케이티스카이라이프    929695       0         0         0  2019.09\n",
       "경북도청         272250       0    643796      7000  2019.09\n",
       "\n",
       "[499 rows x 5 columns]"
      ]
     },
     "execution_count": 22,
     "metadata": {},
     "output_type": "execute_result"
    }
   ],
   "source": [
    "# 리스트에 담아서 나중에 df하나로 합치기\n",
    "L = []\n",
    "for i in range(2015, 2020):    \n",
    "    f = pd.read_csv('./csvfiles/'+str(i)+'ad.csv')\n",
    "    f.drop('Unnamed: 0', axis=1, inplace=True)\n",
    "    f.drop(0, inplace=True)\n",
    "    f['tv'] = pd.to_numeric(f['tv'])\n",
    "    f['radio'] = pd.to_numeric(f['radio'])\n",
    "    f['newpaper'] = pd.to_numeric(f['newpaper'])\n",
    "    f['magazine'] = pd.to_numeric(f['magazine'])\n",
    "    f.set_index('firm', inplace=True)\n",
    "    date = str(i) +'.09'\n",
    "    f['date'] = date\n",
    "    L.append(f)\n",
    "df = pd.concat(L)\n",
    "df"
   ]
  },
  {
   "cell_type": "code",
   "execution_count": 25,
   "metadata": {},
   "outputs": [
    {
     "data": {
      "text/html": [
       "<div>\n",
       "<style scoped>\n",
       "    .dataframe tbody tr th:only-of-type {\n",
       "        vertical-align: middle;\n",
       "    }\n",
       "\n",
       "    .dataframe tbody tr th {\n",
       "        vertical-align: top;\n",
       "    }\n",
       "\n",
       "    .dataframe thead th {\n",
       "        text-align: right;\n",
       "    }\n",
       "</style>\n",
       "<table border=\"1\" class=\"dataframe\">\n",
       "  <thead>\n",
       "    <tr style=\"text-align: right;\">\n",
       "      <th></th>\n",
       "      <th>tv</th>\n",
       "      <th>radio</th>\n",
       "      <th>newpaper</th>\n",
       "      <th>magazine</th>\n",
       "    </tr>\n",
       "    <tr>\n",
       "      <th>firm</th>\n",
       "      <th></th>\n",
       "      <th></th>\n",
       "      <th></th>\n",
       "      <th></th>\n",
       "    </tr>\n",
       "  </thead>\n",
       "  <tbody>\n",
       "    <tr>\n",
       "      <td>삼성전자</td>\n",
       "      <td>8571937</td>\n",
       "      <td>255932</td>\n",
       "      <td>6769684</td>\n",
       "      <td>223800</td>\n",
       "    </tr>\n",
       "    <tr>\n",
       "      <td>현대자동차</td>\n",
       "      <td>4929457</td>\n",
       "      <td>448627</td>\n",
       "      <td>2711580</td>\n",
       "      <td>115300</td>\n",
       "    </tr>\n",
       "    <tr>\n",
       "      <td>아모레퍼시픽</td>\n",
       "      <td>4563944</td>\n",
       "      <td>222294</td>\n",
       "      <td>1742959</td>\n",
       "      <td>987600</td>\n",
       "    </tr>\n",
       "    <tr>\n",
       "      <td>LG전자</td>\n",
       "      <td>5587791</td>\n",
       "      <td>72904</td>\n",
       "      <td>1298358</td>\n",
       "      <td>184400</td>\n",
       "    </tr>\n",
       "    <tr>\n",
       "      <td>KT</td>\n",
       "      <td>4792340</td>\n",
       "      <td>317334</td>\n",
       "      <td>1120930</td>\n",
       "      <td>33100</td>\n",
       "    </tr>\n",
       "    <tr>\n",
       "      <td>...</td>\n",
       "      <td>...</td>\n",
       "      <td>...</td>\n",
       "      <td>...</td>\n",
       "      <td>...</td>\n",
       "    </tr>\n",
       "    <tr>\n",
       "      <td>소상공인시장진흥공단</td>\n",
       "      <td>173448</td>\n",
       "      <td>29638</td>\n",
       "      <td>666299</td>\n",
       "      <td>0</td>\n",
       "    </tr>\n",
       "    <tr>\n",
       "      <td>한국토요타자동차</td>\n",
       "      <td>459136</td>\n",
       "      <td>144439</td>\n",
       "      <td>222710</td>\n",
       "      <td>39000</td>\n",
       "    </tr>\n",
       "    <tr>\n",
       "      <td>기상청</td>\n",
       "      <td>861850</td>\n",
       "      <td>0</td>\n",
       "      <td>0</td>\n",
       "      <td>0</td>\n",
       "    </tr>\n",
       "    <tr>\n",
       "      <td>애플</td>\n",
       "      <td>767125</td>\n",
       "      <td>0</td>\n",
       "      <td>0</td>\n",
       "      <td>86000</td>\n",
       "    </tr>\n",
       "    <tr>\n",
       "      <td>OB맥주</td>\n",
       "      <td>838336</td>\n",
       "      <td>0</td>\n",
       "      <td>0</td>\n",
       "      <td>3000</td>\n",
       "    </tr>\n",
       "  </tbody>\n",
       "</table>\n",
       "<p>100 rows × 4 columns</p>\n",
       "</div>"
      ],
      "text/plain": [
       "                 tv   radio  newpaper  magazine\n",
       "firm                                           \n",
       "삼성전자        8571937  255932   6769684    223800\n",
       "현대자동차       4929457  448627   2711580    115300\n",
       "아모레퍼시픽      4563944  222294   1742959    987600\n",
       "LG전자        5587791   72904   1298358    184400\n",
       "KT          4792340  317334   1120930     33100\n",
       "...             ...     ...       ...       ...\n",
       "소상공인시장진흥공단   173448   29638    666299         0\n",
       "한국토요타자동차     459136  144439    222710     39000\n",
       "기상청          861850       0         0         0\n",
       "애플           767125       0         0     86000\n",
       "OB맥주         838336       0         0      3000\n",
       "\n",
       "[100 rows x 4 columns]"
      ]
     },
     "execution_count": 25,
     "metadata": {},
     "output_type": "execute_result"
    }
   ],
   "source": [
    "# for문에서 exec()함수로 동적변수 생성하기\n",
    "for i in range(2015,2020):\n",
    "\n",
    "    exec(\"df{} = pd.read_csv('./csvfiles/{}ad.csv')\".format(i,i))\n",
    "\n",
    "    exec(\"df{}.drop('Unnamed: 0', axis=1, inplace=True)\".format(i))\n",
    "\n",
    "    exec(\"df{}.drop(0, inplace=True)\".format(i))\n",
    "\n",
    "    exec(\"df{}['tv'] = pd.to_numeric(df{}.tv)\".format(i,i))\n",
    "\n",
    "    exec(\"df{}['radio'] = pd.to_numeric(df{}.radio)\".format(i,i))\n",
    "\n",
    "    exec(\"df{}['newpaper'] = pd.to_numeric(df{}.newpaper)\".format(i,i))\n",
    "\n",
    "    exec(\"df{}['magazine'] = pd.to_numeric(df{}.magazine)\".format(i,i))\n",
    "\n",
    "    exec(\"df{}.set_index('firm', inplace=True)\".format(i))\n",
    "df2016"
   ]
  },
  {
   "cell_type": "markdown",
   "metadata": {},
   "source": [
    "# pd.to_numeric()"
   ]
  },
  {
   "cell_type": "code",
   "execution_count": 26,
   "metadata": {},
   "outputs": [
    {
     "name": "stdout",
     "output_type": "stream",
     "text": [
      "<class 'pandas.core.frame.DataFrame'>\n",
      "Index: 99 entries, 삼성전자 to 대신증권\n",
      "Data columns (total 4 columns):\n",
      "tv          99 non-null int64\n",
      "radio       99 non-null int64\n",
      "newpaper    99 non-null int64\n",
      "magazine    99 non-null int64\n",
      "dtypes: int64(4)\n",
      "memory usage: 3.9+ KB\n"
     ]
    }
   ],
   "source": [
    "df2015['tv'] = pd.to_numeric(df2015['tv'])\n",
    "df2015['radio'] = pd.to_numeric(df2015['radio'])\n",
    "df2015['newpaper'] = pd.to_numeric(df2015['newpaper'])\n",
    "df2015['magazine'] = pd.to_numeric(df2015['magazine'])\n",
    "df2015.info()"
   ]
  }
 ],
 "metadata": {
  "kernelspec": {
   "display_name": "Python 3",
   "language": "python",
   "name": "python3"
  },
  "language_info": {
   "codemirror_mode": {
    "name": "ipython",
    "version": 3
   },
   "file_extension": ".py",
   "mimetype": "text/x-python",
   "name": "python",
   "nbconvert_exporter": "python",
   "pygments_lexer": "ipython3",
   "version": "3.7.4"
  }
 },
 "nbformat": 4,
 "nbformat_minor": 2
}
