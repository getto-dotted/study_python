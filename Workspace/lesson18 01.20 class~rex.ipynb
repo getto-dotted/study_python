{
 "cells": [
  {
   "cell_type": "markdown",
   "metadata": {},
   "source": [
    "# Class\n",
    "__init__()<br>\n",
    "self<br>\n",
    "super()<br>"
   ]
  },
  {
   "cell_type": "markdown",
   "metadata": {},
   "source": [
    "함께 사용되는 변수와 함수를 묶어서 복사해서 사용<br>\n",
    "변수 - (속성, attribute) 인스턴스 변수, 클래스 변수<br>\n",
    "메소드 - 클래스 내에 있는 함수<br>\n",
    "클래스는 복사해서 (인스턴스 생성) 사용 <br>\n",
    "인스턴스에서 속성과 메소드를 접근할때 '.' 접근자를 통해서 사용.<br>"
   ]
  },
  {
   "cell_type": "code",
   "execution_count": 68,
   "metadata": {},
   "outputs": [
    {
     "name": "stdout",
     "output_type": "stream",
     "text": [
      "----------------------------------------\n",
      "Name: 홍길동\n",
      "E-mail:  hong@naver.com\n",
      "Address: 서울시 구로구 신도림 한직전\n",
      "----------------------------------------\n"
     ]
    }
   ],
   "source": [
    "#명함을 출력하는 class BusinessCard를 만들고\n",
    "#인스턴스변수 : name, email, addr\n",
    "#메소드 : __init__: 인스턴스변수초기화\n",
    "#메소드 : print_business_card : 명함을 출력하는 메소드\n",
    "\n",
    "class BusinessCard:\n",
    "    def __init__(self, name, email, addr):\n",
    "        self.name = name\n",
    "        self.email = email\n",
    "        self.addr = addr\n",
    "        \n",
    "    def print_business_card(self):\n",
    "        print('-'*40)\n",
    "        print('Name: '+self.name)\n",
    "        print('E-mail: ',self.email)\n",
    "        print('Address: '+self.addr)\n",
    "        print('-'*40)     \n",
    "bc = BusinessCard('홍길동', 'hong@naver.com', '서울시 구로구 신도림 한직전')\n",
    "bc.print_business_card()        "
   ]
  },
  {
   "cell_type": "markdown",
   "metadata": {},
   "source": [
    "# 클래스 상속/메소드 오버라이딩"
   ]
  },
  {
   "cell_type": "code",
   "execution_count": 43,
   "metadata": {},
   "outputs": [
    {
     "name": "stdout",
     "output_type": "stream",
     "text": [
      "노래하기\n",
      "춤추기\n",
      "노래하기\n"
     ]
    }
   ],
   "source": [
    "#부모 class Parent\n",
    "#메소드 : can_sing\n",
    "#자식 class LuckyChild\n",
    "#메소드 : can_dance\n",
    "class Parent:\n",
    "    def can_sing(self):\n",
    "        print('노래하기')\n",
    "class LuckyChild(Parent):\n",
    "    def can_dance(self):\n",
    "        super().can_sing()\n",
    "        print('춤추기')\n",
    "    def can_sing(self):#메소드 오버라이딩\n",
    "        print('노래함')\n",
    "lc = LuckyChild()\n",
    "lc.can_dance()  \n",
    "lc.can_sing()"
   ]
  },
  {
   "cell_type": "code",
   "execution_count": 36,
   "metadata": {},
   "outputs": [
    {
     "name": "stdout",
     "output_type": "stream",
     "text": [
      "13\n",
      "-3\n",
      "40\n",
      "0.625\n"
     ]
    }
   ],
   "source": [
    "#사칙연산클래스를 만들고 메소드 실행\n",
    "#인스턴스변수 : x,y\n",
    "#메소드 : init, add, sub, mul, div\n",
    "class fourCal:\n",
    "    def __init__(self, x, y):\n",
    "        self.x =x\n",
    "        self.y =y\n",
    "    \n",
    "    def add(self):\n",
    "        return (self.x+self.y)\n",
    "    def sub(self):\n",
    "        return (self.x-self.y)\n",
    "    def mul(self):\n",
    "        return (self.x*self.y)\n",
    "    def div(self):\n",
    "        return (self.x/self.y)\n",
    "\n",
    "fc = fourCal(5,8)\n",
    "print(fc.add())\n",
    "print(fc.sub())\n",
    "print(fc.mul())\n",
    "print(fc.div())        "
   ]
  },
  {
   "cell_type": "code",
   "execution_count": 70,
   "metadata": {},
   "outputs": [
    {
     "data": {
      "text/plain": [
       "0.4"
      ]
     },
     "execution_count": 70,
     "metadata": {},
     "output_type": "execute_result"
    }
   ],
   "source": [
    "# overriding\n",
    "# 함수의 이름은 같지만 기능은 달라진다.\n",
    "class Calculator1(fourCal):\n",
    "    def div(self):\n",
    "        if self.y == 0:\n",
    "            return 0\n",
    "        else: \n",
    "            return self.x/ self.y\n",
    "\n",
    "cal1 = Calculator1(2,5)\n",
    "cal1.div()"
   ]
  },
  {
   "cell_type": "code",
   "execution_count": 37,
   "metadata": {},
   "outputs": [
    {
     "name": "stdout",
     "output_type": "stream",
     "text": [
      "50.24\n",
      "25.12\n"
     ]
    }
   ],
   "source": [
    "#원의 면적과 원의 둘레를 구현하는 class Circle\n",
    "#인스턴스변수 : r(반지름)\n",
    "#메소드 : area(원의면적 : 3.14*r**2), perimeter(원의 둘레: 3.14*r*2)\n",
    "class Circle:\n",
    "    def __init__(self, r):\n",
    "        self.r=r\n",
    "    def area(self):\n",
    "        return self.r**2*3.14\n",
    "    def perimeter(self):\n",
    "        return self.r*2*3.14\n",
    "    \n",
    "cc = Circle(4)\n",
    "print(cc.area())\n",
    "print(cc.perimeter())    "
   ]
  },
  {
   "cell_type": "code",
   "execution_count": 1,
   "metadata": {},
   "outputs": [
    {
     "ename": "TabError",
     "evalue": "inconsistent use of tabs and spaces in indentation (<ipython-input-1-f98bf23fabbc>, line 5)",
     "output_type": "error",
     "traceback": [
      "\u001b[1;36m  File \u001b[1;32m\"<ipython-input-1-f98bf23fabbc>\"\u001b[1;36m, line \u001b[1;32m5\u001b[0m\n\u001b[1;33m    print(\"aargs:\", args)\u001b[0m\n\u001b[1;37m                         ^\u001b[0m\n\u001b[1;31mTabError\u001b[0m\u001b[1;31m:\u001b[0m inconsistent use of tabs and spaces in indentation\n"
     ]
    }
   ],
   "source": [
    "class myClass1(object):\n",
    "\tdef __init__(self, *args, **kwargs):\n",
    "    \t#args -- 이름이 없는 인자를 저장하는 tuple\n",
    "    \t# #kwargs -- 이름이 있는 인자를 저장하는 dict\n",
    "    \tprint(\"aargs:\", args)\n",
    "    \tprint(\"kwargs:\", kwargs)\n",
    "    \tmynum = 3 if kwargs['num'] is None else kwargs['num']\n",
    "    \tprint(mynum)\n",
    "\n",
    "o = myClass1(4, \"hello\", num = None, mystring = \"mystring\")\n"
   ]
  },
  {
   "cell_type": "code",
   "execution_count": 2,
   "metadata": {},
   "outputs": [
    {
     "name": "stdout",
     "output_type": "stream",
     "text": [
      "{1: 'ming', 2: 'alice', 3: 'ming', 4: 'ming', 5: ()}\n",
      "{1: 'alice', 2: 'ming', 3: 'mike', 4: 'Nobody', 5: ()}\n",
      "{1: 'alice', 2: 'ming', 3: 'Nobody', 4: 'mike', 5: ()}\n",
      "{1: 'alice', 2: 'ming', 3: 'mike', 4: 'jim', 5: ()}\n"
     ]
    }
   ],
   "source": [
    "def save_ranking(first, second, third=None, fourth=None, *fifth):\n",
    "\trank = {}\n",
    "\trank[1], rank[2] = first, second\n",
    "\trank[3] = third if third is not None else 'Nobody'\n",
    "\trank[4] = fourth if fourth is not None else 'Nobody'\n",
    "\trank[5] = fifth if fifth is not None else 'Nobody'\n",
    "\tprint(rank)\n",
    "# positional arguments 2개 전달\n",
    "save_ranking('ming', 'alice', 'ming','ming')\n",
    "# positional arguments 2개와 keyword argument 1개 전달\n",
    "save_ranking('alice', 'ming', third='mike')\n",
    "# positional arguments 2개와 keyword argument 1개 전달\n",
    "save_ranking('alice', 'ming', fourth='mike')\n",
    "# positional arguments 2개와 keyword arguments 2개 전달 (단, 하나는 positional argument 형태로 전달)\n",
    "save_ranking('alice', 'ming', 'mike', fourth='jim')\n"
   ]
  },
  {
   "cell_type": "markdown",
   "metadata": {},
   "source": [
    "# Exeption\n",
    "try:<br>\n",
    "&nbsp;&nbsp;&nbsp;&nbsp;실행문<br>\n",
    "except:<br>\n",
    "&nbsp;&nbsp;&nbsp;&nbsp;에러발생시 실행코드"
   ]
  },
  {
   "cell_type": "code",
   "execution_count": 44,
   "metadata": {},
   "outputs": [
    {
     "name": "stdout",
     "output_type": "stream",
     "text": [
      "예외발생\n"
     ]
    }
   ],
   "source": [
    "try:\n",
    "    print(param)\n",
    "except:\n",
    "    print('예외발생')"
   ]
  },
  {
   "cell_type": "code",
   "execution_count": 45,
   "metadata": {},
   "outputs": [
    {
     "name": "stdout",
     "output_type": "stream",
     "text": [
      "name 'param' is not defined\n"
     ]
    }
   ],
   "source": [
    "try:\n",
    "    print(param)\n",
    "except Exception as e:\n",
    "    print(e)"
   ]
  },
  {
   "cell_type": "code",
   "execution_count": 47,
   "metadata": {},
   "outputs": [
    {
     "name": "stdout",
     "output_type": "stream",
     "text": [
      "division by zero\n",
      "hello python\n"
     ]
    }
   ],
   "source": [
    "a=5\n",
    "b=0\n",
    "\n",
    "try:\n",
    "    c=a/b\n",
    "except Exception as e:\n",
    "    print(e)\n",
    "\n",
    "print('hello python')"
   ]
  },
  {
   "cell_type": "code",
   "execution_count": 48,
   "metadata": {},
   "outputs": [
    {
     "name": "stdout",
     "output_type": "stream",
     "text": [
      "list index out of range\n"
     ]
    }
   ],
   "source": [
    "L = [1,2,3]\n",
    "\n",
    "try:\n",
    "    print(L[3])\n",
    "except Exception as e:\n",
    "    print(e)"
   ]
  },
  {
   "cell_type": "code",
   "execution_count": 50,
   "metadata": {},
   "outputs": [
    {
     "name": "stdout",
     "output_type": "stream",
     "text": [
      "0으로 나눌 수 없음\n",
      "goog bye\n"
     ]
    }
   ],
   "source": [
    "a =5\n",
    "b =0\n",
    "L =[1,3,3]\n",
    "\n",
    "try:\n",
    "    c=a/b\n",
    "    print(x)\n",
    "    print(L[3])\n",
    "\n",
    "except ZeroDivisionError:\n",
    "    print('0으로 나눌 수 없음')\n",
    "except NameError:\n",
    "    print('x를 찾을 수 없음')\n",
    "except IndexError:\n",
    "    print('해당 인덱스는 존재하지 않음')\n",
    "else:\n",
    "    print('else part')\n",
    "    \n",
    "print('goog bye')"
   ]
  },
  {
   "cell_type": "code",
   "execution_count": 51,
   "metadata": {},
   "outputs": [
    {
     "name": "stdout",
     "output_type": "stream",
     "text": [
      "x를 찾을 수 없음\n",
      "goog bye\n"
     ]
    }
   ],
   "source": [
    "a =5\n",
    "b =1\n",
    "L =[1,3,3]\n",
    "\n",
    "try:\n",
    "    c=a/b\n",
    "    print(x)\n",
    "    print(L[3])\n",
    "\n",
    "except ZeroDivisionError:\n",
    "    print('0으로 나눌 수 없음')\n",
    "except NameError:\n",
    "    print('x를 찾을 수 없음')\n",
    "except IndexError:\n",
    "    print('해당 인덱스는 존재하지 않음')\n",
    "else:\n",
    "    print('else part')\n",
    "    \n",
    "print('goog bye')"
   ]
  },
  {
   "cell_type": "code",
   "execution_count": 53,
   "metadata": {},
   "outputs": [
    {
     "name": "stdout",
     "output_type": "stream",
     "text": [
      "5\n",
      "해당 인덱스는 존재하지 않음\n",
      "goog bye\n"
     ]
    }
   ],
   "source": [
    "a =5\n",
    "b =1\n",
    "L =[1,3,3]\n",
    "\n",
    "try:\n",
    "    c=a/b\n",
    "    print(a)\n",
    "    print(L[3])\n",
    "\n",
    "except ZeroDivisionError:\n",
    "    print('0으로 나눌 수 없음')\n",
    "except NameError:\n",
    "    print('x를 찾을 수 없음')\n",
    "except IndexError:\n",
    "    print('해당 인덱스는 존재하지 않음')\n",
    "else:\n",
    "    print('else part')\n",
    "    \n",
    "print('goog bye')"
   ]
  },
  {
   "cell_type": "code",
   "execution_count": 54,
   "metadata": {},
   "outputs": [
    {
     "name": "stdout",
     "output_type": "stream",
     "text": [
      "5\n",
      "3\n",
      "else part\n",
      "goog bye\n"
     ]
    }
   ],
   "source": [
    "a =5\n",
    "b =1\n",
    "L =[1,3,3]\n",
    "\n",
    "try:\n",
    "    c=a/b\n",
    "    print(a)\n",
    "    print(L[2])\n",
    "\n",
    "except ZeroDivisionError:\n",
    "    print('0으로 나눌 수 없음')\n",
    "except NameError:\n",
    "    print('x를 찾을 수 없음')\n",
    "except IndexError:\n",
    "    print('해당 인덱스는 존재하지 않음')\n",
    "else:\n",
    "    print('else part')\n",
    "    \n",
    "print('goog bye')"
   ]
  },
  {
   "cell_type": "markdown",
   "metadata": {},
   "source": [
    "# Regular Expression"
   ]
  },
  {
   "cell_type": "markdown",
   "metadata": {},
   "source": [
    "문자열에서 특정한 문자열을 찾거나 수정할 때 사용"
   ]
  },
  {
   "cell_type": "code",
   "execution_count": 55,
   "metadata": {},
   "outputs": [],
   "source": [
    "import re"
   ]
  },
  {
   "cell_type": "code",
   "execution_count": 58,
   "metadata": {},
   "outputs": [
    {
     "data": {
      "text/plain": [
       "'415-555-5252'"
      ]
     },
     "execution_count": 58,
     "metadata": {},
     "output_type": "execute_result"
    }
   ],
   "source": [
    "re1 = re.compile(r'\\d\\d\\d-\\d\\d\\d\\-\\d\\d\\d\\d')\n",
    "mo=re1.search('My number is 415-555-5252')\n",
    "mo.group()"
   ]
  },
  {
   "cell_type": "code",
   "execution_count": 60,
   "metadata": {},
   "outputs": [
    {
     "data": {
      "text/plain": [
       "'Batman'"
      ]
     },
     "execution_count": 60,
     "metadata": {},
     "output_type": "execute_result"
    }
   ],
   "source": [
    "re2 = re.compile(r'Batman|Tina Fey')\n",
    "mo = re2.search('Batman and Tina Fey')\n",
    "mo.group()"
   ]
  },
  {
   "cell_type": "code",
   "execution_count": 61,
   "metadata": {},
   "outputs": [
    {
     "name": "stdout",
     "output_type": "stream",
     "text": [
      "['415-555-9999', '212-555-0000']\n"
     ]
    }
   ],
   "source": [
    "re3 = re.compile(r'\\d\\d\\d-\\d\\d\\d\\-\\d\\d\\d\\d')\n",
    "mo = re3.findall('Call: 415-555-9999, work: 212-555-0000')\n",
    "print(mo)"
   ]
  },
  {
   "cell_type": "code",
   "execution_count": 63,
   "metadata": {},
   "outputs": [
    {
     "name": "stdout",
     "output_type": "stream",
     "text": [
      "['12 drummers', '11 pipers', '10 lords']\n"
     ]
    }
   ],
   "source": [
    "re4 = re.compile(r'\\d+\\s\\w+')\n",
    "mo = re4.findall('12 drummers, 11 pipers, 10 lords')\n",
    "print(mo)"
   ]
  },
  {
   "cell_type": "markdown",
   "metadata": {},
   "source": [
    "## \\d : 0~9 사이의 임의의 숫자\n",
    "## \\w : 문자, 숫자, 밑줄글자\n",
    "## \\s : 빈칸, 탭, 줄바꿈 문자\n",
    "## ^ - 시작부분 일치\n",
    "## . => 줄 바꿈 이외 모든 한개의 문자와 일치\n",
    "## * => 앞의 문자가 0번 이상 일치\n",
    "## $ - 끝 부분 일치\n",
    "## 사용자 정의 문자 클래스 => 대괄호[]\n",
    "* [aeiouAEIOU] => 모음문자\n",
    "* [a-zA-Z0-9] => 영어 대소문자, 숫자\n",
    "* ^ => 부정문자클래스 (이것은 제외함)"
   ]
  },
  {
   "cell_type": "code",
   "execution_count": 65,
   "metadata": {},
   "outputs": [
    {
     "data": {
      "text/plain": [
       "'Censored gave secret document to Censored'"
      ]
     },
     "execution_count": 65,
     "metadata": {},
     "output_type": "execute_result"
    }
   ],
   "source": [
    "re5 = re.compile(r'Agent \\w+')\n",
    "re5.sub('Censored', 'Agent Alice gave secret document to Agent Bob')"
   ]
  }
 ],
 "metadata": {
  "kernelspec": {
   "display_name": "Python 3",
   "language": "python",
   "name": "python3"
  },
  "language_info": {
   "codemirror_mode": {
    "name": "ipython",
    "version": 3
   },
   "file_extension": ".py",
   "mimetype": "text/x-python",
   "name": "python",
   "nbconvert_exporter": "python",
   "pygments_lexer": "ipython3",
   "version": "3.7.4"
  }
 },
 "nbformat": 4,
 "nbformat_minor": 2
}
