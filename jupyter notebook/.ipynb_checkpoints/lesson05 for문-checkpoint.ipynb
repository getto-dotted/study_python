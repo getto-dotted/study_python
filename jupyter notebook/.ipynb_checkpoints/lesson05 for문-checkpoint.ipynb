{
 "cells": [
  {
   "cell_type": "code",
   "execution_count": 6,
   "metadata": {},
   "outputs": [
    {
     "name": "stdout",
     "output_type": "stream",
     "text": [
      "hello world"
     ]
    }
   ],
   "source": [
    "text = 'hello world'\n",
    "\n",
    "for i in text:\n",
    "    print(i, end='')"
   ]
  },
  {
   "cell_type": "code",
   "execution_count": 36,
   "metadata": {},
   "outputs": [
    {
     "name": "stdout",
     "output_type": "stream",
     "text": [
      "hello world"
     ]
    }
   ],
   "source": [
    "for i in 'hello world': #변수를 직접 쓸 수도 있다\n",
    "    print(i, end='')"
   ]
  },
  {
   "cell_type": "code",
   "execution_count": 10,
   "metadata": {},
   "outputs": [
    {
     "name": "stdout",
     "output_type": "stream",
     "text": [
      "HELLO WORLD"
     ]
    }
   ],
   "source": [
    "#text에서 for문을 이용해서 문자를 대문자로 전환\n",
    "\n",
    "for i in text:\n",
    "    print(i.upper(), end='')"
   ]
  },
  {
   "cell_type": "code",
   "execution_count": 14,
   "metadata": {},
   "outputs": [
    {
     "data": {
      "text/plain": [
       "['H', 'E', 'L', 'L', 'O', ' ', 'W', 'O', 'R', 'L', 'D']"
      ]
     },
     "execution_count": 14,
     "metadata": {},
     "output_type": "execute_result"
    }
   ],
   "source": [
    "#text에서 for문을 이용해서 문자를 대문자로 바꿔서 리스트에 담으시오\n",
    "\n",
    "a = []\n",
    "for i in text:    \n",
    "    a.append(i.upper())\n",
    "    \n",
    "a    "
   ]
  },
  {
   "cell_type": "code",
   "execution_count": 15,
   "metadata": {},
   "outputs": [
    {
     "data": {
      "text/plain": [
       "[0, 3, 6, 9, 12, 15, 18]"
      ]
     },
     "execution_count": 15,
     "metadata": {},
     "output_type": "execute_result"
    }
   ],
   "source": [
    "#0~20까지 정수에서 3의 배수만 리스트에 담기\n",
    "\n",
    "b =[]\n",
    "for i in range(21):\n",
    "    if i%3==0:\n",
    "        b.append(i)\n",
    "b        "
   ]
  },
  {
   "cell_type": "code",
   "execution_count": 30,
   "metadata": {},
   "outputs": [
    {
     "data": {
      "text/plain": [
       "['h', 'l', 'o', 'w', 'r', 'd']"
      ]
     },
     "execution_count": 30,
     "metadata": {},
     "output_type": "execute_result"
    }
   ],
   "source": [
    "#text에서 짝수 인덱스만 리스트에 담으세요\n",
    "b =[]\n",
    "for i in range(0 ,len(text), 2):\n",
    "    b.append(text[i])\n",
    "b        "
   ]
  },
  {
   "cell_type": "code",
   "execution_count": 25,
   "metadata": {},
   "outputs": [
    {
     "data": {
      "text/plain": [
       "['h', 'l', 'o', 'w', 'r', 'd']"
      ]
     },
     "execution_count": 25,
     "metadata": {},
     "output_type": "execute_result"
    }
   ],
   "source": [
    "#text에서 짝수 인덱스만 리스트에 담으세요\n",
    "c =[]\n",
    "for i,cha in enumerate(text):\n",
    "    if i%2==0:\n",
    "        c.append(cha)\n",
    "c        "
   ]
  },
  {
   "cell_type": "code",
   "execution_count": 198,
   "metadata": {},
   "outputs": [
    {
     "data": {
      "text/plain": [
       "['o', 'u', 'a', 'i', 'o', 'a', 'i', 'i']"
      ]
     },
     "execution_count": 198,
     "metadata": {},
     "output_type": "execute_result"
    }
   ],
   "source": [
    "#text에서 모음만 추출해서 리스트에 담으세요\n",
    "c=[]\n",
    "for i in text:\n",
    "    if i=='a' or i=='i' or i=='o' or i=='u' or i=='e':\n",
    "        c.append(i)\n",
    "c        "
   ]
  },
  {
   "cell_type": "code",
   "execution_count": 199,
   "metadata": {},
   "outputs": [
    {
     "data": {
      "text/plain": [
       "['o', 'u', 'a', 'i', 'o', 'a', 'i', 'i']"
      ]
     },
     "execution_count": 199,
     "metadata": {},
     "output_type": "execute_result"
    }
   ],
   "source": [
    "#text에서 모음만 추출해서 리스트에 담으세요\n",
    "text = 'computational thinking'\n",
    "c=[]\n",
    "for i in text:\n",
    "    if i in ['a','e','o','u','i']:\n",
    "        c.append(i)\n",
    "c        "
   ]
  },
  {
   "cell_type": "code",
   "execution_count": 200,
   "metadata": {},
   "outputs": [
    {
     "name": "stdout",
     "output_type": "stream",
     "text": [
      "mountain/river/could/tree/lake/country/"
     ]
    }
   ],
   "source": [
    "#words 에서 캐릭터수가 4 이상인 단어만 추출\n",
    "\n",
    "words = ['mountain', 'sea', 'sky', 'river', 'could', 'tree', 'lake', 'country']\n",
    "\n",
    "for i in words:\n",
    "    if len(i)>=4:\n",
    "        print(i, end='/')\n",
    "        "
   ]
  },
  {
   "cell_type": "code",
   "execution_count": 57,
   "metadata": {},
   "outputs": [
    {
     "name": "stdout",
     "output_type": "stream",
     "text": [
      "[('a', 8), ('a', 5), ('a', 4), ('a', 2), ('a', 7), ('b', 8), ('b', 5), ('b', 4), ('b', 2), ('b', 7), ('c', 8), ('c', 5), ('c', 4), ('c', 2), ('c', 7)]"
     ]
    }
   ],
   "source": [
    "num1= ['a', 'b', 'c']\n",
    "num2= [8,5,4,2,7]\n",
    "\n",
    "# 모든 조합을 L이라는 리스트에 담으시오\n",
    "# => ('a',8),('a',5)...\n",
    "\n",
    "L = []\n",
    "\n",
    "for i in num1:\n",
    "    for j in num2:\n",
    "        L.append((i,j))\n",
    "print(L, end='')\n"
   ]
  },
  {
   "cell_type": "code",
   "execution_count": 65,
   "metadata": {},
   "outputs": [
    {
     "name": "stdout",
     "output_type": "stream",
     "text": [
      "['c', 'o', 'm', 'p', 'u', 't', 'a', 't', 'i', 'o', 'n', 'a', 'l', ' ', 't', 'h', 'i', 'n', 'k', 'i', 'n', 'g']"
     ]
    }
   ],
   "source": [
    "L:[]\n",
    "L.clear()\n",
    "\n",
    "for i in text:\n",
    "    L.append(i)\n",
    "print(L, end='')"
   ]
  },
  {
   "cell_type": "markdown",
   "metadata": {},
   "source": [
    "List Comprehension\n",
    "\n",
    "#List 안에서 for문을 실행하고, 결과가 list에 담겨서 나온다."
   ]
  },
  {
   "cell_type": "code",
   "execution_count": 66,
   "metadata": {},
   "outputs": [
    {
     "data": {
      "text/plain": [
       "[0, 1, 2, 3, 4, 5, 6, 7, 8, 9]"
      ]
     },
     "execution_count": 66,
     "metadata": {},
     "output_type": "execute_result"
    }
   ],
   "source": [
    "L.clear()\n",
    "L =[]\n",
    "for i in range(10):\n",
    "    L.append(i)\n",
    "L    "
   ]
  },
  {
   "cell_type": "code",
   "execution_count": 68,
   "metadata": {},
   "outputs": [
    {
     "data": {
      "text/plain": [
       "[0, 1, 2, 3, 4, 5, 6, 7, 8, 9]"
      ]
     },
     "execution_count": 68,
     "metadata": {},
     "output_type": "execute_result"
    }
   ],
   "source": [
    "[i for i in range(10)]"
   ]
  },
  {
   "cell_type": "code",
   "execution_count": 69,
   "metadata": {},
   "outputs": [
    {
     "name": "stdout",
     "output_type": "stream",
     "text": [
      "[('a', 8), ('a', 5), ('a', 4), ('a', 2), ('a', 7), ('b', 8), ('b', 5), ('b', 4), ('b', 2), ('b', 7), ('c', 8), ('c', 5), ('c', 4), ('c', 2), ('c', 7)]"
     ]
    }
   ],
   "source": [
    "print([(i,j) for i in num1 for j in num2], end='')"
   ]
  },
  {
   "cell_type": "code",
   "execution_count": 74,
   "metadata": {},
   "outputs": [],
   "source": [
    "for i in range(10):\n",
    "    if i%2 ==0:\n",
    "        L.append(i)\n",
    "L.clear()        "
   ]
  },
  {
   "cell_type": "code",
   "execution_count": 76,
   "metadata": {},
   "outputs": [],
   "source": [
    "L1 = [i for i in range(10) if i%2==0]"
   ]
  },
  {
   "cell_type": "code",
   "execution_count": 77,
   "metadata": {},
   "outputs": [
    {
     "data": {
      "text/plain": [
       "[0, 2, 4, 6, 8]"
      ]
     },
     "execution_count": 77,
     "metadata": {},
     "output_type": "execute_result"
    }
   ],
   "source": [
    "L1"
   ]
  },
  {
   "cell_type": "code",
   "execution_count": 79,
   "metadata": {},
   "outputs": [
    {
     "data": {
      "text/plain": [
       "7"
      ]
     },
     "execution_count": 79,
     "metadata": {},
     "output_type": "execute_result"
    }
   ],
   "source": [
    "#짝수의 갯수를 구하시오\n",
    "temp =[1,2,4,5,6,67,7,7,5,4,3,2,5,7,8,9,90]\n",
    "\n",
    "a =0 \n",
    "for i in temp:\n",
    "    if i%2==0:\n",
    "        a+=1\n",
    "a        "
   ]
  },
  {
   "cell_type": "code",
   "execution_count": 80,
   "metadata": {},
   "outputs": [
    {
     "data": {
      "text/plain": [
       "116"
      ]
     },
     "execution_count": 80,
     "metadata": {},
     "output_type": "execute_result"
    }
   ],
   "source": [
    "#짝수의 합\n",
    "\n",
    "a =0\n",
    "for i in temp:\n",
    "    if i%2==0:\n",
    "        a+=i\n",
    "a        "
   ]
  },
  {
   "cell_type": "code",
   "execution_count": 83,
   "metadata": {},
   "outputs": [
    {
     "data": {
      "text/plain": [
       "5050"
      ]
     },
     "execution_count": 83,
     "metadata": {},
     "output_type": "execute_result"
    }
   ],
   "source": [
    "#1~100합\n",
    "a=0\n",
    "for i in range(1,101):\n",
    "    a+=i\n",
    "a    "
   ]
  },
  {
   "cell_type": "code",
   "execution_count": 107,
   "metadata": {},
   "outputs": [
    {
     "name": "stdout",
     "output_type": "stream",
     "text": [
      "짝수= 2550 홀수= 2500\n"
     ]
    }
   ],
   "source": [
    "#1~100까지의 수에서 짝수의 합과 홀수의 합을 구하시오\n",
    "a=0; b=0;\n",
    "for i in range(1,101):\n",
    "    if i%2==0:\n",
    "        a+=i\n",
    "    else:\n",
    "        b+=i\n",
    "print('짝수=',a,'홀수=',b)"
   ]
  },
  {
   "cell_type": "code",
   "execution_count": 113,
   "metadata": {},
   "outputs": [
    {
     "name": "stdout",
     "output_type": "stream",
     "text": [
      "20\n",
      "20\n"
     ]
    }
   ],
   "source": [
    "#value의 합을 구하시오\n",
    "score = {'a':5, 'b':3, 'c':8, 'd':4}\n",
    "\n",
    "a=0\n",
    "for i in score.values():\n",
    "    a += i\n",
    "\n",
    "print(a)\n",
    "print(sum(score.values()))"
   ]
  },
  {
   "cell_type": "code",
   "execution_count": 119,
   "metadata": {},
   "outputs": [
    {
     "data": {
      "text/plain": [
       "{'a': 1, 'b': 2, 'c': 3, 'd': 4}"
      ]
     },
     "execution_count": 119,
     "metadata": {},
     "output_type": "execute_result"
    }
   ],
   "source": [
    "temp1 = ['a','b','c','d']\n",
    "temp2 = [1,2,3,4]\n",
    "#temp1을 key로 하고 temp2를 value로 하는 dict를 만들기\n",
    "\n",
    "d= {}\n",
    "for i in temp1:    \n",
    "    for j in temp2:\n",
    "        if temp2.index(j)==temp1.index(i):\n",
    "            d.setdefault(i,j)\n",
    "d        "
   ]
  },
  {
   "cell_type": "code",
   "execution_count": 120,
   "metadata": {},
   "outputs": [
    {
     "data": {
      "text/plain": [
       "{'a': 1, 'b': 2, 'c': 3, 'd': 4}"
      ]
     },
     "execution_count": 120,
     "metadata": {},
     "output_type": "execute_result"
    }
   ],
   "source": [
    "temp1 = ['a','b','c','d']\n",
    "temp2 = [1,2,3,4]\n",
    "#temp1을 key로 하고 temp2를 value로 하는 dict를 만들기\n",
    "\n",
    "d= {}\n",
    "for i in range(4):\n",
    "    d[temp1[i]]=temp2[i]\n",
    "d    "
   ]
  },
  {
   "cell_type": "code",
   "execution_count": 127,
   "metadata": {},
   "outputs": [
    {
     "name": "stdout",
     "output_type": "stream",
     "text": [
      "2 x 2 = 4 2 x 3 = 6 2 x 4 = 8 2 x 5 = 10 2 x 6 = 12 2 x 7 = 14 2 x 8 = 16 2 x 9 = 18 \n",
      "3 x 2 = 6 3 x 3 = 9 3 x 4 = 12 3 x 5 = 15 3 x 6 = 18 3 x 7 = 21 3 x 8 = 24 3 x 9 = 27 \n",
      "4 x 2 = 8 4 x 3 = 12 4 x 4 = 16 4 x 5 = 20 4 x 6 = 24 4 x 7 = 28 4 x 8 = 32 4 x 9 = 36 \n",
      "5 x 2 = 10 5 x 3 = 15 5 x 4 = 20 5 x 5 = 25 5 x 6 = 30 5 x 7 = 35 5 x 8 = 40 5 x 9 = 45 \n",
      "6 x 2 = 12 6 x 3 = 18 6 x 4 = 24 6 x 5 = 30 6 x 6 = 36 6 x 7 = 42 6 x 8 = 48 6 x 9 = 54 \n",
      "7 x 2 = 14 7 x 3 = 21 7 x 4 = 28 7 x 5 = 35 7 x 6 = 42 7 x 7 = 49 7 x 8 = 56 7 x 9 = 63 \n",
      "8 x 2 = 16 8 x 3 = 24 8 x 4 = 32 8 x 5 = 40 8 x 6 = 48 8 x 7 = 56 8 x 8 = 64 8 x 9 = 72 \n",
      "9 x 2 = 18 9 x 3 = 27 9 x 4 = 36 9 x 5 = 45 9 x 6 = 54 9 x 7 = 63 9 x 8 = 72 9 x 9 = 81 \n"
     ]
    }
   ],
   "source": [
    "# for 문을 이용해서 구구단을 출력하기\n",
    "\n",
    "for i in range(2,10):\n",
    "    for j in range(2,10):\n",
    "        print(i,'x',j,'=',i*j,end=' ')\n",
    "    print()    "
   ]
  },
  {
   "cell_type": "code",
   "execution_count": 138,
   "metadata": {},
   "outputs": [
    {
     "name": "stdout",
     "output_type": "stream",
     "text": [
      "2x2= 4 2x3= 6 2x4= 8 2x5=10 2x6=12 2x7=14 2x8=16 2x9=18 \n",
      "3x2= 6 3x3= 9 3x4=12 3x5=15 3x6=18 3x7=21 3x8=24 3x9=27 \n",
      "4x2= 8 4x3=12 4x4=16 4x5=20 4x6=24 4x7=28 4x8=32 4x9=36 \n",
      "5x2=10 5x3=15 5x4=20 5x5=25 5x6=30 5x7=35 5x8=40 5x9=45 \n",
      "6x2=12 6x3=18 6x4=24 6x5=30 6x6=36 6x7=42 6x8=48 6x9=54 \n",
      "7x2=14 7x3=21 7x4=28 7x5=35 7x6=42 7x7=49 7x8=56 7x9=63 \n",
      "8x2=16 8x3=24 8x4=32 8x5=40 8x6=48 8x7=56 8x8=64 8x9=72 \n",
      "9x2=18 9x3=27 9x4=36 9x5=45 9x6=54 9x7=63 9x8=72 9x9=81 \n"
     ]
    }
   ],
   "source": [
    "# for 문을 이용해서 구구단을 출력하기\n",
    "\n",
    "for i in range(2,10):\n",
    "    for j in range(2,10):\n",
    "        print('{}x{}={:>2}'.format(i,j,i*j),end=' ')\n",
    "    print()    "
   ]
  },
  {
   "cell_type": "code",
   "execution_count": 162,
   "metadata": {},
   "outputs": [
    {
     "name": "stdout",
     "output_type": "stream",
     "text": [
      "*\n",
      "**\n",
      "***\n",
      "****\n",
      "*****\n"
     ]
    }
   ],
   "source": [
    "for i in range(0,5):\n",
    "    for j in range(0,5):\n",
    "        if i>=j:\n",
    "            print('*',end='')\n",
    "    print()"
   ]
  },
  {
   "cell_type": "code",
   "execution_count": 160,
   "metadata": {},
   "outputs": [
    {
     "name": "stdout",
     "output_type": "stream",
     "text": [
      "*****\n",
      "****\n",
      "***\n",
      "**\n",
      "*\n",
      "\n"
     ]
    }
   ],
   "source": [
    "for i in range(0,6):\n",
    "    for j in range(0,6):\n",
    "        if i<j:\n",
    "            print('*',end='')\n",
    "    print()"
   ]
  },
  {
   "cell_type": "code",
   "execution_count": 163,
   "metadata": {},
   "outputs": [
    {
     "name": "stdout",
     "output_type": "stream",
     "text": [
      "\n",
      "*\n",
      "**\n",
      "***\n",
      "****\n",
      "*****\n"
     ]
    }
   ],
   "source": [
    "for i in range(0,6):\n",
    "    print('*'*i)"
   ]
  },
  {
   "cell_type": "code",
   "execution_count": 165,
   "metadata": {},
   "outputs": [
    {
     "name": "stdout",
     "output_type": "stream",
     "text": [
      "*****\n",
      "****\n",
      "***\n",
      "**\n",
      "*\n",
      "\n"
     ]
    }
   ],
   "source": [
    "for i in range(0,6):\n",
    "    print('*'*(5-i))"
   ]
  },
  {
   "cell_type": "code",
   "execution_count": 168,
   "metadata": {},
   "outputs": [
    {
     "data": {
      "text/plain": [
       "1540"
      ]
     },
     "execution_count": 168,
     "metadata": {},
     "output_type": "execute_result"
    }
   ],
   "source": [
    "#while문으로 1~55까지의 합\n",
    "\n",
    "a =0\n",
    "b =0\n",
    "while a<=55:\n",
    "    b+=a\n",
    "    a+=1\n",
    "b    "
   ]
  },
  {
   "cell_type": "code",
   "execution_count": null,
   "metadata": {},
   "outputs": [],
   "source": [
    "#while문을 이용 점수를 5회 입력받은 후 점수 평균을 계산하도록"
   ]
  },
  {
   "cell_type": "code",
   "execution_count": 178,
   "metadata": {},
   "outputs": [
    {
     "name": "stdout",
     "output_type": "stream",
     "text": [
      "5\n",
      "5\n",
      "5\n",
      "5\n",
      "5\n"
     ]
    },
    {
     "data": {
      "text/plain": [
       "5.0"
      ]
     },
     "execution_count": 178,
     "metadata": {},
     "output_type": "execute_result"
    }
   ],
   "source": [
    "total  =0\n",
    "count =1\n",
    "num =5\n",
    "while count <= num:\n",
    "    score = int(input())\n",
    "    total+=score\n",
    "    count +=1\n",
    "total/num\n"
   ]
  },
  {
   "cell_type": "code",
   "execution_count": 202,
   "metadata": {},
   "outputs": [
    {
     "name": "stdout",
     "output_type": "stream",
     "text": [
      "45\n",
      "53\n",
      "45\n",
      "6\n",
      "456\n"
     ]
    },
    {
     "data": {
      "text/plain": [
       "121.0"
      ]
     },
     "execution_count": 202,
     "metadata": {},
     "output_type": "execute_result"
    }
   ],
   "source": [
    "total  =0\n",
    "count =1\n",
    "num =5\n",
    "while count <= num:\n",
    "    total+= int(input())   \n",
    "    count +=1\n",
    "total/num\n"
   ]
  },
  {
   "cell_type": "code",
   "execution_count": 191,
   "metadata": {},
   "outputs": [
    {
     "data": {
      "text/plain": [
       "1683"
      ]
     },
     "execution_count": 191,
     "metadata": {},
     "output_type": "execute_result"
    }
   ],
   "source": [
    "#while문에서 continue를 사용해서 1~100까지의 수에서\n",
    "#3의 배수의 합\n",
    "\n",
    "i =0\n",
    "suma =0\n",
    "while i<=100:   \n",
    "    i += 1\n",
    "    if i%3 !=0:        \n",
    "        continue\n",
    "    suma += i       \n",
    "    \n",
    "suma"
   ]
  },
  {
   "cell_type": "code",
   "execution_count": 197,
   "metadata": {},
   "outputs": [
    {
     "data": {
      "text/plain": [
       "2205"
      ]
     },
     "execution_count": 197,
     "metadata": {},
     "output_type": "execute_result"
    }
   ],
   "source": [
    "#while문에서 continue를 사용해서 1~100까지의 수에서\n",
    "#20보다 크고 70보다 작은 수들의 합\n",
    "\n",
    "i=0\n",
    "suma =0\n",
    "while i<100:    \n",
    "    i +=1\n",
    "    if i<21:\n",
    "        continue\n",
    "    \n",
    "    elif i>=70:\n",
    "        break\n",
    "    suma+=i    \n",
    "suma        "
   ]
  },
  {
   "cell_type": "code",
   "execution_count": 196,
   "metadata": {},
   "outputs": [
    {
     "data": {
      "text/plain": [
       "1683"
      ]
     },
     "execution_count": 196,
     "metadata": {},
     "output_type": "execute_result"
    }
   ],
   "source": [
    "#while문에서 continue를 사용해서 1~100까지의 수에서\n",
    "#3의 배수의 합\n",
    "\n",
    "i =0\n",
    "suma =0\n",
    "while i<=100:       \n",
    "    if i%3 ==0:        \n",
    "        suma += i           \n",
    "    i += 1\n",
    "suma"
   ]
  }
 ],
 "metadata": {
  "kernelspec": {
   "display_name": "Python 3",
   "language": "python",
   "name": "python3"
  },
  "language_info": {
   "codemirror_mode": {
    "name": "ipython",
    "version": 3
   },
   "file_extension": ".py",
   "mimetype": "text/x-python",
   "name": "python",
   "nbconvert_exporter": "python",
   "pygments_lexer": "ipython3",
   "version": "3.7.4"
  }
 },
 "nbformat": 4,
 "nbformat_minor": 2
}
