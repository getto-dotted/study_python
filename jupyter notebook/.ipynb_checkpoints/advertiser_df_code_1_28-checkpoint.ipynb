{
 "cells": [
  {
   "cell_type": "code",
   "execution_count": null,
   "metadata": {},
   "outputs": [],
   "source": [
    "# http://www.ad.co.kr/stat/index.hjsp"
   ]
  },
  {
   "cell_type": "code",
   "execution_count": 10,
   "metadata": {},
   "outputs": [],
   "source": [
    "# from scipy import stats"
   ]
  },
  {
   "cell_type": "code",
   "execution_count": 4,
   "metadata": {},
   "outputs": [],
   "source": [
    "import pandas as pd\n",
    "import numpy as np\n",
    "import matplotlib.pyplot as plt\n",
    "# import seaborn as sns|\n",
    "%matplotlib inline"
   ]
  },
  {
   "cell_type": "code",
   "execution_count": 5,
   "metadata": {},
   "outputs": [
    {
     "data": {
      "text/html": [
       "<div>\n",
       "<style scoped>\n",
       "    .dataframe tbody tr th:only-of-type {\n",
       "        vertical-align: middle;\n",
       "    }\n",
       "\n",
       "    .dataframe tbody tr th {\n",
       "        vertical-align: top;\n",
       "    }\n",
       "\n",
       "    .dataframe thead th {\n",
       "        text-align: right;\n",
       "    }\n",
       "</style>\n",
       "<table border=\"1\" class=\"dataframe\">\n",
       "  <thead>\n",
       "    <tr style=\"text-align: right;\">\n",
       "      <th></th>\n",
       "      <th>Unnamed: 0</th>\n",
       "      <th>firm</th>\n",
       "      <th>tv</th>\n",
       "      <th>radio</th>\n",
       "      <th>newpaper</th>\n",
       "      <th>magazine</th>\n",
       "    </tr>\n",
       "  </thead>\n",
       "  <tbody>\n",
       "    <tr>\n",
       "      <td>0</td>\n",
       "      <td>0</td>\n",
       "      <td>회사명</td>\n",
       "      <td>TV</td>\n",
       "      <td>라디오</td>\n",
       "      <td>신문</td>\n",
       "      <td>잡지</td>\n",
       "    </tr>\n",
       "    <tr>\n",
       "      <td>1</td>\n",
       "      <td>1</td>\n",
       "      <td>삼성전자</td>\n",
       "      <td>11479225</td>\n",
       "      <td>423815</td>\n",
       "      <td>6203885</td>\n",
       "      <td>242300</td>\n",
       "    </tr>\n",
       "    <tr>\n",
       "      <td>2</td>\n",
       "      <td>2</td>\n",
       "      <td>KT</td>\n",
       "      <td>8380633</td>\n",
       "      <td>368017</td>\n",
       "      <td>905887</td>\n",
       "      <td>25100</td>\n",
       "    </tr>\n",
       "    <tr>\n",
       "      <td>3</td>\n",
       "      <td>3</td>\n",
       "      <td>LG전자</td>\n",
       "      <td>6748621</td>\n",
       "      <td>342048</td>\n",
       "      <td>1969787</td>\n",
       "      <td>114800</td>\n",
       "    </tr>\n",
       "    <tr>\n",
       "      <td>4</td>\n",
       "      <td>4</td>\n",
       "      <td>한국지엠</td>\n",
       "      <td>6791838</td>\n",
       "      <td>596281</td>\n",
       "      <td>662799</td>\n",
       "      <td>35200</td>\n",
       "    </tr>\n",
       "  </tbody>\n",
       "</table>\n",
       "</div>"
      ],
      "text/plain": [
       "   Unnamed: 0  firm        tv   radio newpaper magazine\n",
       "0           0   회사명        TV     라디오       신문       잡지\n",
       "1           1  삼성전자  11479225  423815  6203885   242300\n",
       "2           2    KT   8380633  368017   905887    25100\n",
       "3           3  LG전자   6748621  342048  1969787   114800\n",
       "4           4  한국지엠   6791838  596281   662799    35200"
      ]
     },
     "execution_count": 5,
     "metadata": {},
     "output_type": "execute_result"
    }
   ],
   "source": [
    "df2015 = pd.read_csv('../data/2015ad.csv')\n",
    "df2015.head()"
   ]
  },
  {
   "cell_type": "code",
   "execution_count": 6,
   "metadata": {},
   "outputs": [],
   "source": [
    "df2015.drop('Unnamed: 0', axis=1, inplace=True)"
   ]
  },
  {
   "cell_type": "code",
   "execution_count": 7,
   "metadata": {},
   "outputs": [],
   "source": [
    "df2015.drop(0, inplace=True)"
   ]
  },
  {
   "cell_type": "code",
   "execution_count": 8,
   "metadata": {},
   "outputs": [
    {
     "name": "stdout",
     "output_type": "stream",
     "text": [
      "<class 'pandas.core.frame.DataFrame'>\n",
      "Int64Index: 99 entries, 1 to 99\n",
      "Data columns (total 5 columns):\n",
      "firm        99 non-null object\n",
      "tv          99 non-null object\n",
      "radio       99 non-null object\n",
      "newpaper    99 non-null object\n",
      "magazine    99 non-null object\n",
      "dtypes: object(5)\n",
      "memory usage: 4.6+ KB\n"
     ]
    }
   ],
   "source": [
    "df2015.info()"
   ]
  },
  {
   "cell_type": "code",
   "execution_count": 9,
   "metadata": {},
   "outputs": [
    {
     "name": "stdout",
     "output_type": "stream",
     "text": [
      "<class 'pandas.core.frame.DataFrame'>\n",
      "Int64Index: 99 entries, 1 to 99\n",
      "Data columns (total 5 columns):\n",
      "firm        99 non-null object\n",
      "tv          99 non-null int64\n",
      "radio       99 non-null int64\n",
      "newpaper    99 non-null int64\n",
      "magazine    99 non-null int64\n",
      "dtypes: int64(4), object(1)\n",
      "memory usage: 4.6+ KB\n"
     ]
    }
   ],
   "source": [
    "df2015['tv'] = pd.to_numeric(df2015['tv'])\n",
    "df2015['radio'] = pd.to_numeric(df2015['radio'])\n",
    "df2015['newpaper'] = pd.to_numeric(df2015['newpaper'])\n",
    "df2015['magazine'] = pd.to_numeric(df2015['magazine'])\n",
    "df2015.info()"
   ]
  },
  {
   "cell_type": "code",
   "execution_count": 10,
   "metadata": {},
   "outputs": [],
   "source": [
    "df2015.set_index('firm', inplace=True)"
   ]
  },
  {
   "cell_type": "code",
   "execution_count": 11,
   "metadata": {},
   "outputs": [],
   "source": [
    "# TV 광고액 상위 10개 기업을 추출.."
   ]
  },
  {
   "cell_type": "code",
   "execution_count": 12,
   "metadata": {},
   "outputs": [
    {
     "data": {
      "text/html": [
       "<div>\n",
       "<style scoped>\n",
       "    .dataframe tbody tr th:only-of-type {\n",
       "        vertical-align: middle;\n",
       "    }\n",
       "\n",
       "    .dataframe tbody tr th {\n",
       "        vertical-align: top;\n",
       "    }\n",
       "\n",
       "    .dataframe thead th {\n",
       "        text-align: right;\n",
       "    }\n",
       "</style>\n",
       "<table border=\"1\" class=\"dataframe\">\n",
       "  <thead>\n",
       "    <tr style=\"text-align: right;\">\n",
       "      <th></th>\n",
       "      <th>tv</th>\n",
       "      <th>radio</th>\n",
       "      <th>newpaper</th>\n",
       "      <th>magazine</th>\n",
       "    </tr>\n",
       "    <tr>\n",
       "      <th>firm</th>\n",
       "      <th></th>\n",
       "      <th></th>\n",
       "      <th></th>\n",
       "      <th></th>\n",
       "    </tr>\n",
       "  </thead>\n",
       "  <tbody>\n",
       "    <tr>\n",
       "      <td>삼성전자</td>\n",
       "      <td>11479225</td>\n",
       "      <td>423815</td>\n",
       "      <td>6203885</td>\n",
       "      <td>242300</td>\n",
       "    </tr>\n",
       "    <tr>\n",
       "      <td>KT</td>\n",
       "      <td>8380633</td>\n",
       "      <td>368017</td>\n",
       "      <td>905887</td>\n",
       "      <td>25100</td>\n",
       "    </tr>\n",
       "    <tr>\n",
       "      <td>한국지엠</td>\n",
       "      <td>6791838</td>\n",
       "      <td>596281</td>\n",
       "      <td>662799</td>\n",
       "      <td>35200</td>\n",
       "    </tr>\n",
       "    <tr>\n",
       "      <td>LG전자</td>\n",
       "      <td>6748621</td>\n",
       "      <td>342048</td>\n",
       "      <td>1969787</td>\n",
       "      <td>114800</td>\n",
       "    </tr>\n",
       "    <tr>\n",
       "      <td>NHN엔터테인먼트</td>\n",
       "      <td>6455304</td>\n",
       "      <td>504860</td>\n",
       "      <td>0</td>\n",
       "      <td>1500</td>\n",
       "    </tr>\n",
       "    <tr>\n",
       "      <td>LGU플러스</td>\n",
       "      <td>5524647</td>\n",
       "      <td>358048</td>\n",
       "      <td>28231</td>\n",
       "      <td>25000</td>\n",
       "    </tr>\n",
       "    <tr>\n",
       "      <td>기아자동차</td>\n",
       "      <td>4784181</td>\n",
       "      <td>568812</td>\n",
       "      <td>1586957</td>\n",
       "      <td>58800</td>\n",
       "    </tr>\n",
       "    <tr>\n",
       "      <td>현대자동차</td>\n",
       "      <td>4453752</td>\n",
       "      <td>414230</td>\n",
       "      <td>2817550</td>\n",
       "      <td>108300</td>\n",
       "    </tr>\n",
       "    <tr>\n",
       "      <td>케이투코리아</td>\n",
       "      <td>3804675</td>\n",
       "      <td>0</td>\n",
       "      <td>84597</td>\n",
       "      <td>33000</td>\n",
       "    </tr>\n",
       "    <tr>\n",
       "      <td>한국인삼공사</td>\n",
       "      <td>3542698</td>\n",
       "      <td>169576</td>\n",
       "      <td>541614</td>\n",
       "      <td>25500</td>\n",
       "    </tr>\n",
       "  </tbody>\n",
       "</table>\n",
       "</div>"
      ],
      "text/plain": [
       "                 tv   radio  newpaper  magazine\n",
       "firm                                           \n",
       "삼성전자       11479225  423815   6203885    242300\n",
       "KT          8380633  368017    905887     25100\n",
       "한국지엠        6791838  596281    662799     35200\n",
       "LG전자        6748621  342048   1969787    114800\n",
       "NHN엔터테인먼트   6455304  504860         0      1500\n",
       "LGU플러스      5524647  358048     28231     25000\n",
       "기아자동차       4784181  568812   1586957     58800\n",
       "현대자동차       4453752  414230   2817550    108300\n",
       "케이투코리아      3804675       0     84597     33000\n",
       "한국인삼공사      3542698  169576    541614     25500"
      ]
     },
     "execution_count": 12,
     "metadata": {},
     "output_type": "execute_result"
    }
   ],
   "source": [
    "df2015.sort_values('tv', ascending=False)[:10]"
   ]
  },
  {
   "cell_type": "code",
   "execution_count": 13,
   "metadata": {},
   "outputs": [
    {
     "data": {
      "text/html": [
       "<div>\n",
       "<style scoped>\n",
       "    .dataframe tbody tr th:only-of-type {\n",
       "        vertical-align: middle;\n",
       "    }\n",
       "\n",
       "    .dataframe tbody tr th {\n",
       "        vertical-align: top;\n",
       "    }\n",
       "\n",
       "    .dataframe thead th {\n",
       "        text-align: right;\n",
       "    }\n",
       "</style>\n",
       "<table border=\"1\" class=\"dataframe\">\n",
       "  <thead>\n",
       "    <tr style=\"text-align: right;\">\n",
       "      <th></th>\n",
       "      <th>tv</th>\n",
       "      <th>radio</th>\n",
       "      <th>newpaper</th>\n",
       "      <th>magazine</th>\n",
       "      <th>date</th>\n",
       "    </tr>\n",
       "    <tr>\n",
       "      <th>firm</th>\n",
       "      <th></th>\n",
       "      <th></th>\n",
       "      <th></th>\n",
       "      <th></th>\n",
       "      <th></th>\n",
       "    </tr>\n",
       "  </thead>\n",
       "  <tbody>\n",
       "    <tr>\n",
       "      <td>삼성전자</td>\n",
       "      <td>11479225</td>\n",
       "      <td>423815</td>\n",
       "      <td>6203885</td>\n",
       "      <td>242300</td>\n",
       "      <td>201509</td>\n",
       "    </tr>\n",
       "    <tr>\n",
       "      <td>KT</td>\n",
       "      <td>8380633</td>\n",
       "      <td>368017</td>\n",
       "      <td>905887</td>\n",
       "      <td>25100</td>\n",
       "      <td>201509</td>\n",
       "    </tr>\n",
       "    <tr>\n",
       "      <td>LG전자</td>\n",
       "      <td>6748621</td>\n",
       "      <td>342048</td>\n",
       "      <td>1969787</td>\n",
       "      <td>114800</td>\n",
       "      <td>201509</td>\n",
       "    </tr>\n",
       "    <tr>\n",
       "      <td>한국지엠</td>\n",
       "      <td>6791838</td>\n",
       "      <td>596281</td>\n",
       "      <td>662799</td>\n",
       "      <td>35200</td>\n",
       "      <td>201509</td>\n",
       "    </tr>\n",
       "    <tr>\n",
       "      <td>현대자동차</td>\n",
       "      <td>4453752</td>\n",
       "      <td>414230</td>\n",
       "      <td>2817550</td>\n",
       "      <td>108300</td>\n",
       "      <td>201509</td>\n",
       "    </tr>\n",
       "  </tbody>\n",
       "</table>\n",
       "</div>"
      ],
      "text/plain": [
       "             tv   radio  newpaper  magazine    date\n",
       "firm                                               \n",
       "삼성전자   11479225  423815   6203885    242300  201509\n",
       "KT      8380633  368017    905887     25100  201509\n",
       "LG전자    6748621  342048   1969787    114800  201509\n",
       "한국지엠    6791838  596281    662799     35200  201509\n",
       "현대자동차   4453752  414230   2817550    108300  201509"
      ]
     },
     "execution_count": 13,
     "metadata": {},
     "output_type": "execute_result"
    }
   ],
   "source": [
    "df2015['date'] = '201509'\n",
    "df2015.head()"
   ]
  },
  {
   "cell_type": "code",
   "execution_count": 14,
   "metadata": {},
   "outputs": [],
   "source": [
    "# df2015 ~ df2019 모든 파일을 처리하는 코드를 작성하시오.."
   ]
  },
  {
   "cell_type": "code",
   "execution_count": 24,
   "metadata": {},
   "outputs": [],
   "source": [
    "df2015 = pd.read_csv('../data/2015ad.csv')\n",
    "df2016 = pd.read_csv('../data/2016ad.csv')\n",
    "df2017 = pd.read_csv('../data/2017ad.csv')\n",
    "df2018 = pd.read_csv('../data/2018ad.csv')\n",
    "df2019 = pd.read_csv('../data/2019ad.csv')"
   ]
  },
  {
   "cell_type": "code",
   "execution_count": 21,
   "metadata": {
    "collapsed": true
   },
   "outputs": [
    {
     "name": "stdout",
     "output_type": "stream",
     "text": [
      "   Unnamed: 0  firm        tv   radio newpaper magazine\n",
      "0           0   회사명        TV     라디오       신문       잡지\n",
      "1           1  삼성전자  11479225  423815  6203885   242300\n",
      "2           2    KT   8380633  368017   905887    25100\n",
      "3           3  LG전자   6748621  342048  1969787   114800\n",
      "4           4  한국지엠   6791838  596281   662799    35200\n",
      "--------------------\n",
      "   Unnamed: 0    firm       tv   radio newpaper magazine\n",
      "0           0     회사명       TV     라디오       신문       잡지\n",
      "1           1    삼성전자  8571937  255932  6769684   223800\n",
      "2           2   현대자동차  4929457  448627  2711580   115300\n",
      "3           3  아모레퍼시픽  4563944  222294  1742959   987600\n",
      "4           4    LG전자  5587791   72904  1298358   184400\n",
      "--------------------\n",
      "   Unnamed: 0   firm        tv   radio newpaper magazine\n",
      "0           0    회사명        TV     라디오       신문       잡지\n",
      "1           1   삼성전자  11668720  242469  7356007   391700\n",
      "2           2   LG전자  13776012  322223  2679913   155700\n",
      "3           3     KT   4768380  265896  1544589    22500\n",
      "4           4  현대자동차   2837608  359010  1861762   119500\n",
      "--------------------\n",
      "   Unnamed: 0  firm        tv   radio newpaper magazine\n",
      "0           0   회사명        TV     라디오       신문       잡지\n",
      "1           1  LG전자  17908248   89237  1516482   160100\n",
      "2           2  삼성전자  12279508  291138  6285213   268100\n",
      "3           3    KT   3554634  168158  1717394    26000\n",
      "4           4  삼성화재   2001163   63883  3183392    13600\n",
      "--------------------\n",
      "   Unnamed: 0  firm        tv   radio newpaper magazine\n",
      "0           0   회사명        TV     라디오       신문       잡지\n",
      "1           1  삼성전자   7597926  401512  7192464   289000\n",
      "2           2  LG전자  12913571       0  1135883    62100\n",
      "3           3  한화공동   6380516  120920   855486    60500\n",
      "4           4    KT   4852147   67687  1993508    22300\n",
      "--------------------\n"
     ]
    }
   ],
   "source": [
    "import os\n",
    "for f in os.listdir('../data/')[3:8]:\n",
    "    path = '../data/'\n",
    "    df = pd.read_csv(path+f)\n",
    "    print(df.head())\n",
    "    print('-'*20)"
   ]
  },
  {
   "cell_type": "code",
   "execution_count": 25,
   "metadata": {},
   "outputs": [
    {
     "name": "stdout",
     "output_type": "stream",
     "text": [
      "             tv   radio  newpaper  magazine     date\n",
      "firm                                                \n",
      "삼성전자   11479225  423815   6203885    242300  2015.09\n",
      "KT      8380633  368017    905887     25100  2015.09\n",
      "LG전자    6748621  342048   1969787    114800  2015.09\n",
      "한국지엠    6791838  596281    662799     35200  2015.09\n",
      "현대자동차   4453752  414230   2817550    108300  2015.09\n",
      "--------------------\n",
      "             tv   radio  newpaper  magazine     date\n",
      "firm                                                \n",
      "삼성전자    8571937  255932   6769684    223800  2016.09\n",
      "현대자동차   4929457  448627   2711580    115300  2016.09\n",
      "아모레퍼시픽  4563944  222294   1742959    987600  2016.09\n",
      "LG전자    5587791   72904   1298358    184400  2016.09\n",
      "KT      4792340  317334   1120930     33100  2016.09\n",
      "--------------------\n",
      "              tv   radio  newpaper  magazine     date\n",
      "firm                                                 \n",
      "삼성전자    11668720  242469   7356007    391700  2017.09\n",
      "LG전자    13776012  322223   2679913    155700  2017.09\n",
      "KT       4768380  265896   1544589     22500  2017.09\n",
      "현대자동차    2837608  359010   1861762    119500  2017.09\n",
      "한국인삼공사   3873921  298050    518108    170500  2017.09\n",
      "--------------------\n",
      "             tv   radio  newpaper  magazine     date\n",
      "firm                                                \n",
      "LG전자   17908248   89237   1516482    160100  2018.09\n",
      "삼성전자   12279508  291138   6285213    268100  2018.09\n",
      "KT      3554634  168158   1717394     26000  2018.09\n",
      "삼성화재    2001163   63883   3183392     13600  2018.09\n",
      "현대자동차   2655603  480837   1782310     76700  2018.09\n",
      "--------------------\n",
      "            tv   radio  newpaper  magazine     date\n",
      "firm                                               \n",
      "삼성전자   7597926  401512   7192464    289000  2019.09\n",
      "LG전자  12913571       0   1135883     62100  2019.09\n",
      "한화공동   6380516  120920    855486     60500  2019.09\n",
      "KT     4852147   67687   1993508     22300  2019.09\n",
      "대웅제약   6033183       0    351571      6000  2019.09\n",
      "--------------------\n"
     ]
    }
   ],
   "source": [
    "for i, df in enumerate([df2015, df2016, df2017, df2018, df2019]):\n",
    "    df.drop('Unnamed: 0', axis=1, inplace=True)\n",
    "    df.drop(0, inplace=True)\n",
    "    df['tv'] = pd.to_numeric(df['tv'])\n",
    "    df['radio'] = pd.to_numeric(df['radio'])\n",
    "    df['newpaper'] = pd.to_numeric(df['newpaper'])\n",
    "    df['magazine'] = pd.to_numeric(df['magazine'])\n",
    "    df.set_index('firm', inplace=True)\n",
    "    date = str(int(2015) + int(i)) +'.' + '09'\n",
    "    df['date'] = date\n",
    "    print(df.head())\n",
    "    print('-'*20)"
   ]
  },
  {
   "cell_type": "code",
   "execution_count": 27,
   "metadata": {},
   "outputs": [
    {
     "name": "stdout",
     "output_type": "stream",
     "text": [
      "<class 'pandas.core.frame.DataFrame'>\n",
      "Index: 100 entries, LG전자 to 쿠쿠전자\n",
      "Data columns (total 5 columns):\n",
      "tv          100 non-null int64\n",
      "radio       100 non-null int64\n",
      "newpaper    100 non-null int64\n",
      "magazine    100 non-null int64\n",
      "date        100 non-null object\n",
      "dtypes: int64(4), object(1)\n",
      "memory usage: 4.7+ KB\n"
     ]
    }
   ],
   "source": [
    "df2018.info()"
   ]
  },
  {
   "cell_type": "code",
   "execution_count": null,
   "metadata": {},
   "outputs": [],
   "source": []
  }
 ],
 "metadata": {
  "kernelspec": {
   "display_name": "Python 3",
   "language": "python",
   "name": "python3"
  },
  "language_info": {
   "codemirror_mode": {
    "name": "ipython",
    "version": 3
   },
   "file_extension": ".py",
   "mimetype": "text/x-python",
   "name": "python",
   "nbconvert_exporter": "python",
   "pygments_lexer": "ipython3",
   "version": "3.7.4"
  }
 },
 "nbformat": 4,
 "nbformat_minor": 2
}
