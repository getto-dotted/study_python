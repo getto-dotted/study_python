{
 "cells": [
  {
   "cell_type": "code",
   "execution_count": 1,
   "metadata": {},
   "outputs": [],
   "source": [
    "import numpy as np\n",
    "import pandas as pd\n",
    "\n",
    "import datetime\n",
    "from datetime import datetime, date\n",
    "\n",
    "import matplotlib.pyplot as plt\n",
    "%matplotlib inline\n",
    "\n",
    "sp500 = pd.read_csv(\"./lp/data/sp500.csv\",index_col='Symbol',usecols=[0, 2, 3, 7])\n",
    "\n",
    "omh = pd.read_csv(\"./lp/data/omh.csv\")"
   ]
  },
  {
   "cell_type": "code",
   "execution_count": 2,
   "metadata": {},
   "outputs": [
    {
     "data": {
      "text/html": [
       "<div>\n",
       "<style scoped>\n",
       "    .dataframe tbody tr th:only-of-type {\n",
       "        vertical-align: middle;\n",
       "    }\n",
       "\n",
       "    .dataframe tbody tr th {\n",
       "        vertical-align: top;\n",
       "    }\n",
       "\n",
       "    .dataframe thead th {\n",
       "        text-align: right;\n",
       "    }\n",
       "</style>\n",
       "<table border=\"1\" class=\"dataframe\">\n",
       "  <thead>\n",
       "    <tr style=\"text-align: right;\">\n",
       "      <th></th>\n",
       "      <th>A</th>\n",
       "      <th>B</th>\n",
       "      <th>C</th>\n",
       "      <th>D</th>\n",
       "    </tr>\n",
       "  </thead>\n",
       "  <tbody>\n",
       "    <tr>\n",
       "      <td>0</td>\n",
       "      <td>0.481462</td>\n",
       "      <td>-0.294879</td>\n",
       "      <td>0.246347</td>\n",
       "      <td>-1.102516</td>\n",
       "    </tr>\n",
       "    <tr>\n",
       "      <td>1</td>\n",
       "      <td>0.234185</td>\n",
       "      <td>-0.576251</td>\n",
       "      <td>-1.040203</td>\n",
       "      <td>0.195893</td>\n",
       "    </tr>\n",
       "    <tr>\n",
       "      <td>2</td>\n",
       "      <td>-0.098339</td>\n",
       "      <td>-1.464570</td>\n",
       "      <td>0.526121</td>\n",
       "      <td>-0.248395</td>\n",
       "    </tr>\n",
       "    <tr>\n",
       "      <td>3</td>\n",
       "      <td>-0.440152</td>\n",
       "      <td>-0.566054</td>\n",
       "      <td>-1.060977</td>\n",
       "      <td>1.272742</td>\n",
       "    </tr>\n",
       "    <tr>\n",
       "      <td>4</td>\n",
       "      <td>1.123291</td>\n",
       "      <td>1.803622</td>\n",
       "      <td>1.771424</td>\n",
       "      <td>0.106232</td>\n",
       "    </tr>\n",
       "  </tbody>\n",
       "</table>\n",
       "</div>"
      ],
      "text/plain": [
       "          A         B         C         D\n",
       "0  0.481462 -0.294879  0.246347 -1.102516\n",
       "1  0.234185 -0.576251 -1.040203  0.195893\n",
       "2 -0.098339 -1.464570  0.526121 -0.248395\n",
       "3 -0.440152 -0.566054 -1.060977  1.272742\n",
       "4  1.123291  1.803622  1.771424  0.106232"
      ]
     },
     "execution_count": 2,
     "metadata": {},
     "output_type": "execute_result"
    }
   ],
   "source": [
    "np.random.seed(7788)\n",
    "df = pd.DataFrame(np.random.randn(5, 4), columns=['A', 'B', 'C', 'D'])\n",
    "df"
   ]
  },
  {
   "cell_type": "code",
   "execution_count": 3,
   "metadata": {},
   "outputs": [
    {
     "data": {
      "text/html": [
       "<div>\n",
       "<style scoped>\n",
       "    .dataframe tbody tr th:only-of-type {\n",
       "        vertical-align: middle;\n",
       "    }\n",
       "\n",
       "    .dataframe tbody tr th {\n",
       "        vertical-align: top;\n",
       "    }\n",
       "\n",
       "    .dataframe thead th {\n",
       "        text-align: right;\n",
       "    }\n",
       "</style>\n",
       "<table border=\"1\" class=\"dataframe\">\n",
       "  <thead>\n",
       "    <tr style=\"text-align: right;\">\n",
       "      <th></th>\n",
       "      <th>A</th>\n",
       "      <th>B</th>\n",
       "      <th>C</th>\n",
       "      <th>D</th>\n",
       "    </tr>\n",
       "  </thead>\n",
       "  <tbody>\n",
       "    <tr>\n",
       "      <td>0</td>\n",
       "      <td>0.962924</td>\n",
       "      <td>-0.589758</td>\n",
       "      <td>0.492694</td>\n",
       "      <td>-2.205032</td>\n",
       "    </tr>\n",
       "    <tr>\n",
       "      <td>1</td>\n",
       "      <td>0.468370</td>\n",
       "      <td>-1.152501</td>\n",
       "      <td>-2.080407</td>\n",
       "      <td>0.391787</td>\n",
       "    </tr>\n",
       "    <tr>\n",
       "      <td>2</td>\n",
       "      <td>-0.196678</td>\n",
       "      <td>-2.929140</td>\n",
       "      <td>1.052241</td>\n",
       "      <td>-0.496790</td>\n",
       "    </tr>\n",
       "    <tr>\n",
       "      <td>3</td>\n",
       "      <td>-0.880303</td>\n",
       "      <td>-1.132107</td>\n",
       "      <td>-2.121954</td>\n",
       "      <td>2.545485</td>\n",
       "    </tr>\n",
       "    <tr>\n",
       "      <td>4</td>\n",
       "      <td>2.246581</td>\n",
       "      <td>3.607244</td>\n",
       "      <td>3.542849</td>\n",
       "      <td>0.212463</td>\n",
       "    </tr>\n",
       "  </tbody>\n",
       "</table>\n",
       "</div>"
      ],
      "text/plain": [
       "          A         B         C         D\n",
       "0  0.962924 -0.589758  0.492694 -2.205032\n",
       "1  0.468370 -1.152501 -2.080407  0.391787\n",
       "2 -0.196678 -2.929140  1.052241 -0.496790\n",
       "3 -0.880303 -1.132107 -2.121954  2.545485\n",
       "4  2.246581  3.607244  3.542849  0.212463"
      ]
     },
     "execution_count": 3,
     "metadata": {},
     "output_type": "execute_result"
    }
   ],
   "source": [
    "df * 2"
   ]
  },
  {
   "cell_type": "code",
   "execution_count": 4,
   "metadata": {},
   "outputs": [
    {
     "data": {
      "text/html": [
       "<div>\n",
       "<style scoped>\n",
       "    .dataframe tbody tr th:only-of-type {\n",
       "        vertical-align: middle;\n",
       "    }\n",
       "\n",
       "    .dataframe tbody tr th {\n",
       "        vertical-align: top;\n",
       "    }\n",
       "\n",
       "    .dataframe thead th {\n",
       "        text-align: right;\n",
       "    }\n",
       "</style>\n",
       "<table border=\"1\" class=\"dataframe\">\n",
       "  <thead>\n",
       "    <tr style=\"text-align: right;\">\n",
       "      <th></th>\n",
       "      <th>A</th>\n",
       "      <th>B</th>\n",
       "      <th>C</th>\n",
       "      <th>D</th>\n",
       "    </tr>\n",
       "  </thead>\n",
       "  <tbody>\n",
       "    <tr>\n",
       "      <td>0</td>\n",
       "      <td>0.000000</td>\n",
       "      <td>0.000000</td>\n",
       "      <td>0.000000</td>\n",
       "      <td>0.000000</td>\n",
       "    </tr>\n",
       "    <tr>\n",
       "      <td>1</td>\n",
       "      <td>-0.247277</td>\n",
       "      <td>-0.281372</td>\n",
       "      <td>-1.286551</td>\n",
       "      <td>1.298409</td>\n",
       "    </tr>\n",
       "    <tr>\n",
       "      <td>2</td>\n",
       "      <td>-0.579801</td>\n",
       "      <td>-1.169691</td>\n",
       "      <td>0.279773</td>\n",
       "      <td>0.854121</td>\n",
       "    </tr>\n",
       "    <tr>\n",
       "      <td>3</td>\n",
       "      <td>-0.921614</td>\n",
       "      <td>-0.271175</td>\n",
       "      <td>-1.307324</td>\n",
       "      <td>2.375258</td>\n",
       "    </tr>\n",
       "    <tr>\n",
       "      <td>4</td>\n",
       "      <td>0.641828</td>\n",
       "      <td>2.098501</td>\n",
       "      <td>1.525077</td>\n",
       "      <td>1.208747</td>\n",
       "    </tr>\n",
       "  </tbody>\n",
       "</table>\n",
       "</div>"
      ],
      "text/plain": [
       "          A         B         C         D\n",
       "0  0.000000  0.000000  0.000000  0.000000\n",
       "1 -0.247277 -0.281372 -1.286551  1.298409\n",
       "2 -0.579801 -1.169691  0.279773  0.854121\n",
       "3 -0.921614 -0.271175 -1.307324  2.375258\n",
       "4  0.641828  2.098501  1.525077  1.208747"
      ]
     },
     "execution_count": 4,
     "metadata": {},
     "output_type": "execute_result"
    }
   ],
   "source": [
    "s = df.iloc[0] \n",
    "diff = df - s \n",
    "diff"
   ]
  },
  {
   "cell_type": "code",
   "execution_count": 5,
   "metadata": {},
   "outputs": [
    {
     "data": {
      "text/html": [
       "<div>\n",
       "<style scoped>\n",
       "    .dataframe tbody tr th:only-of-type {\n",
       "        vertical-align: middle;\n",
       "    }\n",
       "\n",
       "    .dataframe tbody tr th {\n",
       "        vertical-align: top;\n",
       "    }\n",
       "\n",
       "    .dataframe thead th {\n",
       "        text-align: right;\n",
       "    }\n",
       "</style>\n",
       "<table border=\"1\" class=\"dataframe\">\n",
       "  <thead>\n",
       "    <tr style=\"text-align: right;\">\n",
       "      <th></th>\n",
       "      <th>A</th>\n",
       "      <th>B</th>\n",
       "      <th>C</th>\n",
       "      <th>D</th>\n",
       "    </tr>\n",
       "  </thead>\n",
       "  <tbody>\n",
       "    <tr>\n",
       "      <td>0</td>\n",
       "      <td>0.000000</td>\n",
       "      <td>0.000000</td>\n",
       "      <td>0.000000</td>\n",
       "      <td>0.000000</td>\n",
       "    </tr>\n",
       "    <tr>\n",
       "      <td>1</td>\n",
       "      <td>0.247277</td>\n",
       "      <td>0.281372</td>\n",
       "      <td>1.286551</td>\n",
       "      <td>-1.298409</td>\n",
       "    </tr>\n",
       "    <tr>\n",
       "      <td>2</td>\n",
       "      <td>0.579801</td>\n",
       "      <td>1.169691</td>\n",
       "      <td>-0.279773</td>\n",
       "      <td>-0.854121</td>\n",
       "    </tr>\n",
       "    <tr>\n",
       "      <td>3</td>\n",
       "      <td>0.921614</td>\n",
       "      <td>0.271175</td>\n",
       "      <td>1.307324</td>\n",
       "      <td>-2.375258</td>\n",
       "    </tr>\n",
       "    <tr>\n",
       "      <td>4</td>\n",
       "      <td>-0.641828</td>\n",
       "      <td>-2.098501</td>\n",
       "      <td>-1.525077</td>\n",
       "      <td>-1.208747</td>\n",
       "    </tr>\n",
       "  </tbody>\n",
       "</table>\n",
       "</div>"
      ],
      "text/plain": [
       "          A         B         C         D\n",
       "0  0.000000  0.000000  0.000000  0.000000\n",
       "1  0.247277  0.281372  1.286551 -1.298409\n",
       "2  0.579801  1.169691 -0.279773 -0.854121\n",
       "3  0.921614  0.271175  1.307324 -2.375258\n",
       "4 -0.641828 -2.098501 -1.525077 -1.208747"
      ]
     },
     "execution_count": 5,
     "metadata": {},
     "output_type": "execute_result"
    }
   ],
   "source": [
    "diff2 = s - df\n",
    "diff2"
   ]
  },
  {
   "cell_type": "code",
   "execution_count": 13,
   "metadata": {},
   "outputs": [
    {
     "data": {
      "text/plain": [
       "B   -0.294879\n",
       "C    0.246347\n",
       "Name: 0, dtype: float64"
      ]
     },
     "execution_count": 13,
     "metadata": {},
     "output_type": "execute_result"
    }
   ],
   "source": [
    "s2 = s[1:3]\n",
    "s2"
   ]
  },
  {
   "cell_type": "code",
   "execution_count": 14,
   "metadata": {},
   "outputs": [
    {
     "data": {
      "text/plain": [
       "B   -0.294879\n",
       "C    0.246347\n",
       "E    0.000000\n",
       "Name: 0, dtype: float64"
      ]
     },
     "execution_count": 14,
     "metadata": {},
     "output_type": "execute_result"
    }
   ],
   "source": [
    "s2['E'] = 0\n",
    "s2"
   ]
  },
  {
   "cell_type": "code",
   "execution_count": 12,
   "metadata": {},
   "outputs": [
    {
     "data": {
      "text/html": [
       "<div>\n",
       "<style scoped>\n",
       "    .dataframe tbody tr th:only-of-type {\n",
       "        vertical-align: middle;\n",
       "    }\n",
       "\n",
       "    .dataframe tbody tr th {\n",
       "        vertical-align: top;\n",
       "    }\n",
       "\n",
       "    .dataframe thead th {\n",
       "        text-align: right;\n",
       "    }\n",
       "</style>\n",
       "<table border=\"1\" class=\"dataframe\">\n",
       "  <thead>\n",
       "    <tr style=\"text-align: right;\">\n",
       "      <th></th>\n",
       "      <th>A</th>\n",
       "      <th>B</th>\n",
       "      <th>C</th>\n",
       "      <th>D</th>\n",
       "      <th>E</th>\n",
       "    </tr>\n",
       "  </thead>\n",
       "  <tbody>\n",
       "    <tr>\n",
       "      <td>0</td>\n",
       "      <td>NaN</td>\n",
       "      <td>-0.589758</td>\n",
       "      <td>0.492694</td>\n",
       "      <td>NaN</td>\n",
       "      <td>NaN</td>\n",
       "    </tr>\n",
       "    <tr>\n",
       "      <td>1</td>\n",
       "      <td>NaN</td>\n",
       "      <td>-0.871129</td>\n",
       "      <td>-0.793856</td>\n",
       "      <td>NaN</td>\n",
       "      <td>NaN</td>\n",
       "    </tr>\n",
       "    <tr>\n",
       "      <td>2</td>\n",
       "      <td>NaN</td>\n",
       "      <td>-1.759449</td>\n",
       "      <td>0.772468</td>\n",
       "      <td>NaN</td>\n",
       "      <td>NaN</td>\n",
       "    </tr>\n",
       "    <tr>\n",
       "      <td>3</td>\n",
       "      <td>NaN</td>\n",
       "      <td>-0.860932</td>\n",
       "      <td>-0.814630</td>\n",
       "      <td>NaN</td>\n",
       "      <td>NaN</td>\n",
       "    </tr>\n",
       "    <tr>\n",
       "      <td>4</td>\n",
       "      <td>NaN</td>\n",
       "      <td>1.508743</td>\n",
       "      <td>2.017772</td>\n",
       "      <td>NaN</td>\n",
       "      <td>NaN</td>\n",
       "    </tr>\n",
       "  </tbody>\n",
       "</table>\n",
       "</div>"
      ],
      "text/plain": [
       "    A         B         C   D   E\n",
       "0 NaN -0.589758  0.492694 NaN NaN\n",
       "1 NaN -0.871129 -0.793856 NaN NaN\n",
       "2 NaN -1.759449  0.772468 NaN NaN\n",
       "3 NaN -0.860932 -0.814630 NaN NaN\n",
       "4 NaN  1.508743  2.017772 NaN NaN"
      ]
     },
     "execution_count": 12,
     "metadata": {},
     "output_type": "execute_result"
    }
   ],
   "source": [
    "df + s2"
   ]
  },
  {
   "cell_type": "code",
   "execution_count": 7,
   "metadata": {},
   "outputs": [
    {
     "data": {
      "text/html": [
       "<div>\n",
       "<style scoped>\n",
       "    .dataframe tbody tr th:only-of-type {\n",
       "        vertical-align: middle;\n",
       "    }\n",
       "\n",
       "    .dataframe tbody tr th {\n",
       "        vertical-align: top;\n",
       "    }\n",
       "\n",
       "    .dataframe thead th {\n",
       "        text-align: right;\n",
       "    }\n",
       "</style>\n",
       "<table border=\"1\" class=\"dataframe\">\n",
       "  <thead>\n",
       "    <tr style=\"text-align: right;\">\n",
       "      <th></th>\n",
       "      <th>B</th>\n",
       "      <th>C</th>\n",
       "    </tr>\n",
       "  </thead>\n",
       "  <tbody>\n",
       "    <tr>\n",
       "      <td>1</td>\n",
       "      <td>-0.576251</td>\n",
       "      <td>-1.040203</td>\n",
       "    </tr>\n",
       "    <tr>\n",
       "      <td>2</td>\n",
       "      <td>-1.464570</td>\n",
       "      <td>0.526121</td>\n",
       "    </tr>\n",
       "    <tr>\n",
       "      <td>3</td>\n",
       "      <td>-0.566054</td>\n",
       "      <td>-1.060977</td>\n",
       "    </tr>\n",
       "  </tbody>\n",
       "</table>\n",
       "</div>"
      ],
      "text/plain": [
       "          B         C\n",
       "1 -0.576251 -1.040203\n",
       "2 -1.464570  0.526121\n",
       "3 -0.566054 -1.060977"
      ]
     },
     "execution_count": 7,
     "metadata": {},
     "output_type": "execute_result"
    }
   ],
   "source": [
    "subframe = df[1:4][['B', 'C']]\n",
    "subframe"
   ]
  },
  {
   "cell_type": "code",
   "execution_count": 8,
   "metadata": {},
   "outputs": [
    {
     "data": {
      "text/html": [
       "<div>\n",
       "<style scoped>\n",
       "    .dataframe tbody tr th:only-of-type {\n",
       "        vertical-align: middle;\n",
       "    }\n",
       "\n",
       "    .dataframe tbody tr th {\n",
       "        vertical-align: top;\n",
       "    }\n",
       "\n",
       "    .dataframe thead th {\n",
       "        text-align: right;\n",
       "    }\n",
       "</style>\n",
       "<table border=\"1\" class=\"dataframe\">\n",
       "  <thead>\n",
       "    <tr style=\"text-align: right;\">\n",
       "      <th></th>\n",
       "      <th>A</th>\n",
       "      <th>B</th>\n",
       "      <th>C</th>\n",
       "      <th>D</th>\n",
       "    </tr>\n",
       "  </thead>\n",
       "  <tbody>\n",
       "    <tr>\n",
       "      <td>0</td>\n",
       "      <td>NaN</td>\n",
       "      <td>NaN</td>\n",
       "      <td>NaN</td>\n",
       "      <td>NaN</td>\n",
       "    </tr>\n",
       "    <tr>\n",
       "      <td>1</td>\n",
       "      <td>NaN</td>\n",
       "      <td>0.0</td>\n",
       "      <td>0.0</td>\n",
       "      <td>NaN</td>\n",
       "    </tr>\n",
       "    <tr>\n",
       "      <td>2</td>\n",
       "      <td>NaN</td>\n",
       "      <td>0.0</td>\n",
       "      <td>0.0</td>\n",
       "      <td>NaN</td>\n",
       "    </tr>\n",
       "    <tr>\n",
       "      <td>3</td>\n",
       "      <td>NaN</td>\n",
       "      <td>0.0</td>\n",
       "      <td>0.0</td>\n",
       "      <td>NaN</td>\n",
       "    </tr>\n",
       "    <tr>\n",
       "      <td>4</td>\n",
       "      <td>NaN</td>\n",
       "      <td>NaN</td>\n",
       "      <td>NaN</td>\n",
       "      <td>NaN</td>\n",
       "    </tr>\n",
       "  </tbody>\n",
       "</table>\n",
       "</div>"
      ],
      "text/plain": [
       "    A    B    C   D\n",
       "0 NaN  NaN  NaN NaN\n",
       "1 NaN  0.0  0.0 NaN\n",
       "2 NaN  0.0  0.0 NaN\n",
       "3 NaN  0.0  0.0 NaN\n",
       "4 NaN  NaN  NaN NaN"
      ]
     },
     "execution_count": 8,
     "metadata": {},
     "output_type": "execute_result"
    }
   ],
   "source": [
    "df - subframe"
   ]
  },
  {
   "cell_type": "code",
   "execution_count": 21,
   "metadata": {},
   "outputs": [
    {
     "data": {
      "text/html": [
       "<div>\n",
       "<style scoped>\n",
       "    .dataframe tbody tr th:only-of-type {\n",
       "        vertical-align: middle;\n",
       "    }\n",
       "\n",
       "    .dataframe tbody tr th {\n",
       "        vertical-align: top;\n",
       "    }\n",
       "\n",
       "    .dataframe thead th {\n",
       "        text-align: right;\n",
       "    }\n",
       "</style>\n",
       "<table border=\"1\" class=\"dataframe\">\n",
       "  <thead>\n",
       "    <tr style=\"text-align: right;\">\n",
       "      <th></th>\n",
       "      <th>A</th>\n",
       "      <th>B</th>\n",
       "      <th>C</th>\n",
       "      <th>D</th>\n",
       "    </tr>\n",
       "  </thead>\n",
       "  <tbody>\n",
       "    <tr>\n",
       "      <td>0</td>\n",
       "      <td>0.0</td>\n",
       "      <td>-0.776341</td>\n",
       "      <td>-0.235115</td>\n",
       "      <td>-1.583978</td>\n",
       "    </tr>\n",
       "    <tr>\n",
       "      <td>1</td>\n",
       "      <td>0.0</td>\n",
       "      <td>-0.810435</td>\n",
       "      <td>-1.274388</td>\n",
       "      <td>-0.038291</td>\n",
       "    </tr>\n",
       "    <tr>\n",
       "      <td>2</td>\n",
       "      <td>0.0</td>\n",
       "      <td>-1.366231</td>\n",
       "      <td>0.624459</td>\n",
       "      <td>-0.150056</td>\n",
       "    </tr>\n",
       "    <tr>\n",
       "      <td>3</td>\n",
       "      <td>0.0</td>\n",
       "      <td>-0.125902</td>\n",
       "      <td>-0.620825</td>\n",
       "      <td>1.712894</td>\n",
       "    </tr>\n",
       "    <tr>\n",
       "      <td>4</td>\n",
       "      <td>0.0</td>\n",
       "      <td>0.680331</td>\n",
       "      <td>0.648134</td>\n",
       "      <td>-1.017059</td>\n",
       "    </tr>\n",
       "  </tbody>\n",
       "</table>\n",
       "</div>"
      ],
      "text/plain": [
       "     A         B         C         D\n",
       "0  0.0 -0.776341 -0.235115 -1.583978\n",
       "1  0.0 -0.810435 -1.274388 -0.038291\n",
       "2  0.0 -1.366231  0.624459 -0.150056\n",
       "3  0.0 -0.125902 -0.620825  1.712894\n",
       "4  0.0  0.680331  0.648134 -1.017059"
      ]
     },
     "execution_count": 21,
     "metadata": {},
     "output_type": "execute_result"
    }
   ],
   "source": [
    "a_col = df['A']\n",
    "df.sub(a_col, axis=0)"
   ]
  },
  {
   "cell_type": "code",
   "execution_count": 15,
   "metadata": {},
   "outputs": [
    {
     "data": {
      "text/plain": [
       "4"
      ]
     },
     "execution_count": 15,
     "metadata": {},
     "output_type": "execute_result"
    }
   ],
   "source": [
    "s = pd.Series(['a', 'a', 'b', 'c', np.NaN])\n",
    "s.count()"
   ]
  },
  {
   "cell_type": "markdown",
   "metadata": {},
   "source": [
    "# .unique() 유니크한 값들을 보여줌\n",
    "# .nunique() 유니크한 값이 몇개인지 보여줌"
   ]
  },
  {
   "cell_type": "code",
   "execution_count": 16,
   "metadata": {},
   "outputs": [
    {
     "data": {
      "text/plain": [
       "array(['a', 'b', 'c', nan], dtype=object)"
      ]
     },
     "execution_count": 16,
     "metadata": {},
     "output_type": "execute_result"
    }
   ],
   "source": [
    "s.unique()"
   ]
  },
  {
   "cell_type": "code",
   "execution_count": 17,
   "metadata": {},
   "outputs": [
    {
     "data": {
      "text/plain": [
       "3"
      ]
     },
     "execution_count": 17,
     "metadata": {},
     "output_type": "execute_result"
    }
   ],
   "source": [
    "s.nunique()"
   ]
  },
  {
   "cell_type": "code",
   "execution_count": 18,
   "metadata": {},
   "outputs": [
    {
     "data": {
      "text/plain": [
       "4"
      ]
     },
     "execution_count": 18,
     "metadata": {},
     "output_type": "execute_result"
    }
   ],
   "source": [
    "s.nunique(dropna=False)"
   ]
  },
  {
   "cell_type": "code",
   "execution_count": 22,
   "metadata": {},
   "outputs": [
    {
     "data": {
      "text/plain": [
       "a    2\n",
       "c    1\n",
       "b    1\n",
       "dtype: int64"
      ]
     },
     "execution_count": 22,
     "metadata": {},
     "output_type": "execute_result"
    }
   ],
   "source": [
    "s.value_counts()"
   ]
  },
  {
   "cell_type": "code",
   "execution_count": 19,
   "metadata": {},
   "outputs": [
    {
     "data": {
      "text/plain": [
       "a      2\n",
       "c      1\n",
       "b      1\n",
       "NaN    1\n",
       "dtype: int64"
      ]
     },
     "execution_count": 19,
     "metadata": {},
     "output_type": "execute_result"
    }
   ],
   "source": [
    "s.value_counts(dropna=False)"
   ]
  },
  {
   "cell_type": "code",
   "execution_count": 32,
   "metadata": {},
   "outputs": [
    {
     "data": {
      "text/html": [
       "<div>\n",
       "<style scoped>\n",
       "    .dataframe tbody tr th:only-of-type {\n",
       "        vertical-align: middle;\n",
       "    }\n",
       "\n",
       "    .dataframe tbody tr th {\n",
       "        vertical-align: top;\n",
       "    }\n",
       "\n",
       "    .dataframe thead th {\n",
       "        text-align: right;\n",
       "    }\n",
       "</style>\n",
       "<table border=\"1\" class=\"dataframe\">\n",
       "  <thead>\n",
       "    <tr style=\"text-align: right;\">\n",
       "      <th></th>\n",
       "      <th>Sector</th>\n",
       "      <th>Price</th>\n",
       "      <th>Book Value</th>\n",
       "    </tr>\n",
       "    <tr>\n",
       "      <th>Symbol</th>\n",
       "      <th></th>\n",
       "      <th></th>\n",
       "      <th></th>\n",
       "    </tr>\n",
       "  </thead>\n",
       "  <tbody>\n",
       "    <tr>\n",
       "      <td>MMM</td>\n",
       "      <td>Industrials</td>\n",
       "      <td>141.14</td>\n",
       "      <td>26.668</td>\n",
       "    </tr>\n",
       "    <tr>\n",
       "      <td>ABT</td>\n",
       "      <td>Health Care</td>\n",
       "      <td>39.60</td>\n",
       "      <td>15.573</td>\n",
       "    </tr>\n",
       "    <tr>\n",
       "      <td>ABBV</td>\n",
       "      <td>Health Care</td>\n",
       "      <td>53.95</td>\n",
       "      <td>2.954</td>\n",
       "    </tr>\n",
       "    <tr>\n",
       "      <td>ACN</td>\n",
       "      <td>Information Technology</td>\n",
       "      <td>79.79</td>\n",
       "      <td>8.326</td>\n",
       "    </tr>\n",
       "    <tr>\n",
       "      <td>ACE</td>\n",
       "      <td>Financials</td>\n",
       "      <td>102.91</td>\n",
       "      <td>86.897</td>\n",
       "    </tr>\n",
       "  </tbody>\n",
       "</table>\n",
       "</div>"
      ],
      "text/plain": [
       "                        Sector   Price  Book Value\n",
       "Symbol                                            \n",
       "MMM                Industrials  141.14      26.668\n",
       "ABT                Health Care   39.60      15.573\n",
       "ABBV               Health Care   53.95       2.954\n",
       "ACN     Information Technology   79.79       8.326\n",
       "ACE                 Financials  102.91      86.897"
      ]
     },
     "execution_count": 32,
     "metadata": {},
     "output_type": "execute_result"
    }
   ],
   "source": [
    "sp500.head()"
   ]
  },
  {
   "cell_type": "code",
   "execution_count": 33,
   "metadata": {},
   "outputs": [
    {
     "data": {
      "text/html": [
       "<div>\n",
       "<style scoped>\n",
       "    .dataframe tbody tr th:only-of-type {\n",
       "        vertical-align: middle;\n",
       "    }\n",
       "\n",
       "    .dataframe tbody tr th {\n",
       "        vertical-align: top;\n",
       "    }\n",
       "\n",
       "    .dataframe thead th {\n",
       "        text-align: right;\n",
       "    }\n",
       "</style>\n",
       "<table border=\"1\" class=\"dataframe\">\n",
       "  <thead>\n",
       "    <tr style=\"text-align: right;\">\n",
       "      <th></th>\n",
       "      <th>Date</th>\n",
       "      <th>MSFT</th>\n",
       "      <th>AAPL</th>\n",
       "    </tr>\n",
       "  </thead>\n",
       "  <tbody>\n",
       "    <tr>\n",
       "      <td>0</td>\n",
       "      <td>2014-12-01</td>\n",
       "      <td>48.62</td>\n",
       "      <td>115.07</td>\n",
       "    </tr>\n",
       "    <tr>\n",
       "      <td>1</td>\n",
       "      <td>2014-12-02</td>\n",
       "      <td>48.46</td>\n",
       "      <td>114.63</td>\n",
       "    </tr>\n",
       "    <tr>\n",
       "      <td>2</td>\n",
       "      <td>2014-12-03</td>\n",
       "      <td>48.08</td>\n",
       "      <td>115.93</td>\n",
       "    </tr>\n",
       "    <tr>\n",
       "      <td>3</td>\n",
       "      <td>2014-12-04</td>\n",
       "      <td>48.84</td>\n",
       "      <td>115.49</td>\n",
       "    </tr>\n",
       "    <tr>\n",
       "      <td>4</td>\n",
       "      <td>2014-12-05</td>\n",
       "      <td>48.42</td>\n",
       "      <td>115.00</td>\n",
       "    </tr>\n",
       "  </tbody>\n",
       "</table>\n",
       "</div>"
      ],
      "text/plain": [
       "         Date   MSFT    AAPL\n",
       "0  2014-12-01  48.62  115.07\n",
       "1  2014-12-02  48.46  114.63\n",
       "2  2014-12-03  48.08  115.93\n",
       "3  2014-12-04  48.84  115.49\n",
       "4  2014-12-05  48.42  115.00"
      ]
     },
     "execution_count": 33,
     "metadata": {},
     "output_type": "execute_result"
    }
   ],
   "source": [
    "omh.head()"
   ]
  },
  {
   "cell_type": "code",
   "execution_count": 23,
   "metadata": {},
   "outputs": [
    {
     "data": {
      "text/plain": [
       "MSFT     45.16\n",
       "AAPL    106.75\n",
       "dtype: float64"
      ]
     },
     "execution_count": 23,
     "metadata": {},
     "output_type": "execute_result"
    }
   ],
   "source": [
    "omh[['MSFT', 'AAPL']].min()"
   ]
  },
  {
   "cell_type": "code",
   "execution_count": 24,
   "metadata": {},
   "outputs": [
    {
     "data": {
      "text/plain": [
       "MSFT     48.84\n",
       "AAPL    115.93\n",
       "dtype: float64"
      ]
     },
     "execution_count": 24,
     "metadata": {},
     "output_type": "execute_result"
    }
   ],
   "source": [
    "omh[['MSFT', 'AAPL']].max()"
   ]
  },
  {
   "cell_type": "markdown",
   "metadata": {},
   "source": [
    "# .idxmin() .idxmax()최소/최대값에 해당하는 인덱스를 가져옴"
   ]
  },
  {
   "cell_type": "code",
   "execution_count": 25,
   "metadata": {},
   "outputs": [
    {
     "data": {
      "text/plain": [
       "MSFT    11\n",
       "AAPL    11\n",
       "dtype: int64"
      ]
     },
     "execution_count": 25,
     "metadata": {},
     "output_type": "execute_result"
    }
   ],
   "source": [
    "omh[['MSFT', 'AAPL']].idxmin()"
   ]
  },
  {
   "cell_type": "code",
   "execution_count": 26,
   "metadata": {},
   "outputs": [
    {
     "data": {
      "text/plain": [
       "MSFT    3\n",
       "AAPL    2\n",
       "dtype: int64"
      ]
     },
     "execution_count": 26,
     "metadata": {},
     "output_type": "execute_result"
    }
   ],
   "source": [
    "omh[['MSFT', 'AAPL']].idxmax()"
   ]
  },
  {
   "cell_type": "markdown",
   "metadata": {},
   "source": [
    "# nsmallest(갯수, 컬럼) 가장 작은 데이터부터 4개\n",
    "# nlargest(갯수, 컬럼) 가장 큰 데이터부터 4개"
   ]
  },
  {
   "cell_type": "code",
   "execution_count": 27,
   "metadata": {},
   "outputs": [
    {
     "data": {
      "text/plain": [
       "11    45.16\n",
       "12    45.74\n",
       "21    46.45\n",
       "10    46.67\n",
       "Name: MSFT, dtype: float64"
      ]
     },
     "execution_count": 27,
     "metadata": {},
     "output_type": "execute_result"
    }
   ],
   "source": [
    "omh.nsmallest(4, ['MSFT'])['MSFT']"
   ]
  },
  {
   "cell_type": "code",
   "execution_count": 28,
   "metadata": {},
   "outputs": [
    {
     "data": {
      "text/plain": [
       "3     48.84\n",
       "0     48.62\n",
       "1     48.46\n",
       "16    48.45\n",
       "Name: MSFT, dtype: float64"
      ]
     },
     "execution_count": 28,
     "metadata": {},
     "output_type": "execute_result"
    }
   ],
   "source": [
    "omh.nlargest(4, ['MSFT'])['MSFT']"
   ]
  },
  {
   "cell_type": "code",
   "execution_count": 29,
   "metadata": {},
   "outputs": [
    {
     "data": {
      "text/plain": [
       "11    45.16\n",
       "12    45.74\n",
       "21    46.45\n",
       "10    46.67\n",
       "Name: MSFT, dtype: float64"
      ]
     },
     "execution_count": 29,
     "metadata": {},
     "output_type": "execute_result"
    }
   ],
   "source": [
    "omh.MSFT.nsmallest(4)"
   ]
  },
  {
   "cell_type": "markdown",
   "metadata": {},
   "source": [
    "# .cumprod() 누적곱\n",
    "# .cumsum() 누적합"
   ]
  },
  {
   "cell_type": "code",
   "execution_count": 34,
   "metadata": {},
   "outputs": [
    {
     "data": {
      "text/plain": [
       "0     1\n",
       "1     2\n",
       "2     6\n",
       "3    24\n",
       "dtype: int64"
      ]
     },
     "execution_count": 34,
     "metadata": {},
     "output_type": "execute_result"
    }
   ],
   "source": [
    "pd.Series([1, 2, 3, 4]).cumprod()"
   ]
  },
  {
   "cell_type": "code",
   "execution_count": 35,
   "metadata": {},
   "outputs": [
    {
     "data": {
      "text/plain": [
       "0     1\n",
       "1     3\n",
       "2     6\n",
       "3    10\n",
       "dtype: int64"
      ]
     },
     "execution_count": 35,
     "metadata": {},
     "output_type": "execute_result"
    }
   ],
   "source": [
    "pd.Series([1, 2, 3, 4]).cumsum()"
   ]
  },
  {
   "cell_type": "code",
   "execution_count": 36,
   "metadata": {},
   "outputs": [
    {
     "data": {
      "text/html": [
       "<div>\n",
       "<style scoped>\n",
       "    .dataframe tbody tr th:only-of-type {\n",
       "        vertical-align: middle;\n",
       "    }\n",
       "\n",
       "    .dataframe tbody tr th {\n",
       "        vertical-align: top;\n",
       "    }\n",
       "\n",
       "    .dataframe thead th {\n",
       "        text-align: right;\n",
       "    }\n",
       "</style>\n",
       "<table border=\"1\" class=\"dataframe\">\n",
       "  <thead>\n",
       "    <tr style=\"text-align: right;\">\n",
       "      <th></th>\n",
       "      <th>MSFT</th>\n",
       "      <th>AAPL</th>\n",
       "    </tr>\n",
       "  </thead>\n",
       "  <tbody>\n",
       "    <tr>\n",
       "      <td>count</td>\n",
       "      <td>22.000000</td>\n",
       "      <td>22.000000</td>\n",
       "    </tr>\n",
       "    <tr>\n",
       "      <td>mean</td>\n",
       "      <td>47.493182</td>\n",
       "      <td>112.411364</td>\n",
       "    </tr>\n",
       "    <tr>\n",
       "      <td>std</td>\n",
       "      <td>0.933077</td>\n",
       "      <td>2.388772</td>\n",
       "    </tr>\n",
       "    <tr>\n",
       "      <td>min</td>\n",
       "      <td>45.160000</td>\n",
       "      <td>106.750000</td>\n",
       "    </tr>\n",
       "    <tr>\n",
       "      <td>25%</td>\n",
       "      <td>46.967500</td>\n",
       "      <td>111.660000</td>\n",
       "    </tr>\n",
       "    <tr>\n",
       "      <td>50%</td>\n",
       "      <td>47.625000</td>\n",
       "      <td>112.530000</td>\n",
       "    </tr>\n",
       "    <tr>\n",
       "      <td>75%</td>\n",
       "      <td>48.125000</td>\n",
       "      <td>114.087500</td>\n",
       "    </tr>\n",
       "    <tr>\n",
       "      <td>max</td>\n",
       "      <td>48.840000</td>\n",
       "      <td>115.930000</td>\n",
       "    </tr>\n",
       "  </tbody>\n",
       "</table>\n",
       "</div>"
      ],
      "text/plain": [
       "            MSFT        AAPL\n",
       "count  22.000000   22.000000\n",
       "mean   47.493182  112.411364\n",
       "std     0.933077    2.388772\n",
       "min    45.160000  106.750000\n",
       "25%    46.967500  111.660000\n",
       "50%    47.625000  112.530000\n",
       "75%    48.125000  114.087500\n",
       "max    48.840000  115.930000"
      ]
     },
     "execution_count": 36,
     "metadata": {},
     "output_type": "execute_result"
    }
   ],
   "source": [
    "omh.describe()"
   ]
  },
  {
   "cell_type": "code",
   "execution_count": 37,
   "metadata": {},
   "outputs": [
    {
     "data": {
      "text/plain": [
       "count    22.000000\n",
       "mean     47.493182\n",
       "std       0.933077\n",
       "min      45.160000\n",
       "25%      46.967500\n",
       "50%      47.625000\n",
       "75%      48.125000\n",
       "max      48.840000\n",
       "Name: MSFT, dtype: float64"
      ]
     },
     "execution_count": 37,
     "metadata": {},
     "output_type": "execute_result"
    }
   ],
   "source": [
    "omh.MSFT.describe()"
   ]
  },
  {
   "cell_type": "code",
   "execution_count": 38,
   "metadata": {},
   "outputs": [
    {
     "data": {
      "text/plain": [
       "47.49318181818182"
      ]
     },
     "execution_count": 38,
     "metadata": {},
     "output_type": "execute_result"
    }
   ],
   "source": [
    "omh.MSFT.describe()['mean']"
   ]
  },
  {
   "cell_type": "code",
   "execution_count": 39,
   "metadata": {},
   "outputs": [
    {
     "data": {
      "text/plain": [
       "count     4\n",
       "unique    3\n",
       "top       a\n",
       "freq      2\n",
       "dtype: object"
      ]
     },
     "execution_count": 39,
     "metadata": {},
     "output_type": "execute_result"
    }
   ],
   "source": [
    "s = pd.Series(['a', 'a', 'b', 'c', np.NaN])\n",
    "s.describe()"
   ]
  },
  {
   "cell_type": "markdown",
   "metadata": {},
   "source": [
    "# 수치분석함수들"
   ]
  },
  {
   "cell_type": "code",
   "execution_count": 40,
   "metadata": {},
   "outputs": [
    {
     "data": {
      "text/plain": [
       "MSFT     47.493182\n",
       "AAPL    112.411364\n",
       "dtype: float64"
      ]
     },
     "execution_count": 40,
     "metadata": {},
     "output_type": "execute_result"
    }
   ],
   "source": [
    "omh.mean()"
   ]
  },
  {
   "cell_type": "code",
   "execution_count": 41,
   "metadata": {},
   "outputs": [
    {
     "data": {
      "text/plain": [
       "0    81.845\n",
       "1    81.545\n",
       "2    82.005\n",
       "3    82.165\n",
       "4    81.710\n",
       "dtype: float64"
      ]
     },
     "execution_count": 41,
     "metadata": {},
     "output_type": "execute_result"
    }
   ],
   "source": [
    "omh.mean(axis=1)[:5]"
   ]
  },
  {
   "cell_type": "code",
   "execution_count": 49,
   "metadata": {},
   "outputs": [
    {
     "data": {
      "text/plain": [
       "MSFT     47.625\n",
       "AAPL    112.530\n",
       "dtype: float64"
      ]
     },
     "execution_count": 49,
     "metadata": {},
     "output_type": "execute_result"
    }
   ],
   "source": [
    "omh.median()#중위값"
   ]
  },
  {
   "cell_type": "code",
   "execution_count": 50,
   "metadata": {},
   "outputs": [
    {
     "data": {
      "text/plain": [
       "0    3\n",
       "dtype: int64"
      ]
     },
     "execution_count": 50,
     "metadata": {},
     "output_type": "execute_result"
    }
   ],
   "source": [
    "s = pd.Series([1, 2, 3, 3, 5])\n",
    "s.mode()#최빈값"
   ]
  },
  {
   "cell_type": "code",
   "execution_count": 51,
   "metadata": {},
   "outputs": [
    {
     "data": {
      "text/plain": [
       "MSFT    0.870632\n",
       "AAPL    5.706231\n",
       "dtype: float64"
      ]
     },
     "execution_count": 51,
     "metadata": {},
     "output_type": "execute_result"
    }
   ],
   "source": [
    "omh.var()#분산"
   ]
  },
  {
   "cell_type": "code",
   "execution_count": 46,
   "metadata": {},
   "outputs": [
    {
     "data": {
      "text/plain": [
       "MSFT    0.933077\n",
       "AAPL    2.388772\n",
       "dtype: float64"
      ]
     },
     "execution_count": 46,
     "metadata": {},
     "output_type": "execute_result"
    }
   ],
   "source": [
    "omh.std()#표준편차"
   ]
  },
  {
   "cell_type": "code",
   "execution_count": 52,
   "metadata": {},
   "outputs": [
    {
     "data": {
      "text/plain": [
       "1.9261240259740264"
      ]
     },
     "execution_count": 52,
     "metadata": {},
     "output_type": "execute_result"
    }
   ],
   "source": [
    "omh.MSFT.cov(omh.AAPL)#공분산"
   ]
  },
  {
   "cell_type": "code",
   "execution_count": 53,
   "metadata": {},
   "outputs": [
    {
     "data": {
      "text/plain": [
       "0.8641560684381167"
      ]
     },
     "execution_count": 53,
     "metadata": {},
     "output_type": "execute_result"
    }
   ],
   "source": [
    "omh.MSFT.corr(omh.AAPL)#상관분석"
   ]
  },
  {
   "cell_type": "code",
   "execution_count": 54,
   "metadata": {},
   "outputs": [
    {
     "data": {
      "text/html": [
       "<div>\n",
       "<style scoped>\n",
       "    .dataframe tbody tr th:only-of-type {\n",
       "        vertical-align: middle;\n",
       "    }\n",
       "\n",
       "    .dataframe tbody tr th {\n",
       "        vertical-align: top;\n",
       "    }\n",
       "\n",
       "    .dataframe thead th {\n",
       "        text-align: right;\n",
       "    }\n",
       "</style>\n",
       "<table border=\"1\" class=\"dataframe\">\n",
       "  <thead>\n",
       "    <tr style=\"text-align: right;\">\n",
       "      <th></th>\n",
       "      <th>MSFT</th>\n",
       "      <th>AAPL</th>\n",
       "    </tr>\n",
       "  </thead>\n",
       "  <tbody>\n",
       "    <tr>\n",
       "      <td>MSFT</td>\n",
       "      <td>1.000000</td>\n",
       "      <td>0.864156</td>\n",
       "    </tr>\n",
       "    <tr>\n",
       "      <td>AAPL</td>\n",
       "      <td>0.864156</td>\n",
       "      <td>1.000000</td>\n",
       "    </tr>\n",
       "  </tbody>\n",
       "</table>\n",
       "</div>"
      ],
      "text/plain": [
       "          MSFT      AAPL\n",
       "MSFT  1.000000  0.864156\n",
       "AAPL  0.864156  1.000000"
      ]
     },
     "execution_count": 54,
     "metadata": {},
     "output_type": "execute_result"
    }
   ],
   "source": [
    "omh.corr()"
   ]
  },
  {
   "cell_type": "code",
   "execution_count": 55,
   "metadata": {},
   "outputs": [
    {
     "data": {
      "text/plain": [
       "array([ 0.4691123 , -0.28286334, -1.5090585 , ...,  0.26296448,\n",
       "       -0.83377412, -0.10418135])"
      ]
     },
     "execution_count": 55,
     "metadata": {},
     "output_type": "execute_result"
    }
   ],
   "source": [
    "np.random.seed(123456)\n",
    "dist = np.random.normal(size = 10000)\n",
    "dist"
   ]
  },
  {
   "cell_type": "code",
   "execution_count": 56,
   "metadata": {},
   "outputs": [
    {
     "data": {
      "text/plain": [
       "(-0.002863324040906651, 1.008716203199891)"
      ]
     },
     "execution_count": 56,
     "metadata": {},
     "output_type": "execute_result"
    }
   ],
   "source": [
    "(dist.mean(), dist.std())"
   ]
  },
  {
   "cell_type": "code",
   "execution_count": 57,
   "metadata": {
    "scrolled": true
   },
   "outputs": [
    {
     "data": {
      "text/plain": [
       "[(-0.633, 0.81], (-0.633, 0.81], (-2.077, -0.633], (-2.077, -0.633], (0.81, 2.254], ..., (-2.077, -0.633], (-0.633, 0.81], (-0.633, 0.81], (-2.077, -0.633], (-0.633, 0.81]]\n",
       "Length: 10000\n",
       "Categories (5, interval[float64]): [(-3.528, -2.077] < (-2.077, -0.633] < (-0.633, 0.81] < (0.81, 2.254] < (2.254, 3.698]]"
      ]
     },
     "execution_count": 57,
     "metadata": {},
     "output_type": "execute_result"
    }
   ],
   "source": [
    "bins = pd.cut(dist, 5)\n",
    "bins"
   ]
  },
  {
   "cell_type": "code",
   "execution_count": 58,
   "metadata": {},
   "outputs": [
    {
     "data": {
      "text/plain": [
       "IntervalIndex([(-3.528, -2.077], (-2.077, -0.633], (-0.633, 0.81], (0.81, 2.254], (2.254, 3.698]],\n",
       "              closed='right',\n",
       "              dtype='interval[float64]')"
      ]
     },
     "execution_count": 58,
     "metadata": {},
     "output_type": "execute_result"
    }
   ],
   "source": [
    "bins.categories"
   ]
  },
  {
   "cell_type": "code",
   "execution_count": 80,
   "metadata": {
    "scrolled": true
   },
   "outputs": [
    {
     "data": {
      "text/plain": [
       "[c, c, b, b, d, ..., b, c, c, b, c]\n",
       "Length: 10000\n",
       "Categories (5, object): [a < b < c < d < e]"
      ]
     },
     "execution_count": 80,
     "metadata": {},
     "output_type": "execute_result"
    }
   ],
   "source": [
    "bins = pd.cut(dist, 5, labels=['a','b','c','d','e'])\n",
    "bins"
   ]
  },
  {
   "cell_type": "code",
   "execution_count": 59,
   "metadata": {},
   "outputs": [
    {
     "data": {
      "text/plain": [
       "array([2, 2, 1, ..., 2, 1, 2], dtype=int8)"
      ]
     },
     "execution_count": 59,
     "metadata": {},
     "output_type": "execute_result"
    }
   ],
   "source": [
    "bins.codes"
   ]
  },
  {
   "cell_type": "code",
   "execution_count": 60,
   "metadata": {},
   "outputs": [
    {
     "data": {
      "text/plain": [
       "IntervalIndex([[-3.521, -2.077), [-2.077, -0.633), [-0.633, 0.81), [0.81, 2.254), [2.254, 3.705)],\n",
       "              closed='left',\n",
       "              dtype='interval[float64]')"
      ]
     },
     "execution_count": 60,
     "metadata": {},
     "output_type": "execute_result"
    }
   ],
   "source": [
    "pd.cut(dist, 5, right=False).categories"
   ]
  },
  {
   "cell_type": "code",
   "execution_count": 92,
   "metadata": {},
   "outputs": [
    {
     "data": {
      "text/plain": [
       "array([25, 44, 18, 30, 21, 29, 32, 36, 36, 32, 34, 11, 22, 15, 18, 43, 40,\n",
       "       44,  9, 17,  6, 17, 22,  9,  8, 25, 18,  7, 17, 23, 20, 13, 34, 23,\n",
       "       29, 19, 38, 18, 11, 37, 43, 37, 31, 26, 22, 14, 12, 28, 32, 25])"
      ]
     },
     "execution_count": 92,
     "metadata": {},
     "output_type": "execute_result"
    }
   ],
   "source": [
    "np.random.seed(1234)\n",
    "ages = np.random.randint(6, 45, 50)#6~45 사이의 난수 50개 생성\n",
    "ages"
   ]
  },
  {
   "cell_type": "code",
   "execution_count": 93,
   "metadata": {},
   "outputs": [
    {
     "data": {
      "text/html": [
       "<div>\n",
       "<style scoped>\n",
       "    .dataframe tbody tr th:only-of-type {\n",
       "        vertical-align: middle;\n",
       "    }\n",
       "\n",
       "    .dataframe tbody tr th {\n",
       "        vertical-align: top;\n",
       "    }\n",
       "\n",
       "    .dataframe thead th {\n",
       "        text-align: right;\n",
       "    }\n",
       "</style>\n",
       "<table border=\"1\" class=\"dataframe\">\n",
       "  <thead>\n",
       "    <tr style=\"text-align: right;\">\n",
       "      <th></th>\n",
       "      <th>counts</th>\n",
       "      <th>freqs</th>\n",
       "    </tr>\n",
       "    <tr>\n",
       "      <th>categories</th>\n",
       "      <th></th>\n",
       "      <th></th>\n",
       "    </tr>\n",
       "  </thead>\n",
       "  <tbody>\n",
       "    <tr>\n",
       "      <td>(6.0, 12.0]</td>\n",
       "      <td>7</td>\n",
       "      <td>0.14</td>\n",
       "    </tr>\n",
       "    <tr>\n",
       "      <td>(12.0, 18.0]</td>\n",
       "      <td>10</td>\n",
       "      <td>0.20</td>\n",
       "    </tr>\n",
       "    <tr>\n",
       "      <td>(18.0, 35.0]</td>\n",
       "      <td>22</td>\n",
       "      <td>0.44</td>\n",
       "    </tr>\n",
       "    <tr>\n",
       "      <td>(35.0, 50.0]</td>\n",
       "      <td>10</td>\n",
       "      <td>0.20</td>\n",
       "    </tr>\n",
       "    <tr>\n",
       "      <td>NaN</td>\n",
       "      <td>1</td>\n",
       "      <td>0.02</td>\n",
       "    </tr>\n",
       "  </tbody>\n",
       "</table>\n",
       "</div>"
      ],
      "text/plain": [
       "              counts  freqs\n",
       "categories                 \n",
       "(6.0, 12.0]        7   0.14\n",
       "(12.0, 18.0]      10   0.20\n",
       "(18.0, 35.0]      22   0.44\n",
       "(35.0, 50.0]      10   0.20\n",
       "NaN                1   0.02"
      ]
     },
     "execution_count": 93,
     "metadata": {},
     "output_type": "execute_result"
    }
   ],
   "source": [
    "ranges = [6, 12, 18, 35, 50]\n",
    "agebins = pd.cut(ages, ranges)\n",
    "agebins.describe()"
   ]
  },
  {
   "cell_type": "code",
   "execution_count": 94,
   "metadata": {},
   "outputs": [
    {
     "data": {
      "text/html": [
       "<div>\n",
       "<style scoped>\n",
       "    .dataframe tbody tr th:only-of-type {\n",
       "        vertical-align: middle;\n",
       "    }\n",
       "\n",
       "    .dataframe tbody tr th {\n",
       "        vertical-align: top;\n",
       "    }\n",
       "\n",
       "    .dataframe thead th {\n",
       "        text-align: right;\n",
       "    }\n",
       "</style>\n",
       "<table border=\"1\" class=\"dataframe\">\n",
       "  <thead>\n",
       "    <tr style=\"text-align: right;\">\n",
       "      <th></th>\n",
       "      <th>counts</th>\n",
       "      <th>freqs</th>\n",
       "    </tr>\n",
       "    <tr>\n",
       "      <th>categories</th>\n",
       "      <th></th>\n",
       "      <th></th>\n",
       "    </tr>\n",
       "  </thead>\n",
       "  <tbody>\n",
       "    <tr>\n",
       "      <td>Youth</td>\n",
       "      <td>7</td>\n",
       "      <td>0.14</td>\n",
       "    </tr>\n",
       "    <tr>\n",
       "      <td>Young Adult</td>\n",
       "      <td>10</td>\n",
       "      <td>0.20</td>\n",
       "    </tr>\n",
       "    <tr>\n",
       "      <td>Adult</td>\n",
       "      <td>22</td>\n",
       "      <td>0.44</td>\n",
       "    </tr>\n",
       "    <tr>\n",
       "      <td>Middle Aged</td>\n",
       "      <td>10</td>\n",
       "      <td>0.20</td>\n",
       "    </tr>\n",
       "    <tr>\n",
       "      <td>NaN</td>\n",
       "      <td>1</td>\n",
       "      <td>0.02</td>\n",
       "    </tr>\n",
       "  </tbody>\n",
       "</table>\n",
       "</div>"
      ],
      "text/plain": [
       "             counts  freqs\n",
       "categories                \n",
       "Youth             7   0.14\n",
       "Young Adult      10   0.20\n",
       "Adult            22   0.44\n",
       "Middle Aged      10   0.20\n",
       "NaN               1   0.02"
      ]
     },
     "execution_count": 94,
     "metadata": {},
     "output_type": "execute_result"
    }
   ],
   "source": [
    "ranges = [6, 12, 18, 35, 50]\n",
    "labels = ['Youth', 'Young Adult', 'Adult', 'Middle Aged']\n",
    "agebins = pd.cut(ages, ranges, labels=labels)\n",
    "agebins.describe()"
   ]
  },
  {
   "cell_type": "code",
   "execution_count": 103,
   "metadata": {},
   "outputs": [
    {
     "data": {
      "text/html": [
       "<div>\n",
       "<style scoped>\n",
       "    .dataframe tbody tr th:only-of-type {\n",
       "        vertical-align: middle;\n",
       "    }\n",
       "\n",
       "    .dataframe tbody tr th {\n",
       "        vertical-align: top;\n",
       "    }\n",
       "\n",
       "    .dataframe thead th {\n",
       "        text-align: right;\n",
       "    }\n",
       "</style>\n",
       "<table border=\"1\" class=\"dataframe\">\n",
       "  <thead>\n",
       "    <tr style=\"text-align: right;\">\n",
       "      <th></th>\n",
       "      <th>counts</th>\n",
       "      <th>freqs</th>\n",
       "    </tr>\n",
       "    <tr>\n",
       "      <th>categories</th>\n",
       "      <th></th>\n",
       "      <th></th>\n",
       "    </tr>\n",
       "  </thead>\n",
       "  <tbody>\n",
       "    <tr>\n",
       "      <td>a</td>\n",
       "      <td>2000</td>\n",
       "      <td>0.2</td>\n",
       "    </tr>\n",
       "    <tr>\n",
       "      <td>b</td>\n",
       "      <td>2000</td>\n",
       "      <td>0.2</td>\n",
       "    </tr>\n",
       "    <tr>\n",
       "      <td>c</td>\n",
       "      <td>2000</td>\n",
       "      <td>0.2</td>\n",
       "    </tr>\n",
       "    <tr>\n",
       "      <td>d</td>\n",
       "      <td>2000</td>\n",
       "      <td>0.2</td>\n",
       "    </tr>\n",
       "    <tr>\n",
       "      <td>e</td>\n",
       "      <td>2000</td>\n",
       "      <td>0.2</td>\n",
       "    </tr>\n",
       "  </tbody>\n",
       "</table>\n",
       "</div>"
      ],
      "text/plain": [
       "            counts  freqs\n",
       "categories               \n",
       "a             2000    0.2\n",
       "b             2000    0.2\n",
       "c             2000    0.2\n",
       "d             2000    0.2\n",
       "e             2000    0.2"
      ]
     },
     "execution_count": 103,
     "metadata": {},
     "output_type": "execute_result"
    }
   ],
   "source": [
    "qbin = pd.qcut(dist, 5,labels=['a','b','c','d','e'])\n",
    "qbin.describe()"
   ]
  },
  {
   "cell_type": "code",
   "execution_count": 96,
   "metadata": {},
   "outputs": [
    {
     "data": {
      "text/html": [
       "<div>\n",
       "<style scoped>\n",
       "    .dataframe tbody tr th:only-of-type {\n",
       "        vertical-align: middle;\n",
       "    }\n",
       "\n",
       "    .dataframe tbody tr th {\n",
       "        vertical-align: top;\n",
       "    }\n",
       "\n",
       "    .dataframe thead th {\n",
       "        text-align: right;\n",
       "    }\n",
       "</style>\n",
       "<table border=\"1\" class=\"dataframe\">\n",
       "  <thead>\n",
       "    <tr style=\"text-align: right;\">\n",
       "      <th></th>\n",
       "      <th>counts</th>\n",
       "      <th>freqs</th>\n",
       "    </tr>\n",
       "    <tr>\n",
       "      <th>categories</th>\n",
       "      <th></th>\n",
       "      <th></th>\n",
       "    </tr>\n",
       "  </thead>\n",
       "  <tbody>\n",
       "    <tr>\n",
       "      <td>(-3.522, -3.131]</td>\n",
       "      <td>10</td>\n",
       "      <td>0.001</td>\n",
       "    </tr>\n",
       "    <tr>\n",
       "      <td>(-3.131, -2.056]</td>\n",
       "      <td>200</td>\n",
       "      <td>0.020</td>\n",
       "    </tr>\n",
       "    <tr>\n",
       "      <td>(-2.056, -1.033]</td>\n",
       "      <td>1380</td>\n",
       "      <td>0.138</td>\n",
       "    </tr>\n",
       "    <tr>\n",
       "      <td>(-1.033, -0.00363]</td>\n",
       "      <td>3410</td>\n",
       "      <td>0.341</td>\n",
       "    </tr>\n",
       "    <tr>\n",
       "      <td>(-0.00363, 1.011]</td>\n",
       "      <td>3410</td>\n",
       "      <td>0.341</td>\n",
       "    </tr>\n",
       "    <tr>\n",
       "      <td>(1.011, 2.043]</td>\n",
       "      <td>1380</td>\n",
       "      <td>0.138</td>\n",
       "    </tr>\n",
       "    <tr>\n",
       "      <td>(2.043, 3.062]</td>\n",
       "      <td>200</td>\n",
       "      <td>0.020</td>\n",
       "    </tr>\n",
       "    <tr>\n",
       "      <td>(3.062, 3.698]</td>\n",
       "      <td>10</td>\n",
       "      <td>0.001</td>\n",
       "    </tr>\n",
       "  </tbody>\n",
       "</table>\n",
       "</div>"
      ],
      "text/plain": [
       "                    counts  freqs\n",
       "categories                       \n",
       "(-3.522, -3.131]        10  0.001\n",
       "(-3.131, -2.056]       200  0.020\n",
       "(-2.056, -1.033]      1380  0.138\n",
       "(-1.033, -0.00363]    3410  0.341\n",
       "(-0.00363, 1.011]     3410  0.341\n",
       "(1.011, 2.043]        1380  0.138\n",
       "(2.043, 3.062]         200  0.020\n",
       "(3.062, 3.698]          10  0.001"
      ]
     },
     "execution_count": 96,
     "metadata": {},
     "output_type": "execute_result"
    }
   ],
   "source": [
    "quantiles = [0,0.001,0.021,0.5-0.341,0.5,0.5+0.341,1.0-0.021,1.0-0.001,1.0]\n",
    "qbin = pd.qcut(dist, quantiles)\n",
    "qbin.describe()"
   ]
  },
  {
   "cell_type": "code",
   "execution_count": 97,
   "metadata": {},
   "outputs": [
    {
     "data": {
      "text/plain": [
       "a   -0.204708\n",
       "b    0.478943\n",
       "c   -0.519439\n",
       "d   -0.555730\n",
       "e    1.965781\n",
       "dtype: float64"
      ]
     },
     "execution_count": 97,
     "metadata": {},
     "output_type": "execute_result"
    }
   ],
   "source": [
    "np.random.seed(12345)\n",
    "s = pd.Series(np.random.np.random.randn(5), index=list('abcde'))\n",
    "s"
   ]
  },
  {
   "cell_type": "code",
   "execution_count": 98,
   "metadata": {},
   "outputs": [
    {
     "data": {
      "text/plain": [
       "a    3.0\n",
       "b    4.0\n",
       "c    2.0\n",
       "d    1.0\n",
       "e    5.0\n",
       "dtype: float64"
      ]
     },
     "execution_count": 98,
     "metadata": {},
     "output_type": "execute_result"
    }
   ],
   "source": [
    "s.rank()"
   ]
  },
  {
   "cell_type": "code",
   "execution_count": 107,
   "metadata": {},
   "outputs": [
    {
     "data": {
      "text/plain": [
       "0                                                    48.62\n",
       "1                                                    48.46\n",
       "2                                                    48.08\n",
       "3                                                    48.84\n",
       "4                                                    48.42\n",
       "5                                                     47.7\n",
       "6                                                    47.59\n",
       "7                                                     46.9\n",
       "8                                                    47.17\n",
       "9                                                    46.95\n",
       "10                                                   46.67\n",
       "11                                                   45.16\n",
       "12                                                   45.74\n",
       "13                                                   47.52\n",
       "14                                                   47.66\n",
       "15                                                   47.98\n",
       "16                                                   48.45\n",
       "17                                                   48.14\n",
       "18                                                   47.88\n",
       "19                                                   47.45\n",
       "20                                                   47.02\n",
       "21                                                   46.45\n",
       "shift    0       NaN\n",
       "1     48.62\n",
       "2     48.46\n",
       "3     48.0...\n",
       "Name: MSFT, dtype: object"
      ]
     },
     "execution_count": 107,
     "metadata": {},
     "output_type": "execute_result"
    }
   ],
   "source": [
    "omh_ms = omh['MSFT'].copy()\n",
    "omh_ms['shift'] = omh_ms.shift(1)\n",
    "omh_ms"
   ]
  },
  {
   "cell_type": "code",
   "execution_count": 108,
   "metadata": {},
   "outputs": [
    {
     "data": {
      "text/plain": [
       "0         NaN\n",
       "1   -0.003291\n",
       "2   -0.007842\n",
       "3    0.015807\n",
       "4   -0.008600\n",
       "Name: MSFT, dtype: float64"
      ]
     },
     "execution_count": 108,
     "metadata": {},
     "output_type": "execute_result"
    }
   ],
   "source": [
    "((omh['MSFT']-omh['MSFT'].shift(1))/omh['MSFT'].shift(1))[:5]"
   ]
  },
  {
   "cell_type": "code",
   "execution_count": 109,
   "metadata": {},
   "outputs": [
    {
     "data": {
      "text/html": [
       "<div>\n",
       "<style scoped>\n",
       "    .dataframe tbody tr th:only-of-type {\n",
       "        vertical-align: middle;\n",
       "    }\n",
       "\n",
       "    .dataframe tbody tr th {\n",
       "        vertical-align: top;\n",
       "    }\n",
       "\n",
       "    .dataframe thead th {\n",
       "        text-align: right;\n",
       "    }\n",
       "</style>\n",
       "<table border=\"1\" class=\"dataframe\">\n",
       "  <thead>\n",
       "    <tr style=\"text-align: right;\">\n",
       "      <th></th>\n",
       "      <th>MSFT</th>\n",
       "    </tr>\n",
       "  </thead>\n",
       "  <tbody>\n",
       "    <tr>\n",
       "      <td>0</td>\n",
       "      <td>NaN</td>\n",
       "    </tr>\n",
       "    <tr>\n",
       "      <td>1</td>\n",
       "      <td>-0.003291</td>\n",
       "    </tr>\n",
       "    <tr>\n",
       "      <td>2</td>\n",
       "      <td>-0.007842</td>\n",
       "    </tr>\n",
       "    <tr>\n",
       "      <td>3</td>\n",
       "      <td>0.015807</td>\n",
       "    </tr>\n",
       "    <tr>\n",
       "      <td>4</td>\n",
       "      <td>-0.008600</td>\n",
       "    </tr>\n",
       "  </tbody>\n",
       "</table>\n",
       "</div>"
      ],
      "text/plain": [
       "       MSFT\n",
       "0       NaN\n",
       "1 -0.003291\n",
       "2 -0.007842\n",
       "3  0.015807\n",
       "4 -0.008600"
      ]
     },
     "execution_count": 109,
     "metadata": {},
     "output_type": "execute_result"
    }
   ],
   "source": [
    "omh[['MSFT']].pct_change()[:5]#한단위 수익률"
   ]
  },
  {
   "cell_type": "code",
   "execution_count": 110,
   "metadata": {},
   "outputs": [
    {
     "data": {
      "text/plain": [
       "0   -0.089982\n",
       "1    0.669390\n",
       "2    1.417726\n",
       "3    0.436229\n",
       "4    0.802004\n",
       "dtype: float64"
      ]
     },
     "execution_count": 110,
     "metadata": {},
     "output_type": "execute_result"
    }
   ],
   "source": [
    "np.random.seed(12346)\n",
    "s = pd.Series(np.random.randn(1000)).cumsum()\n",
    "s[:5]"
   ]
  },
  {
   "cell_type": "code",
   "execution_count": 111,
   "metadata": {},
   "outputs": [
    {
     "data": {
      "image/png": "[encoded data removed]",
      "text/plain": [
       "<Figure size 432x288 with 1 Axes>"
      ]
     },
     "metadata": {
      "needs_background": "light"
     },
     "output_type": "display_data"
    }
   ],
   "source": [
    "s[0:100].plot();"
   ]
  },
  {
   "cell_type": "markdown",
   "metadata": {},
   "source": [
    "# 이동평균"
   ]
  },
  {
   "cell_type": "code",
   "execution_count": 112,
   "metadata": {},
   "outputs": [
    {
     "data": {
      "text/plain": [
       "Rolling [window=3,center=False,axis=0]"
      ]
     },
     "execution_count": 112,
     "metadata": {},
     "output_type": "execute_result"
    }
   ],
   "source": [
    "r = s.rolling(window=3)\n",
    "r"
   ]
  },
  {
   "cell_type": "code",
   "execution_count": 113,
   "metadata": {},
   "outputs": [
    {
     "data": {
      "text/plain": [
       "0         NaN\n",
       "1         NaN\n",
       "2    0.665712\n",
       "3    0.841115\n",
       "4    0.885320\n",
       "5    0.574931\n",
       "6    0.302997\n",
       "dtype: float64"
      ]
     },
     "execution_count": 113,
     "metadata": {},
     "output_type": "execute_result"
    }
   ],
   "source": [
    "means = r.mean()\n",
    "means[:7]"
   ]
  },
  {
   "cell_type": "code",
   "execution_count": 114,
   "metadata": {},
   "outputs": [
    {
     "data": {
      "text/plain": [
       "0.6657115305646771"
      ]
     },
     "execution_count": 114,
     "metadata": {},
     "output_type": "execute_result"
    }
   ],
   "source": [
    "s[0:3].mean()"
   ]
  },
  {
   "cell_type": "code",
   "execution_count": 115,
   "metadata": {},
   "outputs": [
    {
     "data": {
      "text/plain": [
       "0.8411151188746651"
      ]
     },
     "execution_count": 115,
     "metadata": {},
     "output_type": "execute_result"
    }
   ],
   "source": [
    "s[1:4].mean()"
   ]
  },
  {
   "cell_type": "code",
   "execution_count": 116,
   "metadata": {},
   "outputs": [
    {
     "data": {
      "image/png": "[encoded data removed]",
      "text/plain": [
       "<Figure size 432x288 with 1 Axes>"
      ]
     },
     "metadata": {
      "needs_background": "light"
     },
     "output_type": "display_data"
    }
   ],
   "source": [
    "means[0:100].plot();"
   ]
  },
  {
   "cell_type": "code",
   "execution_count": 118,
   "metadata": {},
   "outputs": [
    {
     "data": {
      "text/html": [
       "<div>\n",
       "<style scoped>\n",
       "    .dataframe tbody tr th:only-of-type {\n",
       "        vertical-align: middle;\n",
       "    }\n",
       "\n",
       "    .dataframe tbody tr th {\n",
       "        vertical-align: top;\n",
       "    }\n",
       "\n",
       "    .dataframe thead th {\n",
       "        text-align: right;\n",
       "    }\n",
       "</style>\n",
       "<table border=\"1\" class=\"dataframe\">\n",
       "  <thead>\n",
       "    <tr style=\"text-align: right;\">\n",
       "      <th></th>\n",
       "      <th>0</th>\n",
       "      <th>1</th>\n",
       "      <th>2</th>\n",
       "      <th>3</th>\n",
       "    </tr>\n",
       "  </thead>\n",
       "  <tbody>\n",
       "    <tr>\n",
       "      <td>0</td>\n",
       "      <td>-1.164992</td>\n",
       "      <td>-1.202095</td>\n",
       "      <td>-0.210487</td>\n",
       "      <td>0.477780</td>\n",
       "    </tr>\n",
       "    <tr>\n",
       "      <td>1</td>\n",
       "      <td>-0.419747</td>\n",
       "      <td>-1.043936</td>\n",
       "      <td>1.466128</td>\n",
       "      <td>0.148192</td>\n",
       "    </tr>\n",
       "    <tr>\n",
       "      <td>2</td>\n",
       "      <td>0.324142</td>\n",
       "      <td>0.890239</td>\n",
       "      <td>0.457297</td>\n",
       "      <td>-0.628161</td>\n",
       "    </tr>\n",
       "    <tr>\n",
       "      <td>3</td>\n",
       "      <td>0.598111</td>\n",
       "      <td>-0.058955</td>\n",
       "      <td>-0.760234</td>\n",
       "      <td>-1.084191</td>\n",
       "    </tr>\n",
       "    <tr>\n",
       "      <td>4</td>\n",
       "      <td>1.064644</td>\n",
       "      <td>1.524706</td>\n",
       "      <td>1.081434</td>\n",
       "      <td>0.390930</td>\n",
       "    </tr>\n",
       "  </tbody>\n",
       "</table>\n",
       "</div>"
      ],
      "text/plain": [
       "          0         1         2         3\n",
       "0 -1.164992 -1.202095 -0.210487  0.477780\n",
       "1 -0.419747 -1.043936  1.466128  0.148192\n",
       "2  0.324142  0.890239  0.457297 -0.628161\n",
       "3  0.598111 -0.058955 -0.760234 -1.084191\n",
       "4  1.064644  1.524706  1.081434  0.390930"
      ]
     },
     "execution_count": 118,
     "metadata": {},
     "output_type": "execute_result"
    }
   ],
   "source": [
    "np.random.seed(23456)\n",
    "df = pd.DataFrame(np.random.randn(50, 4))\n",
    "df[:5]"
   ]
  },
  {
   "cell_type": "code",
   "execution_count": 131,
   "metadata": {},
   "outputs": [
    {
     "data": {
      "text/html": [
       "<div>\n",
       "<style scoped>\n",
       "    .dataframe tbody tr th:only-of-type {\n",
       "        vertical-align: middle;\n",
       "    }\n",
       "\n",
       "    .dataframe tbody tr th {\n",
       "        vertical-align: top;\n",
       "    }\n",
       "\n",
       "    .dataframe thead th {\n",
       "        text-align: right;\n",
       "    }\n",
       "</style>\n",
       "<table border=\"1\" class=\"dataframe\">\n",
       "  <thead>\n",
       "    <tr style=\"text-align: right;\">\n",
       "      <th></th>\n",
       "      <th>0</th>\n",
       "      <th>1</th>\n",
       "      <th>2</th>\n",
       "      <th>3</th>\n",
       "    </tr>\n",
       "  </thead>\n",
       "  <tbody>\n",
       "    <tr>\n",
       "      <td>35</td>\n",
       "      <td>-0.343208</td>\n",
       "      <td>1.265443</td>\n",
       "      <td>-0.162774</td>\n",
       "      <td>1.119473</td>\n",
       "    </tr>\n",
       "    <tr>\n",
       "      <td>40</td>\n",
       "      <td>-2.418085</td>\n",
       "      <td>0.421643</td>\n",
       "      <td>0.905806</td>\n",
       "      <td>0.582279</td>\n",
       "    </tr>\n",
       "    <tr>\n",
       "      <td>14</td>\n",
       "      <td>2.438606</td>\n",
       "      <td>1.347405</td>\n",
       "      <td>0.013680</td>\n",
       "      <td>-0.086656</td>\n",
       "    </tr>\n",
       "  </tbody>\n",
       "</table>\n",
       "</div>"
      ],
      "text/plain": [
       "           0         1         2         3\n",
       "35 -0.343208  1.265443 -0.162774  1.119473\n",
       "40 -2.418085  0.421643  0.905806  0.582279\n",
       "14  2.438606  1.347405  0.013680 -0.086656"
      ]
     },
     "execution_count": 131,
     "metadata": {},
     "output_type": "execute_result"
    }
   ],
   "source": [
    "df.sample(n=3)"
   ]
  },
  {
   "cell_type": "code",
   "execution_count": 143,
   "metadata": {},
   "outputs": [
    {
     "data": {
      "text/html": [
       "<div>\n",
       "<style scoped>\n",
       "    .dataframe tbody tr th:only-of-type {\n",
       "        vertical-align: middle;\n",
       "    }\n",
       "\n",
       "    .dataframe tbody tr th {\n",
       "        vertical-align: top;\n",
       "    }\n",
       "\n",
       "    .dataframe thead th {\n",
       "        text-align: right;\n",
       "    }\n",
       "</style>\n",
       "<table border=\"1\" class=\"dataframe\">\n",
       "  <thead>\n",
       "    <tr style=\"text-align: right;\">\n",
       "      <th></th>\n",
       "      <th>0</th>\n",
       "      <th>1</th>\n",
       "      <th>2</th>\n",
       "      <th>3</th>\n",
       "    </tr>\n",
       "  </thead>\n",
       "  <tbody>\n",
       "    <tr>\n",
       "      <td>31</td>\n",
       "      <td>-0.853135</td>\n",
       "      <td>-1.071662</td>\n",
       "      <td>1.182950</td>\n",
       "      <td>-0.003348</td>\n",
       "    </tr>\n",
       "    <tr>\n",
       "      <td>8</td>\n",
       "      <td>0.511153</td>\n",
       "      <td>-0.576452</td>\n",
       "      <td>0.097717</td>\n",
       "      <td>-0.418194</td>\n",
       "    </tr>\n",
       "    <tr>\n",
       "      <td>45</td>\n",
       "      <td>0.520542</td>\n",
       "      <td>-0.252590</td>\n",
       "      <td>-0.021133</td>\n",
       "      <td>-0.127141</td>\n",
       "    </tr>\n",
       "    <tr>\n",
       "      <td>30</td>\n",
       "      <td>-1.820858</td>\n",
       "      <td>0.099086</td>\n",
       "      <td>0.371277</td>\n",
       "      <td>0.377035</td>\n",
       "    </tr>\n",
       "    <tr>\n",
       "      <td>25</td>\n",
       "      <td>1.319921</td>\n",
       "      <td>0.846955</td>\n",
       "      <td>-0.311839</td>\n",
       "      <td>0.898802</td>\n",
       "    </tr>\n",
       "  </tbody>\n",
       "</table>\n",
       "</div>"
      ],
      "text/plain": [
       "           0         1         2         3\n",
       "31 -0.853135 -1.071662  1.182950 -0.003348\n",
       "8   0.511153 -0.576452  0.097717 -0.418194\n",
       "45  0.520542 -0.252590 -0.021133 -0.127141\n",
       "30 -1.820858  0.099086  0.371277  0.377035\n",
       "25  1.319921  0.846955 -0.311839  0.898802"
      ]
     },
     "execution_count": 143,
     "metadata": {},
     "output_type": "execute_result"
    }
   ],
   "source": [
    "df.sample(frac=0.1) # 50개의 0.1 = 5개를 가져온다"
   ]
  },
  {
   "cell_type": "code",
   "execution_count": 154,
   "metadata": {},
   "outputs": [
    {
     "data": {
      "text/html": [
       "<div>\n",
       "<style scoped>\n",
       "    .dataframe tbody tr th:only-of-type {\n",
       "        vertical-align: middle;\n",
       "    }\n",
       "\n",
       "    .dataframe tbody tr th {\n",
       "        vertical-align: top;\n",
       "    }\n",
       "\n",
       "    .dataframe thead th {\n",
       "        text-align: right;\n",
       "    }\n",
       "</style>\n",
       "<table border=\"1\" class=\"dataframe\">\n",
       "  <thead>\n",
       "    <tr style=\"text-align: right;\">\n",
       "      <th></th>\n",
       "      <th>0</th>\n",
       "      <th>1</th>\n",
       "      <th>2</th>\n",
       "      <th>3</th>\n",
       "    </tr>\n",
       "  </thead>\n",
       "  <tbody>\n",
       "    <tr>\n",
       "      <td>23</td>\n",
       "      <td>-2.718763</td>\n",
       "      <td>-2.237266</td>\n",
       "      <td>-0.673554</td>\n",
       "      <td>0.561729</td>\n",
       "    </tr>\n",
       "    <tr>\n",
       "      <td>20</td>\n",
       "      <td>0.216278</td>\n",
       "      <td>0.282307</td>\n",
       "      <td>0.520489</td>\n",
       "      <td>-0.595216</td>\n",
       "    </tr>\n",
       "    <tr>\n",
       "      <td>24</td>\n",
       "      <td>-0.645206</td>\n",
       "      <td>0.317969</td>\n",
       "      <td>1.019223</td>\n",
       "      <td>0.039193</td>\n",
       "    </tr>\n",
       "    <tr>\n",
       "      <td>16</td>\n",
       "      <td>-1.066475</td>\n",
       "      <td>-0.029582</td>\n",
       "      <td>-0.605431</td>\n",
       "      <td>-0.057838</td>\n",
       "    </tr>\n",
       "    <tr>\n",
       "      <td>25</td>\n",
       "      <td>1.319921</td>\n",
       "      <td>0.846955</td>\n",
       "      <td>-0.311839</td>\n",
       "      <td>0.898802</td>\n",
       "    </tr>\n",
       "  </tbody>\n",
       "</table>\n",
       "</div>"
      ],
      "text/plain": [
       "           0         1         2         3\n",
       "23 -2.718763 -2.237266 -0.673554  0.561729\n",
       "20  0.216278  0.282307  0.520489 -0.595216\n",
       "24 -0.645206  0.317969  1.019223  0.039193\n",
       "16 -1.066475 -0.029582 -0.605431 -0.057838\n",
       "25  1.319921  0.846955 -0.311839  0.898802"
      ]
     },
     "execution_count": 154,
     "metadata": {},
     "output_type": "execute_result"
    }
   ],
   "source": [
    "df.sample(frac=0.1, replace=True)"
   ]
  },
  {
   "cell_type": "code",
   "execution_count": 155,
   "metadata": {},
   "outputs": [
    {
     "data": {
      "text/plain": [
       "[Int64Index([22, 19, 40, 3, 39], dtype='int64'),\n",
       " Int64Index([46, 13, 42, 12, 9], dtype='int64'),\n",
       " Int64Index([24, 49, 3, 0, 7], dtype='int64'),\n",
       " Int64Index([10, 15, 36, 43, 5], dtype='int64'),\n",
       " Int64Index([23, 29, 27, 38, 25], dtype='int64'),\n",
       " Int64Index([35, 23, 48, 10, 46], dtype='int64'),\n",
       " Int64Index([37, 2, 15, 9, 47], dtype='int64'),\n",
       " Int64Index([23, 44, 31, 17, 28], dtype='int64'),\n",
       " Int64Index([7, 28, 48, 46, 26], dtype='int64'),\n",
       " Int64Index([12, 31, 44, 45, 7], dtype='int64')]"
      ]
     },
     "execution_count": 155,
     "metadata": {},
     "output_type": "execute_result"
    }
   ],
   "source": [
    "temp = []\n",
    "for _ in range(10):\n",
    "    temp.append(df.sample(frac=0.1).index)\n",
    "temp"
   ]
  },
  {
   "cell_type": "markdown",
   "metadata": {},
   "source": [
    "# chapter 09"
   ]
  },
  {
   "cell_type": "code",
   "execution_count": 2,
   "metadata": {},
   "outputs": [
    {
     "data": {
      "text/html": [
       "<div>\n",
       "<style scoped>\n",
       "    .dataframe tbody tr th:only-of-type {\n",
       "        vertical-align: middle;\n",
       "    }\n",
       "\n",
       "    .dataframe tbody tr th {\n",
       "        vertical-align: top;\n",
       "    }\n",
       "\n",
       "    .dataframe thead th {\n",
       "        text-align: right;\n",
       "    }\n",
       "</style>\n",
       "<table border=\"1\" class=\"dataframe\">\n",
       "  <thead>\n",
       "    <tr style=\"text-align: right;\">\n",
       "      <th></th>\n",
       "      <th>Date</th>\n",
       "      <th>Open</th>\n",
       "      <th>High</th>\n",
       "      <th>Low</th>\n",
       "      <th>Close</th>\n",
       "      <th>Volume</th>\n",
       "    </tr>\n",
       "  </thead>\n",
       "  <tbody>\n",
       "    <tr>\n",
       "      <td>0</td>\n",
       "      <td>7/21/2014</td>\n",
       "      <td>83.46</td>\n",
       "      <td>83.53</td>\n",
       "      <td>81.81</td>\n",
       "      <td>81.93</td>\n",
       "      <td>2359300</td>\n",
       "    </tr>\n",
       "    <tr>\n",
       "      <td>1</td>\n",
       "      <td>7/18/2014</td>\n",
       "      <td>83.30</td>\n",
       "      <td>83.40</td>\n",
       "      <td>82.52</td>\n",
       "      <td>83.35</td>\n",
       "      <td>4020800</td>\n",
       "    </tr>\n",
       "    <tr>\n",
       "      <td>2</td>\n",
       "      <td>7/17/2014</td>\n",
       "      <td>84.35</td>\n",
       "      <td>84.63</td>\n",
       "      <td>83.33</td>\n",
       "      <td>83.63</td>\n",
       "      <td>1974000</td>\n",
       "    </tr>\n",
       "    <tr>\n",
       "      <td>3</td>\n",
       "      <td>7/16/2014</td>\n",
       "      <td>83.77</td>\n",
       "      <td>84.91</td>\n",
       "      <td>83.66</td>\n",
       "      <td>84.91</td>\n",
       "      <td>1755600</td>\n",
       "    </tr>\n",
       "    <tr>\n",
       "      <td>4</td>\n",
       "      <td>7/15/2014</td>\n",
       "      <td>84.30</td>\n",
       "      <td>84.38</td>\n",
       "      <td>83.20</td>\n",
       "      <td>83.58</td>\n",
       "      <td>1874700</td>\n",
       "    </tr>\n",
       "  </tbody>\n",
       "</table>\n",
       "</div>"
      ],
      "text/plain": [
       "        Date   Open   High    Low  Close   Volume\n",
       "0  7/21/2014  83.46  83.53  81.81  81.93  2359300\n",
       "1  7/18/2014  83.30  83.40  82.52  83.35  4020800\n",
       "2  7/17/2014  84.35  84.63  83.33  83.63  1974000\n",
       "3  7/16/2014  83.77  84.91  83.66  84.91  1755600\n",
       "4  7/15/2014  84.30  84.38  83.20  83.58  1874700"
      ]
     },
     "execution_count": 2,
     "metadata": {},
     "output_type": "execute_result"
    }
   ],
   "source": [
    "msft = pd.read_csv(\"./lp/data/msft.csv\")\n",
    "msft[:5]"
   ]
  },
  {
   "cell_type": "code",
   "execution_count": 3,
   "metadata": {},
   "outputs": [
    {
     "data": {
      "text/plain": [
       "Date       object\n",
       "Open      float64\n",
       "High      float64\n",
       "Low       float64\n",
       "Close     float64\n",
       "Volume      int64\n",
       "dtype: object"
      ]
     },
     "execution_count": 3,
     "metadata": {},
     "output_type": "execute_result"
    }
   ],
   "source": [
    "msft.dtypes"
   ]
  },
  {
   "cell_type": "markdown",
   "metadata": {},
   "source": [
    "# dtype=[]\n",
    "데이터타입을 지정함"
   ]
  },
  {
   "cell_type": "code",
   "execution_count": 4,
   "metadata": {},
   "outputs": [
    {
     "data": {
      "text/plain": [
       "Date       object\n",
       "Open      float64\n",
       "High      float64\n",
       "Low       float64\n",
       "Close     float64\n",
       "Volume    float64\n",
       "dtype: object"
      ]
     },
     "execution_count": 4,
     "metadata": {},
     "output_type": "execute_result"
    }
   ],
   "source": [
    "msft = pd.read_csv(\"./lp/data/msft.csv\", dtype={'Volume':np.float64})\n",
    "msft.dtypes"
   ]
  },
  {
   "cell_type": "markdown",
   "metadata": {},
   "source": [
    "# names=[]\n",
    "컬럼명을 지정함"
   ]
  },
  {
   "cell_type": "code",
   "execution_count": 5,
   "metadata": {
    "scrolled": true
   },
   "outputs": [
    {
     "data": {
      "text/html": [
       "<div>\n",
       "<style scoped>\n",
       "    .dataframe tbody tr th:only-of-type {\n",
       "        vertical-align: middle;\n",
       "    }\n",
       "\n",
       "    .dataframe tbody tr th {\n",
       "        vertical-align: top;\n",
       "    }\n",
       "\n",
       "    .dataframe thead th {\n",
       "        text-align: right;\n",
       "    }\n",
       "</style>\n",
       "<table border=\"1\" class=\"dataframe\">\n",
       "  <thead>\n",
       "    <tr style=\"text-align: right;\">\n",
       "      <th></th>\n",
       "      <th>date</th>\n",
       "      <th>open</th>\n",
       "      <th>high</th>\n",
       "      <th>low</th>\n",
       "      <th>close</th>\n",
       "      <th>volume</th>\n",
       "    </tr>\n",
       "  </thead>\n",
       "  <tbody>\n",
       "    <tr>\n",
       "      <td>0</td>\n",
       "      <td>7/21/2014</td>\n",
       "      <td>83.46</td>\n",
       "      <td>83.53</td>\n",
       "      <td>81.81</td>\n",
       "      <td>81.93</td>\n",
       "      <td>2359300</td>\n",
       "    </tr>\n",
       "    <tr>\n",
       "      <td>1</td>\n",
       "      <td>7/18/2014</td>\n",
       "      <td>83.30</td>\n",
       "      <td>83.40</td>\n",
       "      <td>82.52</td>\n",
       "      <td>83.35</td>\n",
       "      <td>4020800</td>\n",
       "    </tr>\n",
       "    <tr>\n",
       "      <td>2</td>\n",
       "      <td>7/17/2014</td>\n",
       "      <td>84.35</td>\n",
       "      <td>84.63</td>\n",
       "      <td>83.33</td>\n",
       "      <td>83.63</td>\n",
       "      <td>1974000</td>\n",
       "    </tr>\n",
       "    <tr>\n",
       "      <td>3</td>\n",
       "      <td>7/16/2014</td>\n",
       "      <td>83.77</td>\n",
       "      <td>84.91</td>\n",
       "      <td>83.66</td>\n",
       "      <td>84.91</td>\n",
       "      <td>1755600</td>\n",
       "    </tr>\n",
       "    <tr>\n",
       "      <td>4</td>\n",
       "      <td>7/15/2014</td>\n",
       "      <td>84.30</td>\n",
       "      <td>84.38</td>\n",
       "      <td>83.20</td>\n",
       "      <td>83.58</td>\n",
       "      <td>1874700</td>\n",
       "    </tr>\n",
       "  </tbody>\n",
       "</table>\n",
       "</div>"
      ],
      "text/plain": [
       "        date   open   high    low  close   volume\n",
       "0  7/21/2014  83.46  83.53  81.81  81.93  2359300\n",
       "1  7/18/2014  83.30  83.40  82.52  83.35  4020800\n",
       "2  7/17/2014  84.35  84.63  83.33  83.63  1974000\n",
       "3  7/16/2014  83.77  84.91  83.66  84.91  1755600\n",
       "4  7/15/2014  84.30  84.38  83.20  83.58  1874700"
      ]
     },
     "execution_count": 5,
     "metadata": {},
     "output_type": "execute_result"
    }
   ],
   "source": [
    "df = pd.read_csv(\"./lp/data/msft.csv\",header=0,names=['date', 'open', 'high', 'low','close', 'volume'])\n",
    "df.head()"
   ]
  },
  {
   "cell_type": "markdown",
   "metadata": {},
   "source": [
    "# usecols=[]\n",
    "특정 컬럼만 가져옴\n",
    "# index_col=[]\n",
    "특정 컬럼을 인덱스로 지정함"
   ]
  },
  {
   "cell_type": "code",
   "execution_count": 8,
   "metadata": {},
   "outputs": [
    {
     "data": {
      "text/html": [
       "<div>\n",
       "<style scoped>\n",
       "    .dataframe tbody tr th:only-of-type {\n",
       "        vertical-align: middle;\n",
       "    }\n",
       "\n",
       "    .dataframe tbody tr th {\n",
       "        vertical-align: top;\n",
       "    }\n",
       "\n",
       "    .dataframe thead th {\n",
       "        text-align: right;\n",
       "    }\n",
       "</style>\n",
       "<table border=\"1\" class=\"dataframe\">\n",
       "  <thead>\n",
       "    <tr style=\"text-align: right;\">\n",
       "      <th></th>\n",
       "      <th>Close</th>\n",
       "    </tr>\n",
       "    <tr>\n",
       "      <th>Date</th>\n",
       "      <th></th>\n",
       "    </tr>\n",
       "  </thead>\n",
       "  <tbody>\n",
       "    <tr>\n",
       "      <td>7/21/2014</td>\n",
       "      <td>81.93</td>\n",
       "    </tr>\n",
       "    <tr>\n",
       "      <td>7/18/2014</td>\n",
       "      <td>83.35</td>\n",
       "    </tr>\n",
       "    <tr>\n",
       "      <td>7/17/2014</td>\n",
       "      <td>83.63</td>\n",
       "    </tr>\n",
       "    <tr>\n",
       "      <td>7/16/2014</td>\n",
       "      <td>84.91</td>\n",
       "    </tr>\n",
       "    <tr>\n",
       "      <td>7/15/2014</td>\n",
       "      <td>83.58</td>\n",
       "    </tr>\n",
       "  </tbody>\n",
       "</table>\n",
       "</div>"
      ],
      "text/plain": [
       "           Close\n",
       "Date            \n",
       "7/21/2014  81.93\n",
       "7/18/2014  83.35\n",
       "7/17/2014  83.63\n",
       "7/16/2014  84.91\n",
       "7/15/2014  83.58"
      ]
     },
     "execution_count": 8,
     "metadata": {},
     "output_type": "execute_result"
    }
   ],
   "source": [
    "df2 = pd.read_csv(\"./lp/data/msft.csv\",usecols=['Date', 'Close'],index_col=['Date'])\n",
    "df2.head()"
   ]
  },
  {
   "cell_type": "code",
   "execution_count": 9,
   "metadata": {},
   "outputs": [],
   "source": [
    "df2.to_csv(\"./lp/data/msft_modified.csv\", index_label='date')"
   ]
  },
  {
   "cell_type": "code",
   "execution_count": 23,
   "metadata": {},
   "outputs": [
    {
     "data": {
      "text/html": [
       "<div>\n",
       "<style scoped>\n",
       "    .dataframe tbody tr th:only-of-type {\n",
       "        vertical-align: middle;\n",
       "    }\n",
       "\n",
       "    .dataframe tbody tr th {\n",
       "        vertical-align: top;\n",
       "    }\n",
       "\n",
       "    .dataframe thead th {\n",
       "        text-align: right;\n",
       "    }\n",
       "</style>\n",
       "<table border=\"1\" class=\"dataframe\">\n",
       "  <thead>\n",
       "    <tr style=\"text-align: right;\">\n",
       "      <th></th>\n",
       "      <th>Date</th>\n",
       "      <th>Open</th>\n",
       "      <th>High</th>\n",
       "      <th>Low</th>\n",
       "      <th>Close</th>\n",
       "      <th>Volume</th>\n",
       "    </tr>\n",
       "  </thead>\n",
       "  <tbody>\n",
       "    <tr>\n",
       "      <td>0</td>\n",
       "      <td>7/21/2014</td>\n",
       "      <td>83.46</td>\n",
       "      <td>83.53</td>\n",
       "      <td>81.81</td>\n",
       "      <td>81.93</td>\n",
       "      <td>2359300</td>\n",
       "    </tr>\n",
       "    <tr>\n",
       "      <td>1</td>\n",
       "      <td>7/18/2014</td>\n",
       "      <td>83.30</td>\n",
       "      <td>83.40</td>\n",
       "      <td>82.52</td>\n",
       "      <td>83.35</td>\n",
       "      <td>4020800</td>\n",
       "    </tr>\n",
       "    <tr>\n",
       "      <td>2</td>\n",
       "      <td>7/17/2014</td>\n",
       "      <td>84.35</td>\n",
       "      <td>84.63</td>\n",
       "      <td>83.33</td>\n",
       "      <td>83.63</td>\n",
       "      <td>1974000</td>\n",
       "    </tr>\n",
       "    <tr>\n",
       "      <td>3</td>\n",
       "      <td>7/16/2014</td>\n",
       "      <td>83.77</td>\n",
       "      <td>84.91</td>\n",
       "      <td>83.66</td>\n",
       "      <td>84.91</td>\n",
       "      <td>1755600</td>\n",
       "    </tr>\n",
       "    <tr>\n",
       "      <td>4</td>\n",
       "      <td>7/15/2014</td>\n",
       "      <td>84.30</td>\n",
       "      <td>84.38</td>\n",
       "      <td>83.20</td>\n",
       "      <td>83.58</td>\n",
       "      <td>1874700</td>\n",
       "    </tr>\n",
       "  </tbody>\n",
       "</table>\n",
       "</div>"
      ],
      "text/plain": [
       "        Date   Open   High    Low  Close   Volume\n",
       "0  7/21/2014  83.46  83.53  81.81  81.93  2359300\n",
       "1  7/18/2014  83.30  83.40  82.52  83.35  4020800\n",
       "2  7/17/2014  84.35  84.63  83.33  83.63  1974000\n",
       "3  7/16/2014  83.77  84.91  83.66  84.91  1755600\n",
       "4  7/15/2014  84.30  84.38  83.20  83.58  1874700"
      ]
     },
     "execution_count": 23,
     "metadata": {},
     "output_type": "execute_result"
    }
   ],
   "source": [
    "df = pd.read_table(\"./lp/data/msft.csv\", sep=',')\n",
    "df[:5]"
   ]
  },
  {
   "cell_type": "code",
   "execution_count": 24,
   "metadata": {},
   "outputs": [],
   "source": [
    "df.to_csv(\"./lp/data/msft_piped.txt\", sep='|')"
   ]
  },
  {
   "cell_type": "code",
   "execution_count": 25,
   "metadata": {},
   "outputs": [
    {
     "data": {
      "text/html": [
       "<div>\n",
       "<style scoped>\n",
       "    .dataframe tbody tr th:only-of-type {\n",
       "        vertical-align: middle;\n",
       "    }\n",
       "\n",
       "    .dataframe tbody tr th {\n",
       "        vertical-align: top;\n",
       "    }\n",
       "\n",
       "    .dataframe thead th {\n",
       "        text-align: right;\n",
       "    }\n",
       "</style>\n",
       "<table border=\"1\" class=\"dataframe\">\n",
       "  <thead>\n",
       "    <tr style=\"text-align: right;\">\n",
       "      <th></th>\n",
       "      <th>Unnamed: 0</th>\n",
       "      <th>Date</th>\n",
       "      <th>Open</th>\n",
       "      <th>High</th>\n",
       "      <th>Low</th>\n",
       "      <th>Close</th>\n",
       "      <th>Volume</th>\n",
       "    </tr>\n",
       "  </thead>\n",
       "  <tbody>\n",
       "    <tr>\n",
       "      <td>0</td>\n",
       "      <td>0</td>\n",
       "      <td>7/21/2014</td>\n",
       "      <td>83.46</td>\n",
       "      <td>83.53</td>\n",
       "      <td>81.81</td>\n",
       "      <td>81.93</td>\n",
       "      <td>2359300</td>\n",
       "    </tr>\n",
       "    <tr>\n",
       "      <td>1</td>\n",
       "      <td>1</td>\n",
       "      <td>7/18/2014</td>\n",
       "      <td>83.30</td>\n",
       "      <td>83.40</td>\n",
       "      <td>82.52</td>\n",
       "      <td>83.35</td>\n",
       "      <td>4020800</td>\n",
       "    </tr>\n",
       "    <tr>\n",
       "      <td>2</td>\n",
       "      <td>2</td>\n",
       "      <td>7/17/2014</td>\n",
       "      <td>84.35</td>\n",
       "      <td>84.63</td>\n",
       "      <td>83.33</td>\n",
       "      <td>83.63</td>\n",
       "      <td>1974000</td>\n",
       "    </tr>\n",
       "    <tr>\n",
       "      <td>3</td>\n",
       "      <td>3</td>\n",
       "      <td>7/16/2014</td>\n",
       "      <td>83.77</td>\n",
       "      <td>84.91</td>\n",
       "      <td>83.66</td>\n",
       "      <td>84.91</td>\n",
       "      <td>1755600</td>\n",
       "    </tr>\n",
       "    <tr>\n",
       "      <td>4</td>\n",
       "      <td>4</td>\n",
       "      <td>7/15/2014</td>\n",
       "      <td>84.30</td>\n",
       "      <td>84.38</td>\n",
       "      <td>83.20</td>\n",
       "      <td>83.58</td>\n",
       "      <td>1874700</td>\n",
       "    </tr>\n",
       "  </tbody>\n",
       "</table>\n",
       "</div>"
      ],
      "text/plain": [
       "   Unnamed: 0       Date   Open   High    Low  Close   Volume\n",
       "0           0  7/21/2014  83.46  83.53  81.81  81.93  2359300\n",
       "1           1  7/18/2014  83.30  83.40  82.52  83.35  4020800\n",
       "2           2  7/17/2014  84.35  84.63  83.33  83.63  1974000\n",
       "3           3  7/16/2014  83.77  84.91  83.66  84.91  1755600\n",
       "4           4  7/15/2014  84.30  84.38  83.20  83.58  1874700"
      ]
     },
     "execution_count": 25,
     "metadata": {},
     "output_type": "execute_result"
    }
   ],
   "source": [
    "df = pd.read_table(\"./lp/data/msft_piped.txt\", sep='|')\n",
    "df[:5]"
   ]
  },
  {
   "cell_type": "markdown",
   "metadata": {},
   "source": [
    "# skiprows=[]\n",
    "해당 rows를 읽어오지 않는다"
   ]
  },
  {
   "cell_type": "code",
   "execution_count": 26,
   "metadata": {
    "scrolled": true
   },
   "outputs": [
    {
     "data": {
      "text/html": [
       "<div>\n",
       "<style scoped>\n",
       "    .dataframe tbody tr th:only-of-type {\n",
       "        vertical-align: middle;\n",
       "    }\n",
       "\n",
       "    .dataframe tbody tr th {\n",
       "        vertical-align: top;\n",
       "    }\n",
       "\n",
       "    .dataframe thead th {\n",
       "        text-align: right;\n",
       "    }\n",
       "</style>\n",
       "<table border=\"1\" class=\"dataframe\">\n",
       "  <thead>\n",
       "    <tr style=\"text-align: right;\">\n",
       "      <th></th>\n",
       "      <th>Date</th>\n",
       "      <th>Open</th>\n",
       "      <th>High</th>\n",
       "      <th>Low</th>\n",
       "      <th>Close</th>\n",
       "      <th>Volume</th>\n",
       "    </tr>\n",
       "  </thead>\n",
       "  <tbody>\n",
       "    <tr>\n",
       "      <td>0</td>\n",
       "      <td>7/21/2014</td>\n",
       "      <td>83.46</td>\n",
       "      <td>83.53</td>\n",
       "      <td>81.81</td>\n",
       "      <td>81.93</td>\n",
       "      <td>2359300</td>\n",
       "    </tr>\n",
       "    <tr>\n",
       "      <td>1</td>\n",
       "      <td>7/18/2014</td>\n",
       "      <td>83.30</td>\n",
       "      <td>83.40</td>\n",
       "      <td>82.52</td>\n",
       "      <td>83.35</td>\n",
       "      <td>4020800</td>\n",
       "    </tr>\n",
       "    <tr>\n",
       "      <td>2</td>\n",
       "      <td>7/17/2014</td>\n",
       "      <td>84.35</td>\n",
       "      <td>84.63</td>\n",
       "      <td>83.33</td>\n",
       "      <td>83.63</td>\n",
       "      <td>1974000</td>\n",
       "    </tr>\n",
       "    <tr>\n",
       "      <td>3</td>\n",
       "      <td>7/16/2014</td>\n",
       "      <td>83.77</td>\n",
       "      <td>84.91</td>\n",
       "      <td>83.66</td>\n",
       "      <td>84.91</td>\n",
       "      <td>1755600</td>\n",
       "    </tr>\n",
       "    <tr>\n",
       "      <td>4</td>\n",
       "      <td>7/15/2014</td>\n",
       "      <td>84.30</td>\n",
       "      <td>84.38</td>\n",
       "      <td>83.20</td>\n",
       "      <td>83.58</td>\n",
       "      <td>1874700</td>\n",
       "    </tr>\n",
       "  </tbody>\n",
       "</table>\n",
       "</div>"
      ],
      "text/plain": [
       "        Date   Open   High    Low  Close   Volume\n",
       "0  7/21/2014  83.46  83.53  81.81  81.93  2359300\n",
       "1  7/18/2014  83.30  83.40  82.52  83.35  4020800\n",
       "2  7/17/2014  84.35  84.63  83.33  83.63  1974000\n",
       "3  7/16/2014  83.77  84.91  83.66  84.91  1755600\n",
       "4  7/15/2014  84.30  84.38  83.20  83.58  1874700"
      ]
     },
     "execution_count": 26,
     "metadata": {},
     "output_type": "execute_result"
    }
   ],
   "source": [
    "df = pd.read_csv(\"./lp/data/msft2.csv\", skiprows=[0, 2, 3])\n",
    "df[:5]"
   ]
  },
  {
   "cell_type": "markdown",
   "metadata": {},
   "source": [
    "# skipfooter=x\n",
    "아래에서 x개의 row를 읽어오지 않는다\n",
    "# engine = x\n",
    "해당 인터프리터로 읽어온다"
   ]
  },
  {
   "cell_type": "code",
   "execution_count": 27,
   "metadata": {},
   "outputs": [
    {
     "data": {
      "text/html": [
       "<div>\n",
       "<style scoped>\n",
       "    .dataframe tbody tr th:only-of-type {\n",
       "        vertical-align: middle;\n",
       "    }\n",
       "\n",
       "    .dataframe tbody tr th {\n",
       "        vertical-align: top;\n",
       "    }\n",
       "\n",
       "    .dataframe thead th {\n",
       "        text-align: right;\n",
       "    }\n",
       "</style>\n",
       "<table border=\"1\" class=\"dataframe\">\n",
       "  <thead>\n",
       "    <tr style=\"text-align: right;\">\n",
       "      <th></th>\n",
       "      <th>Date</th>\n",
       "      <th>Open</th>\n",
       "      <th>High</th>\n",
       "      <th>Low</th>\n",
       "      <th>Close</th>\n",
       "      <th>Volume</th>\n",
       "    </tr>\n",
       "  </thead>\n",
       "  <tbody>\n",
       "    <tr>\n",
       "      <td>0</td>\n",
       "      <td>7/21/2014</td>\n",
       "      <td>83.46</td>\n",
       "      <td>83.53</td>\n",
       "      <td>81.81</td>\n",
       "      <td>81.93</td>\n",
       "      <td>2359300</td>\n",
       "    </tr>\n",
       "    <tr>\n",
       "      <td>1</td>\n",
       "      <td>7/18/2014</td>\n",
       "      <td>83.30</td>\n",
       "      <td>83.40</td>\n",
       "      <td>82.52</td>\n",
       "      <td>83.35</td>\n",
       "      <td>4020800</td>\n",
       "    </tr>\n",
       "  </tbody>\n",
       "</table>\n",
       "</div>"
      ],
      "text/plain": [
       "        Date   Open   High    Low  Close   Volume\n",
       "0  7/21/2014  83.46  83.53  81.81  81.93  2359300\n",
       "1  7/18/2014  83.30  83.40  82.52  83.35  4020800"
      ]
     },
     "execution_count": 27,
     "metadata": {},
     "output_type": "execute_result"
    }
   ],
   "source": [
    "df = pd.read_csv(\"./lp/data/msft_with_footer.csv\",skipfooter=2,engine = 'python')\n",
    "df"
   ]
  },
  {
   "cell_type": "markdown",
   "metadata": {},
   "source": [
    "# nrows=x\n",
    "x개의 row만 읽어온다"
   ]
  },
  {
   "cell_type": "code",
   "execution_count": 28,
   "metadata": {
    "scrolled": true
   },
   "outputs": [
    {
     "data": {
      "text/html": [
       "<div>\n",
       "<style scoped>\n",
       "    .dataframe tbody tr th:only-of-type {\n",
       "        vertical-align: middle;\n",
       "    }\n",
       "\n",
       "    .dataframe tbody tr th {\n",
       "        vertical-align: top;\n",
       "    }\n",
       "\n",
       "    .dataframe thead th {\n",
       "        text-align: right;\n",
       "    }\n",
       "</style>\n",
       "<table border=\"1\" class=\"dataframe\">\n",
       "  <thead>\n",
       "    <tr style=\"text-align: right;\">\n",
       "      <th></th>\n",
       "      <th>Date</th>\n",
       "      <th>Open</th>\n",
       "      <th>High</th>\n",
       "      <th>Low</th>\n",
       "      <th>Close</th>\n",
       "      <th>Volume</th>\n",
       "    </tr>\n",
       "  </thead>\n",
       "  <tbody>\n",
       "    <tr>\n",
       "      <td>0</td>\n",
       "      <td>7/21/2014</td>\n",
       "      <td>83.46</td>\n",
       "      <td>83.53</td>\n",
       "      <td>81.81</td>\n",
       "      <td>81.93</td>\n",
       "      <td>2359300</td>\n",
       "    </tr>\n",
       "    <tr>\n",
       "      <td>1</td>\n",
       "      <td>7/18/2014</td>\n",
       "      <td>83.30</td>\n",
       "      <td>83.40</td>\n",
       "      <td>82.52</td>\n",
       "      <td>83.35</td>\n",
       "      <td>4020800</td>\n",
       "    </tr>\n",
       "    <tr>\n",
       "      <td>2</td>\n",
       "      <td>7/17/2014</td>\n",
       "      <td>84.35</td>\n",
       "      <td>84.63</td>\n",
       "      <td>83.33</td>\n",
       "      <td>83.63</td>\n",
       "      <td>1974000</td>\n",
       "    </tr>\n",
       "  </tbody>\n",
       "</table>\n",
       "</div>"
      ],
      "text/plain": [
       "        Date   Open   High    Low  Close   Volume\n",
       "0  7/21/2014  83.46  83.53  81.81  81.93  2359300\n",
       "1  7/18/2014  83.30  83.40  82.52  83.35  4020800\n",
       "2  7/17/2014  84.35  84.63  83.33  83.63  1974000"
      ]
     },
     "execution_count": 28,
     "metadata": {},
     "output_type": "execute_result"
    }
   ],
   "source": [
    "pd.read_csv(\"./lp/data/msft.csv\", nrows=3)"
   ]
  },
  {
   "cell_type": "code",
   "execution_count": 29,
   "metadata": {},
   "outputs": [
    {
     "data": {
      "text/html": [
       "<div>\n",
       "<style scoped>\n",
       "    .dataframe tbody tr th:only-of-type {\n",
       "        vertical-align: middle;\n",
       "    }\n",
       "\n",
       "    .dataframe tbody tr th {\n",
       "        vertical-align: top;\n",
       "    }\n",
       "\n",
       "    .dataframe thead th {\n",
       "        text-align: right;\n",
       "    }\n",
       "</style>\n",
       "<table border=\"1\" class=\"dataframe\">\n",
       "  <thead>\n",
       "    <tr style=\"text-align: right;\">\n",
       "      <th></th>\n",
       "      <th>date</th>\n",
       "      <th>open</th>\n",
       "      <th>high</th>\n",
       "      <th>low</th>\n",
       "      <th>close</th>\n",
       "      <th>vol</th>\n",
       "    </tr>\n",
       "  </thead>\n",
       "  <tbody>\n",
       "    <tr>\n",
       "      <td>0</td>\n",
       "      <td>3/3/2014</td>\n",
       "      <td>80.35</td>\n",
       "      <td>81.31</td>\n",
       "      <td>79.91</td>\n",
       "      <td>79.97</td>\n",
       "      <td>5004100</td>\n",
       "    </tr>\n",
       "    <tr>\n",
       "      <td>1</td>\n",
       "      <td>2/28/2014</td>\n",
       "      <td>82.40</td>\n",
       "      <td>83.42</td>\n",
       "      <td>82.17</td>\n",
       "      <td>83.42</td>\n",
       "      <td>2853200</td>\n",
       "    </tr>\n",
       "    <tr>\n",
       "      <td>2</td>\n",
       "      <td>2/27/2014</td>\n",
       "      <td>84.06</td>\n",
       "      <td>84.63</td>\n",
       "      <td>81.63</td>\n",
       "      <td>82.00</td>\n",
       "      <td>3676800</td>\n",
       "    </tr>\n",
       "    <tr>\n",
       "      <td>3</td>\n",
       "      <td>2/26/2014</td>\n",
       "      <td>82.92</td>\n",
       "      <td>84.03</td>\n",
       "      <td>82.43</td>\n",
       "      <td>83.81</td>\n",
       "      <td>2623600</td>\n",
       "    </tr>\n",
       "    <tr>\n",
       "      <td>4</td>\n",
       "      <td>2/25/2014</td>\n",
       "      <td>83.80</td>\n",
       "      <td>83.80</td>\n",
       "      <td>81.72</td>\n",
       "      <td>83.08</td>\n",
       "      <td>3579100</td>\n",
       "    </tr>\n",
       "  </tbody>\n",
       "</table>\n",
       "</div>"
      ],
      "text/plain": [
       "        date   open   high    low  close      vol\n",
       "0   3/3/2014  80.35  81.31  79.91  79.97  5004100\n",
       "1  2/28/2014  82.40  83.42  82.17  83.42  2853200\n",
       "2  2/27/2014  84.06  84.63  81.63  82.00  3676800\n",
       "3  2/26/2014  82.92  84.03  82.43  83.81  2623600\n",
       "4  2/25/2014  83.80  83.80  81.72  83.08  3579100"
      ]
     },
     "execution_count": 29,
     "metadata": {},
     "output_type": "execute_result"
    }
   ],
   "source": [
    "pd.read_csv(\"./lp/data/msft.csv\", skiprows=100, nrows=5,header=0,names=['date', 'open', 'high', 'low','close', 'vol']) "
   ]
  },
  {
   "cell_type": "code",
   "execution_count": 30,
   "metadata": {},
   "outputs": [
    {
     "data": {
      "text/html": [
       "<div>\n",
       "<style scoped>\n",
       "    .dataframe tbody tr th:only-of-type {\n",
       "        vertical-align: middle;\n",
       "    }\n",
       "\n",
       "    .dataframe tbody tr th {\n",
       "        vertical-align: top;\n",
       "    }\n",
       "\n",
       "    .dataframe thead th {\n",
       "        text-align: right;\n",
       "    }\n",
       "</style>\n",
       "<table border=\"1\" class=\"dataframe\">\n",
       "  <thead>\n",
       "    <tr style=\"text-align: right;\">\n",
       "      <th></th>\n",
       "      <th>Date</th>\n",
       "      <th>Open</th>\n",
       "      <th>High</th>\n",
       "      <th>Low</th>\n",
       "      <th>Close</th>\n",
       "      <th>Volume</th>\n",
       "    </tr>\n",
       "  </thead>\n",
       "  <tbody>\n",
       "    <tr>\n",
       "      <td>0</td>\n",
       "      <td>2014-07-21</td>\n",
       "      <td>83.46</td>\n",
       "      <td>83.53</td>\n",
       "      <td>81.81</td>\n",
       "      <td>81.93</td>\n",
       "      <td>2359300</td>\n",
       "    </tr>\n",
       "    <tr>\n",
       "      <td>1</td>\n",
       "      <td>2014-07-18</td>\n",
       "      <td>83.30</td>\n",
       "      <td>83.40</td>\n",
       "      <td>82.52</td>\n",
       "      <td>83.35</td>\n",
       "      <td>4020800</td>\n",
       "    </tr>\n",
       "    <tr>\n",
       "      <td>2</td>\n",
       "      <td>2014-07-17</td>\n",
       "      <td>84.35</td>\n",
       "      <td>84.63</td>\n",
       "      <td>83.33</td>\n",
       "      <td>83.63</td>\n",
       "      <td>1974000</td>\n",
       "    </tr>\n",
       "    <tr>\n",
       "      <td>3</td>\n",
       "      <td>2014-07-16</td>\n",
       "      <td>83.77</td>\n",
       "      <td>84.91</td>\n",
       "      <td>83.66</td>\n",
       "      <td>84.91</td>\n",
       "      <td>1755600</td>\n",
       "    </tr>\n",
       "    <tr>\n",
       "      <td>4</td>\n",
       "      <td>2014-07-15</td>\n",
       "      <td>84.30</td>\n",
       "      <td>84.38</td>\n",
       "      <td>83.20</td>\n",
       "      <td>83.58</td>\n",
       "      <td>1874700</td>\n",
       "    </tr>\n",
       "  </tbody>\n",
       "</table>\n",
       "</div>"
      ],
      "text/plain": [
       "        Date   Open   High    Low  Close   Volume\n",
       "0 2014-07-21  83.46  83.53  81.81  81.93  2359300\n",
       "1 2014-07-18  83.30  83.40  82.52  83.35  4020800\n",
       "2 2014-07-17  84.35  84.63  83.33  83.63  1974000\n",
       "3 2014-07-16  83.77  84.91  83.66  84.91  1755600\n",
       "4 2014-07-15  84.30  84.38  83.20  83.58  1874700"
      ]
     },
     "execution_count": 30,
     "metadata": {},
     "output_type": "execute_result"
    }
   ],
   "source": [
    "df = pd.read_excel(\"./lp/data/stocks.xlsx\")\n",
    "df[:5]"
   ]
  },
  {
   "cell_type": "code",
   "execution_count": 32,
   "metadata": {},
   "outputs": [
    {
     "data": {
      "text/html": [
       "<div>\n",
       "<style scoped>\n",
       "    .dataframe tbody tr th:only-of-type {\n",
       "        vertical-align: middle;\n",
       "    }\n",
       "\n",
       "    .dataframe tbody tr th {\n",
       "        vertical-align: top;\n",
       "    }\n",
       "\n",
       "    .dataframe thead th {\n",
       "        text-align: right;\n",
       "    }\n",
       "</style>\n",
       "<table border=\"1\" class=\"dataframe\">\n",
       "  <thead>\n",
       "    <tr style=\"text-align: right;\">\n",
       "      <th></th>\n",
       "      <th>Date</th>\n",
       "      <th>Open</th>\n",
       "      <th>High</th>\n",
       "      <th>Low</th>\n",
       "      <th>Close</th>\n",
       "      <th>Volume</th>\n",
       "    </tr>\n",
       "  </thead>\n",
       "  <tbody>\n",
       "    <tr>\n",
       "      <td>0</td>\n",
       "      <td>2014-07-21</td>\n",
       "      <td>94.99</td>\n",
       "      <td>95.00</td>\n",
       "      <td>93.72</td>\n",
       "      <td>93.94</td>\n",
       "      <td>38887700</td>\n",
       "    </tr>\n",
       "    <tr>\n",
       "      <td>1</td>\n",
       "      <td>2014-07-18</td>\n",
       "      <td>93.62</td>\n",
       "      <td>94.74</td>\n",
       "      <td>93.02</td>\n",
       "      <td>94.43</td>\n",
       "      <td>49898600</td>\n",
       "    </tr>\n",
       "    <tr>\n",
       "      <td>2</td>\n",
       "      <td>2014-07-17</td>\n",
       "      <td>95.03</td>\n",
       "      <td>95.28</td>\n",
       "      <td>92.57</td>\n",
       "      <td>93.09</td>\n",
       "      <td>57152000</td>\n",
       "    </tr>\n",
       "    <tr>\n",
       "      <td>3</td>\n",
       "      <td>2014-07-16</td>\n",
       "      <td>96.97</td>\n",
       "      <td>97.10</td>\n",
       "      <td>94.74</td>\n",
       "      <td>94.78</td>\n",
       "      <td>53396300</td>\n",
       "    </tr>\n",
       "    <tr>\n",
       "      <td>4</td>\n",
       "      <td>2014-07-15</td>\n",
       "      <td>96.80</td>\n",
       "      <td>96.85</td>\n",
       "      <td>95.03</td>\n",
       "      <td>95.32</td>\n",
       "      <td>45477900</td>\n",
       "    </tr>\n",
       "  </tbody>\n",
       "</table>\n",
       "</div>"
      ],
      "text/plain": [
       "        Date   Open   High    Low  Close    Volume\n",
       "0 2014-07-21  94.99  95.00  93.72  93.94  38887700\n",
       "1 2014-07-18  93.62  94.74  93.02  94.43  49898600\n",
       "2 2014-07-17  95.03  95.28  92.57  93.09  57152000\n",
       "3 2014-07-16  96.97  97.10  94.74  94.78  53396300\n",
       "4 2014-07-15  96.80  96.85  95.03  95.32  45477900"
      ]
     },
     "execution_count": 32,
     "metadata": {},
     "output_type": "execute_result"
    }
   ],
   "source": [
    "aapl = pd.read_excel(\"./lp/data/stocks.xlsx\", sheet_name='aapl')\n",
    "aapl[:5]"
   ]
  },
  {
   "cell_type": "code",
   "execution_count": 33,
   "metadata": {},
   "outputs": [],
   "source": [
    "df.to_excel(\"./lp/data/stocks2.xls\")"
   ]
  },
  {
   "cell_type": "code",
   "execution_count": 34,
   "metadata": {},
   "outputs": [],
   "source": [
    "df.to_excel(\"./lp/data/stocks_msft.xls\", sheet_name='MSFT2222')"
   ]
  },
  {
   "cell_type": "markdown",
   "metadata": {},
   "source": [
    "# ExcelWriter\n",
    "동시에 여러 DF를 하나의 엑셀에 여러 시트로 저장할 때 사용"
   ]
  },
  {
   "cell_type": "code",
   "execution_count": 36,
   "metadata": {},
   "outputs": [],
   "source": [
    "from pandas import ExcelWriter\n",
    "with ExcelWriter(\"./lp/data/all_stocks.xls\") as writer:\n",
    "    aapl.to_excel(writer, sheet_name='AAPL')\n",
    "    df.to_excel(writer, sheet_name='MSFT')"
   ]
  },
  {
   "cell_type": "markdown",
   "metadata": {},
   "source": [
    "# JSON"
   ]
  },
  {
   "cell_type": "code",
   "execution_count": 37,
   "metadata": {},
   "outputs": [],
   "source": [
    "df[:5].to_json('./lp/data/stocks.json')"
   ]
  },
  {
   "cell_type": "code",
   "execution_count": 38,
   "metadata": {},
   "outputs": [
    {
     "data": {
      "text/html": [
       "<div>\n",
       "<style scoped>\n",
       "    .dataframe tbody tr th:only-of-type {\n",
       "        vertical-align: middle;\n",
       "    }\n",
       "\n",
       "    .dataframe tbody tr th {\n",
       "        vertical-align: top;\n",
       "    }\n",
       "\n",
       "    .dataframe thead th {\n",
       "        text-align: right;\n",
       "    }\n",
       "</style>\n",
       "<table border=\"1\" class=\"dataframe\">\n",
       "  <thead>\n",
       "    <tr style=\"text-align: right;\">\n",
       "      <th></th>\n",
       "      <th>Date</th>\n",
       "      <th>Open</th>\n",
       "      <th>High</th>\n",
       "      <th>Low</th>\n",
       "      <th>Close</th>\n",
       "      <th>Volume</th>\n",
       "    </tr>\n",
       "  </thead>\n",
       "  <tbody>\n",
       "    <tr>\n",
       "      <td>0</td>\n",
       "      <td>2014-07-21</td>\n",
       "      <td>83.46</td>\n",
       "      <td>83.53</td>\n",
       "      <td>81.81</td>\n",
       "      <td>81.93</td>\n",
       "      <td>2359300</td>\n",
       "    </tr>\n",
       "    <tr>\n",
       "      <td>1</td>\n",
       "      <td>2014-07-18</td>\n",
       "      <td>83.30</td>\n",
       "      <td>83.40</td>\n",
       "      <td>82.52</td>\n",
       "      <td>83.35</td>\n",
       "      <td>4020800</td>\n",
       "    </tr>\n",
       "    <tr>\n",
       "      <td>2</td>\n",
       "      <td>2014-07-17</td>\n",
       "      <td>84.35</td>\n",
       "      <td>84.63</td>\n",
       "      <td>83.33</td>\n",
       "      <td>83.63</td>\n",
       "      <td>1974000</td>\n",
       "    </tr>\n",
       "    <tr>\n",
       "      <td>3</td>\n",
       "      <td>2014-07-16</td>\n",
       "      <td>83.77</td>\n",
       "      <td>84.91</td>\n",
       "      <td>83.66</td>\n",
       "      <td>84.91</td>\n",
       "      <td>1755600</td>\n",
       "    </tr>\n",
       "    <tr>\n",
       "      <td>4</td>\n",
       "      <td>2014-07-15</td>\n",
       "      <td>84.30</td>\n",
       "      <td>84.38</td>\n",
       "      <td>83.20</td>\n",
       "      <td>83.58</td>\n",
       "      <td>1874700</td>\n",
       "    </tr>\n",
       "  </tbody>\n",
       "</table>\n",
       "</div>"
      ],
      "text/plain": [
       "        Date   Open   High    Low  Close   Volume\n",
       "0 2014-07-21  83.46  83.53  81.81  81.93  2359300\n",
       "1 2014-07-18  83.30  83.40  82.52  83.35  4020800\n",
       "2 2014-07-17  84.35  84.63  83.33  83.63  1974000\n",
       "3 2014-07-16  83.77  84.91  83.66  84.91  1755600\n",
       "4 2014-07-15  84.30  84.38  83.20  83.58  1874700"
      ]
     },
     "execution_count": 38,
     "metadata": {},
     "output_type": "execute_result"
    }
   ],
   "source": [
    "pd.read_json('./lp/data/stocks.json')"
   ]
  },
  {
   "cell_type": "markdown",
   "metadata": {},
   "source": [
    "## web read"
   ]
  },
  {
   "cell_type": "code",
   "execution_count": 39,
   "metadata": {},
   "outputs": [],
   "source": [
    "url = 'http://www.fdic.gov/bank/individual/failed/banklist.html'"
   ]
  },
  {
   "cell_type": "code",
   "execution_count": 40,
   "metadata": {},
   "outputs": [],
   "source": [
    "banks = pd.read_html(url)"
   ]
  },
  {
   "cell_type": "code",
   "execution_count": 41,
   "metadata": {},
   "outputs": [
    {
     "data": {
      "text/html": [
       "<div>\n",
       "<style scoped>\n",
       "    .dataframe tbody tr th:only-of-type {\n",
       "        vertical-align: middle;\n",
       "    }\n",
       "\n",
       "    .dataframe tbody tr th {\n",
       "        vertical-align: top;\n",
       "    }\n",
       "\n",
       "    .dataframe thead th {\n",
       "        text-align: right;\n",
       "    }\n",
       "</style>\n",
       "<table border=\"1\" class=\"dataframe\">\n",
       "  <thead>\n",
       "    <tr style=\"text-align: right;\">\n",
       "      <th></th>\n",
       "      <th>Bank Name</th>\n",
       "      <th>City</th>\n",
       "      <th>ST</th>\n",
       "      <th>CERT</th>\n",
       "      <th>Acquiring Institution</th>\n",
       "      <th>Closing Date</th>\n",
       "    </tr>\n",
       "  </thead>\n",
       "  <tbody>\n",
       "    <tr>\n",
       "      <td>0</td>\n",
       "      <td>City National Bank of New Jersey</td>\n",
       "      <td>Newark</td>\n",
       "      <td>NJ</td>\n",
       "      <td>21111</td>\n",
       "      <td>Industrial Bank</td>\n",
       "      <td>November 1, 2019</td>\n",
       "    </tr>\n",
       "    <tr>\n",
       "      <td>1</td>\n",
       "      <td>Resolute Bank</td>\n",
       "      <td>Maumee</td>\n",
       "      <td>OH</td>\n",
       "      <td>58317</td>\n",
       "      <td>Buckeye State Bank</td>\n",
       "      <td>October 25, 2019</td>\n",
       "    </tr>\n",
       "    <tr>\n",
       "      <td>2</td>\n",
       "      <td>Louisa Community Bank</td>\n",
       "      <td>Louisa</td>\n",
       "      <td>KY</td>\n",
       "      <td>58112</td>\n",
       "      <td>Kentucky Farmers Bank Corporation</td>\n",
       "      <td>October 25, 2019</td>\n",
       "    </tr>\n",
       "    <tr>\n",
       "      <td>3</td>\n",
       "      <td>The Enloe State Bank</td>\n",
       "      <td>Cooper</td>\n",
       "      <td>TX</td>\n",
       "      <td>10716</td>\n",
       "      <td>Legend Bank, N. A.</td>\n",
       "      <td>May 31, 2019</td>\n",
       "    </tr>\n",
       "    <tr>\n",
       "      <td>4</td>\n",
       "      <td>Washington Federal Bank for Savings</td>\n",
       "      <td>Chicago</td>\n",
       "      <td>IL</td>\n",
       "      <td>30570</td>\n",
       "      <td>Royal Savings Bank</td>\n",
       "      <td>December 15, 2017</td>\n",
       "    </tr>\n",
       "    <tr>\n",
       "      <td>...</td>\n",
       "      <td>...</td>\n",
       "      <td>...</td>\n",
       "      <td>...</td>\n",
       "      <td>...</td>\n",
       "      <td>...</td>\n",
       "      <td>...</td>\n",
       "    </tr>\n",
       "    <tr>\n",
       "      <td>554</td>\n",
       "      <td>Superior Bank, FSB</td>\n",
       "      <td>Hinsdale</td>\n",
       "      <td>IL</td>\n",
       "      <td>32646</td>\n",
       "      <td>Superior Federal, FSB</td>\n",
       "      <td>July 27, 2001</td>\n",
       "    </tr>\n",
       "    <tr>\n",
       "      <td>555</td>\n",
       "      <td>Malta National Bank</td>\n",
       "      <td>Malta</td>\n",
       "      <td>OH</td>\n",
       "      <td>6629</td>\n",
       "      <td>North Valley Bank</td>\n",
       "      <td>May 3, 2001</td>\n",
       "    </tr>\n",
       "    <tr>\n",
       "      <td>556</td>\n",
       "      <td>First Alliance Bank &amp; Trust Co.</td>\n",
       "      <td>Manchester</td>\n",
       "      <td>NH</td>\n",
       "      <td>34264</td>\n",
       "      <td>Southern New Hampshire Bank &amp; Trust</td>\n",
       "      <td>February 2, 2001</td>\n",
       "    </tr>\n",
       "    <tr>\n",
       "      <td>557</td>\n",
       "      <td>National State Bank of Metropolis</td>\n",
       "      <td>Metropolis</td>\n",
       "      <td>IL</td>\n",
       "      <td>3815</td>\n",
       "      <td>Banterra Bank of Marion</td>\n",
       "      <td>December 14, 2000</td>\n",
       "    </tr>\n",
       "    <tr>\n",
       "      <td>558</td>\n",
       "      <td>Bank of Honolulu</td>\n",
       "      <td>Honolulu</td>\n",
       "      <td>HI</td>\n",
       "      <td>21029</td>\n",
       "      <td>Bank of the Orient</td>\n",
       "      <td>October 13, 2000</td>\n",
       "    </tr>\n",
       "  </tbody>\n",
       "</table>\n",
       "<p>559 rows × 6 columns</p>\n",
       "</div>"
      ],
      "text/plain": [
       "                               Bank Name        City  ST   CERT  \\\n",
       "0       City National Bank of New Jersey      Newark  NJ  21111   \n",
       "1                          Resolute Bank      Maumee  OH  58317   \n",
       "2                  Louisa Community Bank      Louisa  KY  58112   \n",
       "3                   The Enloe State Bank      Cooper  TX  10716   \n",
       "4    Washington Federal Bank for Savings     Chicago  IL  30570   \n",
       "..                                   ...         ...  ..    ...   \n",
       "554                   Superior Bank, FSB    Hinsdale  IL  32646   \n",
       "555                  Malta National Bank       Malta  OH   6629   \n",
       "556      First Alliance Bank & Trust Co.  Manchester  NH  34264   \n",
       "557    National State Bank of Metropolis  Metropolis  IL   3815   \n",
       "558                     Bank of Honolulu    Honolulu  HI  21029   \n",
       "\n",
       "                   Acquiring Institution       Closing Date  \n",
       "0                        Industrial Bank   November 1, 2019  \n",
       "1                     Buckeye State Bank   October 25, 2019  \n",
       "2      Kentucky Farmers Bank Corporation   October 25, 2019  \n",
       "3                     Legend Bank, N. A.       May 31, 2019  \n",
       "4                     Royal Savings Bank  December 15, 2017  \n",
       "..                                   ...                ...  \n",
       "554                Superior Federal, FSB      July 27, 2001  \n",
       "555                    North Valley Bank        May 3, 2001  \n",
       "556  Southern New Hampshire Bank & Trust   February 2, 2001  \n",
       "557              Banterra Bank of Marion  December 14, 2000  \n",
       "558                   Bank of the Orient   October 13, 2000  \n",
       "\n",
       "[559 rows x 6 columns]"
      ]
     },
     "execution_count": 41,
     "metadata": {},
     "output_type": "execute_result"
    }
   ],
   "source": [
    "banks[0]"
   ]
  },
  {
   "cell_type": "code",
   "execution_count": 48,
   "metadata": {},
   "outputs": [],
   "source": [
    "url = 'https://finance.naver.com/item/fchart.nhn?code=005930'"
   ]
  },
  {
   "cell_type": "code",
   "execution_count": 49,
   "metadata": {},
   "outputs": [],
   "source": [
    "dfs = pd.read_html(url, encoding='euckr')"
   ]
  },
  {
   "cell_type": "code",
   "execution_count": 50,
   "metadata": {},
   "outputs": [
    {
     "data": {
      "text/html": [
       "<div>\n",
       "<style scoped>\n",
       "    .dataframe tbody tr th:only-of-type {\n",
       "        vertical-align: middle;\n",
       "    }\n",
       "\n",
       "    .dataframe tbody tr th {\n",
       "        vertical-align: top;\n",
       "    }\n",
       "\n",
       "    .dataframe thead th {\n",
       "        text-align: right;\n",
       "    }\n",
       "</style>\n",
       "<table border=\"1\" class=\"dataframe\">\n",
       "  <thead>\n",
       "    <tr style=\"text-align: right;\">\n",
       "      <th></th>\n",
       "      <th>업체명</th>\n",
       "      <th>거래량</th>\n",
       "      <th>전일비</th>\n",
       "    </tr>\n",
       "  </thead>\n",
       "  <tbody>\n",
       "    <tr>\n",
       "      <td>0</td>\n",
       "      <td>센트랄모텍</td>\n",
       "      <td>44000.0</td>\n",
       "      <td>상향  7,300</td>\n",
       "    </tr>\n",
       "    <tr>\n",
       "      <td>1</td>\n",
       "      <td>삼성전자</td>\n",
       "      <td>58500.0</td>\n",
       "      <td>하향  600</td>\n",
       "    </tr>\n",
       "    <tr>\n",
       "      <td>2</td>\n",
       "      <td>삼화전기</td>\n",
       "      <td>18600.0</td>\n",
       "      <td>상향  3,000</td>\n",
       "    </tr>\n",
       "    <tr>\n",
       "      <td>3</td>\n",
       "      <td>모나리자</td>\n",
       "      <td>6900.0</td>\n",
       "      <td>하향  500</td>\n",
       "    </tr>\n",
       "    <tr>\n",
       "      <td>4</td>\n",
       "      <td>SK하이닉스</td>\n",
       "      <td>97100.0</td>\n",
       "      <td>하향  800</td>\n",
       "    </tr>\n",
       "    <tr>\n",
       "      <td>5</td>\n",
       "      <td>NaN</td>\n",
       "      <td>NaN</td>\n",
       "      <td>NaN</td>\n",
       "    </tr>\n",
       "    <tr>\n",
       "      <td>6</td>\n",
       "      <td>LG화학</td>\n",
       "      <td>347000.0</td>\n",
       "      <td>상향  12,000</td>\n",
       "    </tr>\n",
       "    <tr>\n",
       "      <td>7</td>\n",
       "      <td>삼성SDI</td>\n",
       "      <td>293000.0</td>\n",
       "      <td>상향  6,000</td>\n",
       "    </tr>\n",
       "    <tr>\n",
       "      <td>8</td>\n",
       "      <td>코스모화학</td>\n",
       "      <td>9530.0</td>\n",
       "      <td>상향  490</td>\n",
       "    </tr>\n",
       "    <tr>\n",
       "      <td>9</td>\n",
       "      <td>쌍방울</td>\n",
       "      <td>1360.0</td>\n",
       "      <td>하향  90</td>\n",
       "    </tr>\n",
       "    <tr>\n",
       "      <td>10</td>\n",
       "      <td>셀트리온</td>\n",
       "      <td>170500.0</td>\n",
       "      <td>하향  500</td>\n",
       "    </tr>\n",
       "  </tbody>\n",
       "</table>\n",
       "</div>"
      ],
      "text/plain": [
       "       업체명       거래량         전일비\n",
       "0    센트랄모텍   44000.0   상향  7,300\n",
       "1     삼성전자   58500.0     하향  600\n",
       "2     삼화전기   18600.0   상향  3,000\n",
       "3     모나리자    6900.0     하향  500\n",
       "4   SK하이닉스   97100.0     하향  800\n",
       "5      NaN       NaN         NaN\n",
       "6     LG화학  347000.0  상향  12,000\n",
       "7    삼성SDI  293000.0   상향  6,000\n",
       "8    코스모화학    9530.0     상향  490\n",
       "9      쌍방울    1360.0      하향  90\n",
       "10    셀트리온  170500.0     하향  500"
      ]
     },
     "execution_count": 50,
     "metadata": {},
     "output_type": "execute_result"
    }
   ],
   "source": [
    "dfs[7]"
   ]
  },
  {
   "cell_type": "code",
   "execution_count": 58,
   "metadata": {},
   "outputs": [
    {
     "data": {
      "text/html": [
       "<div>\n",
       "<style scoped>\n",
       "    .dataframe tbody tr th:only-of-type {\n",
       "        vertical-align: middle;\n",
       "    }\n",
       "\n",
       "    .dataframe tbody tr th {\n",
       "        vertical-align: top;\n",
       "    }\n",
       "\n",
       "    .dataframe thead th {\n",
       "        text-align: right;\n",
       "    }\n",
       "</style>\n",
       "<table border=\"1\" class=\"dataframe\">\n",
       "  <thead>\n",
       "    <tr style=\"text-align: right;\">\n",
       "      <th></th>\n",
       "      <th>Bank Name</th>\n",
       "      <th>City</th>\n",
       "    </tr>\n",
       "  </thead>\n",
       "  <tbody>\n",
       "    <tr>\n",
       "      <td>0</td>\n",
       "      <td>City National Bank of New Jersey</td>\n",
       "      <td>Newark</td>\n",
       "    </tr>\n",
       "    <tr>\n",
       "      <td>1</td>\n",
       "      <td>Resolute Bank</td>\n",
       "      <td>Maumee</td>\n",
       "    </tr>\n",
       "    <tr>\n",
       "      <td>2</td>\n",
       "      <td>Louisa Community Bank</td>\n",
       "      <td>Louisa</td>\n",
       "    </tr>\n",
       "    <tr>\n",
       "      <td>3</td>\n",
       "      <td>The Enloe State Bank</td>\n",
       "      <td>Cooper</td>\n",
       "    </tr>\n",
       "    <tr>\n",
       "      <td>4</td>\n",
       "      <td>Washington Federal Bank for Savings</td>\n",
       "      <td>Chicago</td>\n",
       "    </tr>\n",
       "  </tbody>\n",
       "</table>\n",
       "</div>"
      ],
      "text/plain": [
       "                             Bank Name     City\n",
       "0     City National Bank of New Jersey   Newark\n",
       "1                        Resolute Bank   Maumee\n",
       "2                Louisa Community Bank   Louisa\n",
       "3                 The Enloe State Bank   Cooper\n",
       "4  Washington Federal Bank for Savings  Chicago"
      ]
     },
     "execution_count": 58,
     "metadata": {},
     "output_type": "execute_result"
    }
   ],
   "source": [
    "banks[0][0:5].iloc[:,0:2]"
   ]
  },
  {
   "cell_type": "code",
   "execution_count": 59,
   "metadata": {},
   "outputs": [],
   "source": [
    "df = pd.read_excel('./lp/data/stocks.xlsx')"
   ]
  },
  {
   "cell_type": "code",
   "execution_count": 60,
   "metadata": {},
   "outputs": [],
   "source": [
    "df.to_html('./lp/data/stocks.html')"
   ]
  },
  {
   "cell_type": "markdown",
   "metadata": {},
   "source": [
    "# HDF5"
   ]
  },
  {
   "cell_type": "code",
   "execution_count": 63,
   "metadata": {},
   "outputs": [
    {
     "data": {
      "text/plain": [
       "<class 'pandas.io.pytables.HDFStore'>\n",
       "File path: ./lp/data/store.h5"
      ]
     },
     "execution_count": 63,
     "metadata": {},
     "output_type": "execute_result"
    }
   ],
   "source": [
    "np.random.seed(11)\n",
    "df = pd.DataFrame(np.random.randn(8, 3),index=pd.date_range('1/1/2000', periods=8),columns=['A', 'B', 'C'])\n",
    "store = pd.HDFStore('./lp/data/store.h5')\n",
    "store['df'] = df \n",
    "store"
   ]
  },
  {
   "cell_type": "code",
   "execution_count": 65,
   "metadata": {},
   "outputs": [
    {
     "data": {
      "text/html": [
       "<div>\n",
       "<style scoped>\n",
       "    .dataframe tbody tr th:only-of-type {\n",
       "        vertical-align: middle;\n",
       "    }\n",
       "\n",
       "    .dataframe tbody tr th {\n",
       "        vertical-align: top;\n",
       "    }\n",
       "\n",
       "    .dataframe thead th {\n",
       "        text-align: right;\n",
       "    }\n",
       "</style>\n",
       "<table border=\"1\" class=\"dataframe\">\n",
       "  <thead>\n",
       "    <tr style=\"text-align: right;\">\n",
       "      <th></th>\n",
       "      <th>A</th>\n",
       "      <th>B</th>\n",
       "      <th>C</th>\n",
       "    </tr>\n",
       "  </thead>\n",
       "  <tbody>\n",
       "    <tr>\n",
       "      <td>2000-01-01</td>\n",
       "      <td>1.749455</td>\n",
       "      <td>-0.286073</td>\n",
       "      <td>-0.484565</td>\n",
       "    </tr>\n",
       "    <tr>\n",
       "      <td>2000-01-02</td>\n",
       "      <td>-2.653319</td>\n",
       "      <td>-0.008285</td>\n",
       "      <td>-0.319631</td>\n",
       "    </tr>\n",
       "    <tr>\n",
       "      <td>2000-01-03</td>\n",
       "      <td>-0.536629</td>\n",
       "      <td>0.315403</td>\n",
       "      <td>0.421051</td>\n",
       "    </tr>\n",
       "    <tr>\n",
       "      <td>2000-01-04</td>\n",
       "      <td>-1.065603</td>\n",
       "      <td>-0.886240</td>\n",
       "      <td>-0.475733</td>\n",
       "    </tr>\n",
       "    <tr>\n",
       "      <td>2000-01-05</td>\n",
       "      <td>0.689682</td>\n",
       "      <td>0.561192</td>\n",
       "      <td>-1.305549</td>\n",
       "    </tr>\n",
       "  </tbody>\n",
       "</table>\n",
       "</div>"
      ],
      "text/plain": [
       "                   A         B         C\n",
       "2000-01-01  1.749455 -0.286073 -0.484565\n",
       "2000-01-02 -2.653319 -0.008285 -0.319631\n",
       "2000-01-03 -0.536629  0.315403  0.421051\n",
       "2000-01-04 -1.065603 -0.886240 -0.475733\n",
       "2000-01-05  0.689682  0.561192 -1.305549"
      ]
     },
     "execution_count": 65,
     "metadata": {},
     "output_type": "execute_result"
    }
   ],
   "source": [
    "store = pd.HDFStore(\"./lp/data/store.h5\")\n",
    "df = store['df']\n",
    "df[:5]"
   ]
  },
  {
   "cell_type": "code",
   "execution_count": 68,
   "metadata": {},
   "outputs": [],
   "source": [
    "df.iloc[0].A =1"
   ]
  },
  {
   "cell_type": "code",
   "execution_count": 69,
   "metadata": {},
   "outputs": [],
   "source": [
    "store['df']= df"
   ]
  },
  {
   "cell_type": "code",
   "execution_count": 72,
   "metadata": {},
   "outputs": [
    {
     "data": {
      "text/html": [
       "<div>\n",
       "<style scoped>\n",
       "    .dataframe tbody tr th:only-of-type {\n",
       "        vertical-align: middle;\n",
       "    }\n",
       "\n",
       "    .dataframe tbody tr th {\n",
       "        vertical-align: top;\n",
       "    }\n",
       "\n",
       "    .dataframe thead th {\n",
       "        text-align: right;\n",
       "    }\n",
       "</style>\n",
       "<table border=\"1\" class=\"dataframe\">\n",
       "  <thead>\n",
       "    <tr style=\"text-align: right;\">\n",
       "      <th></th>\n",
       "      <th>A</th>\n",
       "      <th>B</th>\n",
       "      <th>C</th>\n",
       "    </tr>\n",
       "  </thead>\n",
       "  <tbody>\n",
       "    <tr>\n",
       "      <td>2000-01-01</td>\n",
       "      <td>1.000000</td>\n",
       "      <td>-0.286073</td>\n",
       "      <td>-0.484565</td>\n",
       "    </tr>\n",
       "    <tr>\n",
       "      <td>2000-01-02</td>\n",
       "      <td>-2.653319</td>\n",
       "      <td>-0.008285</td>\n",
       "      <td>-0.319631</td>\n",
       "    </tr>\n",
       "    <tr>\n",
       "      <td>2000-01-03</td>\n",
       "      <td>-0.536629</td>\n",
       "      <td>0.315403</td>\n",
       "      <td>0.421051</td>\n",
       "    </tr>\n",
       "    <tr>\n",
       "      <td>2000-01-04</td>\n",
       "      <td>-1.065603</td>\n",
       "      <td>-0.886240</td>\n",
       "      <td>-0.475733</td>\n",
       "    </tr>\n",
       "    <tr>\n",
       "      <td>2000-01-05</td>\n",
       "      <td>0.689682</td>\n",
       "      <td>0.561192</td>\n",
       "      <td>-1.305549</td>\n",
       "    </tr>\n",
       "    <tr>\n",
       "      <td>2000-01-06</td>\n",
       "      <td>-1.119475</td>\n",
       "      <td>0.736837</td>\n",
       "      <td>1.574634</td>\n",
       "    </tr>\n",
       "    <tr>\n",
       "      <td>2000-01-07</td>\n",
       "      <td>-0.031075</td>\n",
       "      <td>-0.683447</td>\n",
       "      <td>1.095630</td>\n",
       "    </tr>\n",
       "    <tr>\n",
       "      <td>2000-01-08</td>\n",
       "      <td>-0.309577</td>\n",
       "      <td>0.725752</td>\n",
       "      <td>1.549072</td>\n",
       "    </tr>\n",
       "  </tbody>\n",
       "</table>\n",
       "</div>"
      ],
      "text/plain": [
       "                   A         B         C\n",
       "2000-01-01  1.000000 -0.286073 -0.484565\n",
       "2000-01-02 -2.653319 -0.008285 -0.319631\n",
       "2000-01-03 -0.536629  0.315403  0.421051\n",
       "2000-01-04 -1.065603 -0.886240 -0.475733\n",
       "2000-01-05  0.689682  0.561192 -1.305549\n",
       "2000-01-06 -1.119475  0.736837  1.574634\n",
       "2000-01-07 -0.031075 -0.683447  1.095630\n",
       "2000-01-08 -0.309577  0.725752  1.549072"
      ]
     },
     "execution_count": 72,
     "metadata": {},
     "output_type": "execute_result"
    }
   ],
   "source": [
    "pd.HDFStore(\"./lp/data/store.h5\")['df']"
   ]
  },
  {
   "cell_type": "code",
   "execution_count": 73,
   "metadata": {},
   "outputs": [
    {
     "data": {
      "text/html": [
       "<div>\n",
       "<style scoped>\n",
       "    .dataframe tbody tr th:only-of-type {\n",
       "        vertical-align: middle;\n",
       "    }\n",
       "\n",
       "    .dataframe tbody tr th {\n",
       "        vertical-align: top;\n",
       "    }\n",
       "\n",
       "    .dataframe thead th {\n",
       "        text-align: right;\n",
       "    }\n",
       "</style>\n",
       "<table border=\"1\" class=\"dataframe\">\n",
       "  <thead>\n",
       "    <tr style=\"text-align: right;\">\n",
       "      <th></th>\n",
       "      <th>country</th>\n",
       "      <th>beer_servings</th>\n",
       "      <th>spirit_servings</th>\n",
       "      <th>wine_servings</th>\n",
       "      <th>total_litres_of_pure_alcohol</th>\n",
       "      <th>continent</th>\n",
       "    </tr>\n",
       "  </thead>\n",
       "  <tbody>\n",
       "    <tr>\n",
       "      <td>0</td>\n",
       "      <td>Afghanistan</td>\n",
       "      <td>0</td>\n",
       "      <td>0</td>\n",
       "      <td>0</td>\n",
       "      <td>0.0</td>\n",
       "      <td>AS</td>\n",
       "    </tr>\n",
       "    <tr>\n",
       "      <td>1</td>\n",
       "      <td>Albania</td>\n",
       "      <td>89</td>\n",
       "      <td>132</td>\n",
       "      <td>54</td>\n",
       "      <td>4.9</td>\n",
       "      <td>EU</td>\n",
       "    </tr>\n",
       "    <tr>\n",
       "      <td>2</td>\n",
       "      <td>Algeria</td>\n",
       "      <td>25</td>\n",
       "      <td>0</td>\n",
       "      <td>14</td>\n",
       "      <td>0.7</td>\n",
       "      <td>AF</td>\n",
       "    </tr>\n",
       "    <tr>\n",
       "      <td>3</td>\n",
       "      <td>Andorra</td>\n",
       "      <td>245</td>\n",
       "      <td>138</td>\n",
       "      <td>312</td>\n",
       "      <td>12.4</td>\n",
       "      <td>EU</td>\n",
       "    </tr>\n",
       "    <tr>\n",
       "      <td>4</td>\n",
       "      <td>Angola</td>\n",
       "      <td>217</td>\n",
       "      <td>57</td>\n",
       "      <td>45</td>\n",
       "      <td>5.9</td>\n",
       "      <td>AF</td>\n",
       "    </tr>\n",
       "    <tr>\n",
       "      <td>...</td>\n",
       "      <td>...</td>\n",
       "      <td>...</td>\n",
       "      <td>...</td>\n",
       "      <td>...</td>\n",
       "      <td>...</td>\n",
       "      <td>...</td>\n",
       "    </tr>\n",
       "    <tr>\n",
       "      <td>188</td>\n",
       "      <td>Venezuela</td>\n",
       "      <td>333</td>\n",
       "      <td>100</td>\n",
       "      <td>3</td>\n",
       "      <td>7.7</td>\n",
       "      <td>SA</td>\n",
       "    </tr>\n",
       "    <tr>\n",
       "      <td>189</td>\n",
       "      <td>Vietnam</td>\n",
       "      <td>111</td>\n",
       "      <td>2</td>\n",
       "      <td>1</td>\n",
       "      <td>2.0</td>\n",
       "      <td>AS</td>\n",
       "    </tr>\n",
       "    <tr>\n",
       "      <td>190</td>\n",
       "      <td>Yemen</td>\n",
       "      <td>6</td>\n",
       "      <td>0</td>\n",
       "      <td>0</td>\n",
       "      <td>0.1</td>\n",
       "      <td>AS</td>\n",
       "    </tr>\n",
       "    <tr>\n",
       "      <td>191</td>\n",
       "      <td>Zambia</td>\n",
       "      <td>32</td>\n",
       "      <td>19</td>\n",
       "      <td>4</td>\n",
       "      <td>2.5</td>\n",
       "      <td>AF</td>\n",
       "    </tr>\n",
       "    <tr>\n",
       "      <td>192</td>\n",
       "      <td>Zimbabwe</td>\n",
       "      <td>64</td>\n",
       "      <td>18</td>\n",
       "      <td>4</td>\n",
       "      <td>4.7</td>\n",
       "      <td>AF</td>\n",
       "    </tr>\n",
       "  </tbody>\n",
       "</table>\n",
       "<p>193 rows × 6 columns</p>\n",
       "</div>"
      ],
      "text/plain": [
       "         country  beer_servings  spirit_servings  wine_servings  \\\n",
       "0    Afghanistan              0                0              0   \n",
       "1        Albania             89              132             54   \n",
       "2        Algeria             25                0             14   \n",
       "3        Andorra            245              138            312   \n",
       "4         Angola            217               57             45   \n",
       "..           ...            ...              ...            ...   \n",
       "188    Venezuela            333              100              3   \n",
       "189      Vietnam            111                2              1   \n",
       "190        Yemen              6                0              0   \n",
       "191       Zambia             32               19              4   \n",
       "192     Zimbabwe             64               18              4   \n",
       "\n",
       "     total_litres_of_pure_alcohol continent  \n",
       "0                             0.0        AS  \n",
       "1                             4.9        EU  \n",
       "2                             0.7        AF  \n",
       "3                            12.4        EU  \n",
       "4                             5.9        AF  \n",
       "..                            ...       ...  \n",
       "188                           7.7        SA  \n",
       "189                           2.0        AS  \n",
       "190                           0.1        AS  \n",
       "191                           2.5        AF  \n",
       "192                           4.7        AF  \n",
       "\n",
       "[193 rows x 6 columns]"
      ]
     },
     "execution_count": 73,
     "metadata": {},
     "output_type": "execute_result"
    }
   ],
   "source": [
    "url = r'https://raw.githubusercontent.com/justmarkham/DAT8/master/data/drinks.csv'\n",
    "pd.read_csv(url)"
   ]
  },
  {
   "cell_type": "markdown",
   "metadata": {},
   "source": [
    "# sql"
   ]
  },
  {
   "cell_type": "code",
   "execution_count": 74,
   "metadata": {},
   "outputs": [],
   "source": [
    "import sqlite3\n",
    "\n",
    "msft = pd.read_csv(\"./lp/data/msft.csv\")\n",
    "msft[\"Symbol\"]=\"MSFT\"\n",
    "aapl = pd.read_csv(\"./lp/data/aapl.csv\")\n",
    "aapl[\"Symbol\"]=\"AAPL\"\n",
    "\n",
    "connection = sqlite3.connect(\"./lp/data/stocks.sqlite\")\n",
    "\n",
    "msft.to_sql(\"STOCK_DATA\", connection, if_exists=\"replace\")\n",
    "aapl.to_sql(\"STOCK_DATA\", connection, if_exists=\"append\")\n",
    "\n",
    "connection.commit()\n",
    "connection.close()"
   ]
  },
  {
   "cell_type": "code",
   "execution_count": 76,
   "metadata": {},
   "outputs": [
    {
     "data": {
      "text/html": [
       "<div>\n",
       "<style scoped>\n",
       "    .dataframe tbody tr th:only-of-type {\n",
       "        vertical-align: middle;\n",
       "    }\n",
       "\n",
       "    .dataframe tbody tr th {\n",
       "        vertical-align: top;\n",
       "    }\n",
       "\n",
       "    .dataframe thead th {\n",
       "        text-align: right;\n",
       "    }\n",
       "</style>\n",
       "<table border=\"1\" class=\"dataframe\">\n",
       "  <thead>\n",
       "    <tr style=\"text-align: right;\">\n",
       "      <th></th>\n",
       "      <th>Date</th>\n",
       "      <th>Open</th>\n",
       "      <th>High</th>\n",
       "      <th>Low</th>\n",
       "      <th>Close</th>\n",
       "      <th>Volume</th>\n",
       "      <th>Symbol</th>\n",
       "    </tr>\n",
       "  </thead>\n",
       "  <tbody>\n",
       "    <tr>\n",
       "      <td>0</td>\n",
       "      <td>7/21/2014</td>\n",
       "      <td>83.46</td>\n",
       "      <td>83.53</td>\n",
       "      <td>81.81</td>\n",
       "      <td>81.93</td>\n",
       "      <td>2359300</td>\n",
       "      <td>MSFT</td>\n",
       "    </tr>\n",
       "    <tr>\n",
       "      <td>1</td>\n",
       "      <td>7/18/2014</td>\n",
       "      <td>83.30</td>\n",
       "      <td>83.40</td>\n",
       "      <td>82.52</td>\n",
       "      <td>83.35</td>\n",
       "      <td>4020800</td>\n",
       "      <td>MSFT</td>\n",
       "    </tr>\n",
       "    <tr>\n",
       "      <td>2</td>\n",
       "      <td>7/17/2014</td>\n",
       "      <td>84.35</td>\n",
       "      <td>84.63</td>\n",
       "      <td>83.33</td>\n",
       "      <td>83.63</td>\n",
       "      <td>1974000</td>\n",
       "      <td>MSFT</td>\n",
       "    </tr>\n",
       "  </tbody>\n",
       "</table>\n",
       "</div>"
      ],
      "text/plain": [
       "        Date   Open   High    Low  Close   Volume Symbol\n",
       "0  7/21/2014  83.46  83.53  81.81  81.93  2359300   MSFT\n",
       "1  7/18/2014  83.30  83.40  82.52  83.35  4020800   MSFT\n",
       "2  7/17/2014  84.35  84.63  83.33  83.63  1974000   MSFT"
      ]
     },
     "execution_count": 76,
     "metadata": {},
     "output_type": "execute_result"
    }
   ],
   "source": [
    "msft[:3]"
   ]
  },
  {
   "cell_type": "code",
   "execution_count": 77,
   "metadata": {},
   "outputs": [
    {
     "data": {
      "text/html": [
       "<div>\n",
       "<style scoped>\n",
       "    .dataframe tbody tr th:only-of-type {\n",
       "        vertical-align: middle;\n",
       "    }\n",
       "\n",
       "    .dataframe tbody tr th {\n",
       "        vertical-align: top;\n",
       "    }\n",
       "\n",
       "    .dataframe thead th {\n",
       "        text-align: right;\n",
       "    }\n",
       "</style>\n",
       "<table border=\"1\" class=\"dataframe\">\n",
       "  <thead>\n",
       "    <tr style=\"text-align: right;\">\n",
       "      <th></th>\n",
       "      <th>Date</th>\n",
       "      <th>Open</th>\n",
       "      <th>High</th>\n",
       "      <th>Low</th>\n",
       "      <th>Close</th>\n",
       "      <th>Volume</th>\n",
       "      <th>Symbol</th>\n",
       "    </tr>\n",
       "  </thead>\n",
       "  <tbody>\n",
       "    <tr>\n",
       "      <td>0</td>\n",
       "      <td>7/21/2014</td>\n",
       "      <td>94.99</td>\n",
       "      <td>95.00</td>\n",
       "      <td>93.72</td>\n",
       "      <td>93.94</td>\n",
       "      <td>38887700</td>\n",
       "      <td>AAPL</td>\n",
       "    </tr>\n",
       "    <tr>\n",
       "      <td>1</td>\n",
       "      <td>7/18/2014</td>\n",
       "      <td>93.62</td>\n",
       "      <td>94.74</td>\n",
       "      <td>93.02</td>\n",
       "      <td>94.43</td>\n",
       "      <td>49898600</td>\n",
       "      <td>AAPL</td>\n",
       "    </tr>\n",
       "    <tr>\n",
       "      <td>2</td>\n",
       "      <td>7/17/2014</td>\n",
       "      <td>95.03</td>\n",
       "      <td>95.28</td>\n",
       "      <td>92.57</td>\n",
       "      <td>93.09</td>\n",
       "      <td>57152000</td>\n",
       "      <td>AAPL</td>\n",
       "    </tr>\n",
       "  </tbody>\n",
       "</table>\n",
       "</div>"
      ],
      "text/plain": [
       "        Date   Open   High    Low  Close    Volume Symbol\n",
       "0  7/21/2014  94.99  95.00  93.72  93.94  38887700   AAPL\n",
       "1  7/18/2014  93.62  94.74  93.02  94.43  49898600   AAPL\n",
       "2  7/17/2014  95.03  95.28  92.57  93.09  57152000   AAPL"
      ]
     },
     "execution_count": 77,
     "metadata": {},
     "output_type": "execute_result"
    }
   ],
   "source": [
    "aapl[:3]"
   ]
  },
  {
   "cell_type": "code",
   "execution_count": 75,
   "metadata": {},
   "outputs": [
    {
     "data": {
      "text/html": [
       "<div>\n",
       "<style scoped>\n",
       "    .dataframe tbody tr th:only-of-type {\n",
       "        vertical-align: middle;\n",
       "    }\n",
       "\n",
       "    .dataframe tbody tr th {\n",
       "        vertical-align: top;\n",
       "    }\n",
       "\n",
       "    .dataframe thead th {\n",
       "        text-align: right;\n",
       "    }\n",
       "</style>\n",
       "<table border=\"1\" class=\"dataframe\">\n",
       "  <thead>\n",
       "    <tr style=\"text-align: right;\">\n",
       "      <th></th>\n",
       "      <th>Date</th>\n",
       "      <th>Open</th>\n",
       "      <th>High</th>\n",
       "      <th>Low</th>\n",
       "      <th>Close</th>\n",
       "      <th>Volume</th>\n",
       "      <th>Symbol</th>\n",
       "    </tr>\n",
       "    <tr>\n",
       "      <th>index</th>\n",
       "      <th></th>\n",
       "      <th></th>\n",
       "      <th></th>\n",
       "      <th></th>\n",
       "      <th></th>\n",
       "      <th></th>\n",
       "      <th></th>\n",
       "    </tr>\n",
       "  </thead>\n",
       "  <tbody>\n",
       "    <tr>\n",
       "      <td>0</td>\n",
       "      <td>7/21/2014</td>\n",
       "      <td>83.46</td>\n",
       "      <td>83.53</td>\n",
       "      <td>81.81</td>\n",
       "      <td>81.93</td>\n",
       "      <td>2359300</td>\n",
       "      <td>MSFT</td>\n",
       "    </tr>\n",
       "    <tr>\n",
       "      <td>1</td>\n",
       "      <td>7/18/2014</td>\n",
       "      <td>83.30</td>\n",
       "      <td>83.40</td>\n",
       "      <td>82.52</td>\n",
       "      <td>83.35</td>\n",
       "      <td>4020800</td>\n",
       "      <td>MSFT</td>\n",
       "    </tr>\n",
       "    <tr>\n",
       "      <td>2</td>\n",
       "      <td>7/17/2014</td>\n",
       "      <td>84.35</td>\n",
       "      <td>84.63</td>\n",
       "      <td>83.33</td>\n",
       "      <td>83.63</td>\n",
       "      <td>1974000</td>\n",
       "      <td>MSFT</td>\n",
       "    </tr>\n",
       "    <tr>\n",
       "      <td>3</td>\n",
       "      <td>7/16/2014</td>\n",
       "      <td>83.77</td>\n",
       "      <td>84.91</td>\n",
       "      <td>83.66</td>\n",
       "      <td>84.91</td>\n",
       "      <td>1755600</td>\n",
       "      <td>MSFT</td>\n",
       "    </tr>\n",
       "    <tr>\n",
       "      <td>4</td>\n",
       "      <td>7/15/2014</td>\n",
       "      <td>84.30</td>\n",
       "      <td>84.38</td>\n",
       "      <td>83.20</td>\n",
       "      <td>83.58</td>\n",
       "      <td>1874700</td>\n",
       "      <td>MSFT</td>\n",
       "    </tr>\n",
       "  </tbody>\n",
       "</table>\n",
       "</div>"
      ],
      "text/plain": [
       "            Date   Open   High    Low  Close   Volume Symbol\n",
       "index                                                       \n",
       "0      7/21/2014  83.46  83.53  81.81  81.93  2359300   MSFT\n",
       "1      7/18/2014  83.30  83.40  82.52  83.35  4020800   MSFT\n",
       "2      7/17/2014  84.35  84.63  83.33  83.63  1974000   MSFT\n",
       "3      7/16/2014  83.77  84.91  83.66  84.91  1755600   MSFT\n",
       "4      7/15/2014  84.30  84.38  83.20  83.58  1874700   MSFT"
      ]
     },
     "execution_count": 75,
     "metadata": {},
     "output_type": "execute_result"
    }
   ],
   "source": [
    "connection = sqlite3.connect(\"./lp/data/stocks.sqlite\")\n",
    "\n",
    "stocks = pd.io.sql.read_sql(\"SELECT * FROM STOCK_DATA;\",connection, index_col='index')\n",
    "\n",
    "connection.close()\n",
    "\n",
    "stocks[:5]"
   ]
  },
  {
   "cell_type": "code",
   "execution_count": 86,
   "metadata": {},
   "outputs": [
    {
     "data": {
      "text/html": [
       "<div>\n",
       "<style scoped>\n",
       "    .dataframe tbody tr th:only-of-type {\n",
       "        vertical-align: middle;\n",
       "    }\n",
       "\n",
       "    .dataframe tbody tr th {\n",
       "        vertical-align: top;\n",
       "    }\n",
       "\n",
       "    .dataframe thead th {\n",
       "        text-align: right;\n",
       "    }\n",
       "</style>\n",
       "<table border=\"1\" class=\"dataframe\">\n",
       "  <thead>\n",
       "    <tr style=\"text-align: right;\">\n",
       "      <th></th>\n",
       "      <th>Date</th>\n",
       "      <th>Open</th>\n",
       "      <th>High</th>\n",
       "      <th>Low</th>\n",
       "      <th>Close</th>\n",
       "      <th>Volume</th>\n",
       "      <th>Symbol</th>\n",
       "    </tr>\n",
       "    <tr>\n",
       "      <th>index</th>\n",
       "      <th></th>\n",
       "      <th></th>\n",
       "      <th></th>\n",
       "      <th></th>\n",
       "      <th></th>\n",
       "      <th></th>\n",
       "      <th></th>\n",
       "    </tr>\n",
       "  </thead>\n",
       "  <tbody>\n",
       "    <tr>\n",
       "      <td>1081</td>\n",
       "      <td>5/21/2010</td>\n",
       "      <td>42.22</td>\n",
       "      <td>42.35</td>\n",
       "      <td>40.99</td>\n",
       "      <td>42.00</td>\n",
       "      <td>33610800</td>\n",
       "      <td>MSFT</td>\n",
       "    </tr>\n",
       "    <tr>\n",
       "      <td>1097</td>\n",
       "      <td>4/29/2010</td>\n",
       "      <td>46.80</td>\n",
       "      <td>46.95</td>\n",
       "      <td>44.65</td>\n",
       "      <td>45.92</td>\n",
       "      <td>47076200</td>\n",
       "      <td>MSFT</td>\n",
       "    </tr>\n",
       "    <tr>\n",
       "      <td>1826</td>\n",
       "      <td>6/15/2007</td>\n",
       "      <td>89.80</td>\n",
       "      <td>92.10</td>\n",
       "      <td>89.55</td>\n",
       "      <td>92.04</td>\n",
       "      <td>30656400</td>\n",
       "      <td>MSFT</td>\n",
       "    </tr>\n",
       "    <tr>\n",
       "      <td>3455</td>\n",
       "      <td>3/16/2001</td>\n",
       "      <td>47.00</td>\n",
       "      <td>47.80</td>\n",
       "      <td>46.10</td>\n",
       "      <td>45.33</td>\n",
       "      <td>40806400</td>\n",
       "      <td>MSFT</td>\n",
       "    </tr>\n",
       "    <tr>\n",
       "      <td>3712</td>\n",
       "      <td>3/17/2000</td>\n",
       "      <td>49.50</td>\n",
       "      <td>50.00</td>\n",
       "      <td>48.29</td>\n",
       "      <td>50.00</td>\n",
       "      <td>50860500</td>\n",
       "      <td>MSFT</td>\n",
       "    </tr>\n",
       "  </tbody>\n",
       "</table>\n",
       "</div>"
      ],
      "text/plain": [
       "            Date   Open   High    Low  Close    Volume Symbol\n",
       "index                                                        \n",
       "1081   5/21/2010  42.22  42.35  40.99  42.00  33610800   MSFT\n",
       "1097   4/29/2010  46.80  46.95  44.65  45.92  47076200   MSFT\n",
       "1826   6/15/2007  89.80  92.10  89.55  92.04  30656400   MSFT\n",
       "3455   3/16/2001  47.00  47.80  46.10  45.33  40806400   MSFT\n",
       "3712   3/17/2000  49.50  50.00  48.29  50.00  50860500   MSFT"
      ]
     },
     "execution_count": 86,
     "metadata": {},
     "output_type": "execute_result"
    }
   ],
   "source": [
    "connection = sqlite3.connect(\"./lp/data/stocks.sqlite\")\n",
    "query = \"SELECT * FROM STOCK_DATA WHERE Volume>29200100 AND Symbol='MSFT';\"\n",
    "items = pd.io.sql.read_sql(query, connection, index_col='index')\n",
    "connection.close()\n",
    "items"
   ]
  },
  {
   "cell_type": "markdown",
   "metadata": {},
   "source": [
    "# 외부데이터 읽어오기"
   ]
  },
  {
   "cell_type": "markdown",
   "metadata": {},
   "source": [
    "# 야후파이낸스에 접속해 삼성전자의 주가 가져오기"
   ]
  },
  {
   "cell_type": "code",
   "execution_count": 2,
   "metadata": {},
   "outputs": [],
   "source": [
    "import pandas_datareader as pdr"
   ]
  },
  {
   "cell_type": "code",
   "execution_count": 95,
   "metadata": {},
   "outputs": [
    {
     "data": {
      "text/html": [
       "<div>\n",
       "<style scoped>\n",
       "    .dataframe tbody tr th:only-of-type {\n",
       "        vertical-align: middle;\n",
       "    }\n",
       "\n",
       "    .dataframe tbody tr th {\n",
       "        vertical-align: top;\n",
       "    }\n",
       "\n",
       "    .dataframe thead th {\n",
       "        text-align: right;\n",
       "    }\n",
       "</style>\n",
       "<table border=\"1\" class=\"dataframe\">\n",
       "  <thead>\n",
       "    <tr style=\"text-align: right;\">\n",
       "      <th></th>\n",
       "      <th>High</th>\n",
       "      <th>Low</th>\n",
       "      <th>Open</th>\n",
       "      <th>Close</th>\n",
       "      <th>Volume</th>\n",
       "      <th>Adj Close</th>\n",
       "    </tr>\n",
       "    <tr>\n",
       "      <th>Date</th>\n",
       "      <th></th>\n",
       "      <th></th>\n",
       "      <th></th>\n",
       "      <th></th>\n",
       "      <th></th>\n",
       "      <th></th>\n",
       "    </tr>\n",
       "  </thead>\n",
       "  <tbody>\n",
       "    <tr>\n",
       "      <td>2017-03-31</td>\n",
       "      <td>66.190002</td>\n",
       "      <td>65.449997</td>\n",
       "      <td>65.650002</td>\n",
       "      <td>65.860001</td>\n",
       "      <td>21040300.0</td>\n",
       "      <td>62.780933</td>\n",
       "    </tr>\n",
       "    <tr>\n",
       "      <td>2017-04-03</td>\n",
       "      <td>65.940002</td>\n",
       "      <td>65.190002</td>\n",
       "      <td>65.809998</td>\n",
       "      <td>65.550003</td>\n",
       "      <td>20400900.0</td>\n",
       "      <td>62.485432</td>\n",
       "    </tr>\n",
       "    <tr>\n",
       "      <td>2017-04-04</td>\n",
       "      <td>65.809998</td>\n",
       "      <td>65.279999</td>\n",
       "      <td>65.389999</td>\n",
       "      <td>65.730003</td>\n",
       "      <td>12997400.0</td>\n",
       "      <td>62.657024</td>\n",
       "    </tr>\n",
       "    <tr>\n",
       "      <td>2017-04-05</td>\n",
       "      <td>66.349998</td>\n",
       "      <td>65.440002</td>\n",
       "      <td>66.300003</td>\n",
       "      <td>65.559998</td>\n",
       "      <td>21448600.0</td>\n",
       "      <td>62.494957</td>\n",
       "    </tr>\n",
       "    <tr>\n",
       "      <td>2017-04-06</td>\n",
       "      <td>66.059998</td>\n",
       "      <td>65.480003</td>\n",
       "      <td>65.599998</td>\n",
       "      <td>65.730003</td>\n",
       "      <td>18103500.0</td>\n",
       "      <td>62.657024</td>\n",
       "    </tr>\n",
       "  </tbody>\n",
       "</table>\n",
       "</div>"
      ],
      "text/plain": [
       "                 High        Low       Open      Close      Volume  Adj Close\n",
       "Date                                                                         \n",
       "2017-03-31  66.190002  65.449997  65.650002  65.860001  21040300.0  62.780933\n",
       "2017-04-03  65.940002  65.190002  65.809998  65.550003  20400900.0  62.485432\n",
       "2017-04-04  65.809998  65.279999  65.389999  65.730003  12997400.0  62.657024\n",
       "2017-04-05  66.349998  65.440002  66.300003  65.559998  21448600.0  62.494957\n",
       "2017-04-06  66.059998  65.480003  65.599998  65.730003  18103500.0  62.657024"
      ]
     },
     "execution_count": 95,
     "metadata": {},
     "output_type": "execute_result"
    }
   ],
   "source": [
    "start = datetime(2017, 4, 1)\n",
    "end = datetime(2020, 1, 30)\n",
    "goog = pdr.data.DataReader(\"MSFT\", 'yahoo', start, end)\n",
    "goog[:5]"
   ]
  },
  {
   "cell_type": "code",
   "execution_count": 96,
   "metadata": {},
   "outputs": [
    {
     "data": {
      "text/html": [
       "<div>\n",
       "<style scoped>\n",
       "    .dataframe tbody tr th:only-of-type {\n",
       "        vertical-align: middle;\n",
       "    }\n",
       "\n",
       "    .dataframe tbody tr th {\n",
       "        vertical-align: top;\n",
       "    }\n",
       "\n",
       "    .dataframe thead th {\n",
       "        text-align: right;\n",
       "    }\n",
       "</style>\n",
       "<table border=\"1\" class=\"dataframe\">\n",
       "  <thead>\n",
       "    <tr style=\"text-align: right;\">\n",
       "      <th></th>\n",
       "      <th>High</th>\n",
       "      <th>Low</th>\n",
       "      <th>Open</th>\n",
       "      <th>Close</th>\n",
       "      <th>Volume</th>\n",
       "      <th>Adj Close</th>\n",
       "    </tr>\n",
       "    <tr>\n",
       "      <th>Date</th>\n",
       "      <th></th>\n",
       "      <th></th>\n",
       "      <th></th>\n",
       "      <th></th>\n",
       "      <th></th>\n",
       "      <th></th>\n",
       "    </tr>\n",
       "  </thead>\n",
       "  <tbody>\n",
       "    <tr>\n",
       "      <td>2020-01-22</td>\n",
       "      <td>62600.0</td>\n",
       "      <td>60400.0</td>\n",
       "      <td>60500.0</td>\n",
       "      <td>62300.0</td>\n",
       "      <td>15339565.0</td>\n",
       "      <td>62300.0</td>\n",
       "    </tr>\n",
       "    <tr>\n",
       "      <td>2020-01-23</td>\n",
       "      <td>61800.0</td>\n",
       "      <td>60700.0</td>\n",
       "      <td>61800.0</td>\n",
       "      <td>60800.0</td>\n",
       "      <td>14916555.0</td>\n",
       "      <td>60800.0</td>\n",
       "    </tr>\n",
       "    <tr>\n",
       "      <td>2020-01-28</td>\n",
       "      <td>59400.0</td>\n",
       "      <td>58300.0</td>\n",
       "      <td>59400.0</td>\n",
       "      <td>58800.0</td>\n",
       "      <td>23664541.0</td>\n",
       "      <td>58800.0</td>\n",
       "    </tr>\n",
       "    <tr>\n",
       "      <td>2020-01-29</td>\n",
       "      <td>59700.0</td>\n",
       "      <td>58800.0</td>\n",
       "      <td>59100.0</td>\n",
       "      <td>59100.0</td>\n",
       "      <td>16446102.0</td>\n",
       "      <td>59100.0</td>\n",
       "    </tr>\n",
       "    <tr>\n",
       "      <td>2020-01-30</td>\n",
       "      <td>58800.0</td>\n",
       "      <td>57900.0</td>\n",
       "      <td>58800.0</td>\n",
       "      <td>58100.0</td>\n",
       "      <td>8088345.0</td>\n",
       "      <td>58100.0</td>\n",
       "    </tr>\n",
       "  </tbody>\n",
       "</table>\n",
       "</div>"
      ],
      "text/plain": [
       "               High      Low     Open    Close      Volume  Adj Close\n",
       "Date                                                                 \n",
       "2020-01-22  62600.0  60400.0  60500.0  62300.0  15339565.0    62300.0\n",
       "2020-01-23  61800.0  60700.0  61800.0  60800.0  14916555.0    60800.0\n",
       "2020-01-28  59400.0  58300.0  59400.0  58800.0  23664541.0    58800.0\n",
       "2020-01-29  59700.0  58800.0  59100.0  59100.0  16446102.0    59100.0\n",
       "2020-01-30  58800.0  57900.0  58800.0  58100.0   8088345.0    58100.0"
      ]
     },
     "execution_count": 96,
     "metadata": {},
     "output_type": "execute_result"
    }
   ],
   "source": [
    "goog = pdr.data.DataReader(\"005930.KS\", 'yahoo', start, end)\n",
    "goog.tail()"
   ]
  },
  {
   "cell_type": "markdown",
   "metadata": {},
   "source": [
    "# FRB"
   ]
  },
  {
   "cell_type": "code",
   "execution_count": 100,
   "metadata": {},
   "outputs": [
    {
     "data": {
      "text/html": [
       "<div>\n",
       "<style scoped>\n",
       "    .dataframe tbody tr th:only-of-type {\n",
       "        vertical-align: middle;\n",
       "    }\n",
       "\n",
       "    .dataframe tbody tr th {\n",
       "        vertical-align: top;\n",
       "    }\n",
       "\n",
       "    .dataframe thead th {\n",
       "        text-align: right;\n",
       "    }\n",
       "</style>\n",
       "<table border=\"1\" class=\"dataframe\">\n",
       "  <thead>\n",
       "    <tr style=\"text-align: right;\">\n",
       "      <th></th>\n",
       "      <th>GDP</th>\n",
       "    </tr>\n",
       "    <tr>\n",
       "      <th>DATE</th>\n",
       "      <th></th>\n",
       "    </tr>\n",
       "  </thead>\n",
       "  <tbody>\n",
       "    <tr>\n",
       "      <td>2000-01-01</td>\n",
       "      <td>10002.857</td>\n",
       "    </tr>\n",
       "    <tr>\n",
       "      <td>2000-04-01</td>\n",
       "      <td>10247.679</td>\n",
       "    </tr>\n",
       "    <tr>\n",
       "      <td>2000-07-01</td>\n",
       "      <td>10319.825</td>\n",
       "    </tr>\n",
       "    <tr>\n",
       "      <td>2000-10-01</td>\n",
       "      <td>10439.025</td>\n",
       "    </tr>\n",
       "    <tr>\n",
       "      <td>2001-01-01</td>\n",
       "      <td>10472.879</td>\n",
       "    </tr>\n",
       "  </tbody>\n",
       "</table>\n",
       "</div>"
      ],
      "text/plain": [
       "                  GDP\n",
       "DATE                 \n",
       "2000-01-01  10002.857\n",
       "2000-04-01  10247.679\n",
       "2000-07-01  10319.825\n",
       "2000-10-01  10439.025\n",
       "2001-01-01  10472.879"
      ]
     },
     "execution_count": 100,
     "metadata": {},
     "output_type": "execute_result"
    }
   ],
   "source": [
    "gdp = pdr.data.FredReader(\"GDP\",date(2000, 1, 1),date(2020, 1, 30))\n",
    "gdp.read()[:5]"
   ]
  },
  {
   "cell_type": "code",
   "execution_count": 101,
   "metadata": {},
   "outputs": [
    {
     "data": {
      "text/html": [
       "<div>\n",
       "<style scoped>\n",
       "    .dataframe tbody tr th:only-of-type {\n",
       "        vertical-align: middle;\n",
       "    }\n",
       "\n",
       "    .dataframe tbody tr th {\n",
       "        vertical-align: top;\n",
       "    }\n",
       "\n",
       "    .dataframe thead th {\n",
       "        text-align: right;\n",
       "    }\n",
       "</style>\n",
       "<table border=\"1\" class=\"dataframe\">\n",
       "  <thead>\n",
       "    <tr style=\"text-align: right;\">\n",
       "      <th></th>\n",
       "      <th>A576RC1</th>\n",
       "    </tr>\n",
       "    <tr>\n",
       "      <th>DATE</th>\n",
       "      <th></th>\n",
       "    </tr>\n",
       "  </thead>\n",
       "  <tbody>\n",
       "    <tr>\n",
       "      <td>2000-01-01</td>\n",
       "      <td>4725.3</td>\n",
       "    </tr>\n",
       "    <tr>\n",
       "      <td>2000-02-01</td>\n",
       "      <td>4757.1</td>\n",
       "    </tr>\n",
       "    <tr>\n",
       "      <td>2000-03-01</td>\n",
       "      <td>4774.4</td>\n",
       "    </tr>\n",
       "    <tr>\n",
       "      <td>2000-04-01</td>\n",
       "      <td>4780.0</td>\n",
       "    </tr>\n",
       "    <tr>\n",
       "      <td>2000-05-01</td>\n",
       "      <td>4761.8</td>\n",
       "    </tr>\n",
       "  </tbody>\n",
       "</table>\n",
       "</div>"
      ],
      "text/plain": [
       "            A576RC1\n",
       "DATE               \n",
       "2000-01-01   4725.3\n",
       "2000-02-01   4757.1\n",
       "2000-03-01   4774.4\n",
       "2000-04-01   4780.0\n",
       "2000-05-01   4761.8"
      ]
     },
     "execution_count": 101,
     "metadata": {},
     "output_type": "execute_result"
    }
   ],
   "source": [
    "employee = pdr.data.FredReader(\"A576RC1\",date(2000, 1, 1),date(2020, 1, 30))\n",
    "employee.read()[:5]"
   ]
  },
  {
   "cell_type": "code",
   "execution_count": 102,
   "metadata": {},
   "outputs": [
    {
     "data": {
      "text/html": [
       "<div>\n",
       "<style scoped>\n",
       "    .dataframe tbody tr th:only-of-type {\n",
       "        vertical-align: middle;\n",
       "    }\n",
       "\n",
       "    .dataframe tbody tr th {\n",
       "        vertical-align: top;\n",
       "    }\n",
       "\n",
       "    .dataframe thead th {\n",
       "        text-align: right;\n",
       "    }\n",
       "</style>\n",
       "<table border=\"1\" class=\"dataframe\">\n",
       "  <thead>\n",
       "    <tr style=\"text-align: right;\">\n",
       "      <th></th>\n",
       "      <th>Mkt-RF</th>\n",
       "      <th>SMB</th>\n",
       "      <th>HML</th>\n",
       "      <th>WML</th>\n",
       "      <th>RF</th>\n",
       "    </tr>\n",
       "    <tr>\n",
       "      <th>Date</th>\n",
       "      <th></th>\n",
       "      <th></th>\n",
       "      <th></th>\n",
       "      <th></th>\n",
       "      <th></th>\n",
       "    </tr>\n",
       "  </thead>\n",
       "  <tbody>\n",
       "    <tr>\n",
       "      <td>2015-01</td>\n",
       "      <td>-1.75</td>\n",
       "      <td>0.04</td>\n",
       "      <td>-2.78</td>\n",
       "      <td>4.50</td>\n",
       "      <td>0.0</td>\n",
       "    </tr>\n",
       "    <tr>\n",
       "      <td>2015-02</td>\n",
       "      <td>5.93</td>\n",
       "      <td>-0.17</td>\n",
       "      <td>-0.30</td>\n",
       "      <td>-1.93</td>\n",
       "      <td>0.0</td>\n",
       "    </tr>\n",
       "    <tr>\n",
       "      <td>2015-03</td>\n",
       "      <td>-1.20</td>\n",
       "      <td>1.54</td>\n",
       "      <td>-0.89</td>\n",
       "      <td>2.07</td>\n",
       "      <td>0.0</td>\n",
       "    </tr>\n",
       "    <tr>\n",
       "      <td>2015-04</td>\n",
       "      <td>2.71</td>\n",
       "      <td>0.81</td>\n",
       "      <td>2.15</td>\n",
       "      <td>-3.31</td>\n",
       "      <td>0.0</td>\n",
       "    </tr>\n",
       "    <tr>\n",
       "      <td>2015-05</td>\n",
       "      <td>0.49</td>\n",
       "      <td>1.33</td>\n",
       "      <td>-1.25</td>\n",
       "      <td>4.24</td>\n",
       "      <td>0.0</td>\n",
       "    </tr>\n",
       "  </tbody>\n",
       "</table>\n",
       "</div>"
      ],
      "text/plain": [
       "         Mkt-RF   SMB   HML   WML   RF\n",
       "Date                                  \n",
       "2015-01   -1.75  0.04 -2.78  4.50  0.0\n",
       "2015-02    5.93 -0.17 -0.30 -1.93  0.0\n",
       "2015-03   -1.20  1.54 -0.89  2.07  0.0\n",
       "2015-04    2.71  0.81  2.15 -3.31  0.0\n",
       "2015-05    0.49  1.33 -1.25  4.24  0.0"
      ]
     },
     "execution_count": 102,
     "metadata": {},
     "output_type": "execute_result"
    }
   ],
   "source": [
    "factors = pdr.data.FamaFrenchReader(\"Global_Factors\").read()\n",
    "factors[0][:5]"
   ]
  },
  {
   "cell_type": "code",
   "execution_count": 3,
   "metadata": {},
   "outputs": [],
   "source": [
    "from pandas_datareader import wb"
   ]
  },
  {
   "cell_type": "code",
   "execution_count": 4,
   "metadata": {},
   "outputs": [
    {
     "data": {
      "text/html": [
       "<div>\n",
       "<style scoped>\n",
       "    .dataframe tbody tr th:only-of-type {\n",
       "        vertical-align: middle;\n",
       "    }\n",
       "\n",
       "    .dataframe tbody tr th {\n",
       "        vertical-align: top;\n",
       "    }\n",
       "\n",
       "    .dataframe thead th {\n",
       "        text-align: right;\n",
       "    }\n",
       "</style>\n",
       "<table border=\"1\" class=\"dataframe\">\n",
       "  <thead>\n",
       "    <tr style=\"text-align: right;\">\n",
       "      <th></th>\n",
       "      <th>id</th>\n",
       "      <th>name</th>\n",
       "    </tr>\n",
       "  </thead>\n",
       "  <tbody>\n",
       "    <tr>\n",
       "      <td>0</td>\n",
       "      <td>1.0.HCount.1.90usd</td>\n",
       "      <td>Poverty Headcount ($1.90 a day)</td>\n",
       "    </tr>\n",
       "    <tr>\n",
       "      <td>1</td>\n",
       "      <td>1.0.HCount.2.5usd</td>\n",
       "      <td>Poverty Headcount ($2.50 a day)</td>\n",
       "    </tr>\n",
       "    <tr>\n",
       "      <td>2</td>\n",
       "      <td>1.0.HCount.Mid10to50</td>\n",
       "      <td>Middle Class ($10-50 a day) Headcount</td>\n",
       "    </tr>\n",
       "    <tr>\n",
       "      <td>3</td>\n",
       "      <td>1.0.HCount.Ofcl</td>\n",
       "      <td>Official Moderate Poverty Rate-National</td>\n",
       "    </tr>\n",
       "    <tr>\n",
       "      <td>4</td>\n",
       "      <td>1.0.HCount.Poor4uds</td>\n",
       "      <td>Poverty Headcount ($4 a day)</td>\n",
       "    </tr>\n",
       "  </tbody>\n",
       "</table>\n",
       "</div>"
      ],
      "text/plain": [
       "                     id                                     name\n",
       "0    1.0.HCount.1.90usd          Poverty Headcount ($1.90 a day)\n",
       "1     1.0.HCount.2.5usd          Poverty Headcount ($2.50 a day)\n",
       "2  1.0.HCount.Mid10to50    Middle Class ($10-50 a day) Headcount\n",
       "3       1.0.HCount.Ofcl  Official Moderate Poverty Rate-National\n",
       "4   1.0.HCount.Poor4uds             Poverty Headcount ($4 a day)"
      ]
     },
     "execution_count": 4,
     "metadata": {},
     "output_type": "execute_result"
    }
   ],
   "source": [
    "all_indicators = pdr.wb.get_indicators()\n",
    "all_indicators.iloc[:5,:2]"
   ]
  },
  {
   "cell_type": "code",
   "execution_count": 5,
   "metadata": {},
   "outputs": [],
   "source": [
    "indic = pdr.wb.search(\"life expectancy\")"
   ]
  },
  {
   "cell_type": "code",
   "execution_count": 12,
   "metadata": {},
   "outputs": [
    {
     "name": "stderr",
     "output_type": "stream",
     "text": [
      "C:\\ProgramData\\Anaconda3\\lib\\site-packages\\pandas_datareader\\wb.py:593: UserWarning: Non-standard ISO country codes: 1A, 1W, 4E, 6D, 6F, 6L, 6N, 6X, 7E, 8S, A4, A5, A9, B1, B2, B3, B4, B6, B7, B8, C4, C5, C6, C7, C8, C9, D2, D3, D4, D5, D6, D7, D8, D9, EU, F1, F6, JG, L4, L5, L6, L7, M1, M2, N6, O6, OE, R6, S1, S2, S3, S4, T2, T3, T4, T5, T6, T7, V1, V2, V3, V4, XC, XD, XE, XF, XG, XH, XI, XJ, XK, XL, XM, XN, XO, XP, XQ, XT, XU, XY, Z4, Z7, ZB, ZF, ZG, ZJ, ZQ, ZT\n",
      "  \"Non-standard ISO \" \"country codes: %s\" % tmp, UserWarning\n"
     ]
    }
   ],
   "source": [
    "data  = pdr.wb.download(indicator=\"SP.DYN.LE00.IN\",country = countries['iso2c'],start='1980',end='2020')\n",
    "df = data.reset_index().copy()"
   ]
  },
  {
   "cell_type": "code",
   "execution_count": 13,
   "metadata": {},
   "outputs": [
    {
     "data": {
      "text/html": [
       "<div>\n",
       "<style scoped>\n",
       "    .dataframe tbody tr th:only-of-type {\n",
       "        vertical-align: middle;\n",
       "    }\n",
       "\n",
       "    .dataframe tbody tr th {\n",
       "        vertical-align: top;\n",
       "    }\n",
       "\n",
       "    .dataframe thead tr th {\n",
       "        text-align: left;\n",
       "    }\n",
       "\n",
       "    .dataframe thead tr:last-of-type th {\n",
       "        text-align: right;\n",
       "    }\n",
       "</style>\n",
       "<table border=\"1\" class=\"dataframe\">\n",
       "  <thead>\n",
       "    <tr>\n",
       "      <th></th>\n",
       "      <th colspan=\"21\" halign=\"left\">SP.DYN.LE00.IN</th>\n",
       "    </tr>\n",
       "    <tr>\n",
       "      <th>year</th>\n",
       "      <th>1980</th>\n",
       "      <th>1981</th>\n",
       "      <th>1982</th>\n",
       "      <th>1983</th>\n",
       "      <th>1984</th>\n",
       "      <th>1985</th>\n",
       "      <th>1986</th>\n",
       "      <th>1987</th>\n",
       "      <th>1988</th>\n",
       "      <th>1989</th>\n",
       "      <th>...</th>\n",
       "      <th>2010</th>\n",
       "      <th>2011</th>\n",
       "      <th>2012</th>\n",
       "      <th>2013</th>\n",
       "      <th>2014</th>\n",
       "      <th>2015</th>\n",
       "      <th>2016</th>\n",
       "      <th>2017</th>\n",
       "      <th>2018</th>\n",
       "      <th>2019</th>\n",
       "    </tr>\n",
       "    <tr>\n",
       "      <th>country</th>\n",
       "      <th></th>\n",
       "      <th></th>\n",
       "      <th></th>\n",
       "      <th></th>\n",
       "      <th></th>\n",
       "      <th></th>\n",
       "      <th></th>\n",
       "      <th></th>\n",
       "      <th></th>\n",
       "      <th></th>\n",
       "      <th></th>\n",
       "      <th></th>\n",
       "      <th></th>\n",
       "      <th></th>\n",
       "      <th></th>\n",
       "      <th></th>\n",
       "      <th></th>\n",
       "      <th></th>\n",
       "      <th></th>\n",
       "      <th></th>\n",
       "      <th></th>\n",
       "    </tr>\n",
       "  </thead>\n",
       "  <tbody>\n",
       "    <tr>\n",
       "      <td>Afghanistan</td>\n",
       "      <td>43.244000</td>\n",
       "      <td>43.923000</td>\n",
       "      <td>44.617000</td>\n",
       "      <td>45.324000</td>\n",
       "      <td>46.040000</td>\n",
       "      <td>46.761000</td>\n",
       "      <td>47.486000</td>\n",
       "      <td>48.211000</td>\n",
       "      <td>48.930000</td>\n",
       "      <td>49.640000</td>\n",
       "      <td>...</td>\n",
       "      <td>61.028000</td>\n",
       "      <td>61.553000</td>\n",
       "      <td>62.054000</td>\n",
       "      <td>62.525000</td>\n",
       "      <td>62.966000</td>\n",
       "      <td>63.377000</td>\n",
       "      <td>63.763000</td>\n",
       "      <td>64.130000</td>\n",
       "      <td>NaN</td>\n",
       "      <td>NaN</td>\n",
       "    </tr>\n",
       "    <tr>\n",
       "      <td>Albania</td>\n",
       "      <td>70.208000</td>\n",
       "      <td>70.416000</td>\n",
       "      <td>70.635000</td>\n",
       "      <td>70.876000</td>\n",
       "      <td>71.134000</td>\n",
       "      <td>71.388000</td>\n",
       "      <td>71.605000</td>\n",
       "      <td>71.760000</td>\n",
       "      <td>71.843000</td>\n",
       "      <td>71.860000</td>\n",
       "      <td>...</td>\n",
       "      <td>76.562000</td>\n",
       "      <td>76.914000</td>\n",
       "      <td>77.252000</td>\n",
       "      <td>77.554000</td>\n",
       "      <td>77.813000</td>\n",
       "      <td>78.025000</td>\n",
       "      <td>78.194000</td>\n",
       "      <td>78.333000</td>\n",
       "      <td>NaN</td>\n",
       "      <td>NaN</td>\n",
       "    </tr>\n",
       "    <tr>\n",
       "      <td>Algeria</td>\n",
       "      <td>58.198000</td>\n",
       "      <td>59.519000</td>\n",
       "      <td>60.813000</td>\n",
       "      <td>62.029000</td>\n",
       "      <td>63.130000</td>\n",
       "      <td>64.087000</td>\n",
       "      <td>64.884000</td>\n",
       "      <td>65.545000</td>\n",
       "      <td>66.097000</td>\n",
       "      <td>66.554000</td>\n",
       "      <td>...</td>\n",
       "      <td>74.938000</td>\n",
       "      <td>75.199000</td>\n",
       "      <td>75.436000</td>\n",
       "      <td>75.661000</td>\n",
       "      <td>75.878000</td>\n",
       "      <td>76.090000</td>\n",
       "      <td>76.298000</td>\n",
       "      <td>76.499000</td>\n",
       "      <td>NaN</td>\n",
       "      <td>NaN</td>\n",
       "    </tr>\n",
       "    <tr>\n",
       "      <td>American Samoa</td>\n",
       "      <td>NaN</td>\n",
       "      <td>NaN</td>\n",
       "      <td>NaN</td>\n",
       "      <td>NaN</td>\n",
       "      <td>NaN</td>\n",
       "      <td>NaN</td>\n",
       "      <td>NaN</td>\n",
       "      <td>NaN</td>\n",
       "      <td>NaN</td>\n",
       "      <td>NaN</td>\n",
       "      <td>...</td>\n",
       "      <td>NaN</td>\n",
       "      <td>NaN</td>\n",
       "      <td>NaN</td>\n",
       "      <td>NaN</td>\n",
       "      <td>NaN</td>\n",
       "      <td>NaN</td>\n",
       "      <td>NaN</td>\n",
       "      <td>NaN</td>\n",
       "      <td>NaN</td>\n",
       "      <td>NaN</td>\n",
       "    </tr>\n",
       "    <tr>\n",
       "      <td>Andorra</td>\n",
       "      <td>NaN</td>\n",
       "      <td>NaN</td>\n",
       "      <td>NaN</td>\n",
       "      <td>NaN</td>\n",
       "      <td>NaN</td>\n",
       "      <td>NaN</td>\n",
       "      <td>NaN</td>\n",
       "      <td>NaN</td>\n",
       "      <td>NaN</td>\n",
       "      <td>NaN</td>\n",
       "      <td>...</td>\n",
       "      <td>NaN</td>\n",
       "      <td>NaN</td>\n",
       "      <td>NaN</td>\n",
       "      <td>NaN</td>\n",
       "      <td>NaN</td>\n",
       "      <td>NaN</td>\n",
       "      <td>NaN</td>\n",
       "      <td>NaN</td>\n",
       "      <td>NaN</td>\n",
       "      <td>NaN</td>\n",
       "    </tr>\n",
       "    <tr>\n",
       "      <td>...</td>\n",
       "      <td>...</td>\n",
       "      <td>...</td>\n",
       "      <td>...</td>\n",
       "      <td>...</td>\n",
       "      <td>...</td>\n",
       "      <td>...</td>\n",
       "      <td>...</td>\n",
       "      <td>...</td>\n",
       "      <td>...</td>\n",
       "      <td>...</td>\n",
       "      <td>...</td>\n",
       "      <td>...</td>\n",
       "      <td>...</td>\n",
       "      <td>...</td>\n",
       "      <td>...</td>\n",
       "      <td>...</td>\n",
       "      <td>...</td>\n",
       "      <td>...</td>\n",
       "      <td>...</td>\n",
       "      <td>...</td>\n",
       "      <td>...</td>\n",
       "    </tr>\n",
       "    <tr>\n",
       "      <td>West Bank and Gaza</td>\n",
       "      <td>NaN</td>\n",
       "      <td>NaN</td>\n",
       "      <td>NaN</td>\n",
       "      <td>NaN</td>\n",
       "      <td>NaN</td>\n",
       "      <td>NaN</td>\n",
       "      <td>NaN</td>\n",
       "      <td>NaN</td>\n",
       "      <td>NaN</td>\n",
       "      <td>NaN</td>\n",
       "      <td>...</td>\n",
       "      <td>72.788000</td>\n",
       "      <td>72.915000</td>\n",
       "      <td>73.041000</td>\n",
       "      <td>73.170000</td>\n",
       "      <td>73.303000</td>\n",
       "      <td>73.442000</td>\n",
       "      <td>73.589000</td>\n",
       "      <td>73.740000</td>\n",
       "      <td>NaN</td>\n",
       "      <td>NaN</td>\n",
       "    </tr>\n",
       "    <tr>\n",
       "      <td>World</td>\n",
       "      <td>62.841543</td>\n",
       "      <td>63.182386</td>\n",
       "      <td>63.508765</td>\n",
       "      <td>63.756894</td>\n",
       "      <td>64.021454</td>\n",
       "      <td>64.279036</td>\n",
       "      <td>64.579773</td>\n",
       "      <td>64.830941</td>\n",
       "      <td>65.035006</td>\n",
       "      <td>65.247557</td>\n",
       "      <td>...</td>\n",
       "      <td>70.556119</td>\n",
       "      <td>70.884078</td>\n",
       "      <td>71.171712</td>\n",
       "      <td>71.462257</td>\n",
       "      <td>71.741965</td>\n",
       "      <td>71.947898</td>\n",
       "      <td>72.182171</td>\n",
       "      <td>72.383009</td>\n",
       "      <td>NaN</td>\n",
       "      <td>NaN</td>\n",
       "    </tr>\n",
       "    <tr>\n",
       "      <td>Yemen, Rep.</td>\n",
       "      <td>48.532000</td>\n",
       "      <td>49.778000</td>\n",
       "      <td>50.981000</td>\n",
       "      <td>52.117000</td>\n",
       "      <td>53.170000</td>\n",
       "      <td>54.120000</td>\n",
       "      <td>54.959000</td>\n",
       "      <td>55.692000</td>\n",
       "      <td>56.331000</td>\n",
       "      <td>56.881000</td>\n",
       "      <td>...</td>\n",
       "      <td>65.549000</td>\n",
       "      <td>65.768000</td>\n",
       "      <td>65.920000</td>\n",
       "      <td>66.016000</td>\n",
       "      <td>66.066000</td>\n",
       "      <td>66.085000</td>\n",
       "      <td>66.087000</td>\n",
       "      <td>66.086000</td>\n",
       "      <td>NaN</td>\n",
       "      <td>NaN</td>\n",
       "    </tr>\n",
       "    <tr>\n",
       "      <td>Zambia</td>\n",
       "      <td>52.802000</td>\n",
       "      <td>52.863000</td>\n",
       "      <td>52.905000</td>\n",
       "      <td>52.915000</td>\n",
       "      <td>52.870000</td>\n",
       "      <td>52.720000</td>\n",
       "      <td>52.402000</td>\n",
       "      <td>51.888000</td>\n",
       "      <td>51.173000</td>\n",
       "      <td>50.282000</td>\n",
       "      <td>...</td>\n",
       "      <td>55.655000</td>\n",
       "      <td>57.126000</td>\n",
       "      <td>58.502000</td>\n",
       "      <td>59.746000</td>\n",
       "      <td>60.831000</td>\n",
       "      <td>61.737000</td>\n",
       "      <td>62.464000</td>\n",
       "      <td>63.043000</td>\n",
       "      <td>NaN</td>\n",
       "      <td>NaN</td>\n",
       "    </tr>\n",
       "    <tr>\n",
       "      <td>Zimbabwe</td>\n",
       "      <td>59.731000</td>\n",
       "      <td>60.203000</td>\n",
       "      <td>60.650000</td>\n",
       "      <td>61.025000</td>\n",
       "      <td>61.280000</td>\n",
       "      <td>61.356000</td>\n",
       "      <td>61.199000</td>\n",
       "      <td>60.792000</td>\n",
       "      <td>60.136000</td>\n",
       "      <td>59.235000</td>\n",
       "      <td>...</td>\n",
       "      <td>50.640000</td>\n",
       "      <td>52.896000</td>\n",
       "      <td>55.032000</td>\n",
       "      <td>56.897000</td>\n",
       "      <td>58.410000</td>\n",
       "      <td>59.534000</td>\n",
       "      <td>60.294000</td>\n",
       "      <td>60.812000</td>\n",
       "      <td>NaN</td>\n",
       "      <td>NaN</td>\n",
       "    </tr>\n",
       "  </tbody>\n",
       "</table>\n",
       "<p>264 rows × 40 columns</p>\n",
       "</div>"
      ],
      "text/plain": [
       "                   SP.DYN.LE00.IN                                              \\\n",
       "year                         1980       1981       1982       1983       1984   \n",
       "country                                                                         \n",
       "Afghanistan             43.244000  43.923000  44.617000  45.324000  46.040000   \n",
       "Albania                 70.208000  70.416000  70.635000  70.876000  71.134000   \n",
       "Algeria                 58.198000  59.519000  60.813000  62.029000  63.130000   \n",
       "American Samoa                NaN        NaN        NaN        NaN        NaN   \n",
       "Andorra                       NaN        NaN        NaN        NaN        NaN   \n",
       "...                           ...        ...        ...        ...        ...   \n",
       "West Bank and Gaza            NaN        NaN        NaN        NaN        NaN   \n",
       "World                   62.841543  63.182386  63.508765  63.756894  64.021454   \n",
       "Yemen, Rep.             48.532000  49.778000  50.981000  52.117000  53.170000   \n",
       "Zambia                  52.802000  52.863000  52.905000  52.915000  52.870000   \n",
       "Zimbabwe                59.731000  60.203000  60.650000  61.025000  61.280000   \n",
       "\n",
       "                                                                           \\\n",
       "year                     1985       1986       1987       1988       1989   \n",
       "country                                                                     \n",
       "Afghanistan         46.761000  47.486000  48.211000  48.930000  49.640000   \n",
       "Albania             71.388000  71.605000  71.760000  71.843000  71.860000   \n",
       "Algeria             64.087000  64.884000  65.545000  66.097000  66.554000   \n",
       "American Samoa            NaN        NaN        NaN        NaN        NaN   \n",
       "Andorra                   NaN        NaN        NaN        NaN        NaN   \n",
       "...                       ...        ...        ...        ...        ...   \n",
       "West Bank and Gaza        NaN        NaN        NaN        NaN        NaN   \n",
       "World               64.279036  64.579773  64.830941  65.035006  65.247557   \n",
       "Yemen, Rep.         54.120000  54.959000  55.692000  56.331000  56.881000   \n",
       "Zambia              52.720000  52.402000  51.888000  51.173000  50.282000   \n",
       "Zimbabwe            61.356000  61.199000  60.792000  60.136000  59.235000   \n",
       "\n",
       "                    ...                                              \\\n",
       "year                ...       2010       2011       2012       2013   \n",
       "country             ...                                               \n",
       "Afghanistan         ...  61.028000  61.553000  62.054000  62.525000   \n",
       "Albania             ...  76.562000  76.914000  77.252000  77.554000   \n",
       "Algeria             ...  74.938000  75.199000  75.436000  75.661000   \n",
       "American Samoa      ...        NaN        NaN        NaN        NaN   \n",
       "Andorra             ...        NaN        NaN        NaN        NaN   \n",
       "...                 ...        ...        ...        ...        ...   \n",
       "West Bank and Gaza  ...  72.788000  72.915000  73.041000  73.170000   \n",
       "World               ...  70.556119  70.884078  71.171712  71.462257   \n",
       "Yemen, Rep.         ...  65.549000  65.768000  65.920000  66.016000   \n",
       "Zambia              ...  55.655000  57.126000  58.502000  59.746000   \n",
       "Zimbabwe            ...  50.640000  52.896000  55.032000  56.897000   \n",
       "\n",
       "                                                                          \n",
       "year                     2014       2015       2016       2017 2018 2019  \n",
       "country                                                                   \n",
       "Afghanistan         62.966000  63.377000  63.763000  64.130000  NaN  NaN  \n",
       "Albania             77.813000  78.025000  78.194000  78.333000  NaN  NaN  \n",
       "Algeria             75.878000  76.090000  76.298000  76.499000  NaN  NaN  \n",
       "American Samoa            NaN        NaN        NaN        NaN  NaN  NaN  \n",
       "Andorra                   NaN        NaN        NaN        NaN  NaN  NaN  \n",
       "...                       ...        ...        ...        ...  ...  ...  \n",
       "West Bank and Gaza  73.303000  73.442000  73.589000  73.740000  NaN  NaN  \n",
       "World               71.741965  71.947898  72.182171  72.383009  NaN  NaN  \n",
       "Yemen, Rep.         66.066000  66.085000  66.087000  66.086000  NaN  NaN  \n",
       "Zambia              60.831000  61.737000  62.464000  63.043000  NaN  NaN  \n",
       "Zimbabwe            58.410000  59.534000  60.294000  60.812000  NaN  NaN  \n",
       "\n",
       "[264 rows x 40 columns]"
      ]
     },
     "execution_count": 13,
     "metadata": {},
     "output_type": "execute_result"
    }
   ],
   "source": [
    "pdf = df.pivot(index='country', columns='year')\n",
    "pdf"
   ]
  },
  {
   "cell_type": "markdown",
   "metadata": {},
   "source": [
    "## 기대수명이 가장 작은 나라들"
   ]
  },
  {
   "cell_type": "code",
   "execution_count": 14,
   "metadata": {},
   "outputs": [
    {
     "data": {
      "text/plain": [
       "                year\n",
       "SP.DYN.LE00.IN  1980                    Cambodia\n",
       "                1981                    Cambodia\n",
       "                1982                 Timor-Leste\n",
       "                1983                 South Sudan\n",
       "                1984                 South Sudan\n",
       "                1985                Sierra Leone\n",
       "                1986                Sierra Leone\n",
       "                1987                Sierra Leone\n",
       "                1988                Sierra Leone\n",
       "                1989                      Rwanda\n",
       "                1990                      Rwanda\n",
       "                1991                      Rwanda\n",
       "                1992                      Rwanda\n",
       "                1993                      Rwanda\n",
       "                1994                      Rwanda\n",
       "                1995                      Rwanda\n",
       "                1996                      Rwanda\n",
       "                1997                Sierra Leone\n",
       "                1998                Sierra Leone\n",
       "                1999                Sierra Leone\n",
       "                2000                Sierra Leone\n",
       "                2001                Sierra Leone\n",
       "                2002                Sierra Leone\n",
       "                2003                Sierra Leone\n",
       "                2004                    Eswatini\n",
       "                2005                    Eswatini\n",
       "                2006                     Lesotho\n",
       "                2007                     Lesotho\n",
       "                2008                     Lesotho\n",
       "                2009                     Lesotho\n",
       "                2010                     Lesotho\n",
       "                2011                     Lesotho\n",
       "                2012                     Lesotho\n",
       "                2013                     Lesotho\n",
       "                2014                     Lesotho\n",
       "                2015    Central African Republic\n",
       "                2016    Central African Republic\n",
       "                2017    Central African Republic\n",
       "                2018                         NaN\n",
       "                2019                         NaN\n",
       "dtype: object"
      ]
     },
     "execution_count": 14,
     "metadata": {},
     "output_type": "execute_result"
    }
   ],
   "source": [
    "pdf.idxmin(axis=0)"
   ]
  }
 ],
 "metadata": {
  "kernelspec": {
   "display_name": "Python 3",
   "language": "python",
   "name": "python3"
  },
  "language_info": {
   "codemirror_mode": {
    "name": "ipython",
    "version": 3
   },
   "file_extension": ".py",
   "mimetype": "text/x-python",
   "name": "python",
   "nbconvert_exporter": "python",
   "pygments_lexer": "ipython3",
   "version": "3.7.4"
  }
 },
 "nbformat": 4,
 "nbformat_minor": 2
}
