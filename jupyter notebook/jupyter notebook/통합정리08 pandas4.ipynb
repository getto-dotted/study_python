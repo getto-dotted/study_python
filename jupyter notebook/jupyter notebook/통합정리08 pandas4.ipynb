{
 "cells": [
  {
   "cell_type": "code",
   "execution_count": 11,
   "metadata": {},
   "outputs": [],
   "source": [
    "import pandas as pd\n",
    "import numpy as np\n",
    "import matplotlib.pyplot as plt\n",
    "\n",
    "import matplotlib as mpl\n",
    "\n",
    "#import seaborn as sns\n",
    "%matplotlib inline\n",
    "\n",
    "import matplotlib.font_manager as fm\n",
    "\n",
    "\n",
    "\n",
    "mpl.rcParams['axes.unicode_minus'] = False\n",
    "\n",
    "\n",
    "\n",
    "path = 'C:/Windows/Fonts/malgun.ttf'\n",
    "\n",
    "font_name = fm.FontProperties(fname=path, size=50).get_name()\n",
    "\n",
    "plt.rc('font', family=font_name)"
   ]
  },
  {
   "cell_type": "code",
   "execution_count": 25,
   "metadata": {},
   "outputs": [
    {
     "data": {
      "text/html": [
       "<div>\n",
       "<style scoped>\n",
       "    .dataframe tbody tr th:only-of-type {\n",
       "        vertical-align: middle;\n",
       "    }\n",
       "\n",
       "    .dataframe tbody tr th {\n",
       "        vertical-align: top;\n",
       "    }\n",
       "\n",
       "    .dataframe thead th {\n",
       "        text-align: right;\n",
       "    }\n",
       "</style>\n",
       "<table border=\"1\" class=\"dataframe\">\n",
       "  <thead>\n",
       "    <tr style=\"text-align: right;\">\n",
       "      <th></th>\n",
       "      <th>Unnamed: 0</th>\n",
       "      <th>firm</th>\n",
       "      <th>tv</th>\n",
       "      <th>radio</th>\n",
       "      <th>newpaper</th>\n",
       "      <th>magazine</th>\n",
       "    </tr>\n",
       "  </thead>\n",
       "  <tbody>\n",
       "    <tr>\n",
       "      <td>0</td>\n",
       "      <td>0</td>\n",
       "      <td>회사명</td>\n",
       "      <td>TV</td>\n",
       "      <td>라디오</td>\n",
       "      <td>신문</td>\n",
       "      <td>잡지</td>\n",
       "    </tr>\n",
       "    <tr>\n",
       "      <td>1</td>\n",
       "      <td>1</td>\n",
       "      <td>삼성전자</td>\n",
       "      <td>11479225</td>\n",
       "      <td>423815</td>\n",
       "      <td>6203885</td>\n",
       "      <td>242300</td>\n",
       "    </tr>\n",
       "    <tr>\n",
       "      <td>2</td>\n",
       "      <td>2</td>\n",
       "      <td>KT</td>\n",
       "      <td>8380633</td>\n",
       "      <td>368017</td>\n",
       "      <td>905887</td>\n",
       "      <td>25100</td>\n",
       "    </tr>\n",
       "  </tbody>\n",
       "</table>\n",
       "</div>"
      ],
      "text/plain": [
       "   Unnamed: 0  firm        tv   radio newpaper magazine\n",
       "0           0   회사명        TV     라디오       신문       잡지\n",
       "1           1  삼성전자  11479225  423815  6203885   242300\n",
       "2           2    KT   8380633  368017   905887    25100"
      ]
     },
     "execution_count": 25,
     "metadata": {},
     "output_type": "execute_result"
    }
   ],
   "source": [
    "df2015 = pd.read_csv('./csvfiles/2015ad.csv')\n",
    "df2015.head(3)"
   ]
  },
  {
   "cell_type": "code",
   "execution_count": 26,
   "metadata": {},
   "outputs": [],
   "source": [
    "df2015.drop('Unnamed: 0', axis=1, inplace=True)"
   ]
  },
  {
   "cell_type": "code",
   "execution_count": 27,
   "metadata": {},
   "outputs": [],
   "source": [
    "df2015.drop(0, inplace=True)"
   ]
  },
  {
   "cell_type": "code",
   "execution_count": 28,
   "metadata": {},
   "outputs": [
    {
     "name": "stdout",
     "output_type": "stream",
     "text": [
      "<class 'pandas.core.frame.DataFrame'>\n",
      "Int64Index: 99 entries, 1 to 99\n",
      "Data columns (total 5 columns):\n",
      "firm        99 non-null object\n",
      "tv          99 non-null int64\n",
      "radio       99 non-null int64\n",
      "newpaper    99 non-null int64\n",
      "magazine    99 non-null int64\n",
      "dtypes: int64(4), object(1)\n",
      "memory usage: 4.6+ KB\n"
     ]
    }
   ],
   "source": [
    "df2015['tv'] = pd.to_numeric(df2015['tv'])\n",
    "df2015['radio'] = pd.to_numeric(df2015['radio'])\n",
    "df2015['newpaper'] = pd.to_numeric(df2015['newpaper'])\n",
    "df2015['magazine'] = pd.to_numeric(df2015['magazine'])\n",
    "df2015.info()"
   ]
  },
  {
   "cell_type": "code",
   "execution_count": 37,
   "metadata": {},
   "outputs": [],
   "source": [
    "df2015.set_index('firm', inplace=True)"
   ]
  },
  {
   "cell_type": "code",
   "execution_count": 41,
   "metadata": {},
   "outputs": [
    {
     "data": {
      "text/plain": [
       "firm\n",
       "삼성전자         11479225\n",
       "KT            8380633\n",
       "한국지엠          6791838\n",
       "LG전자          6748621\n",
       "NHN엔터테인먼트     6455304\n",
       "LGU플러스        5524647\n",
       "기아자동차         4784181\n",
       "현대자동차         4453752\n",
       "케이투코리아        3804675\n",
       "한국인삼공사        3542698\n",
       "Name: tv, dtype: int64"
      ]
     },
     "execution_count": 41,
     "metadata": {},
     "output_type": "execute_result"
    }
   ],
   "source": [
    "#tv광고액 상위 10개 기업\n",
    "df2015['tv'].sort_values(ascending=False)[:10]"
   ]
  },
  {
   "cell_type": "code",
   "execution_count": 42,
   "metadata": {},
   "outputs": [
    {
     "data": {
      "text/html": [
       "<div>\n",
       "<style scoped>\n",
       "    .dataframe tbody tr th:only-of-type {\n",
       "        vertical-align: middle;\n",
       "    }\n",
       "\n",
       "    .dataframe tbody tr th {\n",
       "        vertical-align: top;\n",
       "    }\n",
       "\n",
       "    .dataframe thead th {\n",
       "        text-align: right;\n",
       "    }\n",
       "</style>\n",
       "<table border=\"1\" class=\"dataframe\">\n",
       "  <thead>\n",
       "    <tr style=\"text-align: right;\">\n",
       "      <th></th>\n",
       "      <th>tv</th>\n",
       "      <th>radio</th>\n",
       "      <th>newpaper</th>\n",
       "      <th>magazine</th>\n",
       "    </tr>\n",
       "    <tr>\n",
       "      <th>firm</th>\n",
       "      <th></th>\n",
       "      <th></th>\n",
       "      <th></th>\n",
       "      <th></th>\n",
       "    </tr>\n",
       "  </thead>\n",
       "  <tbody>\n",
       "    <tr>\n",
       "      <td>삼성전자</td>\n",
       "      <td>11479225</td>\n",
       "      <td>423815</td>\n",
       "      <td>6203885</td>\n",
       "      <td>242300</td>\n",
       "    </tr>\n",
       "    <tr>\n",
       "      <td>KT</td>\n",
       "      <td>8380633</td>\n",
       "      <td>368017</td>\n",
       "      <td>905887</td>\n",
       "      <td>25100</td>\n",
       "    </tr>\n",
       "    <tr>\n",
       "      <td>한국지엠</td>\n",
       "      <td>6791838</td>\n",
       "      <td>596281</td>\n",
       "      <td>662799</td>\n",
       "      <td>35200</td>\n",
       "    </tr>\n",
       "    <tr>\n",
       "      <td>LG전자</td>\n",
       "      <td>6748621</td>\n",
       "      <td>342048</td>\n",
       "      <td>1969787</td>\n",
       "      <td>114800</td>\n",
       "    </tr>\n",
       "    <tr>\n",
       "      <td>NHN엔터테인먼트</td>\n",
       "      <td>6455304</td>\n",
       "      <td>504860</td>\n",
       "      <td>0</td>\n",
       "      <td>1500</td>\n",
       "    </tr>\n",
       "    <tr>\n",
       "      <td>LGU플러스</td>\n",
       "      <td>5524647</td>\n",
       "      <td>358048</td>\n",
       "      <td>28231</td>\n",
       "      <td>25000</td>\n",
       "    </tr>\n",
       "    <tr>\n",
       "      <td>기아자동차</td>\n",
       "      <td>4784181</td>\n",
       "      <td>568812</td>\n",
       "      <td>1586957</td>\n",
       "      <td>58800</td>\n",
       "    </tr>\n",
       "    <tr>\n",
       "      <td>현대자동차</td>\n",
       "      <td>4453752</td>\n",
       "      <td>414230</td>\n",
       "      <td>2817550</td>\n",
       "      <td>108300</td>\n",
       "    </tr>\n",
       "    <tr>\n",
       "      <td>케이투코리아</td>\n",
       "      <td>3804675</td>\n",
       "      <td>0</td>\n",
       "      <td>84597</td>\n",
       "      <td>33000</td>\n",
       "    </tr>\n",
       "    <tr>\n",
       "      <td>한국인삼공사</td>\n",
       "      <td>3542698</td>\n",
       "      <td>169576</td>\n",
       "      <td>541614</td>\n",
       "      <td>25500</td>\n",
       "    </tr>\n",
       "  </tbody>\n",
       "</table>\n",
       "</div>"
      ],
      "text/plain": [
       "                 tv   radio  newpaper  magazine\n",
       "firm                                           \n",
       "삼성전자       11479225  423815   6203885    242300\n",
       "KT          8380633  368017    905887     25100\n",
       "한국지엠        6791838  596281    662799     35200\n",
       "LG전자        6748621  342048   1969787    114800\n",
       "NHN엔터테인먼트   6455304  504860         0      1500\n",
       "LGU플러스      5524647  358048     28231     25000\n",
       "기아자동차       4784181  568812   1586957     58800\n",
       "현대자동차       4453752  414230   2817550    108300\n",
       "케이투코리아      3804675       0     84597     33000\n",
       "한국인삼공사      3542698  169576    541614     25500"
      ]
     },
     "execution_count": 42,
     "metadata": {},
     "output_type": "execute_result"
    }
   ],
   "source": [
    "#tv광고액 상위 10개 기업\n",
    "df2015.sort_values('tv', ascending=False)[:10]"
   ]
  },
  {
   "cell_type": "code",
   "execution_count": 43,
   "metadata": {},
   "outputs": [
    {
     "data": {
      "text/html": [
       "<div>\n",
       "<style scoped>\n",
       "    .dataframe tbody tr th:only-of-type {\n",
       "        vertical-align: middle;\n",
       "    }\n",
       "\n",
       "    .dataframe tbody tr th {\n",
       "        vertical-align: top;\n",
       "    }\n",
       "\n",
       "    .dataframe thead th {\n",
       "        text-align: right;\n",
       "    }\n",
       "</style>\n",
       "<table border=\"1\" class=\"dataframe\">\n",
       "  <thead>\n",
       "    <tr style=\"text-align: right;\">\n",
       "      <th></th>\n",
       "      <th>tv</th>\n",
       "      <th>radio</th>\n",
       "      <th>newpaper</th>\n",
       "      <th>magazine</th>\n",
       "      <th>date</th>\n",
       "    </tr>\n",
       "    <tr>\n",
       "      <th>firm</th>\n",
       "      <th></th>\n",
       "      <th></th>\n",
       "      <th></th>\n",
       "      <th></th>\n",
       "      <th></th>\n",
       "    </tr>\n",
       "  </thead>\n",
       "  <tbody>\n",
       "    <tr>\n",
       "      <td>삼성전자</td>\n",
       "      <td>11479225</td>\n",
       "      <td>423815</td>\n",
       "      <td>6203885</td>\n",
       "      <td>242300</td>\n",
       "      <td>201509</td>\n",
       "    </tr>\n",
       "    <tr>\n",
       "      <td>KT</td>\n",
       "      <td>8380633</td>\n",
       "      <td>368017</td>\n",
       "      <td>905887</td>\n",
       "      <td>25100</td>\n",
       "      <td>201509</td>\n",
       "    </tr>\n",
       "    <tr>\n",
       "      <td>LG전자</td>\n",
       "      <td>6748621</td>\n",
       "      <td>342048</td>\n",
       "      <td>1969787</td>\n",
       "      <td>114800</td>\n",
       "      <td>201509</td>\n",
       "    </tr>\n",
       "    <tr>\n",
       "      <td>한국지엠</td>\n",
       "      <td>6791838</td>\n",
       "      <td>596281</td>\n",
       "      <td>662799</td>\n",
       "      <td>35200</td>\n",
       "      <td>201509</td>\n",
       "    </tr>\n",
       "    <tr>\n",
       "      <td>현대자동차</td>\n",
       "      <td>4453752</td>\n",
       "      <td>414230</td>\n",
       "      <td>2817550</td>\n",
       "      <td>108300</td>\n",
       "      <td>201509</td>\n",
       "    </tr>\n",
       "  </tbody>\n",
       "</table>\n",
       "</div>"
      ],
      "text/plain": [
       "             tv   radio  newpaper  magazine    date\n",
       "firm                                               \n",
       "삼성전자   11479225  423815   6203885    242300  201509\n",
       "KT      8380633  368017    905887     25100  201509\n",
       "LG전자    6748621  342048   1969787    114800  201509\n",
       "한국지엠    6791838  596281    662799     35200  201509\n",
       "현대자동차   4453752  414230   2817550    108300  201509"
      ]
     },
     "execution_count": 43,
     "metadata": {},
     "output_type": "execute_result"
    }
   ],
   "source": [
    "df2015['date'] = '201509'\n",
    "df2015.head()"
   ]
  },
  {
   "cell_type": "code",
   "execution_count": 5,
   "metadata": {},
   "outputs": [],
   "source": [
    "df2015 = pd.read_csv('./csvfiles/2015ad.csv')\n",
    "df2016 = pd.read_csv('./csvfiles/2016ad.csv')\n",
    "df2017 = pd.read_csv('./csvfiles/2017ad.csv')\n",
    "df2018 = pd.read_csv('./csvfiles/2018ad.csv')\n",
    "df2019 = pd.read_csv('./csvfiles/2019ad.csv')"
   ]
  },
  {
   "cell_type": "code",
   "execution_count": 6,
   "metadata": {
    "collapsed": true
   },
   "outputs": [
    {
     "name": "stdout",
     "output_type": "stream",
     "text": [
      "   Unnamed: 0  firm        tv   radio newpaper magazine\n",
      "0           0   회사명        TV     라디오       신문       잡지\n",
      "1           1  삼성전자  11479225  423815  6203885   242300\n",
      "2           2    KT   8380633  368017   905887    25100\n",
      "3           3  LG전자   6748621  342048  1969787   114800\n",
      "4           4  한국지엠   6791838  596281   662799    35200\n",
      "--------------------\n",
      "   Unnamed: 0    firm       tv   radio newpaper magazine\n",
      "0           0     회사명       TV     라디오       신문       잡지\n",
      "1           1    삼성전자  8571937  255932  6769684   223800\n",
      "2           2   현대자동차  4929457  448627  2711580   115300\n",
      "3           3  아모레퍼시픽  4563944  222294  1742959   987600\n",
      "4           4    LG전자  5587791   72904  1298358   184400\n",
      "--------------------\n",
      "   Unnamed: 0   firm        tv   radio newpaper magazine\n",
      "0           0    회사명        TV     라디오       신문       잡지\n",
      "1           1   삼성전자  11668720  242469  7356007   391700\n",
      "2           2   LG전자  13776012  322223  2679913   155700\n",
      "3           3     KT   4768380  265896  1544589    22500\n",
      "4           4  현대자동차   2837608  359010  1861762   119500\n",
      "--------------------\n",
      "   Unnamed: 0  firm        tv   radio newpaper magazine\n",
      "0           0   회사명        TV     라디오       신문       잡지\n",
      "1           1  LG전자  17908248   89237  1516482   160100\n",
      "2           2  삼성전자  12279508  291138  6285213   268100\n",
      "3           3    KT   3554634  168158  1717394    26000\n",
      "4           4  삼성화재   2001163   63883  3183392    13600\n",
      "--------------------\n",
      "   Unnamed: 0  firm        tv   radio newpaper magazine\n",
      "0           0   회사명        TV     라디오       신문       잡지\n",
      "1           1  삼성전자   7597926  401512  7192464   289000\n",
      "2           2  LG전자  12913571       0  1135883    62100\n",
      "3           3  한화공동   6380516  120920   855486    60500\n",
      "4           4    KT   4852147   67687  1993508    22300\n",
      "--------------------\n"
     ]
    }
   ],
   "source": [
    "import os\n",
    "for i,f in enumerate(os.listdir('./csvfiles')[:5]):\n",
    "    path = './csvfiles/'\n",
    "    name = 'df'+str(i)\n",
    "    name = pd.read_csv(path+f)\n",
    "    print(name.head())\n",
    "    print('-'*20)   "
   ]
  },
  {
   "cell_type": "code",
   "execution_count": 7,
   "metadata": {
    "collapsed": true
   },
   "outputs": [
    {
     "name": "stdout",
     "output_type": "stream",
     "text": [
      "             tv   radio  newpaper  magazine       date\n",
      "firm                                                  \n",
      "삼성전자   11479225  423815   6203885    242300 2015-09-01\n",
      "KT      8380633  368017    905887     25100 2015-09-01\n",
      "LG전자    6748621  342048   1969787    114800 2015-09-01\n",
      "한국지엠    6791838  596281    662799     35200 2015-09-01\n",
      "현대자동차   4453752  414230   2817550    108300 2015-09-01\n",
      "--------------------\n",
      "             tv   radio  newpaper  magazine       date\n",
      "firm                                                  \n",
      "삼성전자    8571937  255932   6769684    223800 2016-09-01\n",
      "현대자동차   4929457  448627   2711580    115300 2016-09-01\n",
      "아모레퍼시픽  4563944  222294   1742959    987600 2016-09-01\n",
      "LG전자    5587791   72904   1298358    184400 2016-09-01\n",
      "KT      4792340  317334   1120930     33100 2016-09-01\n",
      "--------------------\n",
      "              tv   radio  newpaper  magazine       date\n",
      "firm                                                   \n",
      "삼성전자    11668720  242469   7356007    391700 2017-09-01\n",
      "LG전자    13776012  322223   2679913    155700 2017-09-01\n",
      "KT       4768380  265896   1544589     22500 2017-09-01\n",
      "현대자동차    2837608  359010   1861762    119500 2017-09-01\n",
      "한국인삼공사   3873921  298050    518108    170500 2017-09-01\n",
      "--------------------\n",
      "             tv   radio  newpaper  magazine       date\n",
      "firm                                                  \n",
      "LG전자   17908248   89237   1516482    160100 2018-09-01\n",
      "삼성전자   12279508  291138   6285213    268100 2018-09-01\n",
      "KT      3554634  168158   1717394     26000 2018-09-01\n",
      "삼성화재    2001163   63883   3183392     13600 2018-09-01\n",
      "현대자동차   2655603  480837   1782310     76700 2018-09-01\n",
      "--------------------\n",
      "            tv   radio  newpaper  magazine       date\n",
      "firm                                                 \n",
      "삼성전자   7597926  401512   7192464    289000 2019-09-01\n",
      "LG전자  12913571       0   1135883     62100 2019-09-01\n",
      "한화공동   6380516  120920    855486     60500 2019-09-01\n",
      "KT     4852147   67687   1993508     22300 2019-09-01\n",
      "대웅제약   6033183       0    351571      6000 2019-09-01\n",
      "--------------------\n"
     ]
    }
   ],
   "source": [
    "for i, df in enumerate([df2015, df2016, df2017, df2018, df2019]):\n",
    "    df.drop('Unnamed: 0', axis=1, inplace=True)\n",
    "    df.drop(0, inplace=True)\n",
    "    df['tv'] = pd.to_numeric(df['tv'])\n",
    "    df['radio'] = pd.to_numeric(df['radio'])\n",
    "    df['newpaper'] = pd.to_numeric(df['newpaper'])\n",
    "    df['magazine'] = pd.to_numeric(df['magazine'])\n",
    "    df.set_index('firm', inplace=True)\n",
    "    date = str(int(2015) + int(i)) +'.' + '09'\n",
    "    df['date'] = date\n",
    "    df['date'] = pd.to_datetime(df['date'])   \n",
    "    print(df.head())\n",
    "    print('-'*20)"
   ]
  },
  {
   "cell_type": "code",
   "execution_count": 8,
   "metadata": {
    "scrolled": true
   },
   "outputs": [
    {
     "data": {
      "text/html": [
       "<div>\n",
       "<style scoped>\n",
       "    .dataframe tbody tr th:only-of-type {\n",
       "        vertical-align: middle;\n",
       "    }\n",
       "\n",
       "    .dataframe tbody tr th {\n",
       "        vertical-align: top;\n",
       "    }\n",
       "\n",
       "    .dataframe thead th {\n",
       "        text-align: right;\n",
       "    }\n",
       "</style>\n",
       "<table border=\"1\" class=\"dataframe\">\n",
       "  <thead>\n",
       "    <tr style=\"text-align: right;\">\n",
       "      <th></th>\n",
       "      <th>tv</th>\n",
       "      <th>radio</th>\n",
       "      <th>newpaper</th>\n",
       "      <th>magazine</th>\n",
       "      <th>date</th>\n",
       "    </tr>\n",
       "    <tr>\n",
       "      <th>firm</th>\n",
       "      <th></th>\n",
       "      <th></th>\n",
       "      <th></th>\n",
       "      <th></th>\n",
       "      <th></th>\n",
       "    </tr>\n",
       "  </thead>\n",
       "  <tbody>\n",
       "    <tr>\n",
       "      <td>삼성전자</td>\n",
       "      <td>11479225</td>\n",
       "      <td>423815</td>\n",
       "      <td>6203885</td>\n",
       "      <td>242300</td>\n",
       "      <td>2015-09-01</td>\n",
       "    </tr>\n",
       "    <tr>\n",
       "      <td>KT</td>\n",
       "      <td>8380633</td>\n",
       "      <td>368017</td>\n",
       "      <td>905887</td>\n",
       "      <td>25100</td>\n",
       "      <td>2015-09-01</td>\n",
       "    </tr>\n",
       "    <tr>\n",
       "      <td>LG전자</td>\n",
       "      <td>6748621</td>\n",
       "      <td>342048</td>\n",
       "      <td>1969787</td>\n",
       "      <td>114800</td>\n",
       "      <td>2015-09-01</td>\n",
       "    </tr>\n",
       "    <tr>\n",
       "      <td>한국지엠</td>\n",
       "      <td>6791838</td>\n",
       "      <td>596281</td>\n",
       "      <td>662799</td>\n",
       "      <td>35200</td>\n",
       "      <td>2015-09-01</td>\n",
       "    </tr>\n",
       "    <tr>\n",
       "      <td>현대자동차</td>\n",
       "      <td>4453752</td>\n",
       "      <td>414230</td>\n",
       "      <td>2817550</td>\n",
       "      <td>108300</td>\n",
       "      <td>2015-09-01</td>\n",
       "    </tr>\n",
       "  </tbody>\n",
       "</table>\n",
       "</div>"
      ],
      "text/plain": [
       "             tv   radio  newpaper  magazine       date\n",
       "firm                                                  \n",
       "삼성전자   11479225  423815   6203885    242300 2015-09-01\n",
       "KT      8380633  368017    905887     25100 2015-09-01\n",
       "LG전자    6748621  342048   1969787    114800 2015-09-01\n",
       "한국지엠    6791838  596281    662799     35200 2015-09-01\n",
       "현대자동차   4453752  414230   2817550    108300 2015-09-01"
      ]
     },
     "execution_count": 8,
     "metadata": {},
     "output_type": "execute_result"
    }
   ],
   "source": [
    "#하나의 df로 합치기\n",
    "df = pd.concat([df2015, df2016, df2017, df2018, df2019])\n",
    "df.head()"
   ]
  },
  {
   "cell_type": "markdown",
   "metadata": {},
   "source": [
    "# 리스트에 담아서 나중에 df하나로 합치기"
   ]
  },
  {
   "cell_type": "code",
   "execution_count": 185,
   "metadata": {
    "collapsed": true
   },
   "outputs": [
    {
     "data": {
      "text/html": [
       "<div>\n",
       "<style scoped>\n",
       "    .dataframe tbody tr th:only-of-type {\n",
       "        vertical-align: middle;\n",
       "    }\n",
       "\n",
       "    .dataframe tbody tr th {\n",
       "        vertical-align: top;\n",
       "    }\n",
       "\n",
       "    .dataframe thead th {\n",
       "        text-align: right;\n",
       "    }\n",
       "</style>\n",
       "<table border=\"1\" class=\"dataframe\">\n",
       "  <thead>\n",
       "    <tr style=\"text-align: right;\">\n",
       "      <th></th>\n",
       "      <th>tv</th>\n",
       "      <th>radio</th>\n",
       "      <th>newpaper</th>\n",
       "      <th>magazine</th>\n",
       "      <th>date</th>\n",
       "    </tr>\n",
       "    <tr>\n",
       "      <th>firm</th>\n",
       "      <th></th>\n",
       "      <th></th>\n",
       "      <th></th>\n",
       "      <th></th>\n",
       "      <th></th>\n",
       "    </tr>\n",
       "  </thead>\n",
       "  <tbody>\n",
       "    <tr>\n",
       "      <td>삼성전자</td>\n",
       "      <td>11479225</td>\n",
       "      <td>423815</td>\n",
       "      <td>6203885</td>\n",
       "      <td>242300</td>\n",
       "      <td>2015.09</td>\n",
       "    </tr>\n",
       "    <tr>\n",
       "      <td>KT</td>\n",
       "      <td>8380633</td>\n",
       "      <td>368017</td>\n",
       "      <td>905887</td>\n",
       "      <td>25100</td>\n",
       "      <td>2015.09</td>\n",
       "    </tr>\n",
       "    <tr>\n",
       "      <td>LG전자</td>\n",
       "      <td>6748621</td>\n",
       "      <td>342048</td>\n",
       "      <td>1969787</td>\n",
       "      <td>114800</td>\n",
       "      <td>2015.09</td>\n",
       "    </tr>\n",
       "    <tr>\n",
       "      <td>한국지엠</td>\n",
       "      <td>6791838</td>\n",
       "      <td>596281</td>\n",
       "      <td>662799</td>\n",
       "      <td>35200</td>\n",
       "      <td>2015.09</td>\n",
       "    </tr>\n",
       "    <tr>\n",
       "      <td>현대자동차</td>\n",
       "      <td>4453752</td>\n",
       "      <td>414230</td>\n",
       "      <td>2817550</td>\n",
       "      <td>108300</td>\n",
       "      <td>2015.09</td>\n",
       "    </tr>\n",
       "    <tr>\n",
       "      <td>...</td>\n",
       "      <td>...</td>\n",
       "      <td>...</td>\n",
       "      <td>...</td>\n",
       "      <td>...</td>\n",
       "      <td>...</td>\n",
       "    </tr>\n",
       "    <tr>\n",
       "      <td>동원F&amp;B</td>\n",
       "      <td>968138</td>\n",
       "      <td>0</td>\n",
       "      <td>0</td>\n",
       "      <td>5500</td>\n",
       "      <td>2019.09</td>\n",
       "    </tr>\n",
       "    <tr>\n",
       "      <td>SK(주)</td>\n",
       "      <td>0</td>\n",
       "      <td>0</td>\n",
       "      <td>959321</td>\n",
       "      <td>4500</td>\n",
       "      <td>2019.09</td>\n",
       "    </tr>\n",
       "    <tr>\n",
       "      <td>어린이재단</td>\n",
       "      <td>292914</td>\n",
       "      <td>0</td>\n",
       "      <td>657228</td>\n",
       "      <td>5600</td>\n",
       "      <td>2019.09</td>\n",
       "    </tr>\n",
       "    <tr>\n",
       "      <td>케이티스카이라이프</td>\n",
       "      <td>929695</td>\n",
       "      <td>0</td>\n",
       "      <td>0</td>\n",
       "      <td>0</td>\n",
       "      <td>2019.09</td>\n",
       "    </tr>\n",
       "    <tr>\n",
       "      <td>경북도청</td>\n",
       "      <td>272250</td>\n",
       "      <td>0</td>\n",
       "      <td>643796</td>\n",
       "      <td>7000</td>\n",
       "      <td>2019.09</td>\n",
       "    </tr>\n",
       "  </tbody>\n",
       "</table>\n",
       "<p>499 rows × 5 columns</p>\n",
       "</div>"
      ],
      "text/plain": [
       "                 tv   radio  newpaper  magazine     date\n",
       "firm                                                    \n",
       "삼성전자       11479225  423815   6203885    242300  2015.09\n",
       "KT          8380633  368017    905887     25100  2015.09\n",
       "LG전자        6748621  342048   1969787    114800  2015.09\n",
       "한국지엠        6791838  596281    662799     35200  2015.09\n",
       "현대자동차       4453752  414230   2817550    108300  2015.09\n",
       "...             ...     ...       ...       ...      ...\n",
       "동원F&B        968138       0         0      5500  2019.09\n",
       "SK(주)             0       0    959321      4500  2019.09\n",
       "어린이재단        292914       0    657228      5600  2019.09\n",
       "케이티스카이라이프    929695       0         0         0  2019.09\n",
       "경북도청         272250       0    643796      7000  2019.09\n",
       "\n",
       "[499 rows x 5 columns]"
      ]
     },
     "execution_count": 185,
     "metadata": {},
     "output_type": "execute_result"
    }
   ],
   "source": [
    "numeric"
   ]
  },
  {
   "cell_type": "markdown",
   "metadata": {},
   "source": [
    "# for문에서 exec()함수로 동적변수 생성하기"
   ]
  },
  {
   "cell_type": "code",
   "execution_count": 186,
   "metadata": {},
   "outputs": [],
   "source": [
    "for i in range(2015,2020):\n",
    "\n",
    "    exec(\"df{} = pd.read_csv('./csvfiles/{}ad.csv')\".format(i,i))\n",
    "\n",
    "    exec(\"df{}.drop('Unnamed: 0', axis=1, inplace=True)\".format(i))\n",
    "\n",
    "    exec(\"df{}.drop(0, inplace=True)\".format(i))\n",
    "\n",
    "    exec(\"df{}['tv'] = pd.to_numeric(df{}.tv)\".format(i,i))\n",
    "\n",
    "    exec(\"df{}['radio'] = pd.to_numeric(df{}.radio)\".format(i,i))\n",
    "\n",
    "    exec(\"df{}['newpaper'] = pd.to_numeric(df{}.newpaper)\".format(i,i))\n",
    "\n",
    "    exec(\"df{}['magazine'] = pd.to_numeric(df{}.magazine)\".format(i,i))\n",
    "\n",
    "    exec(\"df{}.set_index('firm', inplace=True)\".format(i))"
   ]
  },
  {
   "cell_type": "code",
   "execution_count": 10,
   "metadata": {},
   "outputs": [],
   "source": [
    "#total: 매체광고 합계금액 => 새로운 컬럼\n",
    "df['total'] = df.sum(axis=1)"
   ]
  },
  {
   "cell_type": "code",
   "execution_count": 37,
   "metadata": {},
   "outputs": [
    {
     "data": {
      "text/html": [
       "<div>\n",
       "<style scoped>\n",
       "    .dataframe tbody tr th:only-of-type {\n",
       "        vertical-align: middle;\n",
       "    }\n",
       "\n",
       "    .dataframe tbody tr th {\n",
       "        vertical-align: top;\n",
       "    }\n",
       "\n",
       "    .dataframe thead th {\n",
       "        text-align: right;\n",
       "    }\n",
       "</style>\n",
       "<table border=\"1\" class=\"dataframe\">\n",
       "  <thead>\n",
       "    <tr style=\"text-align: right;\">\n",
       "      <th></th>\n",
       "      <th>tv</th>\n",
       "      <th>radio</th>\n",
       "      <th>newpaper</th>\n",
       "      <th>magazine</th>\n",
       "      <th>date</th>\n",
       "      <th>total</th>\n",
       "    </tr>\n",
       "    <tr>\n",
       "      <th>firm</th>\n",
       "      <th></th>\n",
       "      <th></th>\n",
       "      <th></th>\n",
       "      <th></th>\n",
       "      <th></th>\n",
       "      <th></th>\n",
       "    </tr>\n",
       "  </thead>\n",
       "  <tbody>\n",
       "    <tr>\n",
       "      <td>삼성전자</td>\n",
       "      <td>11479225</td>\n",
       "      <td>423815</td>\n",
       "      <td>6203885</td>\n",
       "      <td>242300</td>\n",
       "      <td>2015.09</td>\n",
       "      <td>18349225</td>\n",
       "    </tr>\n",
       "    <tr>\n",
       "      <td>KT</td>\n",
       "      <td>8380633</td>\n",
       "      <td>368017</td>\n",
       "      <td>905887</td>\n",
       "      <td>25100</td>\n",
       "      <td>2015.09</td>\n",
       "      <td>9679637</td>\n",
       "    </tr>\n",
       "    <tr>\n",
       "      <td>LG전자</td>\n",
       "      <td>6748621</td>\n",
       "      <td>342048</td>\n",
       "      <td>1969787</td>\n",
       "      <td>114800</td>\n",
       "      <td>2015.09</td>\n",
       "      <td>9175256</td>\n",
       "    </tr>\n",
       "    <tr>\n",
       "      <td>한국지엠</td>\n",
       "      <td>6791838</td>\n",
       "      <td>596281</td>\n",
       "      <td>662799</td>\n",
       "      <td>35200</td>\n",
       "      <td>2015.09</td>\n",
       "      <td>8086118</td>\n",
       "    </tr>\n",
       "    <tr>\n",
       "      <td>현대자동차</td>\n",
       "      <td>4453752</td>\n",
       "      <td>414230</td>\n",
       "      <td>2817550</td>\n",
       "      <td>108300</td>\n",
       "      <td>2015.09</td>\n",
       "      <td>7793832</td>\n",
       "    </tr>\n",
       "  </tbody>\n",
       "</table>\n",
       "</div>"
      ],
      "text/plain": [
       "             tv   radio  newpaper  magazine     date     total\n",
       "firm                                                          \n",
       "삼성전자   11479225  423815   6203885    242300  2015.09  18349225\n",
       "KT      8380633  368017    905887     25100  2015.09   9679637\n",
       "LG전자    6748621  342048   1969787    114800  2015.09   9175256\n",
       "한국지엠    6791838  596281    662799     35200  2015.09   8086118\n",
       "현대자동차   4453752  414230   2817550    108300  2015.09   7793832"
      ]
     },
     "execution_count": 37,
     "metadata": {},
     "output_type": "execute_result"
    }
   ],
   "source": [
    "df.head()"
   ]
  },
  {
   "cell_type": "code",
   "execution_count": 11,
   "metadata": {},
   "outputs": [],
   "source": [
    "df['mon'] = df['date'].apply(lambda x: x.month)\n",
    "df['year'] = df['date'].apply(lambda x: x.year)"
   ]
  },
  {
   "cell_type": "code",
   "execution_count": 12,
   "metadata": {},
   "outputs": [
    {
     "data": {
      "text/html": [
       "<div>\n",
       "<style scoped>\n",
       "    .dataframe tbody tr th:only-of-type {\n",
       "        vertical-align: middle;\n",
       "    }\n",
       "\n",
       "    .dataframe tbody tr th {\n",
       "        vertical-align: top;\n",
       "    }\n",
       "\n",
       "    .dataframe thead th {\n",
       "        text-align: right;\n",
       "    }\n",
       "</style>\n",
       "<table border=\"1\" class=\"dataframe\">\n",
       "  <thead>\n",
       "    <tr style=\"text-align: right;\">\n",
       "      <th></th>\n",
       "      <th>tv</th>\n",
       "      <th>radio</th>\n",
       "      <th>newpaper</th>\n",
       "      <th>magazine</th>\n",
       "      <th>date</th>\n",
       "      <th>total</th>\n",
       "      <th>mon</th>\n",
       "      <th>year</th>\n",
       "    </tr>\n",
       "    <tr>\n",
       "      <th>firm</th>\n",
       "      <th></th>\n",
       "      <th></th>\n",
       "      <th></th>\n",
       "      <th></th>\n",
       "      <th></th>\n",
       "      <th></th>\n",
       "      <th></th>\n",
       "      <th></th>\n",
       "    </tr>\n",
       "  </thead>\n",
       "  <tbody>\n",
       "    <tr>\n",
       "      <td>삼성전자</td>\n",
       "      <td>11479225</td>\n",
       "      <td>423815</td>\n",
       "      <td>6203885</td>\n",
       "      <td>242300</td>\n",
       "      <td>2015-09-01</td>\n",
       "      <td>18349225</td>\n",
       "      <td>9</td>\n",
       "      <td>2015</td>\n",
       "    </tr>\n",
       "    <tr>\n",
       "      <td>KT</td>\n",
       "      <td>8380633</td>\n",
       "      <td>368017</td>\n",
       "      <td>905887</td>\n",
       "      <td>25100</td>\n",
       "      <td>2015-09-01</td>\n",
       "      <td>9679637</td>\n",
       "      <td>9</td>\n",
       "      <td>2015</td>\n",
       "    </tr>\n",
       "    <tr>\n",
       "      <td>LG전자</td>\n",
       "      <td>6748621</td>\n",
       "      <td>342048</td>\n",
       "      <td>1969787</td>\n",
       "      <td>114800</td>\n",
       "      <td>2015-09-01</td>\n",
       "      <td>9175256</td>\n",
       "      <td>9</td>\n",
       "      <td>2015</td>\n",
       "    </tr>\n",
       "  </tbody>\n",
       "</table>\n",
       "</div>"
      ],
      "text/plain": [
       "            tv   radio  newpaper  magazine       date     total  mon  year\n",
       "firm                                                                      \n",
       "삼성전자  11479225  423815   6203885    242300 2015-09-01  18349225    9  2015\n",
       "KT     8380633  368017    905887     25100 2015-09-01   9679637    9  2015\n",
       "LG전자   6748621  342048   1969787    114800 2015-09-01   9175256    9  2015"
      ]
     },
     "execution_count": 12,
     "metadata": {},
     "output_type": "execute_result"
    }
   ],
   "source": [
    "df.head(3)"
   ]
  },
  {
   "cell_type": "code",
   "execution_count": 18,
   "metadata": {},
   "outputs": [
    {
     "data": {
      "text/plain": [
       "year\n",
       "2015    238238536\n",
       "2016    206599750\n",
       "2017    221822367\n",
       "2018    220839376\n",
       "2019    241651753\n",
       "Name: total, dtype: int64"
      ]
     },
     "execution_count": 18,
     "metadata": {},
     "output_type": "execute_result"
    }
   ],
   "source": [
    "#연도별 광고비 총액\n",
    "df.groupby('year')['total'].sum()"
   ]
  },
  {
   "cell_type": "code",
   "execution_count": 19,
   "metadata": {},
   "outputs": [
    {
     "data": {
      "text/plain": [
       "<matplotlib.axes._subplots.AxesSubplot at 0xa72cc48>"
      ]
     },
     "execution_count": 19,
     "metadata": {},
     "output_type": "execute_result"
    },
    {
     "data": {
      "image/png": "[encoded data removed]",
      "text/plain": [
       "<Figure size 432x288 with 1 Axes>"
      ]
     },
     "metadata": {
      "needs_background": "light"
     },
     "output_type": "display_data"
    }
   ],
   "source": [
    "df.groupby('year')['total'].sum().plot(kind='bar')"
   ]
  },
  {
   "cell_type": "code",
   "execution_count": 53,
   "metadata": {},
   "outputs": [
    {
     "data": {
      "text/html": [
       "<div>\n",
       "<style scoped>\n",
       "    .dataframe tbody tr th:only-of-type {\n",
       "        vertical-align: middle;\n",
       "    }\n",
       "\n",
       "    .dataframe tbody tr th {\n",
       "        vertical-align: top;\n",
       "    }\n",
       "\n",
       "    .dataframe thead th {\n",
       "        text-align: right;\n",
       "    }\n",
       "</style>\n",
       "<table border=\"1\" class=\"dataframe\">\n",
       "  <thead>\n",
       "    <tr style=\"text-align: right;\">\n",
       "      <th></th>\n",
       "      <th>tv</th>\n",
       "      <th>radio</th>\n",
       "      <th>newpaper</th>\n",
       "      <th>magazine</th>\n",
       "      <th>date</th>\n",
       "      <th>total</th>\n",
       "      <th>mon</th>\n",
       "      <th>year</th>\n",
       "    </tr>\n",
       "    <tr>\n",
       "      <th>firm</th>\n",
       "      <th></th>\n",
       "      <th></th>\n",
       "      <th></th>\n",
       "      <th></th>\n",
       "      <th></th>\n",
       "      <th></th>\n",
       "      <th></th>\n",
       "      <th></th>\n",
       "    </tr>\n",
       "  </thead>\n",
       "  <tbody>\n",
       "    <tr>\n",
       "      <td>삼성전자</td>\n",
       "      <td>11479225</td>\n",
       "      <td>423815</td>\n",
       "      <td>6203885</td>\n",
       "      <td>242300</td>\n",
       "      <td>2015-09-01</td>\n",
       "      <td>18349225</td>\n",
       "      <td>9</td>\n",
       "      <td>2015</td>\n",
       "    </tr>\n",
       "    <tr>\n",
       "      <td>삼성전자</td>\n",
       "      <td>8571937</td>\n",
       "      <td>255932</td>\n",
       "      <td>6769684</td>\n",
       "      <td>223800</td>\n",
       "      <td>2016-09-01</td>\n",
       "      <td>15821353</td>\n",
       "      <td>9</td>\n",
       "      <td>2016</td>\n",
       "    </tr>\n",
       "    <tr>\n",
       "      <td>삼성전자</td>\n",
       "      <td>11668720</td>\n",
       "      <td>242469</td>\n",
       "      <td>7356007</td>\n",
       "      <td>391700</td>\n",
       "      <td>2017-09-01</td>\n",
       "      <td>19658896</td>\n",
       "      <td>9</td>\n",
       "      <td>2017</td>\n",
       "    </tr>\n",
       "    <tr>\n",
       "      <td>LG전자</td>\n",
       "      <td>17908248</td>\n",
       "      <td>89237</td>\n",
       "      <td>1516482</td>\n",
       "      <td>160100</td>\n",
       "      <td>2018-09-01</td>\n",
       "      <td>19674067</td>\n",
       "      <td>9</td>\n",
       "      <td>2018</td>\n",
       "    </tr>\n",
       "    <tr>\n",
       "      <td>삼성전자</td>\n",
       "      <td>7597926</td>\n",
       "      <td>401512</td>\n",
       "      <td>7192464</td>\n",
       "      <td>289000</td>\n",
       "      <td>2019-09-01</td>\n",
       "      <td>15480902</td>\n",
       "      <td>9</td>\n",
       "      <td>2019</td>\n",
       "    </tr>\n",
       "  </tbody>\n",
       "</table>\n",
       "</div>"
      ],
      "text/plain": [
       "            tv   radio  newpaper  magazine       date     total  mon  year\n",
       "firm                                                                      \n",
       "삼성전자  11479225  423815   6203885    242300 2015-09-01  18349225    9  2015\n",
       "삼성전자   8571937  255932   6769684    223800 2016-09-01  15821353    9  2016\n",
       "삼성전자  11668720  242469   7356007    391700 2017-09-01  19658896    9  2017\n",
       "LG전자  17908248   89237   1516482    160100 2018-09-01  19674067    9  2018\n",
       "삼성전자   7597926  401512   7192464    289000 2019-09-01  15480902    9  2019"
      ]
     },
     "execution_count": 53,
     "metadata": {},
     "output_type": "execute_result"
    }
   ],
   "source": [
    "#연도별 광고비 총액 최대 기업은?\n",
    "mlist = list(df.groupby('year')['total'].max().values)\n",
    "temp = []\n",
    "for i, s in enumerate(df['total']):\n",
    "    if s in mlist:\n",
    "        temp.append(i)\n",
    "df.iloc[temp]"
   ]
  },
  {
   "cell_type": "code",
   "execution_count": 55,
   "metadata": {},
   "outputs": [
    {
     "data": {
      "text/html": [
       "<div>\n",
       "<style scoped>\n",
       "    .dataframe tbody tr th:only-of-type {\n",
       "        vertical-align: middle;\n",
       "    }\n",
       "\n",
       "    .dataframe tbody tr th {\n",
       "        vertical-align: top;\n",
       "    }\n",
       "\n",
       "    .dataframe thead th {\n",
       "        text-align: right;\n",
       "    }\n",
       "</style>\n",
       "<table border=\"1\" class=\"dataframe\">\n",
       "  <thead>\n",
       "    <tr style=\"text-align: right;\">\n",
       "      <th></th>\n",
       "      <th>tv</th>\n",
       "      <th>radio</th>\n",
       "      <th>newpaper</th>\n",
       "      <th>magazine</th>\n",
       "      <th>date</th>\n",
       "      <th>total</th>\n",
       "      <th>mon</th>\n",
       "      <th>year</th>\n",
       "    </tr>\n",
       "    <tr>\n",
       "      <th>firm</th>\n",
       "      <th></th>\n",
       "      <th></th>\n",
       "      <th></th>\n",
       "      <th></th>\n",
       "      <th></th>\n",
       "      <th></th>\n",
       "      <th></th>\n",
       "      <th></th>\n",
       "    </tr>\n",
       "  </thead>\n",
       "  <tbody>\n",
       "    <tr>\n",
       "      <td>LG전자</td>\n",
       "      <td>17908248</td>\n",
       "      <td>89237</td>\n",
       "      <td>1516482</td>\n",
       "      <td>160100</td>\n",
       "      <td>2018-09-01</td>\n",
       "      <td>19674067</td>\n",
       "      <td>9</td>\n",
       "      <td>2018</td>\n",
       "    </tr>\n",
       "    <tr>\n",
       "      <td>삼성전자</td>\n",
       "      <td>11668720</td>\n",
       "      <td>242469</td>\n",
       "      <td>7356007</td>\n",
       "      <td>391700</td>\n",
       "      <td>2017-09-01</td>\n",
       "      <td>19658896</td>\n",
       "      <td>9</td>\n",
       "      <td>2017</td>\n",
       "    </tr>\n",
       "    <tr>\n",
       "      <td>삼성전자</td>\n",
       "      <td>12279508</td>\n",
       "      <td>291138</td>\n",
       "      <td>6285213</td>\n",
       "      <td>268100</td>\n",
       "      <td>2018-09-01</td>\n",
       "      <td>19123959</td>\n",
       "      <td>9</td>\n",
       "      <td>2018</td>\n",
       "    </tr>\n",
       "    <tr>\n",
       "      <td>삼성전자</td>\n",
       "      <td>11479225</td>\n",
       "      <td>423815</td>\n",
       "      <td>6203885</td>\n",
       "      <td>242300</td>\n",
       "      <td>2015-09-01</td>\n",
       "      <td>18349225</td>\n",
       "      <td>9</td>\n",
       "      <td>2015</td>\n",
       "    </tr>\n",
       "    <tr>\n",
       "      <td>LG전자</td>\n",
       "      <td>13776012</td>\n",
       "      <td>322223</td>\n",
       "      <td>2679913</td>\n",
       "      <td>155700</td>\n",
       "      <td>2017-09-01</td>\n",
       "      <td>16933848</td>\n",
       "      <td>9</td>\n",
       "      <td>2017</td>\n",
       "    </tr>\n",
       "  </tbody>\n",
       "</table>\n",
       "</div>"
      ],
      "text/plain": [
       "            tv   radio  newpaper  magazine       date     total  mon  year\n",
       "firm                                                                      \n",
       "LG전자  17908248   89237   1516482    160100 2018-09-01  19674067    9  2018\n",
       "삼성전자  11668720  242469   7356007    391700 2017-09-01  19658896    9  2017\n",
       "삼성전자  12279508  291138   6285213    268100 2018-09-01  19123959    9  2018\n",
       "삼성전자  11479225  423815   6203885    242300 2015-09-01  18349225    9  2015\n",
       "LG전자  13776012  322223   2679913    155700 2017-09-01  16933848    9  2017"
      ]
     },
     "execution_count": 55,
     "metadata": {},
     "output_type": "execute_result"
    }
   ],
   "source": [
    "#역대 총 광고비 최대기업 상위5개\n",
    "df.sort_values('total', ascending=False)[:5]"
   ]
  },
  {
   "cell_type": "code",
   "execution_count": 57,
   "metadata": {},
   "outputs": [
    {
     "data": {
      "text/plain": [
       "<matplotlib.axes._subplots.AxesSubplot at 0xa3f5d08>"
      ]
     },
     "execution_count": 57,
     "metadata": {},
     "output_type": "execute_result"
    },
    {
     "data": {
      "image/png": "[encoded data removed]",
      "text/plain": [
       "<Figure size 432x288 with 1 Axes>"
      ]
     },
     "metadata": {
      "needs_background": "light"
     },
     "output_type": "display_data"
    }
   ],
   "source": [
    "#5년간 매체별 광고비 총액?\n",
    "df.sum().plot(kind='bar')"
   ]
  },
  {
   "cell_type": "code",
   "execution_count": 62,
   "metadata": {},
   "outputs": [
    {
     "data": {
      "text/plain": [
       "<matplotlib.axes._subplots.AxesSubplot at 0xaaf7d48>"
      ]
     },
     "execution_count": 62,
     "metadata": {},
     "output_type": "execute_result"
    },
    {
     "data": {
      "image/png": "[encoded data removed]",
      "text/plain": [
       "<Figure size 432x288 with 1 Axes>"
      ]
     },
     "metadata": {
      "needs_background": "light"
     },
     "output_type": "display_data"
    }
   ],
   "source": [
    "df.iloc[:,:4].sum().plot(kind='bar')"
   ]
  },
  {
   "cell_type": "code",
   "execution_count": 71,
   "metadata": {},
   "outputs": [
    {
     "data": {
      "text/plain": [
       "firm\n",
       "삼성전자      88434335\n",
       "LG전자      67038178\n",
       "KT        34946534\n",
       "현대자동차     32521595\n",
       "아모레퍼시픽    22922808\n",
       "Name: total, dtype: int64"
      ]
     },
     "execution_count": 71,
     "metadata": {},
     "output_type": "execute_result"
    }
   ],
   "source": [
    "# 5년간 광고비 총액 상위5개 기업\n",
    "df.groupby('firm')['total'].sum().sort_values(ascending=False)[:5]"
   ]
  },
  {
   "cell_type": "code",
   "execution_count": 117,
   "metadata": {},
   "outputs": [
    {
     "data": {
      "text/plain": [
       "firm      year\n",
       "(주)하나은행   2015    3359583\n",
       "          2017    4243657\n",
       "          2018    1720094\n",
       "20세기폭스사   2015     976176\n",
       "AIA생명보험   2015    1731998\n",
       "                   ...   \n",
       "현대해상화재보험  2019    2329428\n",
       "호반건설      2019    1116328\n",
       "홈앤쇼핑      2016    1194301\n",
       "효성        2015    1929998\n",
       "휴테크산업     2019    1133319\n",
       "Name: total, Length: 499, dtype: int64"
      ]
     },
     "execution_count": 117,
     "metadata": {},
     "output_type": "execute_result"
    }
   ],
   "source": [
    "df.groupby(['firm','year'])['total'].sum()"
   ]
  },
  {
   "cell_type": "markdown",
   "metadata": {},
   "source": [
    "# unstack()을 사용하면 멀티인덱스 상태를 좀 더 쉽게 볼 수 있다."
   ]
  },
  {
   "cell_type": "code",
   "execution_count": 127,
   "metadata": {},
   "outputs": [],
   "source": [
    "df10 = df.groupby(['firm','year'])['total'].sum().unstack().sort_values(2019,ascending=False)[:10].T"
   ]
  },
  {
   "cell_type": "code",
   "execution_count": 129,
   "metadata": {},
   "outputs": [
    {
     "data": {
      "text/plain": [
       "<matplotlib.axes._subplots.AxesSubplot at 0xb50a548>"
      ]
     },
     "execution_count": 129,
     "metadata": {},
     "output_type": "execute_result"
    },
    {
     "data": {
      "image/png": "[encoded data removed]",
      "text/plain": [
       "<Figure size 432x288 with 1 Axes>"
      ]
     },
     "metadata": {
      "needs_background": "light"
     },
     "output_type": "display_data"
    }
   ],
   "source": [
    "df10.plot(kind='line')"
   ]
  },
  {
   "cell_type": "code",
   "execution_count": null,
   "metadata": {},
   "outputs": [],
   "source": []
  },
  {
   "cell_type": "code",
   "execution_count": 137,
   "metadata": {},
   "outputs": [
    {
     "data": {
      "text/html": [
       "<div>\n",
       "<style scoped>\n",
       "    .dataframe tbody tr th:only-of-type {\n",
       "        vertical-align: middle;\n",
       "    }\n",
       "\n",
       "    .dataframe tbody tr th {\n",
       "        vertical-align: top;\n",
       "    }\n",
       "\n",
       "    .dataframe thead th {\n",
       "        text-align: right;\n",
       "    }\n",
       "</style>\n",
       "<table border=\"1\" class=\"dataframe\">\n",
       "  <thead>\n",
       "    <tr style=\"text-align: right;\">\n",
       "      <th></th>\n",
       "      <th>날짜</th>\n",
       "      <th>지점</th>\n",
       "      <th>평균기온(℃)</th>\n",
       "      <th>최저기온(℃)</th>\n",
       "      <th>최고기온(℃)</th>\n",
       "    </tr>\n",
       "  </thead>\n",
       "  <tbody>\n",
       "    <tr>\n",
       "      <td>0</td>\n",
       "      <td>1907-10-01</td>\n",
       "      <td>108</td>\n",
       "      <td>13.5</td>\n",
       "      <td>7.9</td>\n",
       "      <td>20.7</td>\n",
       "    </tr>\n",
       "    <tr>\n",
       "      <td>1</td>\n",
       "      <td>1907-10-02</td>\n",
       "      <td>108</td>\n",
       "      <td>16.2</td>\n",
       "      <td>7.9</td>\n",
       "      <td>22.0</td>\n",
       "    </tr>\n",
       "    <tr>\n",
       "      <td>2</td>\n",
       "      <td>1907-10-03</td>\n",
       "      <td>108</td>\n",
       "      <td>16.2</td>\n",
       "      <td>13.1</td>\n",
       "      <td>21.3</td>\n",
       "    </tr>\n",
       "  </tbody>\n",
       "</table>\n",
       "</div>"
      ],
      "text/plain": [
       "           날짜   지점  평균기온(℃)  최저기온(℃)  최고기온(℃)\n",
       "0  1907-10-01  108     13.5      7.9     20.7\n",
       "1  1907-10-02  108     16.2      7.9     22.0\n",
       "2  1907-10-03  108     16.2     13.1     21.3"
      ]
     },
     "execution_count": 137,
     "metadata": {},
     "output_type": "execute_result"
    }
   ],
   "source": [
    "df = pd.read_csv('./csvfiles/seoul.csv', encoding='cp949')\n",
    "df.head(3)"
   ]
  },
  {
   "cell_type": "code",
   "execution_count": 140,
   "metadata": {},
   "outputs": [],
   "source": [
    "# 컬럼명 : 날짜, 지점삭제, 평온, 저온, 고온\n",
    "df.drop('지점', axis=1, inplace=True)"
   ]
  },
  {
   "cell_type": "code",
   "execution_count": 142,
   "metadata": {},
   "outputs": [
    {
     "data": {
      "text/html": [
       "<div>\n",
       "<style scoped>\n",
       "    .dataframe tbody tr th:only-of-type {\n",
       "        vertical-align: middle;\n",
       "    }\n",
       "\n",
       "    .dataframe tbody tr th {\n",
       "        vertical-align: top;\n",
       "    }\n",
       "\n",
       "    .dataframe thead th {\n",
       "        text-align: right;\n",
       "    }\n",
       "</style>\n",
       "<table border=\"1\" class=\"dataframe\">\n",
       "  <thead>\n",
       "    <tr style=\"text-align: right;\">\n",
       "      <th></th>\n",
       "      <th>날짜</th>\n",
       "      <th>평온</th>\n",
       "      <th>저온</th>\n",
       "      <th>고온</th>\n",
       "    </tr>\n",
       "  </thead>\n",
       "  <tbody>\n",
       "    <tr>\n",
       "      <td>0</td>\n",
       "      <td>1907-10-01</td>\n",
       "      <td>13.5</td>\n",
       "      <td>7.9</td>\n",
       "      <td>20.7</td>\n",
       "    </tr>\n",
       "    <tr>\n",
       "      <td>1</td>\n",
       "      <td>1907-10-02</td>\n",
       "      <td>16.2</td>\n",
       "      <td>7.9</td>\n",
       "      <td>22.0</td>\n",
       "    </tr>\n",
       "    <tr>\n",
       "      <td>2</td>\n",
       "      <td>1907-10-03</td>\n",
       "      <td>16.2</td>\n",
       "      <td>13.1</td>\n",
       "      <td>21.3</td>\n",
       "    </tr>\n",
       "    <tr>\n",
       "      <td>3</td>\n",
       "      <td>1907-10-04</td>\n",
       "      <td>16.5</td>\n",
       "      <td>11.2</td>\n",
       "      <td>22.0</td>\n",
       "    </tr>\n",
       "    <tr>\n",
       "      <td>4</td>\n",
       "      <td>1907-10-05</td>\n",
       "      <td>17.6</td>\n",
       "      <td>10.9</td>\n",
       "      <td>25.4</td>\n",
       "    </tr>\n",
       "  </tbody>\n",
       "</table>\n",
       "</div>"
      ],
      "text/plain": [
       "           날짜    평온    저온    고온\n",
       "0  1907-10-01  13.5   7.9  20.7\n",
       "1  1907-10-02  16.2   7.9  22.0\n",
       "2  1907-10-03  16.2  13.1  21.3\n",
       "3  1907-10-04  16.5  11.2  22.0\n",
       "4  1907-10-05  17.6  10.9  25.4"
      ]
     },
     "execution_count": 142,
     "metadata": {},
     "output_type": "execute_result"
    }
   ],
   "source": [
    "df.columns = ['날짜', '평온', '저온', '고온']\n",
    "df.head()"
   ]
  },
  {
   "cell_type": "code",
   "execution_count": 151,
   "metadata": {},
   "outputs": [
    {
     "data": {
      "text/html": [
       "<div>\n",
       "<style scoped>\n",
       "    .dataframe tbody tr th:only-of-type {\n",
       "        vertical-align: middle;\n",
       "    }\n",
       "\n",
       "    .dataframe tbody tr th {\n",
       "        vertical-align: top;\n",
       "    }\n",
       "\n",
       "    .dataframe thead th {\n",
       "        text-align: right;\n",
       "    }\n",
       "</style>\n",
       "<table border=\"1\" class=\"dataframe\">\n",
       "  <thead>\n",
       "    <tr style=\"text-align: right;\">\n",
       "      <th></th>\n",
       "      <th>날짜</th>\n",
       "      <th>고온</th>\n",
       "    </tr>\n",
       "  </thead>\n",
       "  <tbody>\n",
       "    <tr>\n",
       "      <td>31277</td>\n",
       "      <td>1994-07-24</td>\n",
       "      <td>38.4</td>\n",
       "    </tr>\n",
       "  </tbody>\n",
       "</table>\n",
       "</div>"
      ],
      "text/plain": [
       "               날짜    고온\n",
       "31277  1994-07-24  38.4"
      ]
     },
     "execution_count": 151,
     "metadata": {},
     "output_type": "execute_result"
    }
   ],
   "source": [
    "#서울 역대 최고기온인 날\n",
    "df[df['고온']==df['고온'].max()][['날짜','고온']]"
   ]
  },
  {
   "cell_type": "code",
   "execution_count": 165,
   "metadata": {},
   "outputs": [
    {
     "data": {
      "text/plain": [
       "<matplotlib.axes._subplots.AxesSubplot at 0xe550848>"
      ]
     },
     "execution_count": 165,
     "metadata": {},
     "output_type": "execute_result"
    },
    {
     "data": {
      "image/png": "[encoded data removed]",
      "text/plain": [
       "<Figure size 432x288 with 1 Axes>"
      ]
     },
     "metadata": {
      "needs_background": "light"
     },
     "output_type": "display_data"
    }
   ],
   "source": [
    "#8월의 고온 데이터의 Line차트\n",
    "df[df['날짜'].apply(lambda x : x[5:7])=='08']['평온'].plot(kind='hist', bins=50)\n",
    "df[df['날짜'].apply(lambda x : x[5:7])=='02']['평온'].plot(kind='hist', bins=50)"
   ]
  },
  {
   "cell_type": "code",
   "execution_count": 183,
   "metadata": {},
   "outputs": [
    {
     "data": {
      "text/html": [
       "<div>\n",
       "<style scoped>\n",
       "    .dataframe tbody tr th:only-of-type {\n",
       "        vertical-align: middle;\n",
       "    }\n",
       "\n",
       "    .dataframe tbody tr th {\n",
       "        vertical-align: top;\n",
       "    }\n",
       "\n",
       "    .dataframe thead th {\n",
       "        text-align: right;\n",
       "    }\n",
       "</style>\n",
       "<table border=\"1\" class=\"dataframe\">\n",
       "  <thead>\n",
       "    <tr style=\"text-align: right;\">\n",
       "      <th></th>\n",
       "      <th>날짜</th>\n",
       "      <th>평온</th>\n",
       "      <th>저온</th>\n",
       "      <th>고온</th>\n",
       "      <th>연도</th>\n",
       "      <th>일교차</th>\n",
       "      <th>월</th>\n",
       "    </tr>\n",
       "  </thead>\n",
       "  <tbody>\n",
       "    <tr>\n",
       "      <td>0</td>\n",
       "      <td>1907-10-01</td>\n",
       "      <td>13.5</td>\n",
       "      <td>7.9</td>\n",
       "      <td>20.7</td>\n",
       "      <td>1907</td>\n",
       "      <td>12.8</td>\n",
       "      <td>10</td>\n",
       "    </tr>\n",
       "    <tr>\n",
       "      <td>1</td>\n",
       "      <td>1907-10-02</td>\n",
       "      <td>16.2</td>\n",
       "      <td>7.9</td>\n",
       "      <td>22.0</td>\n",
       "      <td>1907</td>\n",
       "      <td>14.1</td>\n",
       "      <td>10</td>\n",
       "    </tr>\n",
       "    <tr>\n",
       "      <td>2</td>\n",
       "      <td>1907-10-03</td>\n",
       "      <td>16.2</td>\n",
       "      <td>13.1</td>\n",
       "      <td>21.3</td>\n",
       "      <td>1907</td>\n",
       "      <td>8.2</td>\n",
       "      <td>10</td>\n",
       "    </tr>\n",
       "    <tr>\n",
       "      <td>3</td>\n",
       "      <td>1907-10-04</td>\n",
       "      <td>16.5</td>\n",
       "      <td>11.2</td>\n",
       "      <td>22.0</td>\n",
       "      <td>1907</td>\n",
       "      <td>10.8</td>\n",
       "      <td>10</td>\n",
       "    </tr>\n",
       "    <tr>\n",
       "      <td>4</td>\n",
       "      <td>1907-10-05</td>\n",
       "      <td>17.6</td>\n",
       "      <td>10.9</td>\n",
       "      <td>25.4</td>\n",
       "      <td>1907</td>\n",
       "      <td>14.5</td>\n",
       "      <td>10</td>\n",
       "    </tr>\n",
       "  </tbody>\n",
       "</table>\n",
       "</div>"
      ],
      "text/plain": [
       "           날짜    평온    저온    고온    연도   일교차   월\n",
       "0  1907-10-01  13.5   7.9  20.7  1907  12.8  10\n",
       "1  1907-10-02  16.2   7.9  22.0  1907  14.1  10\n",
       "2  1907-10-03  16.2  13.1  21.3  1907   8.2  10\n",
       "3  1907-10-04  16.5  11.2  22.0  1907  10.8  10\n",
       "4  1907-10-05  17.6  10.9  25.4  1907  14.5  10"
      ]
     },
     "execution_count": 183,
     "metadata": {},
     "output_type": "execute_result"
    }
   ],
   "source": [
    "# 연평균기온이 상승추세인지 확인\n",
    "df['월'] = df['날짜'].apply(lambda x : x[5:7])\n",
    "df.head()"
   ]
  },
  {
   "cell_type": "code",
   "execution_count": 175,
   "metadata": {},
   "outputs": [
    {
     "data": {
      "text/plain": [
       "<matplotlib.axes._subplots.AxesSubplot at 0xed1b208>"
      ]
     },
     "execution_count": 175,
     "metadata": {},
     "output_type": "execute_result"
    },
    {
     "data": {
      "image/png": "[encoded data removed]",
      "text/plain": [
       "<Figure size 432x288 with 1 Axes>"
      ]
     },
     "metadata": {
      "needs_background": "light"
     },
     "output_type": "display_data"
    }
   ],
   "source": [
    "df.groupby('연도')['평온'].mean().plot()"
   ]
  },
  {
   "cell_type": "code",
   "execution_count": 182,
   "metadata": {},
   "outputs": [],
   "source": [
    "# 일교차가 가장 큰 월은 언제인가?\n",
    "df['일교차']=df['고온'] - df['저온']"
   ]
  },
  {
   "cell_type": "code",
   "execution_count": 184,
   "metadata": {
    "scrolled": true
   },
   "outputs": [
    {
     "data": {
      "text/plain": [
       "월\n",
       "10    10.923733\n",
       "05    10.868827\n",
       "04    10.837664\n",
       "06     9.760561\n",
       "03     9.566308\n",
       "Name: 일교차, dtype: float64"
      ]
     },
     "execution_count": 184,
     "metadata": {},
     "output_type": "execute_result"
    }
   ],
   "source": [
    "df.groupby('월')['일교차'].mean().sort_values(ascending=False).head(5)"
   ]
  },
  {
   "cell_type": "code",
   "execution_count": 12,
   "metadata": {},
   "outputs": [
    {
     "data": {
      "text/html": [
       "<div>\n",
       "<style scoped>\n",
       "    .dataframe tbody tr th:only-of-type {\n",
       "        vertical-align: middle;\n",
       "    }\n",
       "\n",
       "    .dataframe tbody tr th {\n",
       "        vertical-align: top;\n",
       "    }\n",
       "\n",
       "    .dataframe thead th {\n",
       "        text-align: right;\n",
       "    }\n",
       "</style>\n",
       "<table border=\"1\" class=\"dataframe\">\n",
       "  <thead>\n",
       "    <tr style=\"text-align: right;\">\n",
       "      <th></th>\n",
       "      <th>사용월</th>\n",
       "      <th>호선명</th>\n",
       "      <th>역ID</th>\n",
       "      <th>지하철역</th>\n",
       "      <th>04:00:00~04:59:59</th>\n",
       "      <th>Unnamed: 5</th>\n",
       "      <th>05:00:00~05:59:59</th>\n",
       "      <th>Unnamed: 7</th>\n",
       "      <th>06:00:00~06:59:59</th>\n",
       "      <th>Unnamed: 9</th>\n",
       "      <th>...</th>\n",
       "      <th>23:00:00~23:59:59</th>\n",
       "      <th>Unnamed: 43</th>\n",
       "      <th>00:00:00~00:59:59</th>\n",
       "      <th>Unnamed: 45</th>\n",
       "      <th>01:00:00~01:59:59</th>\n",
       "      <th>Unnamed: 47</th>\n",
       "      <th>02:00:00~02:59:59</th>\n",
       "      <th>Unnamed: 49</th>\n",
       "      <th>03:00:00~03:59:59</th>\n",
       "      <th>Unnamed: 51</th>\n",
       "    </tr>\n",
       "  </thead>\n",
       "  <tbody>\n",
       "    <tr>\n",
       "      <td>0</td>\n",
       "      <td>NaN</td>\n",
       "      <td>NaN</td>\n",
       "      <td>NaN</td>\n",
       "      <td>NaN</td>\n",
       "      <td>승차</td>\n",
       "      <td>하차</td>\n",
       "      <td>승차</td>\n",
       "      <td>하차</td>\n",
       "      <td>승차</td>\n",
       "      <td>하차</td>\n",
       "      <td>...</td>\n",
       "      <td>승차</td>\n",
       "      <td>하차</td>\n",
       "      <td>승차</td>\n",
       "      <td>하차</td>\n",
       "      <td>승차</td>\n",
       "      <td>하차</td>\n",
       "      <td>승차</td>\n",
       "      <td>하차</td>\n",
       "      <td>승차</td>\n",
       "      <td>하차</td>\n",
       "    </tr>\n",
       "    <tr>\n",
       "      <td>1</td>\n",
       "      <td>2019-01</td>\n",
       "      <td>1호선</td>\n",
       "      <td>150.0</td>\n",
       "      <td>서울역</td>\n",
       "      <td>927</td>\n",
       "      <td>22</td>\n",
       "      <td>10682</td>\n",
       "      <td>8774</td>\n",
       "      <td>13504</td>\n",
       "      <td>45545</td>\n",
       "      <td>...</td>\n",
       "      <td>33149</td>\n",
       "      <td>19442</td>\n",
       "      <td>3612</td>\n",
       "      <td>7167</td>\n",
       "      <td>0</td>\n",
       "      <td>410</td>\n",
       "      <td>0</td>\n",
       "      <td>0</td>\n",
       "      <td>0</td>\n",
       "      <td>0</td>\n",
       "    </tr>\n",
       "    <tr>\n",
       "      <td>2</td>\n",
       "      <td>2019-01</td>\n",
       "      <td>1호선</td>\n",
       "      <td>151.0</td>\n",
       "      <td>시청</td>\n",
       "      <td>74</td>\n",
       "      <td>0</td>\n",
       "      <td>2409</td>\n",
       "      <td>4049</td>\n",
       "      <td>3532</td>\n",
       "      <td>19241</td>\n",
       "      <td>...</td>\n",
       "      <td>14478</td>\n",
       "      <td>4079</td>\n",
       "      <td>981</td>\n",
       "      <td>1256</td>\n",
       "      <td>3</td>\n",
       "      <td>29</td>\n",
       "      <td>0</td>\n",
       "      <td>0</td>\n",
       "      <td>0</td>\n",
       "      <td>0</td>\n",
       "    </tr>\n",
       "    <tr>\n",
       "      <td>3</td>\n",
       "      <td>2019-01</td>\n",
       "      <td>1호선</td>\n",
       "      <td>152.0</td>\n",
       "      <td>종각</td>\n",
       "      <td>100</td>\n",
       "      <td>8</td>\n",
       "      <td>4409</td>\n",
       "      <td>5105</td>\n",
       "      <td>4593</td>\n",
       "      <td>26969</td>\n",
       "      <td>...</td>\n",
       "      <td>54264</td>\n",
       "      <td>5560</td>\n",
       "      <td>4886</td>\n",
       "      <td>1722</td>\n",
       "      <td>0</td>\n",
       "      <td>0</td>\n",
       "      <td>0</td>\n",
       "      <td>0</td>\n",
       "      <td>0</td>\n",
       "      <td>0</td>\n",
       "    </tr>\n",
       "    <tr>\n",
       "      <td>4</td>\n",
       "      <td>2019-01</td>\n",
       "      <td>1호선</td>\n",
       "      <td>153.0</td>\n",
       "      <td>종로3가</td>\n",
       "      <td>122</td>\n",
       "      <td>4</td>\n",
       "      <td>5061</td>\n",
       "      <td>2520</td>\n",
       "      <td>3876</td>\n",
       "      <td>12832</td>\n",
       "      <td>...</td>\n",
       "      <td>25970</td>\n",
       "      <td>5503</td>\n",
       "      <td>3214</td>\n",
       "      <td>2471</td>\n",
       "      <td>0</td>\n",
       "      <td>52</td>\n",
       "      <td>0</td>\n",
       "      <td>0</td>\n",
       "      <td>0</td>\n",
       "      <td>0</td>\n",
       "    </tr>\n",
       "  </tbody>\n",
       "</table>\n",
       "<p>5 rows × 52 columns</p>\n",
       "</div>"
      ],
      "text/plain": [
       "       사용월  호선명    역ID  지하철역 04:00:00~04:59:59 Unnamed: 5 05:00:00~05:59:59  \\\n",
       "0      NaN  NaN    NaN   NaN                승차         하차                승차   \n",
       "1  2019-01  1호선  150.0   서울역               927         22             10682   \n",
       "2  2019-01  1호선  151.0    시청                74          0              2409   \n",
       "3  2019-01  1호선  152.0    종각               100          8              4409   \n",
       "4  2019-01  1호선  153.0  종로3가               122          4              5061   \n",
       "\n",
       "  Unnamed: 7 06:00:00~06:59:59 Unnamed: 9  ... 23:00:00~23:59:59 Unnamed: 43  \\\n",
       "0         하차                승차         하차  ...                승차          하차   \n",
       "1       8774             13504      45545  ...             33149       19442   \n",
       "2       4049              3532      19241  ...             14478        4079   \n",
       "3       5105              4593      26969  ...             54264        5560   \n",
       "4       2520              3876      12832  ...             25970        5503   \n",
       "\n",
       "  00:00:00~00:59:59 Unnamed: 45 01:00:00~01:59:59 Unnamed: 47  \\\n",
       "0                승차          하차                승차          하차   \n",
       "1              3612        7167                 0         410   \n",
       "2               981        1256                 3          29   \n",
       "3              4886        1722                 0           0   \n",
       "4              3214        2471                 0          52   \n",
       "\n",
       "  02:00:00~02:59:59 Unnamed: 49 03:00:00~03:59:59 Unnamed: 51  \n",
       "0                승차          하차                승차          하차  \n",
       "1                 0           0                 0           0  \n",
       "2                 0           0                 0           0  \n",
       "3                 0           0                 0           0  \n",
       "4                 0           0                 0           0  \n",
       "\n",
       "[5 rows x 52 columns]"
      ]
     },
     "execution_count": 12,
     "metadata": {},
     "output_type": "execute_result"
    }
   ],
   "source": [
    "df = pd.read_csv('./csvfiles/subwaytime.csv', encoding='euckr')\n",
    "df.head()"
   ]
  },
  {
   "cell_type": "code",
   "execution_count": 13,
   "metadata": {},
   "outputs": [],
   "source": [
    "df.drop(['사용월','역ID'], axis=1, inplace=True)"
   ]
  },
  {
   "cell_type": "code",
   "execution_count": 14,
   "metadata": {},
   "outputs": [],
   "source": [
    "temp = []\n",
    "for i in range(24):\n",
    "    for j in ['승','하']:\n",
    "        col = str(i) + j\n",
    "        temp.append(col)"
   ]
  },
  {
   "cell_type": "code",
   "execution_count": 15,
   "metadata": {},
   "outputs": [],
   "source": [
    "temp.extend(temp[:8])\n",
    "del temp[:8]"
   ]
  },
  {
   "cell_type": "code",
   "execution_count": 16,
   "metadata": {},
   "outputs": [
    {
     "data": {
      "text/plain": [
       "['호선명',\n",
       " '지하철역',\n",
       " '4승',\n",
       " '4하',\n",
       " '5승',\n",
       " '5하',\n",
       " '6승',\n",
       " '6하',\n",
       " '7승',\n",
       " '7하',\n",
       " '8승',\n",
       " '8하',\n",
       " '9승',\n",
       " '9하',\n",
       " '10승',\n",
       " '10하',\n",
       " '11승',\n",
       " '11하',\n",
       " '12승',\n",
       " '12하',\n",
       " '13승',\n",
       " '13하',\n",
       " '14승',\n",
       " '14하',\n",
       " '15승',\n",
       " '15하',\n",
       " '16승',\n",
       " '16하',\n",
       " '17승',\n",
       " '17하',\n",
       " '18승',\n",
       " '18하',\n",
       " '19승',\n",
       " '19하',\n",
       " '20승',\n",
       " '20하',\n",
       " '21승',\n",
       " '21하',\n",
       " '22승',\n",
       " '22하',\n",
       " '23승',\n",
       " '23하',\n",
       " '0승',\n",
       " '0하',\n",
       " '1승',\n",
       " '1하',\n",
       " '2승',\n",
       " '2하',\n",
       " '3승',\n",
       " '3하']"
      ]
     },
     "execution_count": 16,
     "metadata": {},
     "output_type": "execute_result"
    }
   ],
   "source": [
    "col1 = list(df.columns[:2])\n",
    "col1.extend(temp)\n",
    "col1"
   ]
  },
  {
   "cell_type": "code",
   "execution_count": 17,
   "metadata": {},
   "outputs": [
    {
     "name": "stdout",
     "output_type": "stream",
     "text": [
      "<class 'pandas.core.frame.DataFrame'>\n",
      "Int64Index: 598 entries, 1 to 598\n",
      "Data columns (total 50 columns):\n",
      "호선명     598 non-null object\n",
      "지하철역    598 non-null object\n",
      "4승      598 non-null object\n",
      "4하      598 non-null object\n",
      "5승      598 non-null object\n",
      "5하      598 non-null object\n",
      "6승      598 non-null object\n",
      "6하      598 non-null object\n",
      "7승      598 non-null object\n",
      "7하      598 non-null object\n",
      "8승      598 non-null object\n",
      "8하      598 non-null object\n",
      "9승      598 non-null object\n",
      "9하      598 non-null object\n",
      "10승     598 non-null object\n",
      "10하     598 non-null object\n",
      "11승     598 non-null object\n",
      "11하     598 non-null object\n",
      "12승     598 non-null object\n",
      "12하     598 non-null object\n",
      "13승     598 non-null object\n",
      "13하     598 non-null object\n",
      "14승     598 non-null object\n",
      "14하     598 non-null object\n",
      "15승     598 non-null object\n",
      "15하     598 non-null object\n",
      "16승     598 non-null object\n",
      "16하     598 non-null object\n",
      "17승     598 non-null object\n",
      "17하     598 non-null object\n",
      "18승     598 non-null object\n",
      "18하     598 non-null object\n",
      "19승     598 non-null object\n",
      "19하     598 non-null object\n",
      "20승     598 non-null object\n",
      "20하     598 non-null object\n",
      "21승     598 non-null object\n",
      "21하     598 non-null object\n",
      "22승     598 non-null object\n",
      "22하     598 non-null object\n",
      "23승     598 non-null object\n",
      "23하     598 non-null object\n",
      "0승      598 non-null object\n",
      "0하      598 non-null object\n",
      "1승      598 non-null object\n",
      "1하      598 non-null object\n",
      "2승      598 non-null object\n",
      "2하      598 non-null object\n",
      "3승      598 non-null object\n",
      "3하      598 non-null object\n",
      "dtypes: object(50)\n",
      "memory usage: 238.3+ KB\n"
     ]
    }
   ],
   "source": [
    "df.columns = col1\n",
    "df.drop(0, inplace=True)\n",
    "df.info()"
   ]
  },
  {
   "cell_type": "markdown",
   "metadata": {},
   "source": [
    "# 모든데이터 int로 바꾸기"
   ]
  },
  {
   "cell_type": "code",
   "execution_count": 18,
   "metadata": {},
   "outputs": [],
   "source": [
    "for i in range(24):\n",
    "    df['{}승'.format(i)] = pd.to_numeric(df['{}승'.format(i)])\n",
    "    df['{}하'.format(i)] = pd.to_numeric(df['{}하'.format(i)])"
   ]
  },
  {
   "cell_type": "code",
   "execution_count": 19,
   "metadata": {},
   "outputs": [],
   "source": [
    "for i in df.columns[2:]:\n",
    "    df[i] = pd.to_numeric(df[i])"
   ]
  },
  {
   "cell_type": "code",
   "execution_count": 20,
   "metadata": {},
   "outputs": [
    {
     "data": {
      "text/plain": [
       "<matplotlib.axes._subplots.AxesSubplot at 0x8e20288>"
      ]
     },
     "execution_count": 20,
     "metadata": {},
     "output_type": "execute_result"
    },
    {
     "data": {
      "image/png": "[encoded data removed]",
      "text/plain": [
       "<Figure size 432x288 with 1 Axes>"
      ]
     },
     "metadata": {
      "needs_background": "light"
     },
     "output_type": "display_data"
    }
   ],
   "source": [
    "# 신도림역의 시간대별 승차인원 값을 추출.. 차트\n",
    "df[(df['지하철역']=='신도림') & (df['호선명']=='2호선')].sum()[2::2].plot()"
   ]
  },
  {
   "cell_type": "code",
   "execution_count": 21,
   "metadata": {},
   "outputs": [
    {
     "data": {
      "text/html": [
       "<div>\n",
       "<style scoped>\n",
       "    .dataframe tbody tr th:only-of-type {\n",
       "        vertical-align: middle;\n",
       "    }\n",
       "\n",
       "    .dataframe tbody tr th {\n",
       "        vertical-align: top;\n",
       "    }\n",
       "\n",
       "    .dataframe thead th {\n",
       "        text-align: right;\n",
       "    }\n",
       "</style>\n",
       "<table border=\"1\" class=\"dataframe\">\n",
       "  <thead>\n",
       "    <tr style=\"text-align: right;\">\n",
       "      <th></th>\n",
       "      <th>호선명</th>\n",
       "      <th>지하철역</th>\n",
       "      <th>4승</th>\n",
       "      <th>4하</th>\n",
       "      <th>5승</th>\n",
       "      <th>5하</th>\n",
       "      <th>6승</th>\n",
       "      <th>6하</th>\n",
       "      <th>7승</th>\n",
       "      <th>7하</th>\n",
       "      <th>...</th>\n",
       "      <th>23승</th>\n",
       "      <th>23하</th>\n",
       "      <th>0승</th>\n",
       "      <th>0하</th>\n",
       "      <th>1승</th>\n",
       "      <th>1하</th>\n",
       "      <th>2승</th>\n",
       "      <th>2하</th>\n",
       "      <th>3승</th>\n",
       "      <th>3하</th>\n",
       "    </tr>\n",
       "  </thead>\n",
       "  <tbody>\n",
       "    <tr>\n",
       "      <td>32</td>\n",
       "      <td>2호선</td>\n",
       "      <td>강남</td>\n",
       "      <td>330</td>\n",
       "      <td>8</td>\n",
       "      <td>17230</td>\n",
       "      <td>12987</td>\n",
       "      <td>26867</td>\n",
       "      <td>58425</td>\n",
       "      <td>48487</td>\n",
       "      <td>184588</td>\n",
       "      <td>...</td>\n",
       "      <td>145504</td>\n",
       "      <td>39894</td>\n",
       "      <td>27203</td>\n",
       "      <td>12993</td>\n",
       "      <td>36</td>\n",
       "      <td>348</td>\n",
       "      <td>0</td>\n",
       "      <td>0</td>\n",
       "      <td>0</td>\n",
       "      <td>0</td>\n",
       "    </tr>\n",
       "  </tbody>\n",
       "</table>\n",
       "<p>1 rows × 50 columns</p>\n",
       "</div>"
      ],
      "text/plain": [
       "    호선명 지하철역   4승  4하     5승     5하     6승     6하     7승      7하  ...     23승  \\\n",
       "32  2호선   강남  330   8  17230  12987  26867  58425  48487  184588  ...  145504   \n",
       "\n",
       "      23하     0승     0하  1승   1하  2승  2하  3승  3하  \n",
       "32  39894  27203  12993  36  348   0   0   0   0  \n",
       "\n",
       "[1 rows x 50 columns]"
      ]
     },
     "execution_count": 21,
     "metadata": {},
     "output_type": "execute_result"
    }
   ],
   "source": [
    "#전체 이용객이 최다인 역?\n",
    "df[df.sum(axis=1)==df.sum(axis=1).max()]"
   ]
  },
  {
   "cell_type": "code",
   "execution_count": 22,
   "metadata": {},
   "outputs": [
    {
     "name": "stdout",
     "output_type": "stream",
     "text": [
      "8\n"
     ]
    },
    {
     "data": {
      "text/html": [
       "<div>\n",
       "<style scoped>\n",
       "    .dataframe tbody tr th:only-of-type {\n",
       "        vertical-align: middle;\n",
       "    }\n",
       "\n",
       "    .dataframe tbody tr th {\n",
       "        vertical-align: top;\n",
       "    }\n",
       "\n",
       "    .dataframe thead th {\n",
       "        text-align: right;\n",
       "    }\n",
       "</style>\n",
       "<table border=\"1\" class=\"dataframe\">\n",
       "  <thead>\n",
       "    <tr style=\"text-align: right;\">\n",
       "      <th></th>\n",
       "      <th>호선명</th>\n",
       "      <th>지하철역</th>\n",
       "      <th>4승</th>\n",
       "      <th>4하</th>\n",
       "      <th>5승</th>\n",
       "      <th>5하</th>\n",
       "      <th>6승</th>\n",
       "      <th>6하</th>\n",
       "      <th>7승</th>\n",
       "      <th>7하</th>\n",
       "      <th>...</th>\n",
       "      <th>23승</th>\n",
       "      <th>23하</th>\n",
       "      <th>0승</th>\n",
       "      <th>0하</th>\n",
       "      <th>1승</th>\n",
       "      <th>1하</th>\n",
       "      <th>2승</th>\n",
       "      <th>2하</th>\n",
       "      <th>3승</th>\n",
       "      <th>3하</th>\n",
       "    </tr>\n",
       "  </thead>\n",
       "  <tbody>\n",
       "    <tr>\n",
       "      <td>42</td>\n",
       "      <td>2호선</td>\n",
       "      <td>구로디지털단지</td>\n",
       "      <td>148</td>\n",
       "      <td>8</td>\n",
       "      <td>40439</td>\n",
       "      <td>6037</td>\n",
       "      <td>55031</td>\n",
       "      <td>22520</td>\n",
       "      <td>154641</td>\n",
       "      <td>73916</td>\n",
       "      <td>...</td>\n",
       "      <td>31316</td>\n",
       "      <td>67337</td>\n",
       "      <td>4773</td>\n",
       "      <td>19678</td>\n",
       "      <td>9</td>\n",
       "      <td>351</td>\n",
       "      <td>0</td>\n",
       "      <td>0</td>\n",
       "      <td>0</td>\n",
       "      <td>0</td>\n",
       "    </tr>\n",
       "  </tbody>\n",
       "</table>\n",
       "<p>1 rows × 50 columns</p>\n",
       "</div>"
      ],
      "text/plain": [
       "    호선명     지하철역   4승  4하     5승    5하     6승     6하      7승     7하  ...  \\\n",
       "42  2호선  구로디지털단지  148   8  40439  6037  55031  22520  154641  73916  ...   \n",
       "\n",
       "      23승    23하    0승     0하  1승   1하  2승  2하  3승  3하  \n",
       "42  31316  67337  4773  19678   9  351   0   0   0   0  \n",
       "\n",
       "[1 rows x 50 columns]"
      ]
     },
     "execution_count": 22,
     "metadata": {},
     "output_type": "execute_result"
    }
   ],
   "source": [
    "# 특정 시간에 이용객이 가장 많은 역을 찾는 함수\n",
    "def station():\n",
    "    time = input()\n",
    "    rs = df[(df['{}승'.format(time)]+df['{}하'.format(time)])==(df['{}승'.format(time)]+df['{}하'.format(time)]).max()]\n",
    "    return rs\n",
    "station()"
   ]
  },
  {
   "cell_type": "code",
   "execution_count": 23,
   "metadata": {},
   "outputs": [
    {
     "data": {
      "text/plain": [
       "[40    신림\n",
       " Name: 지하철역, dtype: object, 32    강남\n",
       " Name: 지하철역, dtype: object]"
      ]
     },
     "execution_count": 23,
     "metadata": {},
     "output_type": "execute_result"
    }
   ],
   "source": [
    "def max_station(t):\n",
    "    tp1 = str(t)+'승'\n",
    "    tp2 = str(t)+'하'\n",
    "    return [df[df[tp1]==df[tp1].max()]['지하철역'], df[df[tp2]==df[tp2].max()]['지하철역']]\n",
    "max_station(9)"
   ]
  },
  {
   "cell_type": "code",
   "execution_count": null,
   "metadata": {},
   "outputs": [],
   "source": []
  }
 ],
 "metadata": {
  "kernelspec": {
   "display_name": "Python 3",
   "language": "python",
   "name": "python3"
  },
  "language_info": {
   "codemirror_mode": {
    "name": "ipython",
    "version": 3
   },
   "file_extension": ".py",
   "mimetype": "text/x-python",
   "name": "python",
   "nbconvert_exporter": "python",
   "pygments_lexer": "ipython3",
   "version": "3.7.4"
  }
 },
 "nbformat": 4,
 "nbformat_minor": 2
}
