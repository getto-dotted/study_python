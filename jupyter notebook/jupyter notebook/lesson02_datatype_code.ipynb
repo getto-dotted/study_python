{
 "cells": [
  {
   "cell_type": "markdown",
   "metadata": {},
   "source": [
    "1. int - 정수\n",
    "2. float - 실수\n",
    "3. bool - True, False\n",
    "---------------------------------\n",
    "#### 군집형 데이터 타입\n",
    "4. String - '', 원소의 수정 삭제 추가가 불가능 immutable\n",
    "5. List - [], 원소의 수정 삭제 추가가 자유로움 mutable\n",
    "6. Tuple - (), 원소의 수정 삭제 추가가 불가능 immutable\n",
    "7. Set - {}, 중복데이터 제외, 인덱스가 없음\n",
    "8. DIct - {key:value}, 키값이 인덱스 역할을 한다."
   ]
  },
  {
   "cell_type": "markdown",
   "metadata": {},
   "source": [
    "String"
   ]
  },
  {
   "cell_type": "code",
   "execution_count": 1,
   "metadata": {},
   "outputs": [],
   "source": [
    "text = '이 또한 지나가리라'"
   ]
  },
  {
   "cell_type": "code",
   "execution_count": 2,
   "metadata": {},
   "outputs": [
    {
     "data": {
      "text/plain": [
       "'또한'"
      ]
     },
     "execution_count": 2,
     "metadata": {},
     "output_type": "execute_result"
    }
   ],
   "source": [
    "# '또한' 이라는 어절을 추출\n",
    "text[2:4]"
   ]
  },
  {
   "cell_type": "code",
   "execution_count": 3,
   "metadata": {},
   "outputs": [
    {
     "data": {
      "text/plain": [
       "'가리라'"
      ]
     },
     "execution_count": 3,
     "metadata": {},
     "output_type": "execute_result"
    }
   ],
   "source": [
    "#'가리라'\n",
    "text[-3:]"
   ]
  },
  {
   "cell_type": "code",
   "execution_count": 5,
   "metadata": {},
   "outputs": [
    {
     "data": {
      "text/plain": [
       "'안녕하세요. 강덕희님!!'"
      ]
     },
     "execution_count": 5,
     "metadata": {},
     "output_type": "execute_result"
    }
   ],
   "source": [
    "# 이름을 입력받은 후, => '안녕하세요. 이름님!!'\n",
    "name = '안녕하세요. {}님!!'\n",
    "name.format('강덕희')"
   ]
  },
  {
   "cell_type": "code",
   "execution_count": 7,
   "metadata": {},
   "outputs": [
    {
     "name": "stdout",
     "output_type": "stream",
     "text": [
      "정수를 입력하세요111\n",
      "당신이 입력한 정수는  111 입니다.\n"
     ]
    }
   ],
   "source": [
    "# 이름을 입력받은 후, => '안녕하세요. 이름님!!'\n",
    "num = input('정수를 입력하세요')\n",
    "print('당신이 입력한 정수는 ', num, '입니다.')"
   ]
  },
  {
   "cell_type": "code",
   "execution_count": 11,
   "metadata": {},
   "outputs": [
    {
     "name": "stdout",
     "output_type": "stream",
     "text": [
      "이름을 입력하세요강덕희\n",
      "안녕하세요. 강덕희님!!\n"
     ]
    }
   ],
   "source": [
    "# 이름을 입력받은 후, => '안녕하세요. 이름님!!'\n",
    "nameValue = input('이름을 입력하세요')\n",
    "print(name.format(nameValue))"
   ]
  },
  {
   "cell_type": "code",
   "execution_count": 12,
   "metadata": {},
   "outputs": [
    {
     "name": "stdout",
     "output_type": "stream",
     "text": [
      "이름을 입력하세요ㄴㅁㅇㄹ\n",
      "안녕하세요 ㄴㅁㅇㄹ님!!!@#\n"
     ]
    }
   ],
   "source": [
    "# 이름을 입력받은 후, => '안녕하세요. 이름님!!'\n",
    "nameValue = input('이름을 입력하세요')\n",
    "print('안녕하세요 {}님!!!@#'.format(nameValue))"
   ]
  },
  {
   "cell_type": "code",
   "execution_count": 14,
   "metadata": {},
   "outputs": [
    {
     "name": "stdout",
     "output_type": "stream",
     "text": [
      "문장을 입력하세요adsfasdfasdfasdfa\n",
      "17\n"
     ]
    }
   ],
   "source": [
    "#문장을 입력받은 후 문장의 길이를 출력하세요.\n",
    "str1 = input('문장을 입력하세요')\n",
    "print(len(str1))"
   ]
  },
  {
   "cell_type": "code",
   "execution_count": 15,
   "metadata": {},
   "outputs": [
    {
     "name": "stdout",
     "output_type": "stream",
     "text": [
      "이메일을 입력하세요asdfa@adsf.com\n",
      "asdfa\n"
     ]
    }
   ],
   "source": [
    "#이메일을 입력받은 후 아이디를 출력하세요\n",
    "email1 = input('이메일을 입력하세요')\n",
    "print(email1.split('@')[0])"
   ]
  },
  {
   "cell_type": "code",
   "execution_count": 17,
   "metadata": {},
   "outputs": [
    {
     "data": {
      "text/plain": [
       "3"
      ]
     },
     "execution_count": 17,
     "metadata": {},
     "output_type": "execute_result"
    }
   ],
   "source": [
    "text = 'A lot of things occur each day, every night'\n",
    "\n",
    "# 'o'의 갯수를 출력하세요\n",
    "# 첫번째 'o'의 인덱스를 출력하세요\n",
    "# text에 'o'이 있는지 확인하세요\n",
    "\n",
    "text.count('o')"
   ]
  },
  {
   "cell_type": "code",
   "execution_count": 20,
   "metadata": {},
   "outputs": [
    {
     "data": {
      "text/plain": [
       "3"
      ]
     },
     "execution_count": 20,
     "metadata": {},
     "output_type": "execute_result"
    }
   ],
   "source": [
    "text.index('o'[0])"
   ]
  },
  {
   "cell_type": "code",
   "execution_count": 21,
   "metadata": {},
   "outputs": [
    {
     "data": {
      "text/plain": [
       "3"
      ]
     },
     "execution_count": 21,
     "metadata": {},
     "output_type": "execute_result"
    }
   ],
   "source": [
    "text.find('o')"
   ]
  },
  {
   "cell_type": "code",
   "execution_count": 19,
   "metadata": {},
   "outputs": [
    {
     "data": {
      "text/plain": [
       "True"
      ]
     },
     "execution_count": 19,
     "metadata": {},
     "output_type": "execute_result"
    }
   ],
   "source": [
    "'o' in text"
   ]
  },
  {
   "cell_type": "markdown",
   "metadata": {},
   "source": [
    "List"
   ]
  },
  {
   "cell_type": "code",
   "execution_count": 46,
   "metadata": {},
   "outputs": [
    {
     "data": {
      "text/plain": [
       "[1, 2, 'a', 'b', 'c', [4, 5, 6], '가', '나']"
      ]
     },
     "execution_count": 46,
     "metadata": {},
     "output_type": "execute_result"
    }
   ],
   "source": [
    "ls = [1,2,'a', 'b', 'c', [4,5,6], '가', '나']\n",
    "ls"
   ]
  },
  {
   "cell_type": "code",
   "execution_count": 30,
   "metadata": {},
   "outputs": [
    {
     "name": "stdout",
     "output_type": "stream",
     "text": [
      "2\n",
      "b\n",
      "5\n",
      "[5, 6]\n",
      "['가', '나']\n",
      "[2, 'b', [4, 5, 6], '나']\n"
     ]
    }
   ],
   "source": [
    "# 2를 출력\n",
    "#'b'를 출력\n",
    "# 5를 출력\n",
    "# 5,6을 출력\n",
    "# 맨 마지막 두 원소 출력\n",
    "# 홀수 자리원소 출력\n",
    "\n",
    "\n",
    "print(ls[1])\n",
    "print(ls[3])\n",
    "print(ls[-3][1])\n",
    "print(ls[-3][1:])\n",
    "print(ls[-2:])\n",
    "print(ls[1::2])"
   ]
  },
  {
   "cell_type": "code",
   "execution_count": 47,
   "metadata": {},
   "outputs": [
    {
     "name": "stdout",
     "output_type": "stream",
     "text": [
      "8\n",
      "10\n",
      "[1, 10, 'a', 'c', [4, 5, 6], '가', '나']\n",
      "[1, 10, 'a', 'c', [4, 5, 6], '가', '나', '라']\n",
      "[1, 100, 10, 'a', 'c', [4, 5, 6], '가', '나', '라']\n",
      "[1, 10, 'a', 'c', [4, 5, 6], '가', '나', '라']\n"
     ]
    }
   ],
   "source": [
    "#ls의 길이를 출력\n",
    "#ls의 1번 인덱스 값을 10으로 수정\n",
    "#ls의 3번 인덱스 삭제\n",
    "#'라'를 마지막에 추가\n",
    "#1번 인덱스에 100을 삽입\n",
    "#값 100을 삭제\n",
    "\n",
    "\n",
    "print(len(ls))\n",
    "ls[1]=10\n",
    "print(ls[1])\n",
    "ls.pop(3)\n",
    "print(ls)\n",
    "ls.append('라')\n",
    "print(ls)\n",
    "ls.insert(1,100)\n",
    "print(ls)\n",
    "ls.remove(100)\n",
    "print(ls)"
   ]
  },
  {
   "cell_type": "code",
   "execution_count": 48,
   "metadata": {},
   "outputs": [
    {
     "data": {
      "text/plain": [
       "[1, 10, 'a', 'c', [4, 5, 6], '가', '나', '라']"
      ]
     },
     "execution_count": 48,
     "metadata": {},
     "output_type": "execute_result"
    }
   ],
   "source": [
    "ls"
   ]
  },
  {
   "cell_type": "code",
   "execution_count": 49,
   "metadata": {},
   "outputs": [],
   "source": [
    "### list 종합문제"
   ]
  },
  {
   "cell_type": "code",
   "execution_count": 101,
   "metadata": {},
   "outputs": [],
   "source": [
    "sol = ['태양', '수성', '금성', '지구', '화성', '목성', '지구']\n",
    "sol1 = ['토성', '천왕성', '해왕성']"
   ]
  },
  {
   "cell_type": "code",
   "execution_count": 102,
   "metadata": {},
   "outputs": [
    {
     "name": "stdout",
     "output_type": "stream",
     "text": [
      "['수성', '금성', '지구']\n"
     ]
    }
   ],
   "source": [
    "#1.sol에서 '수성', '금성', '지구'를 출력하세요\n",
    "#2.sol에서 '지구' 인덱스를 출력하세요\n",
    "#3.sol에서 '화성을 '해왕성'으로 수정하세요\n",
    "#4.sol에서 '수성' 자리에 '명왕성' 을 삽입하세요\n",
    "#5.sol에서 맨 끝에 '토성'을 추가하세요.\n",
    "#6.sol에서 3번 인덱스를 삭제하세요.\n",
    "#7.sol에서 '금성'을 삭제하세요\n",
    "#8.sol에서 오름차순 정렬하세요.\n",
    "#9.sol에서 '만리장성'이 있는지 확안하세요.\n",
    "#10.sol의 길이를 리턴하세요\n",
    "#11.sol과 sol1을 연결하세요.\n",
    "#12.sol뒤에 sol1을 붙이세요.\n",
    "#13.sol의 모든 요소를 삭제하세요.\n",
    "#14.sol 리스트를 삭제하세요.\n",
    "print(sol[1:4])"
   ]
  },
  {
   "cell_type": "code",
   "execution_count": 103,
   "metadata": {},
   "outputs": [
    {
     "name": "stdout",
     "output_type": "stream",
     "text": [
      "3\n"
     ]
    }
   ],
   "source": [
    "print(sol.index('지구'))"
   ]
  },
  {
   "cell_type": "code",
   "execution_count": 104,
   "metadata": {},
   "outputs": [
    {
     "name": "stdout",
     "output_type": "stream",
     "text": [
      "해왕성\n"
     ]
    }
   ],
   "source": [
    "sol[sol.index('화성')]='해왕성'\n",
    "sol[-3]='해왕성'\n",
    "print(sol[-3])"
   ]
  },
  {
   "cell_type": "code",
   "execution_count": 105,
   "metadata": {},
   "outputs": [
    {
     "name": "stdout",
     "output_type": "stream",
     "text": [
      "['태양', '명왕성', '수성', '금성', '지구', '해왕성', '목성', '지구']\n"
     ]
    }
   ],
   "source": [
    "sol.insert(sol.index('수성'),'명왕성')\n",
    "sol.insert(1,'명왕성')\n",
    "print(sol)"
   ]
  },
  {
   "cell_type": "code",
   "execution_count": 106,
   "metadata": {},
   "outputs": [
    {
     "name": "stdout",
     "output_type": "stream",
     "text": [
      "['태양', '명왕성', '수성', '금성', '지구', '해왕성', '목성', '지구', '토성']\n"
     ]
    }
   ],
   "source": [
    "sol.append('토성')\n",
    "print(sol)"
   ]
  },
  {
   "cell_type": "code",
   "execution_count": 107,
   "metadata": {},
   "outputs": [
    {
     "name": "stdout",
     "output_type": "stream",
     "text": [
      "['태양', '명왕성', '금성', '지구', '해왕성', '목성', '지구', '토성']\n"
     ]
    }
   ],
   "source": [
    "sol.pop(2)\n",
    "print(sol)"
   ]
  },
  {
   "cell_type": "code",
   "execution_count": 108,
   "metadata": {},
   "outputs": [
    {
     "name": "stdout",
     "output_type": "stream",
     "text": [
      "['태양', '명왕성', '지구', '해왕성', '목성', '지구', '토성']\n"
     ]
    }
   ],
   "source": [
    "sol.remove('금성')\n",
    "print(sol)"
   ]
  },
  {
   "cell_type": "code",
   "execution_count": 109,
   "metadata": {},
   "outputs": [
    {
     "name": "stdout",
     "output_type": "stream",
     "text": [
      "['명왕성', '목성', '지구', '지구', '태양', '토성', '해왕성']\n"
     ]
    }
   ],
   "source": [
    "#sorted(sol)\n",
    "sol.sort()\n",
    "print(sol)"
   ]
  },
  {
   "cell_type": "code",
   "execution_count": 110,
   "metadata": {},
   "outputs": [
    {
     "name": "stdout",
     "output_type": "stream",
     "text": [
      "False\n"
     ]
    }
   ],
   "source": [
    "print('만리장성' in sol)"
   ]
  },
  {
   "cell_type": "code",
   "execution_count": 111,
   "metadata": {},
   "outputs": [
    {
     "name": "stdout",
     "output_type": "stream",
     "text": [
      "7\n"
     ]
    }
   ],
   "source": [
    "print(len(sol))"
   ]
  },
  {
   "cell_type": "code",
   "execution_count": 112,
   "metadata": {},
   "outputs": [
    {
     "name": "stdout",
     "output_type": "stream",
     "text": [
      "['명왕성', '목성', '지구', '지구', '태양', '토성', '해왕성', '토성', '천왕성', '해왕성']\n"
     ]
    }
   ],
   "source": [
    "print(sol+sol1)"
   ]
  },
  {
   "cell_type": "code",
   "execution_count": 113,
   "metadata": {},
   "outputs": [
    {
     "name": "stdout",
     "output_type": "stream",
     "text": [
      "['명왕성', '목성', '지구', '지구', '태양', '토성', '해왕성', '토성', '천왕성', '해왕성']\n"
     ]
    }
   ],
   "source": [
    "sol.extend(sol1)\n",
    "print(sol)"
   ]
  },
  {
   "cell_type": "code",
   "execution_count": 114,
   "metadata": {},
   "outputs": [
    {
     "data": {
      "text/plain": [
       "[]"
      ]
     },
     "execution_count": 114,
     "metadata": {},
     "output_type": "execute_result"
    }
   ],
   "source": [
    "sol.clear()\n",
    "sol"
   ]
  },
  {
   "cell_type": "code",
   "execution_count": 115,
   "metadata": {},
   "outputs": [
    {
     "ename": "NameError",
     "evalue": "name 'sol' is not defined",
     "output_type": "error",
     "traceback": [
      "\u001b[1;31m---------------------------------------------------------------------------\u001b[0m",
      "\u001b[1;31mNameError\u001b[0m                                 Traceback (most recent call last)",
      "\u001b[1;32m<ipython-input-115-79146e0ee364>\u001b[0m in \u001b[0;36m<module>\u001b[1;34m\u001b[0m\n\u001b[0;32m      1\u001b[0m \u001b[1;32mdel\u001b[0m \u001b[0msol\u001b[0m\u001b[1;33m\u001b[0m\u001b[1;33m\u001b[0m\u001b[0m\n\u001b[1;32m----> 2\u001b[1;33m \u001b[0msol\u001b[0m\u001b[1;33m\u001b[0m\u001b[1;33m\u001b[0m\u001b[0m\n\u001b[0m",
      "\u001b[1;31mNameError\u001b[0m: name 'sol' is not defined"
     ]
    }
   ],
   "source": [
    "del sol\n",
    "sol"
   ]
  },
  {
   "cell_type": "code",
   "execution_count": null,
   "metadata": {},
   "outputs": [],
   "source": []
  }
 ],
 "metadata": {
  "kernelspec": {
   "display_name": "Python 3",
   "language": "python",
   "name": "python3"
  },
  "language_info": {
   "codemirror_mode": {
    "name": "ipython",
    "version": 3
   },
   "file_extension": ".py",
   "mimetype": "text/x-python",
   "name": "python",
   "nbconvert_exporter": "python",
   "pygments_lexer": "ipython3",
   "version": "3.7.4"
  }
 },
 "nbformat": 4,
 "nbformat_minor": 2
}
