{
 "cells": [
  {
   "cell_type": "markdown",
   "metadata": {},
   "source": [
    "# OS/Glob 라이브러리"
   ]
  },
  {
   "cell_type": "markdown",
   "metadata": {},
   "source": [
    "### os.path.getsize(파일명)\n",
    "파일의 크기 구하기"
   ]
  },
  {
   "cell_type": "code",
   "execution_count": 2,
   "metadata": {},
   "outputs": [],
   "source": [
    "#OS => file 및 directory 관리 모듈\n",
    "from os.path import getsize"
   ]
  },
  {
   "cell_type": "code",
   "execution_count": 3,
   "metadata": {},
   "outputs": [
    {
     "name": "stdout",
     "output_type": "stream",
     "text": [
      "File Name: stockcode.txt \t File Size: 16339\n"
     ]
    }
   ],
   "source": [
    "f = 'stockcode.txt'\n",
    "\n",
    "f_size = getsize(f)\n",
    "\n",
    "print('File Name: {} \\t File Size: {}'.format(f, f_size))"
   ]
  },
  {
   "cell_type": "code",
   "execution_count": 4,
   "metadata": {},
   "outputs": [],
   "source": [
    "from os import remove"
   ]
  },
  {
   "cell_type": "markdown",
   "metadata": {},
   "source": [
    "## os.remove(파일명)\n",
    "파일 삭제하기"
   ]
  },
  {
   "cell_type": "code",
   "execution_count": 7,
   "metadata": {},
   "outputs": [
    {
     "name": "stdout",
     "output_type": "stream",
     "text": [
      "stockcode_copy.txt 파일을 삭제하시겠습니까? (y/n)y\n",
      "stockcode_copy.txt를 삭제했습니다.\n"
     ]
    }
   ],
   "source": [
    "t = 'stockcode_copy.txt'\n",
    "k = input('{} 파일을 삭제하시겠습니까? (y/n)'.format(t))\n",
    "if k=='y':\n",
    "    remove(t)\n",
    "    print('{}를 삭제했습니다.'.format(t))"
   ]
  },
  {
   "cell_type": "markdown",
   "metadata": {},
   "source": [
    "## shutil.copy(파일명, 파꿀 파일명)\n",
    "파일 복붙하기"
   ]
  },
  {
   "cell_type": "code",
   "execution_count": 8,
   "metadata": {},
   "outputs": [
    {
     "data": {
      "text/plain": [
       "'stockcode_copy.txt'"
      ]
     },
     "execution_count": 8,
     "metadata": {},
     "output_type": "execute_result"
    }
   ],
   "source": [
    "import shutil\n",
    "shutil.copy('stockcode.txt','stockcode_copy.txt')"
   ]
  },
  {
   "cell_type": "markdown",
   "metadata": {},
   "source": [
    "## shutil.move(파일명, 이동할 경로)\n",
    "파일 이동하기"
   ]
  },
  {
   "cell_type": "code",
   "execution_count": 11,
   "metadata": {},
   "outputs": [
    {
     "data": {
      "text/plain": [
       "'ppt\\\\stockcode.txt'"
      ]
     },
     "execution_count": 11,
     "metadata": {},
     "output_type": "execute_result"
    }
   ],
   "source": [
    "shutil.move('stockcode.txt','ppt')"
   ]
  },
  {
   "cell_type": "code",
   "execution_count": 12,
   "metadata": {},
   "outputs": [
    {
     "data": {
      "text/plain": [
       "'./stockcode.txt'"
      ]
     },
     "execution_count": 12,
     "metadata": {},
     "output_type": "execute_result"
    }
   ],
   "source": [
    "shutil.move('./ppt/stockcode.txt','./')"
   ]
  },
  {
   "cell_type": "markdown",
   "metadata": {},
   "source": [
    "## os.rename(파일명, 바꿀 파일명)\n",
    "파일이름 변경하기"
   ]
  },
  {
   "cell_type": "code",
   "execution_count": 16,
   "metadata": {},
   "outputs": [
    {
     "name": "stdout",
     "output_type": "stream",
     "text": [
      "stockcode.txt에 대한 새로운 파일이름 입력stockcode.txt\n",
      "stockcode.txt=>stockcode.txt로 변경되었습니다.\n"
     ]
    }
   ],
   "source": [
    "from os import rename\n",
    "t = 'stockcode.txt'\n",
    "newname = input('{}에 대한 새로운 파일이름 입력'.format(t))\n",
    "rename(t, newname)\n",
    "print('{}=>{}로 변경되었습니다.'.format(t,newname))"
   ]
  },
  {
   "cell_type": "code",
   "execution_count": 18,
   "metadata": {},
   "outputs": [],
   "source": [
    "import os, glob"
   ]
  },
  {
   "cell_type": "markdown",
   "metadata": {},
   "source": [
    "## os.listdir(경로) \n",
    "파일목록 가져오기"
   ]
  },
  {
   "cell_type": "code",
   "execution_count": 19,
   "metadata": {},
   "outputs": [
    {
     "name": "stdout",
     "output_type": "stream",
     "text": [
      "['NationalReadMe.pdf', 'yob1880.txt', 'yob1881.txt', 'yob1882.txt', 'yob1883.txt', 'yob1884.txt', 'yob1885.txt', 'yob1886.txt', 'yob1887.txt', 'yob1888.txt', 'yob1889.txt', 'yob1890.txt', 'yob1891.txt', 'yob1892.txt', 'yob1893.txt', 'yob1894.txt', 'yob1895.txt', 'yob1896.txt', 'yob1897.txt', 'yob1898.txt', 'yob1899.txt', 'yob1900.txt', 'yob1901.txt', 'yob1902.txt', 'yob1903.txt', 'yob1904.txt', 'yob1905.txt', 'yob1906.txt', 'yob1907.txt', 'yob1908.txt', 'yob1909.txt', 'yob1910.txt', 'yob1911.txt', 'yob1912.txt', 'yob1913.txt', 'yob1914.txt', 'yob1915.txt', 'yob1916.txt', 'yob1917.txt', 'yob1918.txt', 'yob1919.txt', 'yob1920.txt', 'yob1921.txt', 'yob1922.txt', 'yob1923.txt', 'yob1924.txt', 'yob1925.txt', 'yob1926.txt', 'yob1927.txt', 'yob1928.txt', 'yob1929.txt', 'yob1930.txt', 'yob1931.txt', 'yob1932.txt', 'yob1933.txt', 'yob1934.txt', 'yob1935.txt', 'yob1936.txt', 'yob1937.txt', 'yob1938.txt', 'yob1939.txt', 'yob1940.txt', 'yob1941.txt', 'yob1942.txt', 'yob1943.txt', 'yob1944.txt', 'yob1945.txt', 'yob1946.txt', 'yob1947.txt', 'yob1948.txt', 'yob1949.txt', 'yob1950.txt', 'yob1951.txt', 'yob1952.txt', 'yob1953.txt', 'yob1954.txt', 'yob1955.txt', 'yob1956.txt', 'yob1957.txt', 'yob1958.txt', 'yob1959.txt', 'yob1960.txt', 'yob1961.txt', 'yob1962.txt', 'yob1963.txt', 'yob1964.txt', 'yob1965.txt', 'yob1966.txt', 'yob1967.txt', 'yob1968.txt', 'yob1969.txt', 'yob1970.txt', 'yob1971.txt', 'yob1972.txt', 'yob1973.txt', 'yob1974.txt', 'yob1975.txt', 'yob1976.txt', 'yob1977.txt', 'yob1978.txt', 'yob1979.txt', 'yob1980.txt', 'yob1981.txt', 'yob1982.txt', 'yob1983.txt', 'yob1984.txt', 'yob1985.txt', 'yob1986.txt', 'yob1987.txt', 'yob1988.txt', 'yob1989.txt', 'yob1990.txt', 'yob1991.txt', 'yob1992.txt', 'yob1993.txt', 'yob1994.txt', 'yob1995.txt', 'yob1996.txt', 'yob1997.txt', 'yob1998.txt', 'yob1999.txt', 'yob2000.txt', 'yob2001.txt', 'yob2002.txt', 'yob2003.txt', 'yob2004.txt', 'yob2005.txt', 'yob2006.txt', 'yob2007.txt', 'yob2008.txt', 'yob2009.txt', 'yob2010.txt', 'yob2011.txt', 'yob2012.txt', 'yob2013.txt', 'yob2014.txt', 'yob2015.txt']\n"
     ]
    }
   ],
   "source": [
    "folder = './names'\n",
    "file_list = os.listdir(folder)\n",
    "print(file_list)"
   ]
  },
  {
   "cell_type": "markdown",
   "metadata": {},
   "source": [
    "## glob.glob(경로)\n",
    "파일목록 가져오기"
   ]
  },
  {
   "cell_type": "code",
   "execution_count": 20,
   "metadata": {},
   "outputs": [
    {
     "name": "stdout",
     "output_type": "stream",
     "text": [
      "['./names\\\\yob1880.txt', './names\\\\yob1881.txt', './names\\\\yob1882.txt', './names\\\\yob1883.txt', './names\\\\yob1884.txt', './names\\\\yob1885.txt', './names\\\\yob1886.txt', './names\\\\yob1887.txt', './names\\\\yob1888.txt', './names\\\\yob1889.txt', './names\\\\yob1890.txt', './names\\\\yob1891.txt', './names\\\\yob1892.txt', './names\\\\yob1893.txt', './names\\\\yob1894.txt', './names\\\\yob1895.txt', './names\\\\yob1896.txt', './names\\\\yob1897.txt', './names\\\\yob1898.txt', './names\\\\yob1899.txt', './names\\\\yob1900.txt', './names\\\\yob1901.txt', './names\\\\yob1902.txt', './names\\\\yob1903.txt', './names\\\\yob1904.txt', './names\\\\yob1905.txt', './names\\\\yob1906.txt', './names\\\\yob1907.txt', './names\\\\yob1908.txt', './names\\\\yob1909.txt', './names\\\\yob1910.txt', './names\\\\yob1911.txt', './names\\\\yob1912.txt', './names\\\\yob1913.txt', './names\\\\yob1914.txt', './names\\\\yob1915.txt', './names\\\\yob1916.txt', './names\\\\yob1917.txt', './names\\\\yob1918.txt', './names\\\\yob1919.txt', './names\\\\yob1920.txt', './names\\\\yob1921.txt', './names\\\\yob1922.txt', './names\\\\yob1923.txt', './names\\\\yob1924.txt', './names\\\\yob1925.txt', './names\\\\yob1926.txt', './names\\\\yob1927.txt', './names\\\\yob1928.txt', './names\\\\yob1929.txt', './names\\\\yob1930.txt', './names\\\\yob1931.txt', './names\\\\yob1932.txt', './names\\\\yob1933.txt', './names\\\\yob1934.txt', './names\\\\yob1935.txt', './names\\\\yob1936.txt', './names\\\\yob1937.txt', './names\\\\yob1938.txt', './names\\\\yob1939.txt', './names\\\\yob1940.txt', './names\\\\yob1941.txt', './names\\\\yob1942.txt', './names\\\\yob1943.txt', './names\\\\yob1944.txt', './names\\\\yob1945.txt', './names\\\\yob1946.txt', './names\\\\yob1947.txt', './names\\\\yob1948.txt', './names\\\\yob1949.txt', './names\\\\yob1950.txt', './names\\\\yob1951.txt', './names\\\\yob1952.txt', './names\\\\yob1953.txt', './names\\\\yob1954.txt', './names\\\\yob1955.txt', './names\\\\yob1956.txt', './names\\\\yob1957.txt', './names\\\\yob1958.txt', './names\\\\yob1959.txt', './names\\\\yob1960.txt', './names\\\\yob1961.txt', './names\\\\yob1962.txt', './names\\\\yob1963.txt', './names\\\\yob1964.txt', './names\\\\yob1965.txt', './names\\\\yob1966.txt', './names\\\\yob1967.txt', './names\\\\yob1968.txt', './names\\\\yob1969.txt', './names\\\\yob1970.txt', './names\\\\yob1971.txt', './names\\\\yob1972.txt', './names\\\\yob1973.txt', './names\\\\yob1974.txt', './names\\\\yob1975.txt', './names\\\\yob1976.txt', './names\\\\yob1977.txt', './names\\\\yob1978.txt', './names\\\\yob1979.txt', './names\\\\yob1980.txt', './names\\\\yob1981.txt', './names\\\\yob1982.txt', './names\\\\yob1983.txt', './names\\\\yob1984.txt', './names\\\\yob1985.txt', './names\\\\yob1986.txt', './names\\\\yob1987.txt', './names\\\\yob1988.txt', './names\\\\yob1989.txt', './names\\\\yob1990.txt', './names\\\\yob1991.txt', './names\\\\yob1992.txt', './names\\\\yob1993.txt', './names\\\\yob1994.txt', './names\\\\yob1995.txt', './names\\\\yob1996.txt', './names\\\\yob1997.txt', './names\\\\yob1998.txt', './names\\\\yob1999.txt', './names\\\\yob2000.txt', './names\\\\yob2001.txt', './names\\\\yob2002.txt', './names\\\\yob2003.txt', './names\\\\yob2004.txt', './names\\\\yob2005.txt', './names\\\\yob2006.txt', './names\\\\yob2007.txt', './names\\\\yob2008.txt', './names\\\\yob2009.txt', './names\\\\yob2010.txt', './names\\\\yob2011.txt', './names\\\\yob2012.txt', './names\\\\yob2013.txt', './names\\\\yob2014.txt', './names\\\\yob2015.txt']\n"
     ]
    }
   ],
   "source": [
    "files = './names/*.txt'\n",
    "file_list = glob.glob(files)\n",
    "print(file_list)"
   ]
  },
  {
   "cell_type": "markdown",
   "metadata": {},
   "source": [
    "## os.getcwd()\n",
    "현재 작업폴더 확인하기"
   ]
  },
  {
   "cell_type": "code",
   "execution_count": 22,
   "metadata": {},
   "outputs": [
    {
     "data": {
      "text/plain": [
       "'D:\\\\Workspace'"
      ]
     },
     "execution_count": 22,
     "metadata": {},
     "output_type": "execute_result"
    }
   ],
   "source": [
    "os.getcwd() # = pwd 명령어와 같다"
   ]
  },
  {
   "cell_type": "markdown",
   "metadata": {},
   "source": [
    "## os.chdir(경로)\n",
    "현재 작업폴더 변경하기\n"
   ]
  },
  {
   "cell_type": "code",
   "execution_count": 123,
   "metadata": {},
   "outputs": [],
   "source": [
    "os.chdir('../')"
   ]
  },
  {
   "cell_type": "code",
   "execution_count": 118,
   "metadata": {},
   "outputs": [],
   "source": [
    "os.chdir('./Workspace/names')"
   ]
  },
  {
   "cell_type": "code",
   "execution_count": 158,
   "metadata": {},
   "outputs": [
    {
     "data": {
      "text/plain": [
       "'D:\\\\Workspace'"
      ]
     },
     "execution_count": 158,
     "metadata": {},
     "output_type": "execute_result"
    }
   ],
   "source": [
    "pwd"
   ]
  },
  {
   "cell_type": "code",
   "execution_count": 38,
   "metadata": {},
   "outputs": [],
   "source": [
    "os.chdir('./Workspace/ppt')"
   ]
  },
  {
   "cell_type": "markdown",
   "metadata": {},
   "source": [
    "## os.mkdir(폴더명)\n",
    "폴더만들기"
   ]
  },
  {
   "cell_type": "code",
   "execution_count": 43,
   "metadata": {},
   "outputs": [
    {
     "name": "stdout",
     "output_type": "stream",
     "text": [
      "신규 디렉토리 이름:test\n",
      "test디렉토리를 생성했습니다.\n"
     ]
    }
   ],
   "source": [
    "newfolder= input('신규 디렉토리 이름:')\n",
    "try:\n",
    "    os.mkdir(newfolder)\n",
    "    print('{}디렉토리를 생성했습니다.'.format(newfolder))\n",
    "except Exception as e:    \n",
    "    print(e)\n",
    "    "
   ]
  },
  {
   "cell_type": "markdown",
   "metadata": {},
   "source": [
    "## os.rmdir (폴더명)\n",
    "폴더 삭제하기"
   ]
  },
  {
   "cell_type": "code",
   "execution_count": 44,
   "metadata": {},
   "outputs": [
    {
     "name": "stdout",
     "output_type": "stream",
     "text": [
      "test디렉토리를 삭제하시겠습니까? (y/n)y\n",
      "test디렉토리를 삭제했습니다\n"
     ]
    }
   ],
   "source": [
    "t_folder = 'test'\n",
    "\n",
    "k = input('{}디렉토리를 삭제하시겠습니까? (y/n)'.format(t_folder))\n",
    "\n",
    "if k == 'y':\n",
    "    try:\n",
    "        os.rmdir(t_folder)\n",
    "        print('{}디렉토리를 삭제했습니다'.format(t_folder))\n",
    "    except Exception as e:\n",
    "        print(e)"
   ]
  },
  {
   "cell_type": "markdown",
   "metadata": {},
   "source": [
    "## os.path.exists (파일 또는 폴더명)\n",
    "파일/폴더 존재여부 확인하기"
   ]
  },
  {
   "cell_type": "code",
   "execution_count": 48,
   "metadata": {},
   "outputs": [
    {
     "name": "stdout",
     "output_type": "stream",
     "text": [
      "생성할 디렉토리 이름 입력test\n",
      "test디렉토리가 존재합니다\n"
     ]
    }
   ],
   "source": [
    "from os.path import exists\n",
    "dname = input('생성할 디렉토리 이름 입력')\n",
    "\n",
    "if not exists(dname):\n",
    "    os.mkdir(dname)\n",
    "    print('{}디렉토리를 생성했습니다.'.format(dname))\n",
    "else:\n",
    "\n",
    "    print('{}디렉토리가 존재합니다'.format(dname))"
   ]
  },
  {
   "cell_type": "markdown",
   "metadata": {},
   "source": [
    "## os.path.isdir(경로), isfile(경로)\n",
    "폴더인지 파일인지 확인하기"
   ]
  },
  {
   "cell_type": "code",
   "execution_count": 166,
   "metadata": {},
   "outputs": [
    {
     "name": "stdout",
     "output_type": "stream",
     "text": [
      "['NationalReadMe.pdf', 'yob1880.txt', 'yob1881.txt', 'yob1882.txt', 'yob1883.txt', 'yob1884.txt', 'yob1885.txt', 'yob1886.txt', 'yob1887.txt', 'yob1888.txt', 'yob1889.txt', 'yob1890.txt', 'yob1891.txt', 'yob1892.txt', 'yob1893.txt', 'yob1894.txt', 'yob1895.txt', 'yob1896.txt', 'yob1897.txt', 'yob1898.txt', 'yob1899.txt', 'yob1900.txt', 'yob1901.txt', 'yob1902.txt', 'yob1903.txt', 'yob1904.txt', 'yob1905.txt', 'yob1906.txt', 'yob1907.txt', 'yob1908.txt', 'yob1909.txt', 'yob1910.txt', 'yob1911.txt', 'yob1912.txt', 'yob1913.txt', 'yob1914.txt', 'yob1915.txt', 'yob1916.txt', 'yob1917.txt', 'yob1918.txt', 'yob1919.txt', 'yob1920.txt', 'yob1921.txt', 'yob1922.txt', 'yob1923.txt', 'yob1924.txt', 'yob1925.txt', 'yob1926.txt', 'yob1927.txt', 'yob1928.txt', 'yob1929.txt', 'yob1930.txt', 'yob1931.txt', 'yob1932.txt', 'yob1933.txt', 'yob1934.txt', 'yob1935.txt', 'yob1936.txt', 'yob1937.txt', 'yob1938.txt', 'yob1939.txt', 'yob1940.txt', 'yob1941.txt', 'yob1942.txt', 'yob1943.txt', 'yob1944.txt', 'yob1945.txt', 'yob1946.txt', 'yob1947.txt', 'yob1948.txt', 'yob1949.txt', 'yob1950.txt', 'yob1951.txt', 'yob1952.txt', 'yob1953.txt', 'yob1954.txt', 'yob1955.txt', 'yob1956.txt', 'yob1957.txt', 'yob1958.txt', 'yob1959.txt', 'yob1960.txt', 'yob1961.txt', 'yob1962.txt', 'yob1963.txt', 'yob1964.txt', 'yob1965.txt', 'yob1966.txt', 'yob1967.txt', 'yob1968.txt', 'yob1969.txt', 'yob1970.txt', 'yob1971.txt', 'yob1972.txt', 'yob1973.txt', 'yob1974.txt', 'yob1975.txt', 'yob1976.txt', 'yob1977.txt', 'yob1978.txt', 'yob1979.txt', 'yob1980.txt', 'yob1981.txt', 'yob1982.txt', 'yob1983.txt', 'yob1984.txt', 'yob1985.txt', 'yob1986.txt', 'yob1987.txt', 'yob1988.txt', 'yob1989.txt', 'yob1990.txt', 'yob1991.txt', 'yob1992.txt', 'yob1993.txt', 'yob1994.txt', 'yob1995.txt', 'yob1996.txt', 'yob1997.txt', 'yob1998.txt', 'yob1999.txt', 'yob2000.txt', 'yob2001.txt', 'yob2002.txt', 'yob2003.txt', 'yob2004.txt', 'yob2005.txt', 'yob2006.txt', 'yob2007.txt', 'yob2008.txt', 'yob2009.txt', 'yob2010.txt', 'yob2011.txt', 'yob2012.txt', 'yob2013.txt', 'yob2014.txt', 'yob2015.txt']\n",
      "[]\n"
     ]
    }
   ],
   "source": [
    "from os.path import exists, isdir, isfile\n",
    "\n",
    "flist = []\n",
    "dlist = []\n",
    "\n",
    "\n",
    "files = os.listdir('./names')\n",
    "\n",
    "for file in files:    \n",
    "    if isfile('./names/'+file):\n",
    "        flist.append(file)\n",
    "    elif isdir('./names/'+'file'):\n",
    "        dlist.append(file)\n",
    "        \n",
    "print(flist)\n",
    "print(dlist)"
   ]
  },
  {
   "cell_type": "code",
   "execution_count": 3,
   "metadata": {},
   "outputs": [],
   "source": [
    "def cntBirth():\n",
    "    ret = [] #결과를 저장할 리스트\n",
    "    for y in range(1880, 2016): # 1880년 ~ 2015년\n",
    "        cnt =0 # 신생아 인구를 저장할 변수\n",
    "        fname = './names/yob{}.txt'.format(y) # 읽어올 파일이름 형식\n",
    "        with open(fname, 'r') as f: \n",
    "            data = f.readlines() # 파일에서 데이터를 한줄씩 가져온다.\n",
    "            for d in data:\n",
    "                if d[-1] == '\\n': # 한줄씩 가져온 데이터에서 마지막 줄바꿈 기호를 삭제한다.\n",
    "                    d = d[:-1]\n",
    "                    \n",
    "                birth = d.split(',')[2]\n",
    "                cnt += int(birth)\n",
    "        ret.append((y,cnt))\n",
    "    return ret"
   ]
  },
  {
   "cell_type": "code",
   "execution_count": 4,
   "metadata": {},
   "outputs": [],
   "source": [
    "result = cntBirth()"
   ]
  },
  {
   "cell_type": "code",
   "execution_count": 5,
   "metadata": {},
   "outputs": [
    {
     "name": "stdout",
     "output_type": "stream",
     "text": [
      "1880,201482\n",
      "\n",
      "1881,192696\n",
      "\n",
      "1882,221534\n",
      "\n",
      "1883,216945\n",
      "\n",
      "1884,243463\n",
      "\n",
      "1885,240854\n",
      "\n",
      "1886,255319\n",
      "\n",
      "1887,247396\n",
      "\n",
      "1888,299474\n",
      "\n",
      "1889,288948\n",
      "\n",
      "1890,301401\n",
      "\n",
      "1891,286675\n",
      "\n",
      "1892,334377\n",
      "\n",
      "1893,325222\n",
      "\n",
      "1894,338692\n",
      "\n",
      "1895,351024\n",
      "\n",
      "1896,357486\n",
      "\n",
      "1897,346958\n",
      "\n",
      "1898,381461\n",
      "\n",
      "1899,339235\n",
      "\n",
      "1900,450312\n",
      "\n",
      "1901,345816\n",
      "\n",
      "1902,386734\n",
      "\n",
      "1903,381205\n",
      "\n",
      "1904,403496\n",
      "\n",
      "1905,423941\n",
      "\n",
      "1906,428461\n",
      "\n",
      "1907,465395\n",
      "\n",
      "1908,488658\n",
      "\n",
      "1909,511231\n",
      "\n",
      "1910,590719\n",
      "\n",
      "1911,644271\n",
      "\n",
      "1912,988059\n",
      "\n",
      "1913,1137094\n",
      "\n",
      "1914,1416325\n",
      "\n",
      "1915,1832479\n",
      "\n",
      "1916,1934423\n",
      "\n",
      "1917,2006798\n",
      "\n",
      "1918,2171173\n",
      "\n",
      "1919,2110271\n",
      "\n",
      "1920,2262732\n",
      "\n",
      "1921,2334466\n",
      "\n",
      "1922,2289237\n",
      "\n",
      "1923,2302513\n",
      "\n",
      "1924,2381651\n",
      "\n",
      "1925,2333317\n",
      "\n",
      "1926,2295866\n",
      "\n",
      "1927,2319167\n",
      "\n",
      "1928,2260682\n",
      "\n",
      "1929,2191868\n",
      "\n",
      "1930,2223041\n",
      "\n",
      "1931,2103795\n",
      "\n",
      "1932,2110903\n",
      "\n",
      "1933,1998953\n",
      "\n",
      "1934,2076390\n",
      "\n",
      "1935,2089451\n",
      "\n",
      "1936,2077252\n",
      "\n",
      "1937,2130258\n",
      "\n",
      "1938,2212192\n",
      "\n",
      "1939,2203166\n",
      "\n",
      "1940,2302300\n",
      "\n",
      "1941,2435953\n",
      "\n",
      "1942,2731383\n",
      "\n",
      "1943,2822023\n",
      "\n",
      "1944,2689735\n",
      "\n",
      "1945,2652676\n",
      "\n",
      "1946,3194937\n",
      "\n",
      "1947,3601943\n",
      "\n",
      "1948,3452247\n",
      "\n",
      "1949,3484586\n",
      "\n",
      "1950,3504924\n",
      "\n",
      "1951,3682005\n",
      "\n",
      "1952,3798208\n",
      "\n",
      "1953,3852044\n",
      "\n",
      "1954,3979147\n",
      "\n",
      "1955,4012757\n",
      "\n",
      "1956,4121274\n",
      "\n",
      "1957,4200146\n",
      "\n",
      "1958,4131784\n",
      "\n",
      "1959,4156617\n",
      "\n",
      "1960,4154877\n",
      "\n",
      "1961,4140040\n",
      "\n",
      "1962,4035565\n",
      "\n",
      "1963,3958985\n",
      "\n",
      "1964,3888029\n",
      "\n",
      "1965,3626440\n",
      "\n",
      "1966,3475917\n",
      "\n",
      "1967,3395346\n",
      "\n",
      "1968,3379166\n",
      "\n",
      "1969,3476709\n",
      "\n",
      "1970,3607897\n",
      "\n",
      "1971,3432862\n",
      "\n",
      "1972,3143970\n",
      "\n",
      "1973,3017571\n",
      "\n",
      "1974,3040646\n",
      "\n",
      "1975,3020048\n",
      "\n",
      "1976,3035149\n",
      "\n",
      "1977,3176872\n",
      "\n",
      "1978,3174146\n",
      "\n",
      "1979,3327234\n",
      "\n",
      "1980,3444130\n",
      "\n",
      "1981,3458712\n",
      "\n",
      "1982,3507029\n",
      "\n",
      "1983,3462131\n",
      "\n",
      "1984,3487106\n",
      "\n",
      "1985,3567395\n",
      "\n",
      "1986,3555131\n",
      "\n",
      "1987,3603785\n",
      "\n",
      "1988,3692739\n",
      "\n",
      "1989,3843257\n",
      "\n",
      "1990,3950469\n",
      "\n",
      "1991,3894012\n",
      "\n",
      "1992,3839875\n",
      "\n",
      "1993,3768994\n",
      "\n",
      "1994,3716497\n",
      "\n",
      "1995,3660981\n",
      "\n",
      "1996,3645912\n",
      "\n",
      "1997,3624287\n",
      "\n",
      "1998,3676499\n",
      "\n",
      "1999,3691772\n",
      "\n",
      "2000,3777294\n",
      "\n",
      "2001,3740600\n",
      "\n",
      "2002,3735317\n",
      "\n",
      "2003,3799121\n",
      "\n",
      "2004,3817389\n",
      "\n",
      "2005,3840755\n",
      "\n",
      "2006,3951428\n",
      "\n",
      "2007,3992280\n",
      "\n",
      "2008,3924410\n",
      "\n",
      "2009,3813356\n",
      "\n",
      "2010,3688069\n",
      "\n",
      "2011,3648686\n",
      "\n",
      "2012,3646143\n",
      "\n",
      "2013,3631489\n",
      "\n",
      "2014,3688118\n",
      "\n",
      "2015,3668183\n",
      "\n"
     ]
    }
   ],
   "source": [
    "with open('bby.csv', 'w') as f:\n",
    "    for year, birth in result:\n",
    "        data = '{},{}\\n'.format(year, birth)\n",
    "        print(data)\n",
    "        f.write(data)        "
   ]
  },
  {
   "cell_type": "markdown",
   "metadata": {},
   "source": [
    "# --------01/15"
   ]
  },
  {
   "cell_type": "code",
   "execution_count": null,
   "metadata": {},
   "outputs": [],
   "source": [
    "#연도별 총 여아, 총남아 숫자를 구하기"
   ]
  },
  {
   "cell_type": "code",
   "execution_count": 10,
   "metadata": {},
   "outputs": [],
   "source": [
    "def cntBirth():\n",
    "    retF = [] #결과를 저장할 리스트1\n",
    "    retM = [] #결과를 저장할 리스트2\n",
    "    for y in range(1880, 2016): # 1880년 ~ 2015년\n",
    "        cntF =0 # 총여아 인구를 저장할 변수\n",
    "        cntM =0 # 총남아 인구를 저장할 변수\n",
    "        fname = './names/yob{}.txt'.format(y) # 읽어올 파일이름 형식\n",
    "        with open(fname, 'r') as f: \n",
    "            data = f.readlines() # 파일에서 데이터를 한줄씩 가져온다.\n",
    "            for d in data:\n",
    "                if d[-1] == '\\n': # 한줄씩 가져온 데이터에서 마지막 줄바꿈 기호를 삭제한다.\n",
    "                    d = d[:-1]\n",
    "                    \n",
    "                birth = d.split(',')[2]\n",
    "                gender = d.split(',')[1]\n",
    "                \n",
    "                if gender == 'M':\n",
    "                    cntM += int(birth)\n",
    "                else:\n",
    "                    cntF += int(birth)    \n",
    "        retF.append((y,cntF))\n",
    "        retM.append((y,cntM))\n",
    "        \n",
    "        with open('bbyM.txt', 'w') as f:\n",
    "            for year, birth in retM:\n",
    "                data = '{},{}\\n'.format(year, birth)               \n",
    "                f.write(data)   \n",
    "        with open('bbyF.txt', 'w') as g:\n",
    "            for year, birth in retF:\n",
    "                data = '{},{}\\n'.format(year, birth)                \n",
    "                g.write(data) "
   ]
  },
  {
   "cell_type": "code",
   "execution_count": 9,
   "metadata": {},
   "outputs": [],
   "source": [
    "cntBirth()"
   ]
  },
  {
   "cell_type": "code",
   "execution_count": 16,
   "metadata": {},
   "outputs": [],
   "source": [
    "def cntBirth():\n",
    "    ret = [] #결과를 저장할 리스트\n",
    "    \n",
    "    for y in range(1880, 2016): # 1880년 ~ 2015년\n",
    "        cntF =0 # 총여아 인구를 저장할 변수\n",
    "        cntM =0 # 총남아 인구를 저장할 변수\n",
    "        cnt =0 #총 인구를 저장할 변수\n",
    "        fname = './names/yob{}.txt'.format(y) # 읽어올 파일이름 형식\n",
    "        with open(fname, 'r') as f: \n",
    "            data = f.readlines() # 파일에서 데이터를 한줄씩 가져온다.\n",
    "            for d in data:\n",
    "                if d[-1] == '\\n': # 한줄씩 가져온 데이터에서 마지막 줄바꿈 기호를 삭제한다.\n",
    "                    d = d[:-1]\n",
    "                    \n",
    "                birth = d.split(',')[2]\n",
    "                gender = d.split(',')[1]\n",
    "                \n",
    "                cnt += int(birth)\n",
    "                \n",
    "                if gender == 'M':\n",
    "                    cntM += int(birth)\n",
    "                else:\n",
    "                    cntF += int(birth)    \n",
    "        ret.append((y, cntF, cntM, cnt))        \n",
    "        \n",
    "        with open('bbyT.txt', 'w') as f:\n",
    "            for year, cntF, cntM, cnt in ret:\n",
    "                data = '{}년도 여아:{}명, 남아:{}명, 총합{}명\\n'.format(year,cntF, cntM, cnt)           \n",
    "                f.write(data)   "
   ]
  },
  {
   "cell_type": "code",
   "execution_count": 17,
   "metadata": {},
   "outputs": [],
   "source": [
    "cntBirth()"
   ]
  },
  {
   "cell_type": "code",
   "execution_count": null,
   "metadata": {},
   "outputs": [],
   "source": [
    "#연도를 입력받은 후 그 연도의 남아, 여아 각각 인원이 가장 많은 이름 상위 10개씩 출력"
   ]
  },
  {
   "cell_type": "code",
   "execution_count": 15,
   "metadata": {},
   "outputs": [],
   "source": [
    "def findN():\n",
    "    ret = [] #결과를 저장할 리스트\n",
    "    Fname = []\n",
    "    Mname = []\n",
    "    year = int(input('찾을 연도 입력'))\n",
    "    \n",
    "    fname = './names/yob{}.txt'.format(year)\n",
    "    with open(fname, 'r') as f:\n",
    "        data = f.readlines()\n",
    "        \n",
    "        for d in data:\n",
    "            if d[-1] == '\\n': # 한줄씩 가져온 데이터에서 마지막 줄바꿈 기호를 삭제한다.\n",
    "                d = d[:-1]\n",
    "                \n",
    "            \n",
    "            pname = d.split(',')[0]\n",
    "            gender = d.split(',')[1]    \n",
    "            \n",
    "            if len(Mname) < 10:\n",
    "                if gender == 'M':\n",
    "                    Mname.append(pname)\n",
    "            if len(Fname) < 10:\n",
    "                if gender == 'F':\n",
    "                    Fname.append(pname)                               \n",
    "        \n",
    "        ret.append((year, Fname, Mname))        \n",
    "        \n",
    "        with open('Pname.txt', 'w') as f:\n",
    "            for year, Fname, Mname in ret:\n",
    "                data = '{}년도 여아이름 10위권:{}, 남아이름 순위권:{}\\n'.format(year, Fname, Mname)           \n",
    "                f.write(data)   "
   ]
  },
  {
   "cell_type": "code",
   "execution_count": 17,
   "metadata": {
    "scrolled": true
   },
   "outputs": [
    {
     "name": "stdout",
     "output_type": "stream",
     "text": [
      "찾을 연도 입력2005\n"
     ]
    }
   ],
   "source": [
    "findN()"
   ]
  },
  {
   "cell_type": "code",
   "execution_count": 14,
   "metadata": {},
   "outputs": [
    {
     "name": "stdout",
     "output_type": "stream",
     "text": [
      "수강생명,수강금액,상담날짜,강좌명\n",
      "배찬우,900000,2017.10.10,파이썬 자동화 강의\n",
      "조윤장,820000,2017.10.11,파이썬 자동화 강의\n",
      "김민우,720000,2017.10.02,파이썬 자동화 강의\n",
      "이은철,910000,2017.10.12,파이썬 자동화 강의\n",
      "정용운,900000,2017.10.09,파이썬 자동화 강의\n",
      "윤순규,920000,2017.10.06,파이썬 자동화 강의\n",
      "이창희,620000,2017.10.08,파이썬 자동화 강의\n",
      "정택호,540000,2017.10.17,파이썬 자동화 강의\n",
      "양영주,230000,2017.10.02,파이썬 자동화 강의\n",
      "권민재,680000,2017.10.29,파이썬 자동화 강의\n",
      "\n"
     ]
    }
   ],
   "source": [
    "f = open('./csv_files/2017.01.csv', 'r', encoding='utf-8')\n",
    "data = f.read()\n",
    "print(data)\n",
    "f.close()"
   ]
  },
  {
   "cell_type": "code",
   "execution_count": 26,
   "metadata": {},
   "outputs": [],
   "source": [
    "#년월 매출합구하기\n",
    "\n",
    "def cntIncome():\n",
    "    ret = [] #결과를 저장할 리스트\n",
    "    for m in range(1, 13): # 1~12월\n",
    "        total =0 # 총수입        \n",
    "        fname = './csv_files/2017.{}.csv'.format(m) # 읽어올 파일이름 형식\n",
    "        with open(fname, 'r', encoding='utf-8') as f:     \n",
    "            header = f.readline()\n",
    "            data = f.readlines() # 파일에서 데이터를 한줄씩 가져온다.\n",
    "            for d in data:                \n",
    "                income = int(d.split(',')[1])\n",
    "                \n",
    "                total += income\n",
    "                \n",
    "        ret.append((m,total))        \n",
    "        \n",
    "    print(ret)"
   ]
  },
  {
   "cell_type": "code",
   "execution_count": 27,
   "metadata": {
    "scrolled": true
   },
   "outputs": [
    {
     "name": "stdout",
     "output_type": "stream",
     "text": [
      "[(1, 7240000), (2, 7410000), (3, 7550000), (4, 7720000), (5, 7950000), (6, 7730000), (7, 8000000), (8, 7740000), (9, 7940000), (10, 7810000), (11, 7320000), (12, 8040000)]\n"
     ]
    }
   ],
   "source": [
    "cntIncome()"
   ]
  },
  {
   "cell_type": "code",
   "execution_count": 35,
   "metadata": {},
   "outputs": [],
   "source": [
    "#년월 매출합구하기\n",
    "\n",
    "def cntIncome():\n",
    "    ret = [] #결과를 저장할 리스트\n",
    "    for m in range(1, 13): # 1~12월\n",
    "        \n",
    "        if m <10: # 달 수가 10월 이하일때 앞에 0을 붙여준다.\n",
    "            m = '0{}'.format(m)        \n",
    "        total =0 # 총수입을 저장할 변수\n",
    "        fname = './csv_files/2017.{}.csv'.format(m) # 읽어올 파일이름 형식\n",
    "        with open(fname, 'r', encoding='utf-8') as f:     \n",
    "            header = f.readline() # 맨위 컬럼명 부분을 뺀다.\n",
    "            data = f.readlines() # 파일에서 데이터를 한줄씩 가져온다.\n",
    "            for d in data:                \n",
    "                income = int(d.split(',')[1])\n",
    "                \n",
    "                total += income\n",
    "                \n",
    "        ret.append((m,total))        \n",
    "        \n",
    "    print(ret)"
   ]
  },
  {
   "cell_type": "code",
   "execution_count": 34,
   "metadata": {
    "scrolled": true
   },
   "outputs": [
    {
     "name": "stdout",
     "output_type": "stream",
     "text": [
      "[('01', 7240000), ('02', 7410000), ('03', 7550000), ('04', 7720000), ('05', 7950000), ('06', 7730000), ('07', 8000000), ('08', 7740000), ('09', 7940000), (10, 7810000), (11, 7320000), (12, 8040000)]\n"
     ]
    }
   ],
   "source": [
    "cntIncome()"
   ]
  },
  {
   "cell_type": "code",
   "execution_count": null,
   "metadata": {},
   "outputs": [],
   "source": []
  },
  {
   "cell_type": "code",
   "execution_count": null,
   "metadata": {},
   "outputs": [],
   "source": []
  },
  {
   "cell_type": "code",
   "execution_count": null,
   "metadata": {},
   "outputs": [],
   "source": []
  },
  {
   "cell_type": "code",
   "execution_count": null,
   "metadata": {},
   "outputs": [],
   "source": []
  },
  {
   "cell_type": "code",
   "execution_count": null,
   "metadata": {},
   "outputs": [],
   "source": []
  },
  {
   "cell_type": "code",
   "execution_count": null,
   "metadata": {},
   "outputs": [],
   "source": []
  }
 ],
 "metadata": {
  "kernelspec": {
   "display_name": "Python 3",
   "language": "python",
   "name": "python3"
  },
  "language_info": {
   "codemirror_mode": {
    "name": "ipython",
    "version": 3
   },
   "file_extension": ".py",
   "mimetype": "text/x-python",
   "name": "python",
   "nbconvert_exporter": "python",
   "pygments_lexer": "ipython3",
   "version": "3.7.4"
  }
 },
 "nbformat": 4,
 "nbformat_minor": 2
}
