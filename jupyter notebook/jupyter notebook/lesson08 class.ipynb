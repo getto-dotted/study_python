{
 "cells": [
  {
   "cell_type": "code",
   "execution_count": 1,
   "metadata": {},
   "outputs": [],
   "source": [
    "def Bcard(name, email, addr):\n",
    "    print('-'*20)\n",
    "    print('Name : ', name)\n",
    "    print('Email : ', email)\n",
    "    print('Address : ', addr)\n",
    "    print('-'*20)    "
   ]
  },
  {
   "cell_type": "code",
   "execution_count": 2,
   "metadata": {},
   "outputs": [
    {
     "name": "stdout",
     "output_type": "stream",
     "text": [
      "--------------------\n",
      "Name :  sungho\n",
      "Email :  sungho@namver.com\n",
      "Address :  Seoul\n",
      "--------------------\n"
     ]
    }
   ],
   "source": [
    "Bcard('sungho','sungho@namver.com', 'Seoul')"
   ]
  },
  {
   "cell_type": "code",
   "execution_count": 7,
   "metadata": {},
   "outputs": [
    {
     "name": "stdout",
     "output_type": "stream",
     "text": [
      "--------------------\n",
      "Name :  yuna\n",
      "Email :  yuna@naver.com\n",
      "Address :  incheon\n",
      "--------------------\n"
     ]
    }
   ],
   "source": [
    "name = 'yuna'\n",
    "email = 'yuna@naver.com'\n",
    "address = 'incheon'\n",
    "\n",
    "Bcard(name, email, address)"
   ]
  },
  {
   "cell_type": "code",
   "execution_count": 11,
   "metadata": {},
   "outputs": [],
   "source": [
    "class BusinessCard:\n",
    "    name = 'yuna'\n",
    "    email = 'yuna@naver.com'\n",
    "    address = 'incheon'\n",
    "\n",
    "    def bCard(self):\n",
    "        print('-'*20)\n",
    "        print('Name : ', self.name)\n",
    "        print('Email : ', self.email)\n",
    "        print('Address : ', self.address)\n",
    "        print('-'*20) \n",
    "       "
   ]
  },
  {
   "cell_type": "code",
   "execution_count": 12,
   "metadata": {
    "scrolled": true
   },
   "outputs": [
    {
     "name": "stdout",
     "output_type": "stream",
     "text": [
      "--------------------\n",
      "Name :  yuna\n",
      "Email :  yuna@naver.com\n",
      "Address :  incheon\n",
      "--------------------\n"
     ]
    }
   ],
   "source": [
    "card = BusinessCard()\n",
    "card.bCard()"
   ]
  },
  {
   "cell_type": "code",
   "execution_count": 13,
   "metadata": {},
   "outputs": [],
   "source": [
    "class BusinessCard:\n",
    "    \n",
    "    def setdefault(self, name, email, address):\n",
    "        self.name = name\n",
    "        self.email = email\n",
    "        self.address = address\n",
    "\n",
    "    def bCard(self):\n",
    "        print('-'*20)\n",
    "        print('Name : ', self.name)\n",
    "        print('Email : ', self.email)\n",
    "        print('Address : ', self.address)\n",
    "        print('-'*20) \n",
    "       "
   ]
  },
  {
   "cell_type": "code",
   "execution_count": 16,
   "metadata": {},
   "outputs": [],
   "source": [
    "card = BusinessCard()\n",
    "card.setdefault('part','park@namver.oamdf','seoul')"
   ]
  },
  {
   "cell_type": "code",
   "execution_count": 17,
   "metadata": {},
   "outputs": [
    {
     "name": "stdout",
     "output_type": "stream",
     "text": [
      "--------------------\n",
      "Name :  part\n",
      "Email :  park@namver.oamdf\n",
      "Address :  seoul\n",
      "--------------------\n"
     ]
    }
   ],
   "source": [
    "card.bCard()"
   ]
  },
  {
   "cell_type": "code",
   "execution_count": 21,
   "metadata": {
    "scrolled": true
   },
   "outputs": [
    {
     "name": "stdout",
     "output_type": "stream",
     "text": [
      "--------------------\n",
      "Name :  adsf\n",
      "Email :  asdf@namver.oamdf\n",
      "Address :  adsf\n",
      "--------------------\n"
     ]
    }
   ],
   "source": [
    "card1=BusinessCard()\n",
    "card1.setdefault('adsf','asdf@namver.oamdf','adsf')\n",
    "card1.bCard()"
   ]
  },
  {
   "cell_type": "code",
   "execution_count": 34,
   "metadata": {},
   "outputs": [],
   "source": [
    "class BusinessCard:\n",
    "    \n",
    "    def __init__(self, name, email, address):\n",
    "        self.name = name\n",
    "        self.email = email\n",
    "        self.address = address\n",
    "\n",
    "    def bCard(self):\n",
    "        print('-'*20)\n",
    "        print('Name : ', self.name)\n",
    "        print('Email : ', self.email)\n",
    "        print('Address : ', self.address)\n",
    "        print('-'*20) \n",
    "       "
   ]
  },
  {
   "cell_type": "code",
   "execution_count": 35,
   "metadata": {},
   "outputs": [
    {
     "name": "stdout",
     "output_type": "stream",
     "text": [
      "--------------------\n",
      "Name :  qwer\n",
      "Email :  qwer\n",
      "Address :  qwer\n",
      "--------------------\n"
     ]
    }
   ],
   "source": [
    "card2 = BusinessCard('qwer','qwer','qwer')\n",
    "card2.bCard()"
   ]
  },
  {
   "cell_type": "code",
   "execution_count": 36,
   "metadata": {},
   "outputs": [],
   "source": [
    "#사칙연산을 수행하는 클래스를 생성해서"
   ]
  },
  {
   "cell_type": "code",
   "execution_count": 37,
   "metadata": {},
   "outputs": [],
   "source": [
    "class fourCal:\n",
    "    def __init__(self, a, b):\n",
    "        self.a = a\n",
    "        self.b = b\n",
    "        \n",
    "    def suma(self):\n",
    "        return self.a+self.b\n",
    "    def mina(self):\n",
    "        return self.a-self.b\n",
    "    def mula(self):\n",
    "        return self.a*self.b\n",
    "    def diva(self):\n",
    "        return self.a/self.b"
   ]
  },
  {
   "cell_type": "code",
   "execution_count": 38,
   "metadata": {},
   "outputs": [],
   "source": [
    "twoN = fourCal(2,4)"
   ]
  },
  {
   "cell_type": "code",
   "execution_count": 39,
   "metadata": {},
   "outputs": [
    {
     "name": "stdout",
     "output_type": "stream",
     "text": [
      "6\n",
      "-2\n",
      "8\n",
      "0.5\n"
     ]
    }
   ],
   "source": [
    "print(twoN.suma())\n",
    "print(twoN.mina())\n",
    "print(twoN.mula())\n",
    "print(twoN.diva())"
   ]
  },
  {
   "cell_type": "code",
   "execution_count": 55,
   "metadata": {},
   "outputs": [],
   "source": [
    "##인스턴스 변수로 반지름을 받고 원의 면적과 원의 둘레를 구하는 함수\n",
    "class circle:\n",
    "    def __init__(self, r):\n",
    "        self.r = r\n",
    "        \n",
    "    def carea(self):\n",
    "        return self.r**2*3.14\n",
    "        \n",
    "    def csize(self):\n",
    "        return self.r*2*3.14"
   ]
  },
  {
   "cell_type": "code",
   "execution_count": 56,
   "metadata": {},
   "outputs": [],
   "source": [
    "c1=circle(10)"
   ]
  },
  {
   "cell_type": "code",
   "execution_count": 57,
   "metadata": {},
   "outputs": [
    {
     "data": {
      "text/plain": [
       "314.0"
      ]
     },
     "execution_count": 57,
     "metadata": {},
     "output_type": "execute_result"
    }
   ],
   "source": [
    "c1.carea()"
   ]
  },
  {
   "cell_type": "code",
   "execution_count": 58,
   "metadata": {},
   "outputs": [
    {
     "data": {
      "text/plain": [
       "62.800000000000004"
      ]
     },
     "execution_count": 58,
     "metadata": {},
     "output_type": "execute_result"
    }
   ],
   "source": [
    "c1.csize()"
   ]
  },
  {
   "cell_type": "code",
   "execution_count": null,
   "metadata": {},
   "outputs": [],
   "source": []
  },
  {
   "cell_type": "code",
   "execution_count": null,
   "metadata": {},
   "outputs": [],
   "source": []
  },
  {
   "cell_type": "code",
   "execution_count": null,
   "metadata": {},
   "outputs": [],
   "source": []
  },
  {
   "cell_type": "code",
   "execution_count": null,
   "metadata": {},
   "outputs": [],
   "source": []
  },
  {
   "cell_type": "code",
   "execution_count": null,
   "metadata": {},
   "outputs": [],
   "source": []
  },
  {
   "cell_type": "code",
   "execution_count": null,
   "metadata": {},
   "outputs": [],
   "source": []
  },
  {
   "cell_type": "code",
   "execution_count": null,
   "metadata": {},
   "outputs": [],
   "source": []
  },
  {
   "cell_type": "code",
   "execution_count": null,
   "metadata": {},
   "outputs": [],
   "source": []
  },
  {
   "cell_type": "code",
   "execution_count": null,
   "metadata": {},
   "outputs": [],
   "source": []
  }
 ],
 "metadata": {
  "kernelspec": {
   "display_name": "Python 3",
   "language": "python",
   "name": "python3"
  },
  "language_info": {
   "codemirror_mode": {
    "name": "ipython",
    "version": 3
   },
   "file_extension": ".py",
   "mimetype": "text/x-python",
   "name": "python",
   "nbconvert_exporter": "python",
   "pygments_lexer": "ipython3",
   "version": "3.7.4"
  }
 },
 "nbformat": 4,
 "nbformat_minor": 2
}
